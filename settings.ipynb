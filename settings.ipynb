{
 "cells": [
  {
   "cell_type": "markdown",
   "metadata": {},
   "source": [
    "# Add src folder"
   ]
  },
  {
   "cell_type": "code",
   "execution_count": 1,
   "metadata": {},
   "outputs": [],
   "source": [
    "import os,sys,json"
   ]
  },
  {
   "cell_type": "code",
   "execution_count": 2,
   "metadata": {},
   "outputs": [
    {
     "name": "stdout",
     "output_type": "stream",
     "text": [
      "c:\\Users\\djoroya\\Documents\\GitHub\\YarnBraid-solo\\src\n"
     ]
    }
   ],
   "source": [
    "# select the elements of path list who  contains the word 'site-packages'\n",
    "site = [x for x in sys.path if 'site-packages' in x]\n",
    "\n",
    "# take current working directory\n",
    "cwd = os.getcwd()\n",
    "# add src\n",
    "cwd = os.path.join(cwd, 'src')\n",
    "print(cwd)\n",
    "# create a new file named conda.pth in the site-packages directory\n",
    "with open(os.path.join(site[0], 'conda.pth'), 'w') as f:\n",
    "    f.write(cwd)\n"
   ]
  },
  {
   "cell_type": "code",
   "execution_count": 3,
   "metadata": {},
   "outputs": [
    {
     "data": {
      "text/plain": [
       "['C:\\\\Users\\\\djoroya\\\\AppData\\\\Local\\\\LAMMPS 64-bit 2Aug2023-MSMPI\\\\Python',\n",
       " 'c:\\\\Users\\\\djoroya\\\\Documents\\\\GitHub\\\\YarnBraid-solo\\\\.conda\\\\python311.zip',\n",
       " 'c:\\\\Users\\\\djoroya\\\\Documents\\\\GitHub\\\\YarnBraid-solo\\\\.conda\\\\DLLs',\n",
       " 'c:\\\\Users\\\\djoroya\\\\Documents\\\\GitHub\\\\YarnBraid-solo\\\\.conda\\\\Lib',\n",
       " 'c:\\\\Users\\\\djoroya\\\\Documents\\\\GitHub\\\\YarnBraid-solo\\\\.conda',\n",
       " '',\n",
       " 'c:\\\\Users\\\\djoroya\\\\Documents\\\\GitHub\\\\YarnBraid-solo\\\\.conda\\\\Lib\\\\site-packages',\n",
       " 'c:\\\\Users\\\\djoroya\\\\Documents\\\\GitHub\\\\YarnBraid-solo\\\\src',\n",
       " 'c:\\\\Users\\\\djoroya\\\\Documents\\\\GitHub\\\\YarnBraid-solo\\\\.conda\\\\Lib\\\\site-packages\\\\win32',\n",
       " 'c:\\\\Users\\\\djoroya\\\\Documents\\\\GitHub\\\\YarnBraid-solo\\\\.conda\\\\Lib\\\\site-packages\\\\win32\\\\lib',\n",
       " 'c:\\\\Users\\\\djoroya\\\\Documents\\\\GitHub\\\\YarnBraid-solo\\\\.conda\\\\Lib\\\\site-packages\\\\Pythonwin']"
      ]
     },
     "execution_count": 3,
     "metadata": {},
     "output_type": "execute_result"
    }
   ],
   "source": [
    "sys.path"
   ]
  },
  {
   "cell_type": "code",
   "execution_count": 6,
   "metadata": {},
   "outputs": [],
   "source": [
    "from src.settings.functions.download_lsdyna import download_lsdyna\n",
    "from src.settings.functions.download_lammps import download_lammps\n",
    "from src.settings.functions.build_lammps import build_lammps\n",
    "from src.settings.functions.download_prepomax import download_prepomax"
   ]
  },
  {
   "cell_type": "code",
   "execution_count": null,
   "metadata": {},
   "outputs": [
    {
     "name": "stdout",
     "output_type": "stream",
     "text": [
      "File already exists\n"
     ]
    }
   ],
   "source": [
    "download_lsdyna()"
   ]
  },
  {
   "cell_type": "code",
   "execution_count": null,
   "metadata": {},
   "outputs": [
    {
     "name": "stdout",
     "output_type": "stream",
     "text": [
      "File already exists\n"
     ]
    }
   ],
   "source": [
    "download_prepomax()"
   ]
  },
  {
   "cell_type": "code",
   "execution_count": null,
   "metadata": {},
   "outputs": [
    {
     "name": "stdout",
     "output_type": "stream",
     "text": [
      "This script is only for linux, please download LAMMPS manually\n"
     ]
    }
   ],
   "source": [
    "download_lammps()"
   ]
  },
  {
   "cell_type": "code",
   "execution_count": null,
   "metadata": {},
   "outputs": [
    {
     "name": "stdout",
     "output_type": "stream",
     "text": [
      "This script is only for linux, please download LAMMPS manually\n"
     ]
    }
   ],
   "source": [
    "build_lammps()"
   ]
  },
  {
   "attachments": {},
   "cell_type": "markdown",
   "metadata": {},
   "source": [
    "# 2. Create a settings.json"
   ]
  },
  {
   "cell_type": "code",
   "execution_count": null,
   "metadata": {},
   "outputs": [],
   "source": [
    "import os\n",
    "join = os.path.join\n",
    "\n",
    "# take current directory\n",
    "current_dir = os.getcwd()\n",
    "depdir = join(current_dir, 'src','dependences')\n",
    "# \n",
    "# seaarch lammps using which command\n",
    "lammps_exe = join(depdir,\n",
    "                  \"lammps-stable\",\n",
    "                  \"build\",\n",
    "                  \"lmp\")\n",
    "#\n",
    "# lsdyna path\n",
    "lsdyna_exe = join(depdir,\n",
    "                  \"lsprepost4.10_common\",\n",
    "                  \"lspp410_mesa\")\n",
    "#\n",
    "calculix_exe = join(depdir,\n",
    "                    \"calculix\",\n",
    "                    \"ccx_static.exe\")\n",
    "\n",
    "# prepomax path\n",
    "calulix_dynamic = join(depdir,\n",
    "                    \"PrePoMax\",\n",
    "                    \"Solver\",\n",
    "                    \"ccx_dynamic.exe\")\n",
    "\n",
    "netgen_exe = join(depdir,\n",
    "                    \"PrePoMax\",\n",
    "                    \"NetGen\",\n",
    "                    \"NetGenMesher.exe\")\n"
   ]
  },
  {
   "cell_type": "code",
   "execution_count": null,
   "metadata": {},
   "outputs": [
    {
     "name": "stdout",
     "output_type": "stream",
     "text": [
      "c:\\Users\\djoroya\\Documents\\GitHub\\YarnBraid_30_05_2024\\YarnBraid\\src\\dependences\\calculix\\ccx_static.exe exists\n",
      "c:\\Users\\djoroya\\Documents\\GitHub\\YarnBraid_30_05_2024\\YarnBraid\\src\\dependences\\PrePoMax\\Solver\\ccx_dynamic.exe exists\n",
      "c:\\Users\\djoroya\\Documents\\GitHub\\YarnBraid_30_05_2024\\YarnBraid\\src\\dependences\\PrePoMax\\NetGen\\NetGenMesher.exe exists\n",
      "All the dependences are installed\n",
      "You must install the dependences of the software manually: ls-dyna, lammps\n"
     ]
    }
   ],
   "source": [
    "if os.name == 'nt':\n",
    "  # List of directories to check\n",
    "  directories = [calculix_exe, calulix_dynamic, netgen_exe]\n",
    "else:\n",
    "  # List of directories to check\n",
    "  directories = [lammps_exe, lsdyna_exe, \n",
    "                calculix_exe, calulix_dynamic, netgen_exe]\n",
    "  \n",
    "# Iterate over the directories\n",
    "for directory in directories:\n",
    "  # Check if the directory exists\n",
    "  if os.path.exists(directory):\n",
    "    print(directory, 'exists')\n",
    "  else:\n",
    "    print(directory, 'does not exist')\n",
    "    raise (directory + 'does not exist')\n",
    "  \n",
    "if os.name == 'nt':\n",
    "  # List of directories to check\n",
    "  print('All the dependences are installed')\n",
    "  print('You must install the dependences of the software manually: ls-dyna, lammps')\n"
   ]
  },
  {
   "cell_type": "code",
   "execution_count": null,
   "metadata": {},
   "outputs": [],
   "source": [
    "def settings_win():\n",
    "    return {\n",
    "\"lmp\":r\"C:\\Users\\djoroya\\AppData\\Local\\LAMMPS 64-bit 2Aug2023-MSMPI\\bin\\lmp.exe\",\n",
    "\"lsdyna\":r\"C:\\Program Files\\LSTC\\LS-PrePost 4.10\\lsprepost4.10_x64.exe\",\n",
    "\"calculix\":r\"C:\\Users\\djoroya\\Documents\\GitHub\\YarnBraid\\src\\dependences\\calculix\\ccx_static.exe\",\n",
    "\"calculix_dynamic\":r\"C:\\Users\\djoroya\\Documents\\GitHub\\YarnBraid\\src\\dependences\\calculix\\PrePoMax v2.0.0\\Solver\\ccx_dynamic.exe\",\n",
    "\"netgen\":r\"C:\\Users\\djoroya\\Documents\\GitHub\\YarnBraid\\src\\dependences\\calculix\\PrePoMax v2.0.0\\NetGen\\NetGenMesher.exe\",\n",
    "}"
   ]
  },
  {
   "cell_type": "code",
   "execution_count": null,
   "metadata": {},
   "outputs": [],
   "source": [
    "# create a json  \n",
    "if os.name == 'nt':\n",
    "    lmp_win_default = r\"C:\\Users\\djoroya\\AppData\\Local\\LAMMPS 64-bit 2Aug2023-MSMPI\\bin\\lmp.exe\"\n",
    "    lsdyna_win_default = r\"C:\\Program Files\\LSTC\\LS-PrePost 4.10\\lsprepost4.10_x64.exe\"\n",
    "    data = {\n",
    "        \"lmp\": lmp_win_default,\n",
    "        \"lsdyna\": lsdyna_win_default,\n",
    "        \"calculix\": calculix_exe,\n",
    "        \"calculix_dynamic\": calulix_dynamic,\n",
    "        \"netgen\": netgen_exe\n",
    "    }\n",
    "\n",
    "    code = \"\"\"\n",
    "def settings_win():\n",
    "    return {\n",
    "\"lmp\":r\"VAR_LMP\",\n",
    "\"lsdyna\":r\"VAR_LSDYNA\",\n",
    "\"calculix\":r\"VAR_CALCULIX\",\n",
    "\"calculix_dynamic\":r\"VAR_DCALCULIX_DYNAMIC\",\n",
    "\"netgen\":r\"VAR_NETGEN\",\n",
    "}\n",
    "\n",
    "\"\"\"\n",
    "    code = code.replace('VAR_LMP', lmp_win_default)\n",
    "\n",
    "    code = code.replace('VAR_LSDYNA', lsdyna_win_default)\n",
    "\n",
    "    code = code.replace('VAR_CALCULIX', calculix_exe)\n",
    "\n",
    "    code = code.replace('VAR_DCALCULIX_DYNAMIC', calulix_dynamic)\n",
    "\n",
    "    code = code.replace('VAR_NETGEN', netgen_exe)\n",
    "\n",
    "    setting_path = os.path.join(current_dir,\n",
    "                                'src',\n",
    "                                'settings',\n",
    "                                'settings_win_user.py')\n",
    "    with open(setting_path, 'w') as outfile:\n",
    "        outfile.write(code)\n",
    "else:\n",
    "    data = {\n",
    "        \"lmp\": lammps_exe,\n",
    "        \"lsdyna\": lsdyna_exe,\n",
    "        \"calculix\": \"wine \"+calculix_exe,\n",
    "        \"calculix_dynamic\": \"wine \"+calulix_dynamic,\n",
    "        \"netgen\": \"wine \" + netgen_exe\n",
    "    }\n",
    "\n",
    "    \n",
    "    setting_path = os.path.join(current_dir, \n",
    "                                'src',\n",
    "                                'settings',\n",
    "                                'settings_user.json')\n",
    "    with open(setting_path, 'w') as outfile:\n",
    "        json.dump(data, outfile, indent=4)\n",
    "\n",
    "\n"
   ]
  },
  {
   "cell_type": "code",
   "execution_count": null,
   "metadata": {},
   "outputs": [],
   "source": []
  }
 ],
 "metadata": {
  "kernelspec": {
   "display_name": "yarn",
   "language": "python",
   "name": "python3"
  },
  "language_info": {
   "codemirror_mode": {
    "name": "ipython",
    "version": 3
   },
   "file_extension": ".py",
   "mimetype": "text/x-python",
   "name": "python",
   "nbconvert_exporter": "python",
   "pygments_lexer": "ipython3",
   "version": "3.11.9"
  },
  "orig_nbformat": 4
 },
 "nbformat": 4,
 "nbformat_minor": 2
}
