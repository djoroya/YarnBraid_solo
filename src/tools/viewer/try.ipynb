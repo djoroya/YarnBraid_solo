{
 "cells": [
  {
   "cell_type": "code",
   "execution_count": 50,
   "metadata": {},
   "outputs": [],
   "source": [
    "from tools.viewer.viewer import luncher\n",
    "import os"
   ]
  },
  {
   "cell_type": "code",
   "execution_count": 51,
   "metadata": {},
   "outputs": [],
   "source": [
    "\n",
    "def viewer(elapsed):\n",
    "    if os.path.exists('test.txt'):\n",
    "        lines = open('test.txt').readlines()\n",
    "    else:\n",
    "        lines = []\n",
    "    print('Elapsed time: {} sec'.format(elapsed))\n",
    "    lines = \"\".join(lines)\n",
    "    print(lines)\n",
    "    time.sleep(1)\n",
    "\n",
    "@luncher(viewer)\n",
    "def run():\n",
    "    f = open('test.txt', 'w')\n",
    "    f.write('Hello\\n')\n",
    "    f.close()\n",
    "    for i in range(10):\n",
    "        f = open('test.txt', 'a')\n",
    "        f.write(str(i) + '\\n')\n",
    "        f.close()\n",
    "        time.sleep(1)"
   ]
  },
  {
   "cell_type": "code",
   "execution_count": 52,
   "metadata": {},
   "outputs": [
    {
     "name": "stdout",
     "output_type": "stream",
     "text": [
      "Elapsed time: 10 sec\n",
      "Hello\n",
      "0\n",
      "1\n",
      "2\n",
      "3\n",
      "4\n",
      "5\n",
      "6\n",
      "7\n",
      "8\n",
      "9\n",
      "\n"
     ]
    }
   ],
   "source": [
    "run()"
   ]
  },
  {
   "cell_type": "code",
   "execution_count": null,
   "metadata": {},
   "outputs": [],
   "source": []
  }
 ],
 "metadata": {
  "kernelspec": {
   "display_name": "yarn",
   "language": "python",
   "name": "python3"
  },
  "language_info": {
   "codemirror_mode": {
    "name": "ipython",
    "version": 3
   },
   "file_extension": ".py",
   "mimetype": "text/x-python",
   "name": "python",
   "nbconvert_exporter": "python",
   "pygments_lexer": "ipython3",
   "version": "3.11.5"
  },
  "orig_nbformat": 4
 },
 "nbformat": 4,
 "nbformat_minor": 2
}
