{
 "cells": [
  {
   "cell_type": "code",
   "execution_count": 5,
   "metadata": {},
   "outputs": [],
   "source": [
    "# recolectamos los datos \n",
    "\n",
    "import glob\n",
    "import os\n",
    "import shutil\n",
    "join = os.path.join\n",
    "from matplotlib import pyplot as plt\n",
    "from tools.basic.loadsavejson import loadjson\n",
    "from functions.loadresults import loadresults\n",
    "lj = lambda *args: loadjson(join(*args))\n",
    "\n",
    "import pandas as pd\n",
    "from tools.calculix.frd.readfrd import readfrd\n",
    "import json \n",
    "from functions.frd2json import frd2json\n"
   ]
  },
  {
   "cell_type": "code",
   "execution_count": 22,
   "metadata": {},
   "outputs": [],
   "source": [
    "\n",
    "frds = glob.glob(join(\"..\" , \"simulations\",\"**\", \"init_new.frd\"))\n",
    "\n",
    "id = -9\n",
    "\n",
    "frd = frds[id]\n",
    "inp_file = frd.replace(\"init_new.frd\", \"init_new.inp\")\n",
    "\n"
   ]
  },
  {
   "cell_type": "code",
   "execution_count": 23,
   "metadata": {},
   "outputs": [
    {
     "data": {
      "text/plain": [
       "'..\\\\simulations\\\\2024-08-30__11-23-07__51993\\\\init_new.frd'"
      ]
     },
     "execution_count": 23,
     "metadata": {},
     "output_type": "execute_result"
    }
   ],
   "source": [
    "frd"
   ]
  },
  {
   "cell_type": "code",
   "execution_count": null,
   "metadata": {},
   "outputs": [],
   "source": [
    "C:\\Users\\djoroya\\Documents\\GitHub\\YarnBraid-solo\\simulations\\2024-09-10__17-25-40__51993"
   ]
  },
  {
   "cell_type": "code",
   "execution_count": 13,
   "metadata": {},
   "outputs": [
    {
     "name": "stdout",
     "output_type": "stream",
     "text": [
      "Error en la linea: *NSET,NSET=BOT\n",
      "Error en la linea: *NSET,NSET=TOP\n"
     ]
    },
    {
     "ename": "TypeError",
     "evalue": "string indices must be integers, not 'str'",
     "output_type": "error",
     "traceback": [
      "\u001b[1;31m---------------------------------------------------------------------------\u001b[0m",
      "\u001b[1;31mTypeError\u001b[0m                                 Traceback (most recent call last)",
      "Cell \u001b[1;32mIn[13], line 1\u001b[0m\n\u001b[1;32m----> 1\u001b[0m json \u001b[38;5;241m=\u001b[39m \u001b[43mfrd2json\u001b[49m\u001b[43m(\u001b[49m\u001b[43mfrd\u001b[49m\u001b[43m,\u001b[49m\u001b[43m \u001b[49m\u001b[43minp_file\u001b[49m\u001b[43m)\u001b[49m\n",
      "File \u001b[1;32mc:\\Users\\djoroya\\Documents\\GitHub\\YarnBraid-solo\\build\\functions\\frd2json.py:11\u001b[0m, in \u001b[0;36mfrd2json\u001b[1;34m(frd, inp_path)\u001b[0m\n\u001b[0;32m      6\u001b[0m inpf  \u001b[38;5;241m=\u001b[39m inp(inp_path)\n\u001b[0;32m      7\u001b[0m \u001b[38;5;66;03m# select nodes only is this nodes ids are in frd file\u001b[39;00m\n\u001b[0;32m      8\u001b[0m \u001b[38;5;66;03m# When the displacements is zero, the nodes are not in the frd file\u001b[39;00m\n\u001b[0;32m      9\u001b[0m \u001b[38;5;66;03m# In this model, we use the ghost nodes to calculate fix the bondary conditions\u001b[39;00m\n\u001b[0;32m     10\u001b[0m \u001b[38;5;66;03m# in INP files, this nodes exist but the displacements are zero, so we need to select only the nodes that are in the frd file\u001b[39;00m\n\u001b[1;32m---> 11\u001b[0m nodes \u001b[38;5;241m=\u001b[39m \u001b[43minpf\u001b[49m\u001b[38;5;241;43m.\u001b[39;49m\u001b[43msetResults\u001b[49m\u001b[43m(\u001b[49m\u001b[43mfrd\u001b[49m\u001b[43m,\u001b[49m\u001b[43monlyfrd\u001b[49m\u001b[38;5;241;43m=\u001b[39;49m\u001b[38;5;28;43;01mTrue\u001b[39;49;00m\u001b[43m)\u001b[49m\n\u001b[0;32m     12\u001b[0m \u001b[38;5;66;03m# select faces of surfaces\u001b[39;00m\n\u001b[0;32m     13\u001b[0m all_faces \u001b[38;5;241m=\u001b[39m []\n",
      "File \u001b[1;32mc:\\Users\\djoroya\\Documents\\GitHub\\YarnBraid-solo\\src\\tools\\calculix\\inp\\inp.py:158\u001b[0m, in \u001b[0;36minp.setResults\u001b[1;34m(self, frd, onlyfrd)\u001b[0m\n\u001b[0;32m    155\u001b[0m \u001b[38;5;28;01mdef\u001b[39;00m \u001b[38;5;21msetResults\u001b[39m(\u001b[38;5;28mself\u001b[39m,frd,onlyfrd\u001b[38;5;241m=\u001b[39m\u001b[38;5;28;01mFalse\u001b[39;00m):\n\u001b[0;32m    156\u001b[0m \n\u001b[0;32m    157\u001b[0m     \u001b[38;5;66;03m# ms = ['D1', 'D2', 'D3', 'SXX', 'SYY', 'SZZ', 'SXY', ...]\u001b[39;00m\n\u001b[1;32m--> 158\u001b[0m     ms \u001b[38;5;241m=\u001b[39m \u001b[43mfrd\u001b[49m\u001b[43m[\u001b[49m\u001b[38;5;124;43m\"\u001b[39;49m\u001b[38;5;124;43mdata\u001b[39;49m\u001b[38;5;124;43m\"\u001b[39;49m\u001b[43m]\u001b[49m\u001b[38;5;241m.\u001b[39mkeys()\u001b[38;5;241m.\u001b[39mvalues[\u001b[38;5;241m4\u001b[39m:]\n\u001b[0;32m    160\u001b[0m     \u001b[38;5;66;03m# nodes is a dataframe with the nodes and the results\u001b[39;00m\n\u001b[0;32m    161\u001b[0m     nodes \u001b[38;5;241m=\u001b[39m \u001b[38;5;28mself\u001b[39m\u001b[38;5;241m.\u001b[39mnodes\u001b[38;5;241m.\u001b[39mdf\u001b[38;5;241m.\u001b[39mcopy()\n",
      "\u001b[1;31mTypeError\u001b[0m: string indices must be integers, not 'str'"
     ]
    }
   ],
   "source": [
    "json = frd2json(frd, inp_file)"
   ]
  },
  {
   "cell_type": "code",
   "execution_count": null,
   "metadata": {},
   "outputs": [],
   "source": []
  }
 ],
 "metadata": {
  "kernelspec": {
   "display_name": "Python 3",
   "language": "python",
   "name": "python3"
  },
  "language_info": {
   "codemirror_mode": {
    "name": "ipython",
    "version": 3
   },
   "file_extension": ".py",
   "mimetype": "text/x-python",
   "name": "python",
   "nbconvert_exporter": "python",
   "pygments_lexer": "ipython3",
   "version": "3.11.9"
  }
 },
 "nbformat": 4,
 "nbformat_minor": 2
}
