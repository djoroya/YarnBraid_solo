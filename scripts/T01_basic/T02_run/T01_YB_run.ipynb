{
 "cells": [
  {
   "cell_type": "code",
   "execution_count": 31,
   "metadata": {},
   "outputs": [],
   "source": [
    "from tools.basic.path_gen import path_gen\n",
    "from tools.step.pprint import pprint\n",
    "import os\n",
    "\n",
    "from model.RunYB   import RunYB\n",
    "from model.default import default"
   ]
  },
  {
   "cell_type": "code",
   "execution_count": 32,
   "metadata": {},
   "outputs": [],
   "source": [
    "# Creamos la carpeta de salida\n",
    "main_path = [\"output\",path_gen()]"
   ]
  },
  {
   "attachments": {},
   "cell_type": "markdown",
   "metadata": {},
   "source": [
    "# Valores Constantes"
   ]
  },
  {
   "cell_type": "code",
   "execution_count": 33,
   "metadata": {},
   "outputs": [],
   "source": [
    "#add ../../T00_params path\n",
    "join = os.path.join\n",
    "os.sys.path.append(join(\"..\",\"..\",\"T00_params\"))\n",
    "from PLMP_0001 import PLMP_0001"
   ]
  },
  {
   "cell_type": "code",
   "execution_count": 34,
   "metadata": {},
   "outputs": [],
   "source": [
    "OMP_NUM_THREADS = 4\n",
    "mpi_np = 6\n",
    "\n",
    "r = default() # Valores por defecto\n",
    "# Modificamos los valores que queremos\n",
    "r[\"lammps_sim\"] =PLMP_0001()\n",
    "r[\"lammps_sim\"][\"OMP_NUM_THREADS\"] = OMP_NUM_THREADS\n",
    "r[\"lammps_sim\"][\"mpi\"] = True\n",
    "r[\"lammps_sim\"][\"mpi_np\"] = mpi_np\n",
    "# =================================================\n",
    "r[\"lsdyna_sim\"][\"factor_npoints\"] = 0.35\n",
    "# r[\"lsdyna_sim\"][\"factor\"] = 0.2\n",
    "r[\"lsdyna_sim\"][\"hmax\"] = 2.0\n",
    "# =================================================\n",
    "\n",
    "r[\"gmsh\"][\"Algorithm\"] = 2\n",
    "r[\"gmsh\"][\"factor\"] = 0.8 # ====================>> 0.6\n",
    "\n",
    "# =================================================\n",
    "r[\"inflation\"][\"pressure\"]  = 600\n",
    "r[\"inflation\"][\"OMP_NUM_THREADS\"] = OMP_NUM_THREADS\n",
    "r[\"inflation\"][\"mpi\"]    = True\n",
    "r[\"inflation\"][\"mpi_np\"]  = mpi_np\n",
    "\n",
    "# =================================================\n",
    "r[\"simulation\"][\"displacement\"] = 0.05 #  mm\n",
    "r[\"simulation\"][\"type_bc\"] = 1\n",
    "r[\"simulation\"][\"young\"] = 2960 # MPa\n",
    "r[\"simulation\"][\"poisson\"] = 0.37\n",
    "r[\"simulation\"][\"OMP_NUM_THREADS\"] = OMP_NUM_THREADS\n",
    "r[\"simulation\"][\"mpi\"] = True\n",
    "r[\"simulation\"][\"mpi_np\"] = mpi_np"
   ]
  },
  {
   "cell_type": "code",
   "execution_count": 38,
   "metadata": {},
   "outputs": [
    {
     "name": "stdout",
     "output_type": "stream",
     "text": [
      "\u001b[34mlammps_sim          \u001b[39m: \n",
      "\t- elapsed\n",
      "\t-error\n",
      "\t-error_msg\n",
      "\t-verbose\n",
      "\t-Npoints\n",
      "\t-hilo_central\n",
      "\t-theta\n",
      "\t-factor\n",
      "\t-Remesh\n",
      "\t-RUN_STEPS_EQ\n",
      "\t-...\n",
      "\u001b[34mlsdyna_sim          \u001b[39m: \n",
      "\t- elapsed\n",
      "\t-error\n",
      "\t-error_msg\n",
      "\t-verbose\n",
      "\t-radius\n",
      "\t-factor_npoints\n",
      "\t-align\n",
      "\t-factor\n",
      "\t-hmax\n",
      "\t-npoints\n",
      "\t-...\n",
      "\u001b[34mgmsh                \u001b[39m: \n",
      "\t- elapsed\n",
      "\t-error\n",
      "\t-error_msg\n",
      "\t-verbose\n",
      "\t-size_element\n",
      "\t-Algorithm\n",
      "\t-factor\n",
      "\t-...\n",
      "\u001b[34minflation           \u001b[39m: \n",
      "\t- elapsed\n",
      "\t-error\n",
      "\t-error_msg\n",
      "\t-verbose\n",
      "\t-pressure\n",
      "\t-OMP_NUM_THREADS\n",
      "\t-attemps\n",
      "\t-surface_behavior\n",
      "\t-radius_target\n",
      "\t-rho\n",
      "\t-...\n",
      "\u001b[34msimulation          \u001b[39m: \n",
      "\t- elapsed\n",
      "\t-error\n",
      "\t-error_msg\n",
      "\t-verbose\n",
      "\t-young\n",
      "\t-poisson\n",
      "\t-epsilon\n",
      "\t-OMP_NUM_THREADS\n",
      "\t-type_bc\n",
      "\t-attemps\n",
      "\t-...\n",
      "\u001b[34monly_lammps         \u001b[39m: False\n"
     ]
    }
   ],
   "source": [
    "pprint(r)"
   ]
  },
  {
   "cell_type": "code",
   "execution_count": 39,
   "metadata": {},
   "outputs": [
    {
     "data": {
      "text/plain": [
       "['output', '2024-07-04__13-19-34__49965']"
      ]
     },
     "execution_count": 39,
     "metadata": {},
     "output_type": "execute_result"
    }
   ],
   "source": [
    "main_path"
   ]
  },
  {
   "cell_type": "code",
   "execution_count": 40,
   "metadata": {},
   "outputs": [
    {
     "name": "stdout",
     "output_type": "stream",
     "text": [
      "\u001b[32mRunning lammps\u001b[0m\n",
      "\u001b[32m====================================\u001b[0m\n",
      "mpiexec -n 6 \"C:\\Users\\djoroya\\AppData\\Local\\LAMMPS 64-bit 2Aug2023-MSMPI\\bin\\lmp.exe\" -in in.lammps > out.lammps\n",
      "Output file: c:\\Users\\djoroya\\Documents\\GitHub\\YarnBraid-solo\\simulations\\2024-07-04__13-19-34__78335\\out.lammps\n",
      "\u001b[32mRunning lsdyna\u001b[0m\n",
      "\u001b[32m====================================\u001b[0m\n"
     ]
    },
    {
     "data": {
      "application/vnd.jupyter.widget-view+json": {
       "model_id": "61885cecc5f945589c4cd5ff78a3ae36",
       "version_major": 2,
       "version_minor": 0
      },
      "text/plain": [
       "  0%|          | 0/64 [00:00<?, ?it/s]"
      ]
     },
     "metadata": {},
     "output_type": "display_data"
    },
    {
     "name": "stdout",
     "output_type": "stream",
     "text": [
      "\u001b[32mRunning gmsh\u001b[0m\n",
      "\u001b[32m====================================\u001b[0m\n"
     ]
    },
    {
     "name": "stderr",
     "output_type": "stream",
     "text": [
      "64it [00:12,  5.06it/s]\n"
     ]
    },
    {
     "name": "stdout",
     "output_type": "stream",
     "text": [
      "\u001b[32mRunning inflation\u001b[0m\n",
      "\u001b[32m====================================\u001b[0m\n",
      "Nsets have been created\n",
      "Running Calculix at:  c:\\Users\\djoroya\\Documents\\GitHub\\YarnBraid-solo\\simulations\\2024-07-04__13-21-21__63067\n",
      "Output file:  c:\\Users\\djoroya\\Documents\\GitHub\\YarnBraid-solo\\simulations\\2024-07-04__13-21-21__63067\\out.txt\n",
      "Command:\n",
      " mpiexec -n 6 c:\\Users\\djoroya\\Documents\\GitHub\\YarnBraid_30_05_2024\\YarnBraid\\src\\dependences\\PrePoMax\\Solver\\ccx_dynamic.exe init\n",
      "Error reading cvf file\n",
      "\n",
      "pid:  10824 \n",
      "\n",
      "SUMMARY OF C0NVERGENCE INFORMATION\n",
      "  STEP   INC  ATT   ITER     CONT.   RESID.        CORR.      RESID.      CORR.\n",
      "                              EL.    FORCE         DISP       FLUX        TEMP.\n",
      "                              (#)     (%)           (%)        (%)         (%)\n",
      "     1     1     1     1     4120  0.0000E+00  0.1000E+03  0.0000E+00  0.0000E+00\n",
      "     1     1     1     2   317742  0.0000E+00  0.6546E+02  0.0000E+00  0.0000E+00\n",
      "     1     1     1     3   224550  0.0000E+00  0.2053E+02  0.0000E+00  0.0000E+00\n",
      "     1     1     1     4   205051  0.0000E+00  0.1228E+02  0.0000E+00  0.0000E+00\n",
      "     1     1     1     5   202876  0.0000E+00  0.4441E+01  0.0000E+00  0.0000E+00\n",
      "     1     1     1     6   202701  0.0000E+00  0.6452E+00  0.0000E+00  0.0000E+00\n",
      "Calculix finished\n",
      "\n",
      "\u001b[32mRunning simulation\u001b[0m\n",
      "\u001b[32m====================================\u001b[0m\n",
      "Running Calculix at:  c:\\Users\\djoroya\\Documents\\GitHub\\YarnBraid-solo\\simulations\\2024-07-04__13-22-16__20122\n",
      "Output file:  c:\\Users\\djoroya\\Documents\\GitHub\\YarnBraid-solo\\simulations\\2024-07-04__13-22-16__20122\\out.txt\n",
      "Command:\n",
      " mpiexec -n 6 c:\\Users\\djoroya\\Documents\\GitHub\\YarnBraid_30_05_2024\\YarnBraid\\src\\dependences\\PrePoMax\\Solver\\ccx_dynamic.exe init_new\n",
      "Error reading cvf file\n",
      "\n",
      "pid:  19792 \n",
      "\n",
      "SUMMARY OF C0NVERGENCE INFORMATION\n",
      "  STEP   INC  ATT   ITER     CONT.   RESID.        CORR.      RESID.      CORR.\n",
      "                              EL.    FORCE         DISP       FLUX        TEMP.\n",
      "                              (#)     (%)           (%)        (%)         (%)\n",
      "     1     1     1     1   230460  0.0000E+00  0.1000E+03  0.0000E+00  0.0000E+00\n",
      "     1     1     1     2   133795  0.0000E+00  0.6125E+02  0.0000E+00  0.0000E+00\n",
      "     1     1     1     3    86506  0.0000E+00  0.5906E+02  0.0000E+00  0.0000E+00\n",
      "     1     1     1     4    62340  0.0000E+00  0.2379E+02  0.0000E+00  0.0000E+00\n",
      "     1     1     1     5    50938  0.0000E+00  0.2159E+02  0.0000E+00  0.0000E+00\n",
      "     1     1     1     6    46191  0.0000E+00  0.2158E+02  0.0000E+00  0.0000E+00\n",
      "     1     1     1     7    44192  0.0000E+00  0.4483E+02  0.0000E+00  0.0000E+00\n",
      "     1     1     1     8    43173  0.0000E+00  0.3632E+02  0.0000E+00  0.0000E+00\n",
      "     1     1     1     9    42753  0.0000E+00  0.1807E+02  0.0000E+00  0.0000E+00\n",
      "     1     1     1    10    42540  0.0000E+00  0.6237E+01  0.0000E+00  0.0000E+00\n",
      "     1     1     1    11    42493  0.0000E+00  0.3767E+00  0.0000E+00  0.0000E+00\n",
      "     1     1     1    12    42492  0.0000E+00  0.6204E-01  0.0000E+00  0.0000E+00\n",
      "Calculix finished\n",
      "\n"
     ]
    }
   ],
   "source": [
    "RunYB(r,main_path)"
   ]
  },
  {
   "cell_type": "code",
   "execution_count": null,
   "metadata": {},
   "outputs": [],
   "source": []
  },
  {
   "cell_type": "code",
   "execution_count": 41,
   "metadata": {},
   "outputs": [
    {
     "data": {
      "text/plain": [
       "64"
      ]
     },
     "execution_count": 41,
     "metadata": {},
     "output_type": "execute_result"
    }
   ],
   "source": [
    "2*8*4"
   ]
  },
  {
   "cell_type": "code",
   "execution_count": null,
   "metadata": {},
   "outputs": [],
   "source": []
  }
 ],
 "metadata": {
  "kernelspec": {
   "display_name": "TECNORED",
   "language": "python",
   "name": "python3"
  },
  "language_info": {
   "codemirror_mode": {
    "name": "ipython",
    "version": 3
   },
   "file_extension": ".py",
   "mimetype": "text/x-python",
   "name": "python",
   "nbconvert_exporter": "python",
   "pygments_lexer": "ipython3",
   "version": "3.11.9"
  }
 },
 "nbformat": 4,
 "nbformat_minor": 2
}
