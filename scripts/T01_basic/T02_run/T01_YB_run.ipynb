{
 "cells": [
  {
   "cell_type": "code",
   "execution_count": 1,
   "metadata": {},
   "outputs": [],
   "source": [
    "from tools.basic.path_gen import path_gen\n",
    "from tools.step.pprint import pprint\n",
    "import os\n",
    "\n",
    "from model.RunYB   import RunYB\n",
    "from model.default import default"
   ]
  },
  {
   "cell_type": "code",
   "execution_count": 2,
   "metadata": {},
   "outputs": [],
   "source": [
    "# Creamos la carpeta de salida\n",
    "main_path = [\"output\"]"
   ]
  },
  {
   "attachments": {},
   "cell_type": "markdown",
   "metadata": {},
   "source": [
    "# Valores Constantes"
   ]
  },
  {
   "cell_type": "code",
   "execution_count": 3,
   "metadata": {},
   "outputs": [],
   "source": [
    "#add ../../T00_params path\n",
    "join = os.path.join\n",
    "from params.PLMP_0001 import PLMP_0001"
   ]
  },
  {
   "cell_type": "code",
   "execution_count": 4,
   "metadata": {},
   "outputs": [],
   "source": [
    "OMP_NUM_THREADS = 4\n",
    "mpi_np = 6\n",
    "\n",
    "r = default() # Valores por defecto\n",
    "# Modificamos los valores que queremos\n",
    "r[\"lammps_sim\"] =PLMP_0001()\n",
    "r[\"lammps_sim\"][\"OMP_NUM_THREADS\"] = OMP_NUM_THREADS\n",
    "r[\"lammps_sim\"][\"mpi\"] = True\n",
    "r[\"lammps_sim\"][\"mpi_np\"] = mpi_np\n",
    "# =================================================\n",
    "r[\"lsdyna_sim\"][\"factor_npoints\"] = 0.35\n",
    "# r[\"lsdyna_sim\"][\"factor\"] = 0.2\n",
    "r[\"lsdyna_sim\"][\"hmax\"] = 2.0\n",
    "# =================================================\n",
    "\n",
    "r[\"gmsh\"][\"Algorithm\"] = 2\n",
    "r[\"gmsh\"][\"factor\"] = 0.8 # ====================>> 0.6\n",
    "\n",
    "# =================================================\n",
    "r[\"inflation\"][\"pressure\"]  = 600\n",
    "r[\"inflation\"][\"OMP_NUM_THREADS\"] = OMP_NUM_THREADS\n",
    "r[\"inflation\"][\"mpi\"]    = True\n",
    "r[\"inflation\"][\"mpi_np\"]  = mpi_np\n",
    "\n",
    "# =================================================\n",
    "r[\"simulation\"][\"displacement\"] = 0.05 #  mm\n",
    "r[\"simulation\"][\"type_bc\"] = 1\n",
    "r[\"simulation\"][\"young\"] = 2960 # MPa\n",
    "r[\"simulation\"][\"poisson\"] = 0.37\n",
    "r[\"simulation\"][\"OMP_NUM_THREADS\"] = OMP_NUM_THREADS\n",
    "r[\"simulation\"][\"mpi\"] = True\n",
    "r[\"simulation\"][\"mpi_np\"] = mpi_np"
   ]
  },
  {
   "cell_type": "code",
   "execution_count": 5,
   "metadata": {},
   "outputs": [
    {
     "name": "stdout",
     "output_type": "stream",
     "text": [
      "\u001b[34mhas_children        \u001b[39m: True\n",
      "\u001b[34mlammps_sim          \u001b[39m: \n",
      "\t- elapsed\n",
      "\t-error\n",
      "\t-error_msg\n",
      "\t-verbose\n",
      "\t-has_children\n",
      "\t-Npoints\n",
      "\t-hilo_central\n",
      "\t-theta\n",
      "\t-factor\n",
      "\t-Remesh\n",
      "\t-...\n",
      "\u001b[34mlsdyna_sim          \u001b[39m: \n",
      "\t- elapsed\n",
      "\t-error\n",
      "\t-error_msg\n",
      "\t-verbose\n",
      "\t-has_children\n",
      "\t-radius\n",
      "\t-factor_npoints\n",
      "\t-align\n",
      "\t-factor\n",
      "\t-hmax\n",
      "\t-...\n",
      "\u001b[34mgmsh                \u001b[39m: \n",
      "\t- elapsed\n",
      "\t-error\n",
      "\t-error_msg\n",
      "\t-verbose\n",
      "\t-has_children\n",
      "\t-size_element\n",
      "\t-Algorithm\n",
      "\t-factor\n",
      "\t-lsdyna_path\n",
      "\t-...\n",
      "\u001b[34minflation           \u001b[39m: \n",
      "\t- elapsed\n",
      "\t-error\n",
      "\t-error_msg\n",
      "\t-verbose\n",
      "\t-has_children\n",
      "\t-pressure\n",
      "\t-OMP_NUM_THREADS\n",
      "\t-attemps\n",
      "\t-surface_behavior\n",
      "\t-radius_target\n",
      "\t-...\n",
      "\u001b[34msimulation          \u001b[39m: \n",
      "\t- elapsed\n",
      "\t-error\n",
      "\t-error_msg\n",
      "\t-verbose\n",
      "\t-has_children\n",
      "\t-young\n",
      "\t-poisson\n",
      "\t-epsilon\n",
      "\t-OMP_NUM_THREADS\n",
      "\t-type_bc\n",
      "\t-...\n",
      "\u001b[34monly_lammps         \u001b[39m: False\n"
     ]
    }
   ],
   "source": [
    "pprint(r)"
   ]
  },
  {
   "cell_type": "code",
   "execution_count": 6,
   "metadata": {},
   "outputs": [
    {
     "data": {
      "text/plain": [
       "['output']"
      ]
     },
     "execution_count": 6,
     "metadata": {},
     "output_type": "execute_result"
    }
   ],
   "source": [
    "main_path"
   ]
  },
  {
   "cell_type": "code",
   "execution_count": 7,
   "metadata": {},
   "outputs": [
    {
     "name": "stdout",
     "output_type": "stream",
     "text": [
      "\u001b[32mRunning lammps\u001b[0m\n",
      "\u001b[32m====================================\u001b[0m\n",
      "mpiexec -n 6 \"C:\\Users\\djoroya\\AppData\\Local\\LAMMPS 64-bit 2Aug2023-MSMPI\\bin\\lmp.exe\" -in in.lammps > out.lammps\n",
      "Output file: c:\\Users\\djoroya\\Documents\\GitHub\\YarnBraid-solo\\simulations\\2024-07-05__12-00-54__31401\\out.lammps\n",
      "\u001b[32mRunning lsdyna\u001b[0m\n",
      "\u001b[32m====================================\u001b[0m\n"
     ]
    },
    {
     "name": "stderr",
     "output_type": "stream",
     "text": [
      "100%|██████████| 64/64 [01:20<00:00,  1.26s/it]\n"
     ]
    },
    {
     "name": "stdout",
     "output_type": "stream",
     "text": [
      "\u001b[32mRunning gmsh\u001b[0m\n",
      "\u001b[32m====================================\u001b[0m\n"
     ]
    },
    {
     "name": "stderr",
     "output_type": "stream",
     "text": [
      "64it [00:12,  5.11it/s]\n"
     ]
    },
    {
     "name": "stdout",
     "output_type": "stream",
     "text": [
      "\u001b[32mRunning inflation\u001b[0m\n",
      "\u001b[32m====================================\u001b[0m\n",
      "Nsets have been created\n",
      "Running Calculix at:  c:\\Users\\djoroya\\Documents\\GitHub\\YarnBraid-solo\\simulations\\2024-07-05__12-02-40__84569\n",
      "Output file:  c:\\Users\\djoroya\\Documents\\GitHub\\YarnBraid-solo\\simulations\\2024-07-05__12-02-40__84569\\out.txt\n",
      "Command:\n",
      " mpiexec -n 6 c:\\Users\\djoroya\\Documents\\GitHub\\YarnBraid_30_05_2024\\YarnBraid\\src\\dependences\\PrePoMax\\Solver\\ccx_dynamic.exe init\n",
      "Error reading cvf file\n",
      "\n",
      "pid:  21224 \n",
      "\n",
      "SUMMARY OF C0NVERGENCE INFORMATION\n",
      "  STEP   INC  ATT   ITER     CONT.   RESID.        CORR.      RESID.      CORR.\n",
      "                              EL.    FORCE         DISP       FLUX        TEMP.\n",
      "                              (#)     (%)           (%)        (%)         (%)\n",
      "     1     1     1     1     4120  0.0000E+00  0.1000E+03  0.0000E+00  0.0000E+00\n",
      "     1     1     1     2   319937  0.0000E+00  0.6546E+02  0.0000E+00  0.0000E+00\n",
      "     1     1     1     3   225877  0.0000E+00  0.2053E+02  0.0000E+00  0.0000E+00\n",
      "     1     1     1     4   206110  0.0000E+00  0.1228E+02  0.0000E+00  0.0000E+00\n",
      "     1     1     1     5   203956  0.0000E+00  0.4441E+01  0.0000E+00  0.0000E+00\n",
      "     1     1     1     6   203786  0.0000E+00  0.6411E+00  0.0000E+00  0.0000E+00\n",
      "Calculix finished\n",
      "\n",
      "\u001b[32mRunning simulation\u001b[0m\n",
      "\u001b[32m====================================\u001b[0m\n",
      "Running Calculix at:  c:\\Users\\djoroya\\Documents\\GitHub\\YarnBraid-solo\\simulations\\2024-07-05__12-03-31__83577\n",
      "Output file:  c:\\Users\\djoroya\\Documents\\GitHub\\YarnBraid-solo\\simulations\\2024-07-05__12-03-31__83577\\out.txt\n",
      "Command:\n",
      " mpiexec -n 6 c:\\Users\\djoroya\\Documents\\GitHub\\YarnBraid_30_05_2024\\YarnBraid\\src\\dependences\\PrePoMax\\Solver\\ccx_dynamic.exe init_new\n",
      "Error reading cvf file\n",
      "\n",
      "pid:  23232 \n",
      "\n",
      "SUMMARY OF C0NVERGENCE INFORMATION\n",
      "  STEP   INC  ATT   ITER     CONT.   RESID.        CORR.      RESID.      CORR.\n",
      "                              EL.    FORCE         DISP       FLUX        TEMP.\n",
      "                              (#)     (%)           (%)        (%)         (%)\n",
      "     1     1     1     1   230937  0.0000E+00  0.1000E+03  0.0000E+00  0.0000E+00\n",
      "     1     1     1     2   133989  0.0000E+00  0.6062E+02  0.0000E+00  0.0000E+00\n",
      "     1     1     1     3    86486  0.0000E+00  0.5874E+02  0.0000E+00  0.0000E+00\n",
      "     1     1     1     4    62283  0.0000E+00  0.2345E+02  0.0000E+00  0.0000E+00\n",
      "     1     1     1     5    50795  0.0000E+00  0.2158E+02  0.0000E+00  0.0000E+00\n",
      "     1     1     1     6    46047  0.0000E+00  0.2251E+02  0.0000E+00  0.0000E+00\n",
      "     1     1     1     7    44101  0.0000E+00  0.4438E+02  0.0000E+00  0.0000E+00\n",
      "     1     1     1     8    43100  0.0000E+00  0.3382E+02  0.0000E+00  0.0000E+00\n",
      "     1     1     1     9    42658  0.0000E+00  0.1901E+02  0.0000E+00  0.0000E+00\n",
      "     1     1     1    10    42448  0.0000E+00  0.6018E+01  0.0000E+00  0.0000E+00\n",
      "     1     1     1    11    42392  0.0000E+00  0.5747E+00  0.0000E+00  0.0000E+00\n",
      "     1     1     1    12    42389  0.0000E+00  0.1829E+00  0.0000E+00  0.0000E+00\n",
      "Calculix finished\n",
      "\n"
     ]
    }
   ],
   "source": [
    "RunYB(r,main_path)"
   ]
  },
  {
   "cell_type": "code",
   "execution_count": 8,
   "metadata": {},
   "outputs": [],
   "source": [
    "import os\n",
    "from tools.step.rerun import rerun\n",
    "json_file = os.path.join(*(main_path + \\\n",
    "                           [r[\"simulation_path\"]])) + \".json\""
   ]
  },
  {
   "cell_type": "code",
   "execution_count": 9,
   "metadata": {},
   "outputs": [
    {
     "name": "stdout",
     "output_type": "stream",
     "text": [
      "Simulation exists. It will be overwritten\n",
      "['output']\n",
      "\u001b[32mRunning lammps\u001b[0m\n",
      "\u001b[32m====================================\u001b[0m\n",
      "mpiexec -n 6 \"C:\\Users\\djoroya\\AppData\\Local\\LAMMPS 64-bit 2Aug2023-MSMPI\\bin\\lmp.exe\" -in in.lammps > out.lammps\n",
      "Output file: c:\\Users\\djoroya\\Documents\\GitHub\\YarnBraid-solo\\simulations\\2024-07-05__12-04-38__79617\\out.lammps\n",
      "\u001b[32mRunning lsdyna\u001b[0m\n",
      "\u001b[32m====================================\u001b[0m\n"
     ]
    },
    {
     "name": "stderr",
     "output_type": "stream",
     "text": [
      "100%|██████████| 64/64 [01:20<00:00,  1.26s/it]\n"
     ]
    },
    {
     "name": "stdout",
     "output_type": "stream",
     "text": [
      "\u001b[32mRunning gmsh\u001b[0m\n",
      "\u001b[32m====================================\u001b[0m\n"
     ]
    },
    {
     "name": "stderr",
     "output_type": "stream",
     "text": [
      "64it [00:12,  5.11it/s]\n"
     ]
    },
    {
     "name": "stdout",
     "output_type": "stream",
     "text": [
      "\u001b[32mRunning inflation\u001b[0m\n",
      "\u001b[32m====================================\u001b[0m\n",
      "Nsets have been created\n",
      "Running Calculix at:  c:\\Users\\djoroya\\Documents\\GitHub\\YarnBraid-solo\\simulations\\2024-07-05__12-06-23__85334\n",
      "Output file:  c:\\Users\\djoroya\\Documents\\GitHub\\YarnBraid-solo\\simulations\\2024-07-05__12-06-23__85334\\out.txt\n",
      "Command:\n",
      " mpiexec -n 6 c:\\Users\\djoroya\\Documents\\GitHub\\YarnBraid_30_05_2024\\YarnBraid\\src\\dependences\\PrePoMax\\Solver\\ccx_dynamic.exe init\n",
      "Error reading cvf file\n",
      "\n",
      "pid:  4024 \n",
      "\n",
      "SUMMARY OF C0NVERGENCE INFORMATION\n",
      "  STEP   INC  ATT   ITER     CONT.   RESID.        CORR.      RESID.      CORR.\n",
      "                              EL.    FORCE         DISP       FLUX        TEMP.\n",
      "                              (#)     (%)           (%)        (%)         (%)\n",
      "     1     1     1     1     4064  0.0000E+00  0.1000E+03  0.0000E+00  0.0000E+00\n",
      "     1     1     1     2   316938  0.0000E+00  0.6546E+02  0.0000E+00  0.0000E+00\n",
      "     1     1     1     3   224621  0.0000E+00  0.2053E+02  0.0000E+00  0.0000E+00\n",
      "     1     1     1     4   205220  0.0000E+00  0.1227E+02  0.0000E+00  0.0000E+00\n",
      "     1     1     1     5   203202  0.0000E+00  0.4441E+01  0.0000E+00  0.0000E+00\n",
      "     1     1     1     6   203017  0.0000E+00  0.6462E+00  0.0000E+00  0.0000E+00\n",
      "Calculix finished\n",
      "\n",
      "\u001b[32mRunning simulation\u001b[0m\n",
      "\u001b[32m====================================\u001b[0m\n",
      "Running Calculix at:  c:\\Users\\djoroya\\Documents\\GitHub\\YarnBraid-solo\\simulations\\2024-07-05__12-07-13__83350\n",
      "Output file:  c:\\Users\\djoroya\\Documents\\GitHub\\YarnBraid-solo\\simulations\\2024-07-05__12-07-13__83350\\out.txt\n",
      "Command:\n",
      " mpiexec -n 6 c:\\Users\\djoroya\\Documents\\GitHub\\YarnBraid_30_05_2024\\YarnBraid\\src\\dependences\\PrePoMax\\Solver\\ccx_dynamic.exe init_new\n",
      "Error reading cvf file\n",
      "\n",
      "pid:  23936 \n",
      "\n",
      "SUMMARY OF C0NVERGENCE INFORMATION\n",
      "  STEP   INC  ATT   ITER     CONT.   RESID.        CORR.      RESID.      CORR.\n",
      "                              EL.    FORCE         DISP       FLUX        TEMP.\n",
      "                              (#)     (%)           (%)        (%)         (%)\n",
      "     1     1     1     1   230948  0.0000E+00  0.1000E+03  0.0000E+00  0.0000E+00\n",
      "     1     1     1     2   134252  0.0000E+00  0.5919E+02  0.0000E+00  0.0000E+00\n",
      "     1     1     1     3    86759  0.0000E+00  0.5798E+02  0.0000E+00  0.0000E+00\n",
      "     1     1     1     4    62545  0.0000E+00  0.2266E+02  0.0000E+00  0.0000E+00\n",
      "     1     1     1     5    51016  0.0000E+00  0.2979E+02  0.0000E+00  0.0000E+00\n",
      "     1     1     1     6    46174  0.0000E+00  0.2333E+02  0.0000E+00  0.0000E+00\n",
      "     1     1     1     7    44273  0.0000E+00  0.4229E+02  0.0000E+00  0.0000E+00\n",
      "     1     1     1     8    43304  0.0000E+00  0.3890E+02  0.0000E+00  0.0000E+00\n",
      "     1     1     1     9    42865  0.0000E+00  0.1744E+02  0.0000E+00  0.0000E+00\n",
      "     1     1     1    10    42604  0.0000E+00  0.5479E+01  0.0000E+00  0.0000E+00\n",
      "     1     1     1    11    42555  0.0000E+00  0.3671E+00  0.0000E+00  0.0000E+00\n",
      "     1     1     1    12    42549  0.0000E+00  0.1075E+00  0.0000E+00  0.0000E+00\n",
      "Calculix finished\n",
      "\n"
     ]
    }
   ],
   "source": [
    "rerun(json_file,overwrite=True)"
   ]
  },
  {
   "cell_type": "code",
   "execution_count": 1,
   "metadata": {},
   "outputs": [],
   "source": [
    "from tools.step.deletesim import deletesim"
   ]
  },
  {
   "cell_type": "code",
   "execution_count": 2,
   "metadata": {},
   "outputs": [
    {
     "name": "stdout",
     "output_type": "stream",
     "text": [
      "output\\2024-07-05__12-00-54__37420.json\n"
     ]
    }
   ],
   "source": [
    "json_file = r\"output\\2024-07-05__12-00-54__37420.json\"\n",
    "print(json_file)\n"
   ]
  },
  {
   "cell_type": "code",
   "execution_count": 3,
   "metadata": {},
   "outputs": [
    {
     "name": "stdout",
     "output_type": "stream",
     "text": [
      "Simulation 2024-07-05__12-00-54__37420 not found\n"
     ]
    }
   ],
   "source": [
    "deletesim(json_file)"
   ]
  },
  {
   "cell_type": "code",
   "execution_count": null,
   "metadata": {},
   "outputs": [],
   "source": []
  },
  {
   "cell_type": "code",
   "execution_count": 4,
   "metadata": {},
   "outputs": [],
   "source": [
    "a = {\"a\":1,\"b\":{\"c\":3,\"d\":4}}"
   ]
  },
  {
   "cell_type": "code",
   "execution_count": 6,
   "metadata": {},
   "outputs": [],
   "source": [
    "acopy = a.copy()"
   ]
  },
  {
   "cell_type": "code",
   "execution_count": 7,
   "metadata": {},
   "outputs": [
    {
     "data": {
      "text/plain": [
       "{'a': 1, 'b': {'c': 3, 'd': 4}}"
      ]
     },
     "execution_count": 7,
     "metadata": {},
     "output_type": "execute_result"
    }
   ],
   "source": [
    "acopy"
   ]
  },
  {
   "cell_type": "code",
   "execution_count": 8,
   "metadata": {},
   "outputs": [],
   "source": [
    "a[\"b\"][\"c\"] = 20"
   ]
  },
  {
   "cell_type": "code",
   "execution_count": 9,
   "metadata": {},
   "outputs": [
    {
     "data": {
      "text/plain": [
       "{'a': 1, 'b': {'c': 20, 'd': 4}}"
      ]
     },
     "execution_count": 9,
     "metadata": {},
     "output_type": "execute_result"
    }
   ],
   "source": [
    "acopy"
   ]
  },
  {
   "cell_type": "code",
   "execution_count": 10,
   "metadata": {},
   "outputs": [],
   "source": [
    "def copyrecursive(a):\n",
    "    if isinstance(a,dict):\n",
    "        return {k:copyrecursive(v) for k,v in a.items()}\n",
    "    return a"
   ]
  },
  {
   "cell_type": "code",
   "execution_count": 11,
   "metadata": {},
   "outputs": [],
   "source": [
    "a = {\"a\":1,\"b\":{\"c\":3,\"d\":4}}\n",
    "acopy = copyrecursive(a)"
   ]
  },
  {
   "cell_type": "code",
   "execution_count": 12,
   "metadata": {},
   "outputs": [],
   "source": [
    "a[\"b\"][\"c\"] = 20"
   ]
  },
  {
   "cell_type": "code",
   "execution_count": 13,
   "metadata": {},
   "outputs": [
    {
     "data": {
      "text/plain": [
       "{'a': 1, 'b': {'c': 3, 'd': 4}}"
      ]
     },
     "execution_count": 13,
     "metadata": {},
     "output_type": "execute_result"
    }
   ],
   "source": [
    "acopy"
   ]
  },
  {
   "cell_type": "code",
   "execution_count": 14,
   "metadata": {},
   "outputs": [
    {
     "data": {
      "text/plain": [
       "{'a': 1, 'b': {'c': 20, 'd': 4}}"
      ]
     },
     "execution_count": 14,
     "metadata": {},
     "output_type": "execute_result"
    }
   ],
   "source": [
    "a"
   ]
  },
  {
   "cell_type": "code",
   "execution_count": null,
   "metadata": {},
   "outputs": [],
   "source": []
  }
 ],
 "metadata": {
  "kernelspec": {
   "display_name": "TECNORED",
   "language": "python",
   "name": "python3"
  },
  "language_info": {
   "codemirror_mode": {
    "name": "ipython",
    "version": 3
   },
   "file_extension": ".py",
   "mimetype": "text/x-python",
   "name": "python",
   "nbconvert_exporter": "python",
   "pygments_lexer": "ipython3",
   "version": "3.11.9"
  }
 },
 "nbformat": 4,
 "nbformat_minor": 2
}
