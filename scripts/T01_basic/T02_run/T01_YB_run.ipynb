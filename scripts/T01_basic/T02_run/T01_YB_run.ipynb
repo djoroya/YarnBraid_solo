{
 "cells": [
  {
   "cell_type": "code",
   "execution_count": 1,
   "metadata": {},
   "outputs": [],
   "source": [
    "from tools.step.pprint import pprint\n",
    "import os\n",
    "\n",
    "from model.RunYB   import RunYB\n",
    "from model.default import default"
   ]
  },
  {
   "cell_type": "code",
   "execution_count": 2,
   "metadata": {},
   "outputs": [],
   "source": [
    "# Creamos la carpeta de salida\n",
    "main_path = [\"output\"]"
   ]
  },
  {
   "attachments": {},
   "cell_type": "markdown",
   "metadata": {},
   "source": [
    "# Valores Constantes"
   ]
  },
  {
   "cell_type": "code",
   "execution_count": 3,
   "metadata": {},
   "outputs": [],
   "source": [
    "#add ../../T00_params path\n",
    "join = os.path.join\n",
    "from params.PLMP_0001 import PLMP_0001"
   ]
  },
  {
   "cell_type": "code",
   "execution_count": 4,
   "metadata": {},
   "outputs": [],
   "source": [
    "OMP_NUM_THREADS = 4\n",
    "mpi_np = 6\n",
    "\n",
    "r = default() # Valores por defecto\n",
    "# Modificamos los valores que queremos\n",
    "r[\"lammps_sim\"] =PLMP_0001()\n",
    "r[\"lammps_sim\"][\"OMP_NUM_THREADS\"] = OMP_NUM_THREADS\n",
    "r[\"lammps_sim\"][\"mpi\"] = True\n",
    "r[\"lammps_sim\"][\"mpi_np\"] = mpi_np\n",
    "# =================================================\n",
    "r[\"lsdyna_sim\"][\"factor_npoints\"] = 0.35\n",
    "# r[\"lsdyna_sim\"][\"factor\"] = 0.2\n",
    "r[\"lsdyna_sim\"][\"hmax\"] = 2.0\n",
    "# =================================================\n",
    "\n",
    "r[\"gmsh\"][\"Algorithm\"] = 2\n",
    "r[\"gmsh\"][\"factor\"] = 0.8 # ====================>> 0.6\n",
    "\n",
    "# =================================================\n",
    "r[\"inflation\"][\"pressure\"]  = 600\n",
    "r[\"inflation\"][\"OMP_NUM_THREADS\"] = OMP_NUM_THREADS\n",
    "r[\"inflation\"][\"mpi\"]    = True\n",
    "r[\"inflation\"][\"mpi_np\"]  = mpi_np\n",
    "\n",
    "# =================================================\n",
    "r[\"simulation\"][\"displacement\"] = 0.05 #  mm\n",
    "r[\"simulation\"][\"type_bc\"] = 1\n",
    "r[\"simulation\"][\"young\"] = 2960 # MPa\n",
    "r[\"simulation\"][\"poisson\"] = 0.37\n",
    "r[\"simulation\"][\"OMP_NUM_THREADS\"] = OMP_NUM_THREADS\n",
    "r[\"simulation\"][\"mpi\"] = True\n",
    "r[\"simulation\"][\"mpi_np\"] = mpi_np"
   ]
  },
  {
   "cell_type": "code",
   "execution_count": 5,
   "metadata": {},
   "outputs": [
    {
     "name": "stdout",
     "output_type": "stream",
     "text": [
      "\u001b[34msettings_step       \u001b[39m: \n",
      "\t- has_children\n",
      "\t-has_parent\n",
      "\t-verbose\n",
      "\t-...\n",
      "\u001b[34mhas_children        \u001b[39m: True\n",
      "\u001b[34mlammps_sim          \u001b[39m: \n",
      "\t- settings_step\n",
      "\t-Npoints\n",
      "\t-hilo_central\n",
      "\t-theta\n",
      "\t-factor\n",
      "\t-Remesh\n",
      "\t-RUN_STEPS_EQ\n",
      "\t-RUN_STEPS_DEFORM\n",
      "\t-errate\n",
      "\t-nhilos\n",
      "\t-...\n",
      "\u001b[34mlsdyna_sim          \u001b[39m: \n",
      "\t- settings_step\n",
      "\t-radius\n",
      "\t-factor_npoints\n",
      "\t-align\n",
      "\t-factor\n",
      "\t-hmax\n",
      "\t-npoints\n",
      "\t-lmp_path\n",
      "\t-...\n",
      "\u001b[34mgmsh                \u001b[39m: \n",
      "\t- settings_step\n",
      "\t-size_element\n",
      "\t-Algorithm\n",
      "\t-factor\n",
      "\t-lsdyna_path\n",
      "\t-...\n",
      "\u001b[34minflation           \u001b[39m: \n",
      "\t- settings_step\n",
      "\t-pressure\n",
      "\t-OMP_NUM_THREADS\n",
      "\t-attemps\n",
      "\t-surface_behavior\n",
      "\t-radius_target\n",
      "\t-rho\n",
      "\t-calculix_dynamic\n",
      "\t-mpi\n",
      "\t-mpi_np\n",
      "\t-...\n",
      "\u001b[34msimulation          \u001b[39m: \n",
      "\t- settings_step\n",
      "\t-young\n",
      "\t-poisson\n",
      "\t-epsilon\n",
      "\t-OMP_NUM_THREADS\n",
      "\t-type_bc\n",
      "\t-attemps\n",
      "\t-Adjust\n",
      "\t-nfixed\n",
      "\t-nsteps\n",
      "\t-...\n",
      "\u001b[34mpost                \u001b[39m: \n",
      "\t- settings_step\n",
      "\t-tensile_path\n",
      "\t-max_mono\n",
      "\t-...\n",
      "\u001b[34monly_lammps         \u001b[39m: False\n"
     ]
    }
   ],
   "source": [
    "pprint(r)"
   ]
  },
  {
   "cell_type": "code",
   "execution_count": 6,
   "metadata": {},
   "outputs": [
    {
     "data": {
      "text/plain": [
       "['output']"
      ]
     },
     "execution_count": 6,
     "metadata": {},
     "output_type": "execute_result"
    }
   ],
   "source": [
    "main_path"
   ]
  },
  {
   "cell_type": "code",
   "execution_count": 7,
   "metadata": {},
   "outputs": [
    {
     "name": "stdout",
     "output_type": "stream",
     "text": [
      "\u001b[32mRunning lammps\u001b[0m\n",
      "\u001b[32m====================================\u001b[0m\n",
      "mpiexec -n 6 \"C:\\Users\\djoroya\\AppData\\Local\\LAMMPS 64-bit 2Aug2023-MSMPI\\bin\\lmp.exe\" -in in.lammps > out.lammps\n",
      "Output file: c:\\Users\\djoroya\\Documents\\GitHub\\YarnBraid-solo\\simulations\\2024-07-06__22-30-14__10832\\out.lammps\n",
      "\u001b[32mRunning lsdyna\u001b[0m\n",
      "\u001b[32m====================================\u001b[0m\n"
     ]
    },
    {
     "name": "stderr",
     "output_type": "stream",
     "text": [
      "100%|██████████| 64/64 [01:22<00:00,  1.29s/it]\n"
     ]
    },
    {
     "name": "stdout",
     "output_type": "stream",
     "text": [
      "\u001b[32mRunning gmsh\u001b[0m\n",
      "\u001b[32m====================================\u001b[0m\n"
     ]
    },
    {
     "name": "stderr",
     "output_type": "stream",
     "text": [
      "64it [00:13,  4.86it/s]\n"
     ]
    },
    {
     "name": "stdout",
     "output_type": "stream",
     "text": [
      "\u001b[32mRunning inflation\u001b[0m\n",
      "\u001b[32m====================================\u001b[0m\n",
      "Nsets have been created\n",
      "Running Calculix at:  c:\\Users\\djoroya\\Documents\\GitHub\\YarnBraid-solo\\simulations\\2024-07-06__22-32-04__42696\n",
      "Output file:  c:\\Users\\djoroya\\Documents\\GitHub\\YarnBraid-solo\\simulations\\2024-07-06__22-32-04__42696\\out.txt\n",
      "Command:\n",
      " mpiexec -n 6 c:\\Users\\djoroya\\Documents\\GitHub\\YarnBraid_30_05_2024\\YarnBraid\\src\\dependences\\PrePoMax\\Solver\\ccx_dynamic.exe init\n",
      "Error reading cvf file\n",
      "\n",
      "pid:  22132 \n",
      "\n",
      "SUMMARY OF C0NVERGENCE INFORMATION\n",
      "  STEP   INC  ATT   ITER     CONT.   RESID.        CORR.      RESID.      CORR.\n",
      "                              EL.    FORCE         DISP       FLUX        TEMP.\n",
      "                              (#)     (%)           (%)        (%)         (%)\n",
      "     1     1     1     1     4064  0.0000E+00  0.1000E+03  0.0000E+00  0.0000E+00\n",
      "     1     1     1     2   318870  0.0000E+00  0.6547E+02  0.0000E+00  0.0000E+00\n",
      "     1     1     1     3   225185  0.0000E+00  0.2054E+02  0.0000E+00  0.0000E+00\n",
      "     1     1     1     4   205595  0.0000E+00  0.1228E+02  0.0000E+00  0.0000E+00\n",
      "     1     1     1     5   203638  0.0000E+00  0.4448E+01  0.0000E+00  0.0000E+00\n",
      "     1     1     1     6   203454  0.0000E+00  0.6437E+00  0.0000E+00  0.0000E+00\n",
      "Calculix finished\n",
      "\n",
      "\u001b[32mRunning simulation\u001b[0m\n",
      "\u001b[32m====================================\u001b[0m\n",
      "Running Calculix at:  c:\\Users\\djoroya\\Documents\\GitHub\\YarnBraid-solo\\simulations\\2024-07-06__22-33-04__52441\n",
      "Output file:  c:\\Users\\djoroya\\Documents\\GitHub\\YarnBraid-solo\\simulations\\2024-07-06__22-33-04__52441\\out.txt\n",
      "Command:\n",
      " mpiexec -n 6 c:\\Users\\djoroya\\Documents\\GitHub\\YarnBraid_30_05_2024\\YarnBraid\\src\\dependences\\PrePoMax\\Solver\\ccx_dynamic.exe init_new\n",
      "Error reading cvf file\n",
      "\n",
      "pid:  23724 \n",
      "\n",
      "SUMMARY OF C0NVERGENCE INFORMATION\n",
      "  STEP   INC  ATT   ITER     CONT.   RESID.        CORR.      RESID.      CORR.\n",
      "                              EL.    FORCE         DISP       FLUX        TEMP.\n",
      "                              (#)     (%)           (%)        (%)         (%)\n",
      "     1     1     1     1   231156  0.4894E+06  0.1000E+03  0.0000E+00  0.0000E+00\n",
      "     1     1     1     2   231062  0.0000E+00  0.1000E+03  0.0000E+00  0.0000E+00\n",
      "     1     2     1     1   143625  0.0000E+00  0.1000E+03  0.0000E+00  0.0000E+00\n",
      "     1     2     1     2    90233  0.0000E+00  0.4058E+02  0.0000E+00  0.0000E+00\n",
      "     1     2     1     3    63790  0.0000E+00  0.2403E+02  0.0000E+00  0.0000E+00\n",
      "     1     2     1     4    50082  0.0000E+00  0.2126E+02  0.0000E+00  0.0000E+00\n",
      "     1     2     1     5    43534  0.0000E+00  0.2101E+02  0.0000E+00  0.0000E+00\n",
      "     1     2     1     6    41212  0.0000E+00  0.2132E+02  0.0000E+00  0.0000E+00\n",
      "     1     2     1     7    40145  0.0000E+00  0.6176E+02  0.0000E+00  0.0000E+00\n",
      "     1     2     1     8    39988  0.0000E+00  0.4169E+02  0.0000E+00  0.0000E+00\n",
      "     1     2     1     9    39429  0.0000E+00  0.5385E+01  0.0000E+00  0.0000E+00\n",
      "     1     2     1    10    39150  0.0000E+00  0.5789E+01  0.0000E+00  0.0000E+00\n",
      "     1     2     1    11    39131  0.0000E+00  0.3271E-01  0.0000E+00  0.0000E+00\n",
      "     2     1     1     1    45132  0.3614E+05  0.1000E+03  0.0000E+00  0.0000E+00\n",
      "     2     1     1     2   197428  0.0000E+00  0.9609E+02  0.0000E+00  0.0000E+00\n",
      "     2     1     1     3   166399  0.0000E+00  0.5072E+02  0.0000E+00  0.0000E+00\n",
      "     2     1     1     4   118574  0.0000E+00  0.2403E+02  0.0000E+00  0.0000E+00\n",
      "     2     1     1     5    90405  0.0000E+00  0.1912E+02  0.0000E+00  0.0000E+00\n",
      "     2     1     1     6    72147  0.0000E+00  0.2235E+02  0.0000E+00  0.0000E+00\n",
      "     2     1     1     7    63444  0.0000E+00  0.2699E+02  0.0000E+00  0.0000E+00\n",
      "     2     1     1     8    62655  0.0000E+00  0.3450E+02  0.0000E+00  0.0000E+00\n",
      "     2     1     1     9    62195  0.0000E+00  0.3961E+02  0.0000E+00  0.0000E+00\n",
      "     2     1     1    10    59424  0.0000E+00  0.2523E+02  0.0000E+00  0.0000E+00\n",
      "     2     1     1    11    54950  0.0000E+00  0.3268E+02  0.0000E+00  0.0000E+00\n",
      "     2     1     1    12    57542  0.0000E+00  0.1206E+02  0.0000E+00  0.0000E+00\n",
      "     2     1     1    13    56447  0.0000E+00  0.3826E+01  0.0000E+00  0.0000E+00\n",
      "     2     1     1    14    53252  0.0000E+00  0.3243E+01  0.0000E+00  0.0000E+00\n",
      "     2     1     1    15    52346  0.0000E+00  0.1980E+01  0.0000E+00  0.0000E+00\n",
      "     2     1     1    16    51764  0.0000E+00  0.1064E+01  0.0000E+00  0.0000E+00\n",
      "     2     1     1    17    51363  0.0000E+00  0.4837E+00  0.0000E+00  0.0000E+00\n",
      "     2     1     1    18    51126  0.0000E+00  0.1455E+00  0.0000E+00  0.0000E+00\n",
      "     2     1     1    19    51094  0.0000E+00  0.1827E-01  0.0000E+00  0.0000E+00\n",
      "Calculix finished\n",
      "\n",
      "\u001b[31mError in step: RunSimulation\n",
      "\u001b[39m\n",
      "\u001b[31mError in step: RunYB\n",
      "\u001b[39m\n"
     ]
    },
    {
     "name": "stderr",
     "output_type": "stream",
     "text": [
      "Traceback (most recent call last):\n",
      "  File \"c:\\Users\\djoroya\\Documents\\GitHub\\YarnBraid-solo\\src\\tools\\step\\runstep.py\", line 79, in wa\n",
      "    func(*args, **kwargs)\n",
      "  File \"c:\\Users\\djoroya\\Documents\\GitHub\\YarnBraid-solo\\src\\model\\simulation\\RunSimulation.py\", line 103, in RunSimulation\n",
      "    lines = f.readlines()\n",
      "            ^^^^^^^^^^^^^\n",
      "  File \"<frozen codecs>\", line 322, in decode\n",
      "UnicodeDecodeError: 'utf-8' codec can't decode byte 0xb3 in position 328: invalid start byte\n",
      "Traceback (most recent call last):\n",
      "  File \"c:\\Users\\djoroya\\Documents\\GitHub\\YarnBraid-solo\\src\\tools\\step\\runstep.py\", line 79, in wa\n",
      "    func(*args, **kwargs)\n",
      "  File \"c:\\Users\\djoroya\\Documents\\GitHub\\YarnBraid-solo\\src\\model\\simulation\\RunSimulation.py\", line 103, in RunSimulation\n",
      "    lines = f.readlines()\n",
      "            ^^^^^^^^^^^^^\n",
      "  File \"<frozen codecs>\", line 322, in decode\n",
      "UnicodeDecodeError: 'utf-8' codec can't decode byte 0xb3 in position 328: invalid start byte\n",
      "\n",
      "During handling of the above exception, another exception occurred:\n",
      "\n",
      "Traceback (most recent call last):\n",
      "  File \"c:\\Users\\djoroya\\Documents\\GitHub\\YarnBraid-solo\\src\\tools\\step\\runstep.py\", line 79, in wa\n",
      "    func(*args, **kwargs)\n",
      "  File \"c:\\Users\\djoroya\\Documents\\GitHub\\YarnBraid-solo\\src\\model\\RunYB.py\", line 84, in RunYB\n",
      "    RunSimulation(params_simula,out_simula)\n",
      "  File \"c:\\Users\\djoroya\\Documents\\GitHub\\YarnBraid-solo\\src\\tools\\step\\runstep.py\", line 90, in wa\n",
      "    raise Exception(e)\n",
      "Exception: 'utf-8' codec can't decode byte 0xb3 in position 328: invalid start byte\n"
     ]
    },
    {
     "ename": "Exception",
     "evalue": "'utf-8' codec can't decode byte 0xb3 in position 328: invalid start byte",
     "output_type": "error",
     "traceback": [
      "\u001b[1;31m---------------------------------------------------------------------------\u001b[0m",
      "\u001b[1;31mUnicodeDecodeError\u001b[0m                        Traceback (most recent call last)",
      "File \u001b[1;32mc:\\Users\\djoroya\\Documents\\GitHub\\YarnBraid-solo\\src\\tools\\step\\runstep.py:79\u001b[0m, in \u001b[0;36mrunstep.<locals>.decorator.<locals>.wa\u001b[1;34m(*args, **kwargs)\u001b[0m\n\u001b[0;32m     78\u001b[0m \u001b[38;5;28;01mtry\u001b[39;00m:\n\u001b[1;32m---> 79\u001b[0m     \u001b[43mfunc\u001b[49m\u001b[43m(\u001b[49m\u001b[38;5;241;43m*\u001b[39;49m\u001b[43margs\u001b[49m\u001b[43m,\u001b[49m\u001b[43m \u001b[49m\u001b[38;5;241;43m*\u001b[39;49m\u001b[38;5;241;43m*\u001b[39;49m\u001b[43mkwargs\u001b[49m\u001b[43m)\u001b[49m\n\u001b[0;32m     80\u001b[0m     err \u001b[38;5;241m=\u001b[39m \u001b[38;5;241m0\u001b[39m\n",
      "File \u001b[1;32mc:\\Users\\djoroya\\Documents\\GitHub\\YarnBraid-solo\\src\\model\\simulation\\RunSimulation.py:103\u001b[0m, in \u001b[0;36mRunSimulation\u001b[1;34m(params, output_folder, callback)\u001b[0m\n\u001b[0;32m    102\u001b[0m \u001b[38;5;28;01mwith\u001b[39;00m \u001b[38;5;28mopen\u001b[39m(file,\u001b[38;5;124m\"\u001b[39m\u001b[38;5;124mr\u001b[39m\u001b[38;5;124m\"\u001b[39m) \u001b[38;5;28;01mas\u001b[39;00m f:\n\u001b[1;32m--> 103\u001b[0m     lines \u001b[38;5;241m=\u001b[39m \u001b[43mf\u001b[49m\u001b[38;5;241;43m.\u001b[39;49m\u001b[43mreadlines\u001b[49m\u001b[43m(\u001b[49m\u001b[43m)\u001b[49m\n\u001b[0;32m    104\u001b[0m \u001b[38;5;28;01mfor\u001b[39;00m line \u001b[38;5;129;01min\u001b[39;00m lines:\n",
      "File \u001b[1;32m<frozen codecs>:322\u001b[0m, in \u001b[0;36mdecode\u001b[1;34m(self, input, final)\u001b[0m\n",
      "\u001b[1;31mUnicodeDecodeError\u001b[0m: 'utf-8' codec can't decode byte 0xb3 in position 328: invalid start byte",
      "\nDuring handling of the above exception, another exception occurred:\n",
      "\u001b[1;31mException\u001b[0m                                 Traceback (most recent call last)",
      "File \u001b[1;32mc:\\Users\\djoroya\\Documents\\GitHub\\YarnBraid-solo\\src\\tools\\step\\runstep.py:79\u001b[0m, in \u001b[0;36mrunstep.<locals>.decorator.<locals>.wa\u001b[1;34m(*args, **kwargs)\u001b[0m\n\u001b[0;32m     78\u001b[0m \u001b[38;5;28;01mtry\u001b[39;00m:\n\u001b[1;32m---> 79\u001b[0m     \u001b[43mfunc\u001b[49m\u001b[43m(\u001b[49m\u001b[38;5;241;43m*\u001b[39;49m\u001b[43margs\u001b[49m\u001b[43m,\u001b[49m\u001b[43m \u001b[49m\u001b[38;5;241;43m*\u001b[39;49m\u001b[38;5;241;43m*\u001b[39;49m\u001b[43mkwargs\u001b[49m\u001b[43m)\u001b[49m\n\u001b[0;32m     80\u001b[0m     err \u001b[38;5;241m=\u001b[39m \u001b[38;5;241m0\u001b[39m\n",
      "File \u001b[1;32mc:\\Users\\djoroya\\Documents\\GitHub\\YarnBraid-solo\\src\\model\\RunYB.py:84\u001b[0m, in \u001b[0;36mRunYB\u001b[1;34m(params, main_path, callback)\u001b[0m\n\u001b[0;32m     83\u001b[0m params_simula[\u001b[38;5;124m\"\u001b[39m\u001b[38;5;124msettings_step\u001b[39m\u001b[38;5;124m\"\u001b[39m][\u001b[38;5;124m\"\u001b[39m\u001b[38;5;124mhas_parent\u001b[39m\u001b[38;5;124m\"\u001b[39m] \u001b[38;5;241m=\u001b[39m \u001b[38;5;28;01mTrue\u001b[39;00m\n\u001b[1;32m---> 84\u001b[0m \u001b[43mRunSimulation\u001b[49m\u001b[43m(\u001b[49m\u001b[43mparams_simula\u001b[49m\u001b[43m,\u001b[49m\u001b[43mout_simula\u001b[49m\u001b[43m)\u001b[49m\n\u001b[0;32m     85\u001b[0m callback() \u001b[38;5;28;01mif\u001b[39;00m callback \u001b[38;5;28;01melse\u001b[39;00m \u001b[38;5;28;01mNone\u001b[39;00m\n",
      "File \u001b[1;32mc:\\Users\\djoroya\\Documents\\GitHub\\YarnBraid-solo\\src\\tools\\step\\runstep.py:90\u001b[0m, in \u001b[0;36mrunstep.<locals>.decorator.<locals>.wa\u001b[1;34m(*args, **kwargs)\u001b[0m\n\u001b[0;32m     89\u001b[0m     f\u001b[38;5;241m.\u001b[39mwrite(traceback\u001b[38;5;241m.\u001b[39mformat_exc())\n\u001b[1;32m---> 90\u001b[0m \u001b[38;5;28;01mraise\u001b[39;00m \u001b[38;5;167;01mException\u001b[39;00m(e)\n\u001b[0;32m     91\u001b[0m err \u001b[38;5;241m=\u001b[39m \u001b[38;5;241m1\u001b[39m\n",
      "\u001b[1;31mException\u001b[0m: 'utf-8' codec can't decode byte 0xb3 in position 328: invalid start byte",
      "\nDuring handling of the above exception, another exception occurred:\n",
      "\u001b[1;31mException\u001b[0m                                 Traceback (most recent call last)",
      "Cell \u001b[1;32mIn[7], line 1\u001b[0m\n\u001b[1;32m----> 1\u001b[0m \u001b[43mRunYB\u001b[49m\u001b[43m(\u001b[49m\u001b[43mr\u001b[49m\u001b[43m,\u001b[49m\u001b[43mmain_path\u001b[49m\u001b[43m)\u001b[49m\n",
      "File \u001b[1;32mc:\\Users\\djoroya\\Documents\\GitHub\\YarnBraid-solo\\src\\tools\\step\\runstep.py:90\u001b[0m, in \u001b[0;36mrunstep.<locals>.decorator.<locals>.wa\u001b[1;34m(*args, **kwargs)\u001b[0m\n\u001b[0;32m     88\u001b[0m     \u001b[38;5;28;01mwith\u001b[39;00m \u001b[38;5;28mopen\u001b[39m(error_log,\u001b[38;5;124m\"\u001b[39m\u001b[38;5;124mw\u001b[39m\u001b[38;5;124m\"\u001b[39m) \u001b[38;5;28;01mas\u001b[39;00m f:\n\u001b[0;32m     89\u001b[0m         f\u001b[38;5;241m.\u001b[39mwrite(traceback\u001b[38;5;241m.\u001b[39mformat_exc())\n\u001b[1;32m---> 90\u001b[0m     \u001b[38;5;28;01mraise\u001b[39;00m \u001b[38;5;167;01mException\u001b[39;00m(e)\n\u001b[0;32m     91\u001b[0m     err \u001b[38;5;241m=\u001b[39m \u001b[38;5;241m1\u001b[39m\n\u001b[0;32m     92\u001b[0m os\u001b[38;5;241m.\u001b[39mchdir(current_folder)\n",
      "\u001b[1;31mException\u001b[0m: 'utf-8' codec can't decode byte 0xb3 in position 328: invalid start byte"
     ]
    }
   ],
   "source": [
    "RunYB(r,main_path)"
   ]
  },
  {
   "cell_type": "code",
   "execution_count": null,
   "metadata": {},
   "outputs": [],
   "source": [
    "import os\n",
    "from tools.step.rerun import rerun\n",
    "json_file = os.path.join(*(main_path + \\\n",
    "                           [r[\"simulation_path\"]])) + \".json\""
   ]
  },
  {
   "cell_type": "code",
   "execution_count": null,
   "metadata": {},
   "outputs": [
    {
     "name": "stdout",
     "output_type": "stream",
     "text": [
      "Simulation exists. It will be overwritten\n",
      "['output']\n",
      "\u001b[32mRunning lammps\u001b[0m\n",
      "\u001b[32m====================================\u001b[0m\n",
      "mpiexec -n 6 \"C:\\Users\\djoroya\\AppData\\Local\\LAMMPS 64-bit 2Aug2023-MSMPI\\bin\\lmp.exe\" -in in.lammps > out.lammps\n",
      "Output file: c:\\Users\\djoroya\\Documents\\GitHub\\YarnBraid-solo\\simulations\\2024-07-05__17-40-43__18038\\out.lammps\n",
      "\u001b[32mRunning lsdyna\u001b[0m\n",
      "\u001b[32m====================================\u001b[0m\n"
     ]
    },
    {
     "name": "stderr",
     "output_type": "stream",
     "text": [
      "100%|██████████| 64/64 [01:21<00:00,  1.27s/it]\n"
     ]
    },
    {
     "name": "stdout",
     "output_type": "stream",
     "text": [
      "\u001b[32mRunning gmsh\u001b[0m\n",
      "\u001b[32m====================================\u001b[0m\n"
     ]
    },
    {
     "name": "stderr",
     "output_type": "stream",
     "text": [
      "64it [00:12,  5.03it/s]\n"
     ]
    },
    {
     "name": "stdout",
     "output_type": "stream",
     "text": [
      "\u001b[32mRunning inflation\u001b[0m\n",
      "\u001b[32m====================================\u001b[0m\n",
      "Nsets have been created\n",
      "Running Calculix at:  c:\\Users\\djoroya\\Documents\\GitHub\\YarnBraid-solo\\simulations\\2024-07-05__17-42-29__84825\n",
      "Output file:  c:\\Users\\djoroya\\Documents\\GitHub\\YarnBraid-solo\\simulations\\2024-07-05__17-42-29__84825\\out.txt\n",
      "Command:\n",
      " mpiexec -n 6 c:\\Users\\djoroya\\Documents\\GitHub\\YarnBraid_30_05_2024\\YarnBraid\\src\\dependences\\PrePoMax\\Solver\\ccx_dynamic.exe init\n",
      "Error reading cvf file\n",
      "\n",
      "pid:  25008 \n",
      "\n",
      "SUMMARY OF C0NVERGENCE INFORMATION\n",
      "  STEP   INC  ATT   ITER     CONT.   RESID.        CORR.      RESID.      CORR.\n",
      "                              EL.    FORCE         DISP       FLUX        TEMP.\n",
      "                              (#)     (%)           (%)        (%)         (%)\n",
      "     1     1     1     1     4064  0.0000E+00  0.1000E+03  0.0000E+00  0.0000E+00\n",
      "     1     1     1     2   315918  0.0000E+00  0.6544E+02  0.0000E+00  0.0000E+00\n",
      "     1     1     1     3   223470  0.0000E+00  0.2053E+02  0.0000E+00  0.0000E+00\n",
      "     1     1     1     4   204207  0.0000E+00  0.1227E+02  0.0000E+00  0.0000E+00\n",
      "     1     1     1     5   202276  0.0000E+00  0.4441E+01  0.0000E+00  0.0000E+00\n",
      "     1     1     1     6   202106  0.0000E+00  0.6472E+00  0.0000E+00  0.0000E+00\n",
      "Calculix finished\n",
      "\n",
      "\u001b[32mRunning simulation\u001b[0m\n",
      "\u001b[32m====================================\u001b[0m\n",
      "Running Calculix at:  c:\\Users\\djoroya\\Documents\\GitHub\\YarnBraid-solo\\simulations\\2024-07-05__17-43-20__86197\n",
      "Output file:  c:\\Users\\djoroya\\Documents\\GitHub\\YarnBraid-solo\\simulations\\2024-07-05__17-43-20__86197\\out.txt\n",
      "Command:\n",
      " mpiexec -n 6 c:\\Users\\djoroya\\Documents\\GitHub\\YarnBraid_30_05_2024\\YarnBraid\\src\\dependences\\PrePoMax\\Solver\\ccx_dynamic.exe init_new\n",
      "Error reading cvf file\n",
      "\n",
      "pid:  25424 \n",
      "\n",
      "SUMMARY OF C0NVERGENCE INFORMATION\n",
      "  STEP   INC  ATT   ITER     CONT.   RESID.        CORR.      RESID.      CORR.\n",
      "                              EL.    FORCE         DISP       FLUX        TEMP.\n",
      "                              (#)     (%)           (%)        (%)         (%)\n",
      "     1     1     1     1   230465  0.4873E+06  0.1000E+03  0.0000E+00  0.0000E+00\n",
      "     1     1     1     2   230351  0.0000E+00  0.1000E+03  0.0000E+00  0.0000E+00\n",
      "     1     2     1     1   143391  0.0000E+00  0.1000E+03  0.0000E+00  0.0000E+00\n",
      "     1     2     1     2    90288  0.0000E+00  0.3855E+02  0.0000E+00  0.0000E+00\n",
      "     1     2     1     3    63814  0.0000E+00  0.2434E+02  0.0000E+00  0.0000E+00\n",
      "     1     2     1     4    50053  0.0000E+00  0.2156E+02  0.0000E+00  0.0000E+00\n",
      "     1     2     1     5    43640  0.0000E+00  0.1912E+02  0.0000E+00  0.0000E+00\n",
      "     1     2     1     6    41360  0.0000E+00  0.2175E+02  0.0000E+00  0.0000E+00\n",
      "     1     2     1     7    40244  0.0000E+00  0.6204E+02  0.0000E+00  0.0000E+00\n",
      "     1     2     1     8    40060  0.0000E+00  0.4196E+02  0.0000E+00  0.0000E+00\n",
      "     1     2     1     9    39529  0.0000E+00  0.5285E+01  0.0000E+00  0.0000E+00\n",
      "     1     2     1    10    39227  0.0000E+00  0.6580E+01  0.0000E+00  0.0000E+00\n",
      "     1     2     1    11    39183  0.0000E+00  0.7495E-01  0.0000E+00  0.0000E+00\n",
      "     1     2     1    12    39177  0.0000E+00  0.1166E-02  0.0000E+00  0.0000E+00\n",
      "     2     1     1     1    45210  0.3331E+05  0.1000E+03  0.0000E+00  0.0000E+00\n",
      "     2     1     1     2   195311  0.0000E+00  0.9619E+02  0.0000E+00  0.0000E+00\n",
      "     2     1     1     3   166683  0.0000E+00  0.4477E+02  0.0000E+00  0.0000E+00\n",
      "     2     1     1     4   118420  0.0000E+00  0.2328E+02  0.0000E+00  0.0000E+00\n",
      "     2     1     1     5    89889  0.0000E+00  0.1997E+02  0.0000E+00  0.0000E+00\n",
      "     2     1     1     6    71514  0.0000E+00  0.2110E+02  0.0000E+00  0.0000E+00\n",
      "     2     1     1     7    62986  0.0000E+00  0.2557E+02  0.0000E+00  0.0000E+00\n",
      "     2     1     1     8    62150  0.0000E+00  0.3324E+02  0.0000E+00  0.0000E+00\n",
      "     2     1     1     9    60635  0.0000E+00  0.3914E+02  0.0000E+00  0.0000E+00\n",
      "     2     1     1    10    59709  0.0000E+00  0.2203E+02  0.0000E+00  0.0000E+00\n",
      "     2     1     1    11    55658  0.0000E+00  0.3006E+02  0.0000E+00  0.0000E+00\n",
      "     2     1     1    12    57101  0.0000E+00  0.5400E+01  0.0000E+00  0.0000E+00\n",
      "     2     1     1    13    53951  0.0000E+00  0.4087E+01  0.0000E+00  0.0000E+00\n",
      "     2     1     1    14    52126  0.0000E+00  0.3363E+01  0.0000E+00  0.0000E+00\n",
      "     2     1     1    15    51704  0.0000E+00  0.1284E+01  0.0000E+00  0.0000E+00\n",
      "     2     1     1    16    51247  0.0000E+00  0.1022E+01  0.0000E+00  0.0000E+00\n",
      "     2     1     1    17    51029  0.0000E+00  0.2173E+00  0.0000E+00  0.0000E+00\n",
      "     2     1     1    18    50930  0.0000E+00  0.6480E-01  0.0000E+00  0.0000E+00\n",
      "     2     1     1    19    50924  0.0000E+00  0.5972E-03  0.0000E+00  0.0000E+00\n",
      "Calculix finished\n",
      "\n",
      "\u001b[32mRunning post\u001b[0m\n",
      "\u001b[32m====================================\u001b[0m\n",
      "Read frd\n",
      "--------------------\n",
      "Interp section\n",
      "--------------------\n",
      "Interpolating section\n"
     ]
    },
    {
     "name": "stderr",
     "output_type": "stream",
     "text": [
      "100%|██████████| 64/64 [00:00<00:00, 180.59it/s]\n"
     ]
    },
    {
     "name": "stdout",
     "output_type": "stream",
     "text": [
      "Interpolating section\n"
     ]
    },
    {
     "name": "stderr",
     "output_type": "stream",
     "text": [
      "100%|██████████| 64/64 [00:00<00:00, 178.84it/s]\n"
     ]
    },
    {
     "name": "stdout",
     "output_type": "stream",
     "text": [
      "Interpolating section\n"
     ]
    },
    {
     "name": "stderr",
     "output_type": "stream",
     "text": [
      "100%|██████████| 64/64 [00:00<00:00, 179.84it/s]\n"
     ]
    }
   ],
   "source": [
    "rerun(json_file,overwrite=True)"
   ]
  },
  {
   "cell_type": "code",
   "execution_count": null,
   "metadata": {},
   "outputs": [],
   "source": [
    "from tools.step.deletesim import deletesim"
   ]
  },
  {
   "cell_type": "code",
   "execution_count": null,
   "metadata": {},
   "outputs": [
    {
     "name": "stdout",
     "output_type": "stream",
     "text": [
      "output\\2024-07-05__12-00-54__37420.json\n"
     ]
    }
   ],
   "source": [
    "json_file = r\"output\\2024-07-05__12-00-54__37420.json\"\n",
    "print(json_file)\n"
   ]
  },
  {
   "cell_type": "code",
   "execution_count": null,
   "metadata": {},
   "outputs": [
    {
     "name": "stdout",
     "output_type": "stream",
     "text": [
      "Simulation 2024-07-05__12-00-54__37420 not found\n"
     ]
    }
   ],
   "source": [
    "deletesim(json_file)"
   ]
  }
 ],
 "metadata": {
  "kernelspec": {
   "display_name": "TECNORED",
   "language": "python",
   "name": "python3"
  },
  "language_info": {
   "codemirror_mode": {
    "name": "ipython",
    "version": 3
   },
   "file_extension": ".py",
   "mimetype": "text/x-python",
   "name": "python",
   "nbconvert_exporter": "python",
   "pygments_lexer": "ipython3",
   "version": "3.11.9"
  }
 },
 "nbformat": 4,
 "nbformat_minor": 2
}
