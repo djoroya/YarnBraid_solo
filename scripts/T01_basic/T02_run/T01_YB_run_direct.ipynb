{
 "cells": [
  {
   "cell_type": "code",
   "execution_count": 1,
   "metadata": {},
   "outputs": [],
   "source": [
    "from tools.step.pprint import pprint\n",
    "import os\n",
    "\n",
    "from model.RunYB_direct   import RunYB\n",
    "from model.default import default"
   ]
  },
  {
   "cell_type": "code",
   "execution_count": 2,
   "metadata": {},
   "outputs": [],
   "source": [
    "# Creamos la carpeta de salida\n",
    "main_path = [\"output\"]"
   ]
  },
  {
   "attachments": {},
   "cell_type": "markdown",
   "metadata": {},
   "source": [
    "# Valores Constantes"
   ]
  },
  {
   "cell_type": "code",
   "execution_count": 3,
   "metadata": {},
   "outputs": [],
   "source": [
    "#add ../../T00_params path\n",
    "join = os.path.join\n",
    "from params.PLMP_0001 import PLMP_0001"
   ]
  },
  {
   "cell_type": "code",
   "execution_count": 4,
   "metadata": {},
   "outputs": [],
   "source": [
    "OMP_NUM_THREADS = 4\n",
    "mpi_np = 6\n",
    "\n",
    "r = default() # Valores por defecto\n",
    "# Modificamos los valores que queremos\n",
    "r[\"lammps_sim\"] =PLMP_0001()\n",
    "r[\"lammps_sim\"][\"OMP_NUM_THREADS\"] = OMP_NUM_THREADS\n",
    "r[\"lammps_sim\"][\"mpi\"] = True\n",
    "r[\"lammps_sim\"][\"mpi_np\"] = mpi_np\n",
    "# =================================================\n",
    "r[\"lsdyna_sim\"][\"factor_npoints\"] = 0.35\n",
    "r[\"lsdyna_sim\"][\"factor\"] = 0.8\n",
    "r[\"lsdyna_sim\"][\"hmax\"] = 6.0\n",
    "# =================================================\n",
    "\n",
    "r[\"gmsh\"][\"factor\"] = 0.7 # ====================>> 0.6\n",
    "\n",
    "# =================================================\n",
    "# r[\"inflation\"][\"pressure\"]  = 600\n",
    "r[\"inflation\"][\"auto_pressure\"] = True\n",
    "r[\"inflation\"][\"OMP_NUM_THREADS\"] = OMP_NUM_THREADS\n",
    "r[\"inflation\"][\"mpi\"]    = True\n",
    "r[\"inflation\"][\"mpi_np\"]  = mpi_np\n",
    "\n",
    "# =================================================\n",
    "r[\"simulation\"][\"displacement\"] = 0.05 #  mm\n",
    "r[\"simulation\"][\"type_bc\"] = 1\n",
    "r[\"simulation\"][\"young\"] = 2960 # MPa\n",
    "r[\"simulation\"][\"poisson\"] = 0.37\n",
    "r[\"simulation\"][\"OMP_NUM_THREADS\"] = OMP_NUM_THREADS\n",
    "r[\"simulation\"][\"mpi\"] = True\n",
    "r[\"simulation\"][\"mpi_np\"] = mpi_np"
   ]
  },
  {
   "cell_type": "code",
   "execution_count": 5,
   "metadata": {},
   "outputs": [
    {
     "name": "stdout",
     "output_type": "stream",
     "text": [
      "\u001b[34msettings_step       \u001b[39m: \n",
      "\t- has_children\n",
      "\t-has_parent\n",
      "\t-verbose\n",
      "\t-...\n",
      "\u001b[34mhas_children        \u001b[39m: True\n",
      "\u001b[34mlammps_sim          \u001b[39m: \n",
      "\t- settings_step\n",
      "\t-Npoints\n",
      "\t-hilo_central\n",
      "\t-theta\n",
      "\t-factor\n",
      "\t-Remesh\n",
      "\t-RUN_STEPS_EQ\n",
      "\t-RUN_STEPS_DEFORM\n",
      "\t-errate\n",
      "\t-nhilos\n",
      "\t-...\n",
      "\u001b[34mlsdyna_sim          \u001b[39m: \n",
      "\t- settings_step\n",
      "\t-radius\n",
      "\t-factor_npoints\n",
      "\t-align\n",
      "\t-factor\n",
      "\t-hmax\n",
      "\t-npoints\n",
      "\t-lmp_path\n",
      "\t-...\n",
      "\u001b[34mgmsh                \u001b[39m: \n",
      "\t- settings_step\n",
      "\t-size_element\n",
      "\t-Algorithm\n",
      "\t-factor\n",
      "\t-lsdyna_path\n",
      "\t-...\n",
      "\u001b[34minflation           \u001b[39m: \n",
      "\t- settings_step\n",
      "\t-pressure\n",
      "\t-auto_pressure\n",
      "\t-OMP_NUM_THREADS\n",
      "\t-attemps\n",
      "\t-surface_behavior\n",
      "\t-radius_target\n",
      "\t-rho\n",
      "\t-calculix_dynamic\n",
      "\t-mpi\n",
      "\t-...\n",
      "\u001b[34msimulation          \u001b[39m: \n",
      "\t- settings_step\n",
      "\t-young\n",
      "\t-poisson\n",
      "\t-epsilon\n",
      "\t-OMP_NUM_THREADS\n",
      "\t-type_bc\n",
      "\t-attemps\n",
      "\t-Adjust\n",
      "\t-nfixed\n",
      "\t-nsteps\n",
      "\t-...\n",
      "\u001b[34mpost                \u001b[39m: \n",
      "\t- settings_step\n",
      "\t-tensile_path\n",
      "\t-max_mono\n",
      "\t-...\n",
      "\u001b[34monly_lammps         \u001b[39m: False\n"
     ]
    }
   ],
   "source": [
    "pprint(r)"
   ]
  },
  {
   "cell_type": "code",
   "execution_count": 6,
   "metadata": {},
   "outputs": [
    {
     "data": {
      "text/plain": [
       "0.8"
      ]
     },
     "execution_count": 6,
     "metadata": {},
     "output_type": "execute_result"
    }
   ],
   "source": [
    "r[\"lsdyna_sim\"][\"factor\"]"
   ]
  },
  {
   "cell_type": "code",
   "execution_count": 7,
   "metadata": {},
   "outputs": [
    {
     "data": {
      "text/plain": [
       "['output']"
      ]
     },
     "execution_count": 7,
     "metadata": {},
     "output_type": "execute_result"
    }
   ],
   "source": [
    "main_path"
   ]
  },
  {
   "cell_type": "code",
   "execution_count": 8,
   "metadata": {},
   "outputs": [
    {
     "name": "stdout",
     "output_type": "stream",
     "text": [
      "\u001b[32mRunning lammps\u001b[0m\n",
      "\u001b[32m====================================\u001b[0m\n",
      "mpiexec -n 6 \"C:\\Users\\djoroya\\AppData\\Local\\LAMMPS 64-bit 2Aug2023-MSMPI\\bin\\lmp.exe\" -in in.lammps > out.lammps\n",
      "Output file: c:\\Users\\djoroya\\Documents\\GitHub\\YarnBraid-solo\\simulations\\2024-08-27__11-11-50__93938\\out.lammps\n",
      "\u001b[32mRunning lsdyna\u001b[0m\n",
      "\u001b[32m====================================\u001b[0m\n"
     ]
    },
    {
     "name": "stderr",
     "output_type": "stream",
     "text": [
      "100%|██████████| 64/64 [01:30<00:00,  1.42s/it]\n"
     ]
    },
    {
     "name": "stdout",
     "output_type": "stream",
     "text": [
      "\u001b[32mRunning gmsh\u001b[0m\n",
      "\u001b[32m====================================\u001b[0m\n"
     ]
    },
    {
     "name": "stderr",
     "output_type": "stream",
     "text": [
      "5it [00:08,  1.74s/it]\n",
      "Traceback (most recent call last):\n",
      "  File \"c:\\Users\\djoroya\\Documents\\GitHub\\YarnBraid-solo\\src\\tools\\step\\runstep.py\", line 79, in wa\n",
      "    func(*args, **kwargs)\n",
      "  File \"c:\\Users\\djoroya\\Documents\\GitHub\\YarnBraid-solo\\src\\model\\Gmsh\\RunGmsh.py\", line 57, in RunGmsh\n",
      "    raise e\n",
      "  File \"c:\\Users\\djoroya\\Documents\\GitHub\\YarnBraid-solo\\src\\model\\Gmsh\\RunGmsh.py\", line 45, in RunGmsh\n",
      "    gmsh.model.mesh.generate(3)\n",
      "  File \"c:\\Users\\djoroya\\Documents\\GitHub\\YarnBraid-solo\\.conda\\Lib\\site-packages\\gmsh.py\", line 2006, in generate\n",
      "    raise Exception(logger.getLastError())\n",
      "Exception: Invalid boundary mesh (overlapping facets) on surface 6 surface 9\n",
      "Traceback (most recent call last):\n",
      "  File \"c:\\Users\\djoroya\\Documents\\GitHub\\YarnBraid-solo\\src\\tools\\step\\runstep.py\", line 79, in wa\n",
      "    func(*args, **kwargs)\n",
      "  File \"c:\\Users\\djoroya\\Documents\\GitHub\\YarnBraid-solo\\src\\model\\Gmsh\\RunGmsh.py\", line 57, in RunGmsh\n",
      "    raise e\n",
      "  File \"c:\\Users\\djoroya\\Documents\\GitHub\\YarnBraid-solo\\src\\model\\Gmsh\\RunGmsh.py\", line 45, in RunGmsh\n",
      "    gmsh.model.mesh.generate(3)\n",
      "  File \"c:\\Users\\djoroya\\Documents\\GitHub\\YarnBraid-solo\\.conda\\Lib\\site-packages\\gmsh.py\", line 2006, in generate\n",
      "    raise Exception(logger.getLastError())\n",
      "Exception: Invalid boundary mesh (overlapping facets) on surface 6 surface 9\n",
      "\n",
      "During handling of the above exception, another exception occurred:\n",
      "\n",
      "Traceback (most recent call last):\n",
      "  File \"c:\\Users\\djoroya\\Documents\\GitHub\\YarnBraid-solo\\src\\tools\\step\\runstep.py\", line 79, in wa\n",
      "    func(*args, **kwargs)\n",
      "  File \"c:\\Users\\djoroya\\Documents\\GitHub\\YarnBraid-solo\\src\\model\\RunYB.py\", line 66, in RunYB\n",
      "    RunGmsh(params_gmsh,out_gmsh)\n",
      "  File \"c:\\Users\\djoroya\\Documents\\GitHub\\YarnBraid-solo\\src\\tools\\step\\runstep.py\", line 90, in wa\n",
      "    raise Exception(e)\n",
      "Exception: Invalid boundary mesh (overlapping facets) on surface 6 surface 9\n"
     ]
    },
    {
     "name": "stdout",
     "output_type": "stream",
     "text": [
      "Invalid boundary mesh (overlapping facets) on surface 6 surface 9\n",
      "\u001b[31mError in step: RunGmsh\n",
      "\u001b[39m\n",
      "\u001b[31mError in step: RunYB\n",
      "\u001b[39m\n"
     ]
    },
    {
     "ename": "Exception",
     "evalue": "Invalid boundary mesh (overlapping facets) on surface 6 surface 9",
     "output_type": "error",
     "traceback": [
      "\u001b[1;31m---------------------------------------------------------------------------\u001b[0m",
      "\u001b[1;31mException\u001b[0m                                 Traceback (most recent call last)",
      "\u001b[1;32mc:\\Users\\djoroya\\Documents\\GitHub\\YarnBraid-solo\\src\\tools\\step\\runstep.py\u001b[0m in \u001b[0;36m?\u001b[1;34m(*args, **kwargs)\u001b[0m\n\u001b[0;32m     88\u001b[0m                 \u001b[1;32mwith\u001b[0m \u001b[0mopen\u001b[0m\u001b[1;33m(\u001b[0m\u001b[0merror_log\u001b[0m\u001b[1;33m,\u001b[0m\u001b[1;34m\"w\"\u001b[0m\u001b[1;33m)\u001b[0m \u001b[1;32mas\u001b[0m \u001b[0mf\u001b[0m\u001b[1;33m:\u001b[0m\u001b[1;33m\u001b[0m\u001b[1;33m\u001b[0m\u001b[0m\n\u001b[0;32m     89\u001b[0m                     \u001b[0mf\u001b[0m\u001b[1;33m.\u001b[0m\u001b[0mwrite\u001b[0m\u001b[1;33m(\u001b[0m\u001b[0mtraceback\u001b[0m\u001b[1;33m.\u001b[0m\u001b[0mformat_exc\u001b[0m\u001b[1;33m(\u001b[0m\u001b[1;33m)\u001b[0m\u001b[1;33m)\u001b[0m\u001b[1;33m\u001b[0m\u001b[1;33m\u001b[0m\u001b[0m\n\u001b[1;32m---> 90\u001b[1;33m                 \u001b[1;32mraise\u001b[0m \u001b[0mException\u001b[0m\u001b[1;33m(\u001b[0m\u001b[0me\u001b[0m\u001b[1;33m)\u001b[0m\u001b[1;33m\u001b[0m\u001b[1;33m\u001b[0m\u001b[0m\n\u001b[0m\u001b[0;32m     91\u001b[0m                 \u001b[0merr\u001b[0m \u001b[1;33m=\u001b[0m \u001b[1;36m1\u001b[0m\u001b[1;33m\u001b[0m\u001b[1;33m\u001b[0m\u001b[0m\n",
      "\u001b[1;32mc:\\Users\\djoroya\\Documents\\GitHub\\YarnBraid-solo\\src\\model\\Gmsh\\RunGmsh.py\u001b[0m in \u001b[0;36m?\u001b[1;34m(params, output_folder)\u001b[0m\n\u001b[0;32m     55\u001b[0m         \u001b[0mprint\u001b[0m\u001b[1;33m(\u001b[0m\u001b[0me\u001b[0m\u001b[1;33m)\u001b[0m\u001b[1;33m\u001b[0m\u001b[1;33m\u001b[0m\u001b[0m\n\u001b[0;32m     56\u001b[0m         \u001b[0mgmsh\u001b[0m\u001b[1;33m.\u001b[0m\u001b[0mfinalize\u001b[0m\u001b[1;33m(\u001b[0m\u001b[1;33m)\u001b[0m\u001b[1;33m\u001b[0m\u001b[1;33m\u001b[0m\u001b[0m\n\u001b[1;32m---> 57\u001b[1;33m         \u001b[1;32mraise\u001b[0m \u001b[0me\u001b[0m\u001b[1;33m\u001b[0m\u001b[1;33m\u001b[0m\u001b[0m\n\u001b[0m\u001b[0;32m     58\u001b[0m \u001b[1;33m\u001b[0m\u001b[0m\n",
      "\u001b[1;32mc:\\Users\\djoroya\\Documents\\GitHub\\YarnBraid-solo\\src\\model\\Gmsh\\RunGmsh.py\u001b[0m in \u001b[0;36m?\u001b[1;34m(params, output_folder)\u001b[0m\n\u001b[0;32m     55\u001b[0m         \u001b[0mprint\u001b[0m\u001b[1;33m(\u001b[0m\u001b[0me\u001b[0m\u001b[1;33m)\u001b[0m\u001b[1;33m\u001b[0m\u001b[1;33m\u001b[0m\u001b[0m\n\u001b[0;32m     56\u001b[0m         \u001b[0mgmsh\u001b[0m\u001b[1;33m.\u001b[0m\u001b[0mfinalize\u001b[0m\u001b[1;33m(\u001b[0m\u001b[1;33m)\u001b[0m\u001b[1;33m\u001b[0m\u001b[1;33m\u001b[0m\u001b[0m\n\u001b[1;32m---> 57\u001b[1;33m         \u001b[1;32mraise\u001b[0m \u001b[0me\u001b[0m\u001b[1;33m\u001b[0m\u001b[1;33m\u001b[0m\u001b[0m\n\u001b[0m\u001b[0;32m     58\u001b[0m \u001b[1;33m\u001b[0m\u001b[0m\n",
      "\u001b[1;32mc:\\Users\\djoroya\\Documents\\GitHub\\YarnBraid-solo\\.conda\\Lib\\site-packages\\gmsh.py\u001b[0m in \u001b[0;36m?\u001b[1;34m(dim)\u001b[0m\n\u001b[0;32m   2004\u001b[0m                 byref(ierr))\n\u001b[0;32m   2005\u001b[0m             \u001b[1;32mif\u001b[0m \u001b[0mierr\u001b[0m\u001b[1;33m.\u001b[0m\u001b[0mvalue\u001b[0m \u001b[1;33m!=\u001b[0m \u001b[1;36m0\u001b[0m\u001b[1;33m:\u001b[0m\u001b[1;33m\u001b[0m\u001b[1;33m\u001b[0m\u001b[0m\n\u001b[1;32m-> 2006\u001b[1;33m                 \u001b[1;32mraise\u001b[0m \u001b[0mException\u001b[0m\u001b[1;33m(\u001b[0m\u001b[0mlogger\u001b[0m\u001b[1;33m.\u001b[0m\u001b[0mgetLastError\u001b[0m\u001b[1;33m(\u001b[0m\u001b[1;33m)\u001b[0m\u001b[1;33m)\u001b[0m\u001b[1;33m\u001b[0m\u001b[1;33m\u001b[0m\u001b[0m\n\u001b[0m",
      "\u001b[1;31mException\u001b[0m: Invalid boundary mesh (overlapping facets) on surface 6 surface 9",
      "\nDuring handling of the above exception, another exception occurred:\n",
      "\u001b[1;31mException\u001b[0m                                 Traceback (most recent call last)",
      "File \u001b[1;32mc:\\Users\\djoroya\\Documents\\GitHub\\YarnBraid-solo\\src\\tools\\step\\runstep.py:79\u001b[0m, in \u001b[0;36mrunstep.<locals>.decorator.<locals>.wa\u001b[1;34m(*args, **kwargs)\u001b[0m\n\u001b[0;32m     78\u001b[0m \u001b[38;5;28;01mtry\u001b[39;00m:\n\u001b[1;32m---> 79\u001b[0m     \u001b[43mfunc\u001b[49m\u001b[43m(\u001b[49m\u001b[38;5;241;43m*\u001b[39;49m\u001b[43margs\u001b[49m\u001b[43m,\u001b[49m\u001b[43m \u001b[49m\u001b[38;5;241;43m*\u001b[39;49m\u001b[38;5;241;43m*\u001b[39;49m\u001b[43mkwargs\u001b[49m\u001b[43m)\u001b[49m\n\u001b[0;32m     80\u001b[0m     err \u001b[38;5;241m=\u001b[39m \u001b[38;5;241m0\u001b[39m\n",
      "File \u001b[1;32mc:\\Users\\djoroya\\Documents\\GitHub\\YarnBraid-solo\\src\\model\\RunYB.py:66\u001b[0m, in \u001b[0;36mRunYB\u001b[1;34m(params, main_path, callback)\u001b[0m\n\u001b[0;32m     65\u001b[0m params_gmsh[\u001b[38;5;124m\"\u001b[39m\u001b[38;5;124msettings_step\u001b[39m\u001b[38;5;124m\"\u001b[39m][\u001b[38;5;124m\"\u001b[39m\u001b[38;5;124mhas_parent\u001b[39m\u001b[38;5;124m\"\u001b[39m] \u001b[38;5;241m=\u001b[39m \u001b[38;5;28;01mTrue\u001b[39;00m\n\u001b[1;32m---> 66\u001b[0m \u001b[43mRunGmsh\u001b[49m\u001b[43m(\u001b[49m\u001b[43mparams_gmsh\u001b[49m\u001b[43m,\u001b[49m\u001b[43mout_gmsh\u001b[49m\u001b[43m)\u001b[49m\n\u001b[0;32m     67\u001b[0m callback() \u001b[38;5;28;01mif\u001b[39;00m callback \u001b[38;5;28;01melse\u001b[39;00m \u001b[38;5;28;01mNone\u001b[39;00m\n",
      "File \u001b[1;32mc:\\Users\\djoroya\\Documents\\GitHub\\YarnBraid-solo\\src\\tools\\step\\runstep.py:90\u001b[0m, in \u001b[0;36mrunstep.<locals>.decorator.<locals>.wa\u001b[1;34m(*args, **kwargs)\u001b[0m\n\u001b[0;32m     89\u001b[0m     f\u001b[38;5;241m.\u001b[39mwrite(traceback\u001b[38;5;241m.\u001b[39mformat_exc())\n\u001b[1;32m---> 90\u001b[0m \u001b[38;5;28;01mraise\u001b[39;00m \u001b[38;5;167;01mException\u001b[39;00m(e)\n\u001b[0;32m     91\u001b[0m err \u001b[38;5;241m=\u001b[39m \u001b[38;5;241m1\u001b[39m\n",
      "\u001b[1;31mException\u001b[0m: Invalid boundary mesh (overlapping facets) on surface 6 surface 9",
      "\nDuring handling of the above exception, another exception occurred:\n",
      "\u001b[1;31mException\u001b[0m                                 Traceback (most recent call last)",
      "Cell \u001b[1;32mIn[8], line 1\u001b[0m\n\u001b[1;32m----> 1\u001b[0m \u001b[43mRunYB\u001b[49m\u001b[43m(\u001b[49m\u001b[43mr\u001b[49m\u001b[43m,\u001b[49m\u001b[43mmain_path\u001b[49m\u001b[43m)\u001b[49m\n",
      "File \u001b[1;32mc:\\Users\\djoroya\\Documents\\GitHub\\YarnBraid-solo\\src\\tools\\step\\runstep.py:90\u001b[0m, in \u001b[0;36mrunstep.<locals>.decorator.<locals>.wa\u001b[1;34m(*args, **kwargs)\u001b[0m\n\u001b[0;32m     88\u001b[0m     \u001b[38;5;28;01mwith\u001b[39;00m \u001b[38;5;28mopen\u001b[39m(error_log,\u001b[38;5;124m\"\u001b[39m\u001b[38;5;124mw\u001b[39m\u001b[38;5;124m\"\u001b[39m) \u001b[38;5;28;01mas\u001b[39;00m f:\n\u001b[0;32m     89\u001b[0m         f\u001b[38;5;241m.\u001b[39mwrite(traceback\u001b[38;5;241m.\u001b[39mformat_exc())\n\u001b[1;32m---> 90\u001b[0m     \u001b[38;5;28;01mraise\u001b[39;00m \u001b[38;5;167;01mException\u001b[39;00m(e)\n\u001b[0;32m     91\u001b[0m     err \u001b[38;5;241m=\u001b[39m \u001b[38;5;241m1\u001b[39m\n\u001b[0;32m     92\u001b[0m os\u001b[38;5;241m.\u001b[39mchdir(current_folder)\n",
      "\u001b[1;31mException\u001b[0m: Invalid boundary mesh (overlapping facets) on surface 6 surface 9"
     ]
    }
   ],
   "source": [
    "RunYB(r,main_path)"
   ]
  },
  {
   "cell_type": "code",
   "execution_count": null,
   "metadata": {},
   "outputs": [],
   "source": [
    "import os\n",
    "from tools.step.rerun import rerun\n",
    "json_file = os.path.join(*(main_path + \\\n",
    "                           [r[\"simulation_path\"]])) + \".json\""
   ]
  },
  {
   "cell_type": "code",
   "execution_count": null,
   "metadata": {},
   "outputs": [],
   "source": [
    "rerun(json_file,overwrite=True)"
   ]
  },
  {
   "cell_type": "code",
   "execution_count": null,
   "metadata": {},
   "outputs": [],
   "source": [
    "from tools.step.deletesim import deletesim"
   ]
  },
  {
   "cell_type": "code",
   "execution_count": null,
   "metadata": {},
   "outputs": [],
   "source": [
    "json_file = r\"output\\2024-07-05__12-00-54__37420.json\"\n",
    "print(json_file)\n"
   ]
  },
  {
   "cell_type": "code",
   "execution_count": null,
   "metadata": {},
   "outputs": [],
   "source": [
    "deletesim(json_file)"
   ]
  },
  {
   "cell_type": "code",
   "execution_count": null,
   "metadata": {},
   "outputs": [],
   "source": [
    "csv = r\"C:\\Users\\djoroya\\Documents\\GitHub\\YarnBraid-solo\\simulations\\2024-08-26__15-16-59__98605\\data.csv\"\n",
    "\n",
    "import pandas as pd\n",
    "import numpy as np\n",
    "import matplotlib.pyplot as plt\n",
    "df = pd.read_csv(csv)"
   ]
  },
  {
   "cell_type": "code",
   "execution_count": null,
   "metadata": {},
   "outputs": [],
   "source": [
    "# 3d \n",
    "fig = plt.figure()\n",
    "\n",
    "fig = plt.figure()\n",
    "df = [ df[df[\"type\"] == i ] for i in range(1,64) ]"
   ]
  },
  {
   "cell_type": "code",
   "execution_count": null,
   "metadata": {},
   "outputs": [],
   "source": [
    "for i in range(1,64):\n",
    "    plt.plot(df[i][\"xu\"],df[i][\"yu\"])"
   ]
  },
  {
   "cell_type": "code",
   "execution_count": null,
   "metadata": {},
   "outputs": [],
   "source": []
  }
 ],
 "metadata": {
  "kernelspec": {
   "display_name": "TECNORED",
   "language": "python",
   "name": "python3"
  },
  "language_info": {
   "codemirror_mode": {
    "name": "ipython",
    "version": 3
   },
   "file_extension": ".py",
   "mimetype": "text/x-python",
   "name": "python",
   "nbconvert_exporter": "python",
   "pygments_lexer": "ipython3",
   "version": "3.11.9"
  }
 },
 "nbformat": 4,
 "nbformat_minor": 2
}
