{
 "cells": [
  {
   "cell_type": "code",
   "execution_count": 1,
   "metadata": {},
   "outputs": [],
   "source": [
    "import numpy as np\n",
    "from matplotlib import pyplot as plt\n",
    "import glob,os\n",
    "from tools.basic.loadsavejson import loadjson\n",
    "from tools.step.runstep import lj\n",
    "from scipy.interpolate import griddata\n",
    "\n",
    "join = os.path.join"
   ]
  },
  {
   "cell_type": "code",
   "execution_count": 2,
   "metadata": {},
   "outputs": [],
   "source": [
    "parametrize_files = glob.glob(join('output','*.json'))"
   ]
  },
  {
   "cell_type": "code",
   "execution_count": 3,
   "metadata": {},
   "outputs": [
    {
     "data": {
      "text/plain": [
       "['output\\\\2024-07-05__18-11-51__11043.json',\n",
       " 'output\\\\2024-07-06__05-09-56__20206.json',\n",
       " 'output\\\\2024-07-06__05-45-18__54415.json',\n",
       " 'output\\\\2024-07-06__22-43-34__28982.json',\n",
       " 'output\\\\2024-07-06__22-45-31__24393.json']"
      ]
     },
     "execution_count": 3,
     "metadata": {},
     "output_type": "execute_result"
    }
   ],
   "source": [
    "parametrize_files"
   ]
  },
  {
   "cell_type": "code",
   "execution_count": 4,
   "metadata": {},
   "outputs": [],
   "source": [
    "pt_json = [ loadjson(ipf) for ipf in parametrize_files ]\n",
    "sim_key = pt_json[-1][\"simulation_path\"]"
   ]
  },
  {
   "cell_type": "code",
   "execution_count": 5,
   "metadata": {},
   "outputs": [],
   "source": [
    "params = lj(sim_key)\n",
    "df = params[\"results\"][\"df\"].copy()\n",
    "# add column  \n",
    "# params[\"results\"][\"simulations\"]\n",
    "df[\"simulations\"] = params[\"results\"][\"paths\"]\n",
    "\n",
    "post_params = [ lj(lj(sim_key)[\"dependencies\"][\"post_path\"])\n",
    "               for sim_key in df[\"simulations\"] ]\n",
    "sigma_max = [ p[\"results\"][\"sigma_max\"] for p in post_params ]\n",
    "ratio     = [ p[\"results\"][\"ratio\"] for p in post_params ]\n",
    "sigma    = [ p[\"results\"][\"sigma\"] for p in post_params ]\n",
    "df[\"sigma_max\"] = sigma_max\n",
    "df[\"ratio\"] = ratio\n",
    "df[\"sigma\"] = sigma\n",
    "df[\"denier\"] =  [ p[\"results\"][\"infl_params\"][\"denier_per_filament\"] \n",
    "              for p in post_params ]\n"
   ]
  },
  {
   "cell_type": "code",
   "execution_count": 6,
   "metadata": {},
   "outputs": [
    {
     "data": {
      "text/plain": [
       "dict_keys(['measurements', 'frd', 'infl_params', 'simu_params', 'ratio', 'sigma', 'ind_ms', 'sigma_max'])"
      ]
     },
     "execution_count": 6,
     "metadata": {},
     "output_type": "execute_result"
    }
   ],
   "source": [
    "post_params[0][\"results\"].keys()"
   ]
  },
  {
   "cell_type": "code",
   "execution_count": 7,
   "metadata": {},
   "outputs": [
    {
     "data": {
      "text/html": [
       "<div>\n",
       "<style scoped>\n",
       "    .dataframe tbody tr th:only-of-type {\n",
       "        vertical-align: middle;\n",
       "    }\n",
       "\n",
       "    .dataframe tbody tr th {\n",
       "        vertical-align: top;\n",
       "    }\n",
       "\n",
       "    .dataframe thead th {\n",
       "        text-align: right;\n",
       "    }\n",
       "</style>\n",
       "<table border=\"1\" class=\"dataframe\">\n",
       "  <thead>\n",
       "    <tr style=\"text-align: right;\">\n",
       "      <th></th>\n",
       "      <th>h</th>\n",
       "      <th>r</th>\n",
       "      <th>simulations</th>\n",
       "      <th>sigma_max</th>\n",
       "      <th>ratio</th>\n",
       "      <th>sigma</th>\n",
       "      <th>denier</th>\n",
       "    </tr>\n",
       "  </thead>\n",
       "  <tbody>\n",
       "    <tr>\n",
       "      <th>0</th>\n",
       "      <td>80.0</td>\n",
       "      <td>3.0</td>\n",
       "      <td>2024-07-06__22-45-32__89058</td>\n",
       "      <td>215.347156</td>\n",
       "      <td>0.485402</td>\n",
       "      <td>159.646549</td>\n",
       "      <td>1037.310011</td>\n",
       "    </tr>\n",
       "    <tr>\n",
       "      <th>1</th>\n",
       "      <td>100.0</td>\n",
       "      <td>3.0</td>\n",
       "      <td>2024-07-06__22-48-49__37304</td>\n",
       "      <td>215.425564</td>\n",
       "      <td>0.484850</td>\n",
       "      <td>159.522985</td>\n",
       "      <td>1037.309463</td>\n",
       "    </tr>\n",
       "    <tr>\n",
       "      <th>2</th>\n",
       "      <td>80.0</td>\n",
       "      <td>5.0</td>\n",
       "      <td>2024-07-06__22-52-06__98054</td>\n",
       "      <td>215.291577</td>\n",
       "      <td>0.485476</td>\n",
       "      <td>159.629652</td>\n",
       "      <td>1037.326699</td>\n",
       "    </tr>\n",
       "    <tr>\n",
       "      <th>3</th>\n",
       "      <td>100.0</td>\n",
       "      <td>5.0</td>\n",
       "      <td>2024-07-06__22-55-23__96493</td>\n",
       "      <td>215.278888</td>\n",
       "      <td>0.485157</td>\n",
       "      <td>159.515435</td>\n",
       "      <td>1037.323291</td>\n",
       "    </tr>\n",
       "  </tbody>\n",
       "</table>\n",
       "</div>"
      ],
      "text/plain": [
       "       h    r                  simulations   sigma_max     ratio       sigma  \\\n",
       "0   80.0  3.0  2024-07-06__22-45-32__89058  215.347156  0.485402  159.646549   \n",
       "1  100.0  3.0  2024-07-06__22-48-49__37304  215.425564  0.484850  159.522985   \n",
       "2   80.0  5.0  2024-07-06__22-52-06__98054  215.291577  0.485476  159.629652   \n",
       "3  100.0  5.0  2024-07-06__22-55-23__96493  215.278888  0.485157  159.515435   \n",
       "\n",
       "        denier  \n",
       "0  1037.310011  \n",
       "1  1037.309463  \n",
       "2  1037.326699  \n",
       "3  1037.323291  "
      ]
     },
     "execution_count": 7,
     "metadata": {},
     "output_type": "execute_result"
    }
   ],
   "source": [
    "df"
   ]
  },
  {
   "cell_type": "code",
   "execution_count": 8,
   "metadata": {},
   "outputs": [
    {
     "data": {
      "text/plain": [
       "<matplotlib.colorbar.Colorbar at 0x21331046d10>"
      ]
     },
     "execution_count": 8,
     "metadata": {},
     "output_type": "execute_result"
    },
    {
     "data": {
      "image/png": "[encoded data removed]",
      "text/plain": [
       "<Figure size 640x480 with 2 Axes>"
      ]
     },
     "metadata": {},
     "output_type": "display_data"
    }
   ],
   "source": [
    "fig = plt.figure()\n",
    "\n",
    "hspan = np.linspace(df[\"h\"].min(),df[\"h\"].max(),100)\n",
    "rspan = np.linspace(df[\"r\"].min(),df[\"r\"].max(),100)\n",
    "\n",
    "h_ms,r_ms = np.meshgrid(hspan,rspan)\n",
    "# interpolate\n",
    "\n",
    "ratio_ms = griddata((df[\"h\"],\n",
    "                     df[\"r\"]),\n",
    "                     df[\"ratio\"],(h_ms,r_ms),method=\"linear\")\n",
    "\n",
    "plt.contourf(h_ms,r_ms,ratio_ms,levels=10)\n",
    "plt.scatter(df[\"h\"],df[\"r\"],c=df[\"ratio\"])\n",
    "plt.colorbar()\n"
   ]
  },
  {
   "cell_type": "code",
   "execution_count": null,
   "metadata": {},
   "outputs": [],
   "source": []
  }
 ],
 "metadata": {
  "kernelspec": {
   "display_name": "TECNORED",
   "language": "python",
   "name": "python3"
  },
  "language_info": {
   "codemirror_mode": {
    "name": "ipython",
    "version": 3
   },
   "file_extension": ".py",
   "mimetype": "text/x-python",
   "name": "python",
   "nbconvert_exporter": "python",
   "pygments_lexer": "ipython3",
   "version": "3.11.9"
  }
 },
 "nbformat": 4,
 "nbformat_minor": 2
}
