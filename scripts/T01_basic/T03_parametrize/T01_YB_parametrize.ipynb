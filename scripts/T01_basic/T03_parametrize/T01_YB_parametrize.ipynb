{
 "cells": [
  {
   "cell_type": "code",
   "execution_count": 1,
   "metadata": {},
   "outputs": [],
   "source": [
    "\n",
    "from tools.parametrize.parametrize import parametrize\n",
    "import os\n",
    "import numpy as np\n",
    "from model.default import default\n",
    "join = os.path.join\n",
    "from params.PLMP_0001 import PLMP_0001"
   ]
  },
  {
   "cell_type": "code",
   "execution_count": 2,
   "metadata": {},
   "outputs": [],
   "source": [
    "OMP_NUM_THREADS = 4\n",
    "mpi_np = 6\n",
    "def default_values():\n",
    "    r = default() # Valores por defecto\n",
    "    # Modificamos los valores que queremos\n",
    "    r[\"lammps_sim\"] = PLMP_0001()\n",
    "    r[\"lammps_sim\"][\"OMP_NUM_THREADS\"] = OMP_NUM_THREADS\n",
    "    r[\"lammps_sim\"][\"mpi\"] = True\n",
    "    r[\"lammps_sim\"][\"mpi_np\"] = mpi_np\n",
    "    # =================================================\n",
    "    r[\"lsdyna_sim\"][\"factor_npoints\"] = 0.35\n",
    "    r[\"lsdyna_sim\"][\"factor\"] = 0.8\n",
    "    r[\"lsdyna_sim\"][\"hmax\"] = 1.8\n",
    "    # =================================================\n",
    "\n",
    "    r[\"gmsh\"][\"Algorithm\"] = 2\n",
    "    r[\"gmsh\"][\"factor\"] = 1.2 # ====================>> 0.6\n",
    "\n",
    "    # =================================================\n",
    "    r[\"inflation\"][\"pressure\"]  = 600\n",
    "    r[\"inflation\"][\"OMP_NUM_THREADS\"] = OMP_NUM_THREADS\n",
    "    r[\"inflation\"][\"mpi\"]    = True\n",
    "    r[\"inflation\"][\"mpi_np\"]  = mpi_np\n",
    "\n",
    "    # =================================================\n",
    "    r[\"simulation\"][\"displacement\"] = 0.05 #  mm\n",
    "    r[\"simulation\"][\"type_bc\"] = 1\n",
    "    r[\"simulation\"][\"young\"] = 2960 # MPa\n",
    "    r[\"simulation\"][\"poisson\"] = 0.37\n",
    "    r[\"simulation\"][\"OMP_NUM_THREADS\"] = OMP_NUM_THREADS\n",
    "    r[\"simulation\"][\"mpi\"] = True\n",
    "    r[\"simulation\"][\"mpi_np\"] = mpi_np\n",
    "\n",
    "    r[\"post\"][\"max_mono\"] = 142 # MPa\n",
    "    return r"
   ]
  },
  {
   "cell_type": "code",
   "execution_count": 3,
   "metadata": {},
   "outputs": [],
   "source": [
    "r = default_values()"
   ]
  },
  {
   "attachments": {},
   "cell_type": "markdown",
   "metadata": {},
   "source": [
    "# Variables"
   ]
  },
  {
   "cell_type": "code",
   "execution_count": 4,
   "metadata": {},
   "outputs": [],
   "source": [
    "vars = dict()\n",
    "\n",
    "vars[\"h\"] =  {\"span\"  :   np.linspace(80, 100, 2),\n",
    "              \"path\"  :  [\"lammps_sim\", \"h\"]}\n",
    "\n",
    "vars[\"r\"] =  {\"span\"    :   np.linspace(3 , 5 ,2 ),\n",
    "              \"path\"  :  [\"simulation\",\"radius\"]  }\n"
   ]
  },
  {
   "attachments": {},
   "cell_type": "markdown",
   "metadata": {},
   "source": [
    "# Loop over all the variables"
   ]
  },
  {
   "cell_type": "code",
   "execution_count": 5,
   "metadata": {},
   "outputs": [],
   "source": [
    "main_path = [\"output\"]"
   ]
  },
  {
   "cell_type": "code",
   "execution_count": 10,
   "metadata": {},
   "outputs": [],
   "source": [
    "from tools.parametrize import default as df_parametrize"
   ]
  },
  {
   "cell_type": "code",
   "execution_count": 8,
   "metadata": {},
   "outputs": [
    {
     "data": {
      "text/html": [
       "<h3>Parametrization (3/4)    [<span style='color: green'>2024-Jul-06   |  22:45</span>] - [<span style='color:green'>2024-Jul-06   |  22:58</span>]  </h3><h4>Elapsed time: 591.1 s</h4><h4>Estimated end: 2024-Jul-06   |  23:08</h4><table border=\"1\" class=\"dataframe\">\n",
       "  <thead>\n",
       "    <tr style=\"text-align: right;\">\n",
       "      <th style=\"border: 1px solid black;\">ID</th>\n",
       "      <th style=\"border: 1px solid black;\">name</th>\n",
       "      <th style=\"border: 1px solid black;\">Status</th>\n",
       "      <th style=\"border: 1px solid black;\">h</th>\n",
       "      <th style=\"border: 1px solid black;\">r</th>\n",
       "      <th style=\"border: 1px solid black;\">Loading</th>\n",
       "      <th style=\"border: 1px solid black;\">Date</th>\n",
       "      <th style=\"border: 1px solid black;\">time</th>\n",
       "    </tr>\n",
       "  </thead>\n",
       "  <tbody>\n",
       "    <tr>\n",
       "      <td style=\"border: 1px solid black;\">1</td>\n",
       "      <td style=\"border: 1px solid black;\">Exp-1</td>\n",
       "      <td style=\"border: 1px solid black;\">✅</td>\n",
       "      <td style=\"border: 1px solid black;\">8.00e+01</td>\n",
       "      <td style=\"border: 1px solid black;\">3.00e+00</td>\n",
       "      <td style=\"border: 1px solid black;\"><div style='text-align: left;'><font color=\"green\">(6/6) </font>▉▉▉▉▉▉▉▉</div></td>\n",
       "      <td style=\"border: 1px solid black;\">2024-Jul-06   |  22:48</td>\n",
       "      <td style=\"border: 1px solid black;\">197.65</td>\n",
       "    </tr>\n",
       "    <tr>\n",
       "      <td style=\"border: 1px solid black;\">2</td>\n",
       "      <td style=\"border: 1px solid black;\">Exp-2</td>\n",
       "      <td style=\"border: 1px solid black;\">✅</td>\n",
       "      <td style=\"border: 1px solid black;\">1.00e+02</td>\n",
       "      <td style=\"border: 1px solid black;\">3.00e+00</td>\n",
       "      <td style=\"border: 1px solid black;\"><div style='text-align: left;'><font color=\"green\">(6/6) </font>▉▉▉▉▉▉▉▉</div></td>\n",
       "      <td style=\"border: 1px solid black;\">2024-Jul-06   |  22:52</td>\n",
       "      <td style=\"border: 1px solid black;\">196.60</td>\n",
       "    </tr>\n",
       "    <tr>\n",
       "      <td style=\"border: 1px solid black;\">3</td>\n",
       "      <td style=\"border: 1px solid black;\">Exp-3</td>\n",
       "      <td style=\"border: 1px solid black;\">✅</td>\n",
       "      <td style=\"border: 1px solid black;\">8.00e+01</td>\n",
       "      <td style=\"border: 1px solid black;\">5.00e+00</td>\n",
       "      <td style=\"border: 1px solid black;\"><div style='text-align: left;'><font color=\"green\">(6/6) </font>▉▉▉▉▉▉▉▉</div></td>\n",
       "      <td style=\"border: 1px solid black;\">2024-Jul-06   |  22:55</td>\n",
       "      <td style=\"border: 1px solid black;\">196.86</td>\n",
       "    </tr>\n",
       "    <tr>\n",
       "      <td style=\"border: 1px solid black;\">4</td>\n",
       "      <td style=\"border: 1px solid black;\">Exp-4</td>\n",
       "      <td style=\"border: 1px solid black;\">✅</td>\n",
       "      <td style=\"border: 1px solid black;\">1.00e+02</td>\n",
       "      <td style=\"border: 1px solid black;\">5.00e+00</td>\n",
       "      <td style=\"border: 1px solid black;\"><div style='text-align: left;'><font color=\"green\">(6/6) </font>▉▉▉▉▉▉▉▉</div></td>\n",
       "      <td style=\"border: 1px solid black;\">2024-Jul-06   |  22:58</td>\n",
       "      <td style=\"border: 1px solid black;\">197.36</td>\n",
       "    </tr>\n",
       "  </tbody>\n",
       "</table>"
      ],
      "text/plain": [
       "<IPython.core.display.HTML object>"
      ]
     },
     "metadata": {},
     "output_type": "display_data"
    }
   ],
   "source": [
    "params = df_parametrize()\n",
    "params[\"vars\"]    = vars\n",
    "params[\"module\"]  = \"model.RunYB\"\n",
    "params[\"function_module\"] = \"RunYB\"\n",
    "params[\"default\"] = r\n",
    "\n",
    "parametrize(params, main_path)"
   ]
  },
  {
   "cell_type": "markdown",
   "metadata": {},
   "source": []
  }
 ],
 "metadata": {
  "kernelspec": {
   "display_name": "TECNORED",
   "language": "python",
   "name": "python3"
  },
  "language_info": {
   "codemirror_mode": {
    "name": "ipython",
    "version": 3
   },
   "file_extension": ".py",
   "mimetype": "text/x-python",
   "name": "python",
   "nbconvert_exporter": "python",
   "pygments_lexer": "ipython3",
   "version": "3.11.9"
  }
 },
 "nbformat": 4,
 "nbformat_minor": 2
}
