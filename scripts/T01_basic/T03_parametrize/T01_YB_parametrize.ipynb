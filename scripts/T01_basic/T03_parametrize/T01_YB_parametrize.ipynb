{
 "cells": [
  {
   "cell_type": "code",
   "execution_count": 1,
   "metadata": {},
   "outputs": [],
   "source": [
    "from tools.step.pprint import pprint\n",
    "from tools.basic.path_gen import path_gen\n",
    "from tools.parametrize.parametrize import parametrize\n",
    "\n",
    "import os\n",
    "import numpy as np\n",
    "\n",
    "from model.RunYB   import RunYB\n",
    "from model.default import default"
   ]
  },
  {
   "cell_type": "code",
   "execution_count": 2,
   "metadata": {},
   "outputs": [],
   "source": [
    "# Creamos la carpeta de salida\n",
    "main_path = os.path.join(\"output\",path_gen())\n",
    "if not os.path.exists(main_path):\n",
    "    os.makedirs(main_path)"
   ]
  },
  {
   "cell_type": "code",
   "execution_count": 3,
   "metadata": {},
   "outputs": [],
   "source": [
    "r = default()"
   ]
  },
  {
   "attachments": {},
   "cell_type": "markdown",
   "metadata": {},
   "source": [
    "# Valores Constantes"
   ]
  },
  {
   "cell_type": "code",
   "execution_count": 4,
   "metadata": {},
   "outputs": [],
   "source": [
    "#add ../../T00_params path\n",
    "join = os.path.join\n",
    "os.sys.path.append(join(\"..\",\"T00_params\"))\n",
    "from PLMP_0001 import PLMP_0001"
   ]
  },
  {
   "cell_type": "code",
   "execution_count": 5,
   "metadata": {},
   "outputs": [],
   "source": [
    "OMP_NUM_THREADS = 4\n",
    "mpi_np = 6\n",
    "def default_values():\n",
    "    r = default() # Valores por defecto\n",
    "    # Modificamos los valores que queremos\n",
    "    r[\"lammps\"] = PLMP_0001()\n",
    "    r[\"lammps\"][\"OMP_NUM_THREADS\"] = OMP_NUM_THREADS\n",
    "    r[\"lammps\"][\"mpi\"] = True\n",
    "    r[\"lammps\"][\"mpi_np\"] = mpi_np\n",
    "    # =================================================\n",
    "    r[\"lsdyna\"][\"factor_npoints\"] = 0.35\n",
    "    r[\"lsdyna\"][\"factor\"] = 0.8\n",
    "    # =================================================\n",
    "\n",
    "    r[\"gmsh\"][\"Algorithm\"] = 2\n",
    "    r[\"gmsh\"][\"factor\"] = 1.2 # ====================>> 0.6\n",
    "\n",
    "    # =================================================\n",
    "    r[\"inflation\"][\"pressure\"]  = 1200\n",
    "    r[\"inflation\"][\"OMP_NUM_THREADS\"] = OMP_NUM_THREADS\n",
    "    r[\"inflation\"][\"mpi\"]    = True\n",
    "    r[\"inflation\"][\"mpi_np\"]  = mpi_np\n",
    "\n",
    "    # =================================================\n",
    "    r[\"simulation\"][\"displacement\"] = 0.05 #  mm\n",
    "    r[\"simulation\"][\"type_bc\"] = 1\n",
    "    r[\"simulation\"][\"young\"] = 2960 # MPa\n",
    "    r[\"simulation\"][\"poisson\"] = 0.37\n",
    "    r[\"simulation\"][\"OMP_NUM_THREADS\"] = OMP_NUM_THREADS\n",
    "    r[\"simulation\"][\"mpi\"] = True\n",
    "    r[\"simulation\"][\"mpi_np\"] = mpi_np\n",
    "    return r"
   ]
  },
  {
   "cell_type": "code",
   "execution_count": 6,
   "metadata": {},
   "outputs": [],
   "source": [
    "r = default_values()"
   ]
  },
  {
   "cell_type": "code",
   "execution_count": 7,
   "metadata": {},
   "outputs": [
    {
     "data": {
      "text/plain": [
       "{'type': 'hard', 'dist': 0.1, 'pressure': 1000}"
      ]
     },
     "execution_count": 7,
     "metadata": {},
     "output_type": "execute_result"
    }
   ],
   "source": [
    "r[\"inflation\"][\"surface_behavior\"]"
   ]
  },
  {
   "attachments": {},
   "cell_type": "markdown",
   "metadata": {},
   "source": [
    "# Variables"
   ]
  },
  {
   "cell_type": "code",
   "execution_count": 8,
   "metadata": {},
   "outputs": [],
   "source": [
    "vars = dict()\n",
    "\n",
    "vars[\"h\"] =  {\"span\"  :   np.linspace(80, 100, 2),\n",
    "              \"path\"  :  [\"lammps\", \"h\"]}\n",
    "\n",
    "vars[\"r\"] =  {\"span\"    :   np.linspace(3 , 5 ,2 ),\n",
    "              \"path\"  :  [\"simulation\",\"radius\"]  }\n"
   ]
  },
  {
   "attachments": {},
   "cell_type": "markdown",
   "metadata": {},
   "source": [
    "# Loop over all the variables"
   ]
  },
  {
   "cell_type": "code",
   "execution_count": 9,
   "metadata": {},
   "outputs": [
    {
     "name": "stdout",
     "output_type": "stream",
     "text": [
      "output\\2024-02-14__12-00-36__90765\n"
     ]
    }
   ],
   "source": [
    "print(main_path)"
   ]
  },
  {
   "cell_type": "code",
   "execution_count": 10,
   "metadata": {},
   "outputs": [
    {
     "data": {
      "text/html": [
       "<h3>Parametrization (3/4)    [<span style='color: green'>2024-Feb-14   |  12:00</span>] - [<span style='color:green'>2024-Feb-14   |  14:45</span>]  </h3><h4>Elapsed time: 7564.36 s</h4><h4>Estimated end: 2024-Feb-14   |  16:51</h4><table border=\"1\" class=\"dataframe\">\n",
       "  <thead>\n",
       "    <tr style=\"text-align: right;\">\n",
       "      <th style=\"border: 1px solid black;\">ID</th>\n",
       "      <th style=\"border: 1px solid black;\">name</th>\n",
       "      <th style=\"border: 1px solid black;\">Status</th>\n",
       "      <th style=\"border: 1px solid black;\">h</th>\n",
       "      <th style=\"border: 1px solid black;\">r</th>\n",
       "      <th style=\"border: 1px solid black;\">Loading</th>\n",
       "      <th style=\"border: 1px solid black;\">Date</th>\n",
       "      <th style=\"border: 1px solid black;\">time</th>\n",
       "    </tr>\n",
       "  </thead>\n",
       "  <tbody>\n",
       "    <tr>\n",
       "      <td style=\"border: 1px solid black;\">1</td>\n",
       "      <td style=\"border: 1px solid black;\">Exp-1</td>\n",
       "      <td style=\"border: 1px solid black;\">✅</td>\n",
       "      <td style=\"border: 1px solid black;\">8.00e+01</td>\n",
       "      <td style=\"border: 1px solid black;\">3.00e+00</td>\n",
       "      <td style=\"border: 1px solid black;\"><div style='text-align: left;'><font color=\"green\">(5/5) </font>▉▉▉▉▉▉▉▉</div></td>\n",
       "      <td style=\"border: 1px solid black;\">2024-Feb-14   |  12:48</td>\n",
       "      <td style=\"border: 1px solid black;\">2885.33</td>\n",
       "    </tr>\n",
       "    <tr>\n",
       "      <td style=\"border: 1px solid black;\">2</td>\n",
       "      <td style=\"border: 1px solid black;\">Exp-2</td>\n",
       "      <td style=\"border: 1px solid black;\">✅</td>\n",
       "      <td style=\"border: 1px solid black;\">1.00e+02</td>\n",
       "      <td style=\"border: 1px solid black;\">3.00e+00</td>\n",
       "      <td style=\"border: 1px solid black;\"><div style='text-align: left;'><font color=\"green\">(5/5) </font>▉▉▉▉▉▉▉▉</div></td>\n",
       "      <td style=\"border: 1px solid black;\">2024-Feb-14   |  13:28</td>\n",
       "      <td style=\"border: 1px solid black;\">2371.00</td>\n",
       "    </tr>\n",
       "    <tr>\n",
       "      <td style=\"border: 1px solid black;\">3</td>\n",
       "      <td style=\"border: 1px solid black;\">Exp-3</td>\n",
       "      <td style=\"border: 1px solid black;\">✅</td>\n",
       "      <td style=\"border: 1px solid black;\">8.00e+01</td>\n",
       "      <td style=\"border: 1px solid black;\">5.00e+00</td>\n",
       "      <td style=\"border: 1px solid black;\"><div style='text-align: left;'><font color=\"green\">(5/5) </font>▉▉▉▉▉▉▉▉</div></td>\n",
       "      <td style=\"border: 1px solid black;\">2024-Feb-14   |  14:06</td>\n",
       "      <td style=\"border: 1px solid black;\">2308.02</td>\n",
       "    </tr>\n",
       "    <tr>\n",
       "      <td style=\"border: 1px solid black;\">4</td>\n",
       "      <td style=\"border: 1px solid black;\">Exp-4</td>\n",
       "      <td style=\"border: 1px solid black;\">✅</td>\n",
       "      <td style=\"border: 1px solid black;\">1.00e+02</td>\n",
       "      <td style=\"border: 1px solid black;\">5.00e+00</td>\n",
       "      <td style=\"border: 1px solid black;\"><div style='text-align: left;'><font color=\"green\">(5/5) </font>▉▉▉▉▉▉▉▉</div></td>\n",
       "      <td style=\"border: 1px solid black;\">2024-Feb-14   |  14:45</td>\n",
       "      <td style=\"border: 1px solid black;\">2338.20</td>\n",
       "    </tr>\n",
       "  </tbody>\n",
       "</table>"
      ],
      "text/plain": [
       "<IPython.core.display.HTML object>"
      ]
     },
     "metadata": {},
     "output_type": "display_data"
    }
   ],
   "source": [
    "parametrize( main_path = main_path,  # path to save the output\n",
    "             Run       = RunYB,      # function to run\n",
    "             vars      = vars,       # variables to parametrize\n",
    "             default   = default_values)    # default values"
   ]
  }
 ],
 "metadata": {
  "kernelspec": {
   "display_name": "TECNORED",
   "language": "python",
   "name": "python3"
  },
  "language_info": {
   "codemirror_mode": {
    "name": "ipython",
    "version": 3
   },
   "file_extension": ".py",
   "mimetype": "text/x-python",
   "name": "python",
   "nbconvert_exporter": "python",
   "pygments_lexer": "ipython3",
   "version": "3.11.7"
  }
 },
 "nbformat": 4,
 "nbformat_minor": 2
}
