{
 "cells": [
  {
   "cell_type": "code",
   "execution_count": 1,
   "metadata": {},
   "outputs": [],
   "source": [
    "from tools.basic.path_gen  import path_gen\n",
    "from tools.step.pprint     import pprint\n",
    "\n",
    "from models.direct.InflationDirect.default                  import default\n",
    "from models.direct.InflationDirect.RunInflationDirect import RunInflationDirect\n",
    "import os,glob"
   ]
  },
  {
   "cell_type": "code",
   "execution_count": 2,
   "metadata": {},
   "outputs": [],
   "source": [
    "main_path = os.path.join(\"output\", path_gen())"
   ]
  },
  {
   "cell_type": "code",
   "execution_count": 3,
   "metadata": {},
   "outputs": [],
   "source": [
    "main_path = os.path.join(\"output\", path_gen())\n",
    "join = os.path.join\n",
    "gmsh_path = glob.glob(join(\"..\" , \"T03_gmsh_direct\", \"output\", \"*\"))"
   ]
  },
  {
   "cell_type": "code",
   "execution_count": 4,
   "metadata": {},
   "outputs": [],
   "source": [
    "main_path = [\"output\"]\n",
    "join = os.path.join\n",
    "gmsh_path = glob.glob(join(\"..\" , \"T03_gmsh_direct\", \"output\", \"*\"))\n",
    "gmsh_path = [ os.path.basename(i).replace(\".json\",\"\") for i in gmsh_path]"
   ]
  },
  {
   "cell_type": "code",
   "execution_count": 5,
   "metadata": {},
   "outputs": [
    {
     "data": {
      "text/plain": [
       "['2024-09-17__15-17-19__42972',\n",
       " '2024-09-17__15-17-22__83515',\n",
       " '2024-09-17__15-28-06__78054',\n",
       " '2024-09-17__15-28-17__86061',\n",
       " '2024-09-17__15-33-37__24172',\n",
       " '2024-09-17__15-34-32__51162',\n",
       " '2024-09-17__15-46-06__48696',\n",
       " '2024-09-17__16-06-18__45761',\n",
       " '2024-09-17__16-30-42__31243',\n",
       " '2024-09-17__16-47-02__99149',\n",
       " '2024-09-17__17-07-03__69085',\n",
       " '2024-09-17__17-11-27__91535',\n",
       " '2024-09-17__17-17-09__64968',\n",
       " '2024-09-17__17-26-18__90637',\n",
       " '2024-09-17__18-18-07__97611',\n",
       " '2024-09-17__18-20-31__98627',\n",
       " '2024-09-17__18-42-09__22375',\n",
       " '2024-09-17__18-42-25__11825',\n",
       " '2024-09-18__05-01-55__65627',\n",
       " '2024-09-18__05-02-16__84603',\n",
       " '2024-09-18__12-53-24__65130',\n",
       " '2024-09-18__12-56-47__57821',\n",
       " '2024-09-18__13-11-27__84837',\n",
       " '2024-09-18__13-31-43__72724',\n",
       " '2024-09-18__13-33-13__79133',\n",
       " '2024-09-18__13-34-54__40508',\n",
       " '2024-09-18__13-42-55__63978',\n",
       " '2024-09-18__13-45-00__13888',\n",
       " '2024-09-18__14-00-38__50084',\n",
       " '2024-09-18__15-51-05__63503',\n",
       " '2024-09-19__11-51-43__85027',\n",
       " '2024-09-19__12-09-18__15717',\n",
       " '2024-09-19__12-55-19__92442',\n",
       " '2024-09-19__12-57-07__68154',\n",
       " '2024-09-19__13-07-44__79786',\n",
       " '2024-09-19__14-02-59__25969',\n",
       " '2024-09-19__14-11-06__27290',\n",
       " '2024-09-19__14-20-07__10482',\n",
       " '2024-09-19__14-50-38__26103',\n",
       " '2024-09-19__15-03-53__26330',\n",
       " '2024-09-19__15-13-01__45872',\n",
       " '2024-09-19__15-38-57__63264',\n",
       " '2024-09-19__16-57-50__64267',\n",
       " '2024-09-19__17-02-59__83814',\n",
       " '2024-09-19__17-04-53__98830',\n",
       " '2024-09-19__17-18-43__94553',\n",
       " '2024-09-19__17-26-24__86488',\n",
       " '2024-09-19__17-32-21__12134',\n",
       " '2024-09-19__17-36-51__32888',\n",
       " '2024-09-21__13-05-05__55753',\n",
       " '2024-09-21__22-57-42__17871',\n",
       " '2024-09-22__04-03-38__87289',\n",
       " '2024-09-22__04-05-31__22650',\n",
       " '2024-09-22__05-37-11__75079',\n",
       " '2024-09-22__11-45-05__60244',\n",
       " '2024-09-22__11-52-22__67516',\n",
       " '2024-09-22__21-00-38__54596',\n",
       " '2024-09-22__21-07-42__96546',\n",
       " '2024-09-22__21-50-42__68919',\n",
       " '2024-09-22__22-01-51__29678',\n",
       " '2024-09-22__22-20-08__86898',\n",
       " '2024-09-22__22-22-07__73085',\n",
       " '2024-09-23__08-50-20__34385',\n",
       " '2024-09-23__08-51-37__10313',\n",
       " '2024-09-23__08-52-46__20944',\n",
       " '2024-09-23__08-53-20__28683',\n",
       " '2024-09-23__09-00-16__53785',\n",
       " '2024-09-23__09-01-54__12606',\n",
       " '2024-09-23__09-02-01__24391',\n",
       " '2024-09-23__09-02-54__88683',\n",
       " '2024-09-23__09-03-31__25655',\n",
       " '2024-09-23__09-06-15__91578',\n",
       " '2024-09-23__09-06-25__90201',\n",
       " '2024-09-23__09-06-29__20561',\n",
       " '2024-09-23__10-32-33__82548',\n",
       " '2024-09-23__10-33-05__28539',\n",
       " '2024-09-23__10-33-19__84836',\n",
       " '2024-09-23__11-07-51__18240',\n",
       " '2024-09-23__11-29-47__15769',\n",
       " '2024-09-23__12-14-20__53268',\n",
       " '2024-09-23__12-32-19__33371',\n",
       " '2024-09-23__12-54-28__69077',\n",
       " '2024-09-23__13-11-24__69595',\n",
       " '2024-09-23__13-17-12__73725',\n",
       " '2024-09-23__13-17-52__64255',\n",
       " '2024-09-23__13-58-42__40023',\n",
       " '2024-09-23__14-11-27__46197',\n",
       " '2024-09-23__15-43-27__25043',\n",
       " '2024-09-23__15-56-08__78574',\n",
       " '2024-09-23__17-17-20__41681',\n",
       " '2024-09-23__17-40-43__87967',\n",
       " '2024-09-24__09-30-30__98084',\n",
       " '2024-09-24__09-37-27__75629',\n",
       " '2024-09-24__09-37-39__99642',\n",
       " '2024-09-24__09-45-36__95046',\n",
       " '2024-09-24__09-48-42__69935',\n",
       " '2024-09-24__09-50-15__59985',\n",
       " '2024-09-24__09-53-53__86132',\n",
       " '2024-09-24__09-58-02__76124',\n",
       " '2024-09-24__11-23-56__79641']"
      ]
     },
     "execution_count": 5,
     "metadata": {},
     "output_type": "execute_result"
    }
   ],
   "source": [
    "gmsh_path"
   ]
  },
  {
   "attachments": {},
   "cell_type": "markdown",
   "metadata": {},
   "source": [
    "# Step 04. INFLATION"
   ]
  },
  {
   "cell_type": "code",
   "execution_count": 6,
   "metadata": {},
   "outputs": [
    {
     "name": "stdout",
     "output_type": "stream",
     "text": [
      "\u001b[34msettings_step       \u001b[39m: \n",
      "\t- has_children\n",
      "\t-has_parent\n",
      "\t-verbose\n",
      "\t-...\n",
      "\u001b[34mpressure            \u001b[39m: 800\n",
      "\u001b[34mOMP_NUM_THREADS     \u001b[39m: 4\n",
      "\u001b[34mattemps             \u001b[39m: 4\n",
      "\u001b[34msurface_behavior    \u001b[39m: \n",
      "\t- type\n",
      "\t-dist\n",
      "\t-pressure\n",
      "\t-...\n",
      "\u001b[34mradius_target       \u001b[39m: 10\n",
      "\u001b[34mrho                 \u001b[39m: 0.00097\n",
      "\u001b[34mcalculix_dynamic    \u001b[39m: False\n",
      "\u001b[34mmpi                 \u001b[39m: True\n",
      "\u001b[34mmpi_np              \u001b[39m: 4\n",
      "\u001b[34mnsteps              \u001b[39m: 2\n",
      "\u001b[34mnlgeom              \u001b[39m: True\n",
      "\u001b[34mgmsh_path           \u001b[39m: 2024-09-24__11-23-56__79641\n",
      "\u001b[34mauto_pressure       \u001b[39m: True\n",
      "\u001b[34mties_activate       \u001b[39m: False\n"
     ]
    }
   ],
   "source": [
    "params_infl = default()\n",
    "\n",
    "params_infl[\"gmsh_path\"] = gmsh_path[-1]\n",
    "params_infl[\"auto_pressure\"] = True\n",
    "params_infl[\"pressure\"]  = 800 # Pa\n",
    "params_infl[\"OMP_NUM_THREADS\"]     = 4\n",
    "params_infl[\"mpi\"]       = True\n",
    "params_infl[\"mpi_np\"]    = 4\n",
    "params_infl[\"nsteps\"]    = 2\n",
    "pprint(params_infl)"
   ]
  },
  {
   "cell_type": "code",
   "execution_count": 7,
   "metadata": {},
   "outputs": [
    {
     "name": "stdout",
     "output_type": "stream",
     "text": [
      "\u001b[34mtype                \u001b[39m: hard\n",
      "\u001b[34mdist                \u001b[39m: 0.1\n",
      "\u001b[34mpressure            \u001b[39m: 1000\n"
     ]
    }
   ],
   "source": [
    "pprint(params_infl[\"surface_behavior\"])"
   ]
  },
  {
   "cell_type": "code",
   "execution_count": 8,
   "metadata": {},
   "outputs": [],
   "source": [
    "RunInflationDirect(params_infl,main_path)"
   ]
  },
  {
   "cell_type": "code",
   "execution_count": 4,
   "metadata": {},
   "outputs": [],
   "source": []
  },
  {
   "cell_type": "code",
   "execution_count": 3,
   "metadata": {},
   "outputs": [
    {
     "data": {
      "text/plain": [
       "(-0.1, 0.025)"
      ]
     },
     "execution_count": 3,
     "metadata": {},
     "output_type": "execute_result"
    },
    {
     "data": {
      "image/png": "[encoded data removed]",
      "text/plain": [
       "<Figure size 640x480 with 1 Axes>"
      ]
     },
     "metadata": {},
     "output_type": "display_data"
    }
   ],
   "source": [
    "from matplotlib import pyplot as plt\n",
    "from tools.basic.loadsavejson import loadjson\n",
    "\n",
    "nodes_rot = loadjson(\"nodes.json\")[\"nodes_rot\"]\n",
    "bol = loadjson(\"nodes.json\")[\"bol\"]\n",
    "plt.plot(nodes_rot[:,0],nodes_rot[:,1],\".\")\n",
    "plt.plot(nodes_rot[bol,0],nodes_rot[bol,1],\"o\")\n",
    "plt.ylim(-0.1,0.025)"
   ]
  },
  {
   "cell_type": "code",
   "execution_count": null,
   "metadata": {},
   "outputs": [],
   "source": []
  },
  {
   "cell_type": "code",
   "execution_count": 6,
   "metadata": {},
   "outputs": [
    {
     "data": {
      "text/plain": [
       "array([-0.69324915, -0.12859037, -1.18798239, ..., -0.34229123,\n",
       "       -0.34843688, -1.4429085 ])"
      ]
     },
     "execution_count": 6,
     "metadata": {},
     "output_type": "execute_result"
    }
   ],
   "source": [
    "nodes_rot[:,1]"
   ]
  },
  {
   "cell_type": "code",
   "execution_count": 9,
   "metadata": {},
   "outputs": [
    {
     "name": "stdout",
     "output_type": "stream",
     "text": [
      "1 2\n",
      "2 3\n",
      "3 4\n",
      "5 6\n",
      "6 7\n",
      "7 8\n",
      "9 10\n",
      "10 11\n",
      "11 12\n",
      "13 14\n",
      "14 15\n",
      "15 16\n",
      "17 18\n",
      "18 19\n",
      "19 20\n",
      "21 22\n",
      "22 23\n",
      "23 24\n",
      "25 26\n",
      "26 27\n",
      "27 28\n",
      "29 30\n",
      "30 31\n",
      "31 32\n",
      "33 34\n",
      "34 35\n",
      "35 36\n",
      "37 38\n",
      "38 39\n",
      "39 40\n",
      "41 42\n",
      "42 43\n",
      "43 44\n",
      "45 46\n",
      "46 47\n",
      "47 48\n",
      "49 50\n",
      "50 51\n",
      "51 52\n",
      "53 54\n",
      "54 55\n",
      "55 56\n",
      "57 58\n",
      "58 59\n",
      "59 60\n",
      "61 62\n",
      "62 63\n",
      "63 64\n"
     ]
    }
   ],
   "source": [
    "import numpy as np\n",
    "tie = []\n",
    "for i in np.arange(0,64,4):\n",
    "    for k in range(3):\n",
    "        tie.append([i+k+1,i+k+2])\n",
    "        print(i+k+1,i+k+2)"
   ]
  },
  {
   "cell_type": "code",
   "execution_count": 10,
   "metadata": {},
   "outputs": [
    {
     "name": "stdout",
     "output_type": "stream",
     "text": [
      "\u001b[34msettings_step       \u001b[39m: \n",
      "\t- has_children\n",
      "\t-has_parent\n",
      "\t-verbose\n",
      "\t-...\n",
      "\u001b[34mpressure            \u001b[39m: 522.3529411764707\n",
      "\u001b[34mOMP_NUM_THREADS     \u001b[39m: 4\n",
      "\u001b[34mattemps             \u001b[39m: 4\n",
      "\u001b[34msurface_behavior    \u001b[39m: \n",
      "\t- type\n",
      "\t-dist\n",
      "\t-pressure\n",
      "\t-...\n",
      "\u001b[34mradius_target       \u001b[39m: 10\n",
      "\u001b[34mrho                 \u001b[39m: 0.00097\n",
      "\u001b[34mmpi                 \u001b[39m: True\n",
      "\u001b[34mmpi_np              \u001b[39m: 4\n",
      "\u001b[34mnsteps              \u001b[39m: 2\n",
      "\u001b[34mnlgeom              \u001b[39m: True\n",
      "\u001b[34mgmsh_path           \u001b[39m: 2024-09-24__09-58-02__76124\n",
      "\u001b[34mauto_pressure       \u001b[39m: True\n",
      "\u001b[34mties_activate       \u001b[39m: False\n",
      "\u001b[34mfunction            \u001b[39m: \n",
      "\t- name\n",
      "\t-file\n",
      "\t-...\n",
      "\u001b[34mmetadata            \u001b[39m: \n",
      "\t- elapsed\n",
      "\t-error\n",
      "\t-error_msg\n",
      "\t-init_time\n",
      "\t-final_time\n",
      "\t-...\n",
      "\u001b[34msimulation_path     \u001b[39m: 2024-09-24__11-15-28__24265\n",
      "\u001b[34mlammps_params       \u001b[39m: \n",
      "\t- settings_step\n",
      "\t-Npoints\n",
      "\t-hilo_central\n",
      "\t-theta\n",
      "\t-factor\n",
      "\t-Remesh\n",
      "\t-RUN_STEPS_EQ\n",
      "\t-RUN_STEPS_DEFORM\n",
      "\t-errate\n",
      "\t-nhilos\n",
      "\t-...\n",
      "\u001b[34mgmsh_params         \u001b[39m: \n",
      "\t- settings_step\n",
      "\t-factor_radius\n",
      "\t-factor_mesh_min\n",
      "\t-factor_mesh_max\n",
      "\t-debug\n",
      "\t-refine\n",
      "\t-lammps_path\n",
      "\t-factor_length\n",
      "\t-Nalma\n",
      "\t-function\n",
      "\t-...\n",
      "\u001b[34mh                   \u001b[39m: 25.261670017409074\n",
      "\u001b[34mall_bonds           \u001b[39m: np array with shape(64, 2)\n",
      "\u001b[34mcontacts            \u001b[39m: np array with shape(638, 2)\n",
      "\u001b[34mnsets               \u001b[39m: \n",
      "\t- ESQUELETO_1\n",
      "\t-P2_ESQUELETO_2\n",
      "\t-P3_ESQUELETO_3\n",
      "\t-P4_ESQUELETO_4\n",
      "\t-P5_ESQUELETO_5\n",
      "\t-P6_ESQUELETO_6\n",
      "\t-P7_ESQUELETO_7\n",
      "\t-P8_ESQUELETO_8\n",
      "\t-P9_ESQUELETO_9\n",
      "\t-P10_ESQUELETO_10\n",
      "\t-...\n",
      "\u001b[34mr_hebra             \u001b[39m: 0.135\n"
     ]
    }
   ],
   "source": [
    "pprint(params_infl)"
   ]
  },
  {
   "cell_type": "code",
   "execution_count": 11,
   "metadata": {},
   "outputs": [
    {
     "ename": "NameError",
     "evalue": "name 'err' is not defined",
     "output_type": "error",
     "traceback": [
      "\u001b[1;31m---------------------------------------------------------------------------\u001b[0m",
      "\u001b[1;31mNameError\u001b[0m                                 Traceback (most recent call last)",
      "Cell \u001b[1;32mIn[11], line 1\u001b[0m\n\u001b[1;32m----> 1\u001b[0m \u001b[43merr\u001b[49m\n",
      "\u001b[1;31mNameError\u001b[0m: name 'err' is not defined"
     ]
    }
   ],
   "source": [
    "err"
   ]
  },
  {
   "cell_type": "code",
   "execution_count": null,
   "metadata": {},
   "outputs": [],
   "source": [
    "import os\n",
    "from tools.step.rerun import rerun\n",
    "json_file = os.path.join(*(main_path + \\\n",
    "                           [params_infl[\"simulation_path\"]])) + \".json\""
   ]
  },
  {
   "cell_type": "code",
   "execution_count": null,
   "metadata": {},
   "outputs": [],
   "source": [
    "rerun(json_file,overwrite=True)"
   ]
  },
  {
   "cell_type": "code",
   "execution_count": null,
   "metadata": {},
   "outputs": [],
   "source": [
    "points1 = np.array([ [0.0, 0.0, 0.0],\n",
    "                     [1.0, 0.0, 0.0],\n",
    "                     [1.0, 1.0, 0.0],\n",
    "                     [0.0, 1.0, 0.0] ])\n",
    "\n"
   ]
  }
 ],
 "metadata": {
  "kernelspec": {
   "display_name": "Python 3",
   "language": "python",
   "name": "python3"
  },
  "language_info": {
   "codemirror_mode": {
    "name": "ipython",
    "version": 3
   },
   "file_extension": ".py",
   "mimetype": "text/x-python",
   "name": "python",
   "nbconvert_exporter": "python",
   "pygments_lexer": "ipython3",
   "version": "3.11.9"
  }
 },
 "nbformat": 4,
 "nbformat_minor": 2
}
