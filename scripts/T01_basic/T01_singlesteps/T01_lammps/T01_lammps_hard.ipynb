{
 "cells": [
  {
   "cell_type": "code",
   "execution_count": 1,
   "metadata": {},
   "outputs": [],
   "source": [
    "from tools.basic.path_gen   import path_gen\n",
    "from tools.step.pprint     import pprint\n",
    "\n",
    "from models.direct.lammpshard.default          import default\n",
    "\n",
    "import os\n",
    "\n",
    "from models.direct.lammpshard.RunLammps         import RunLammps\n"
   ]
  },
  {
   "cell_type": "code",
   "execution_count": 2,
   "metadata": {},
   "outputs": [],
   "source": [
    "main_path = [\"output\"]"
   ]
  },
  {
   "attachments": {},
   "cell_type": "markdown",
   "metadata": {},
   "source": [
    "# Step 01. LAMMPS"
   ]
  },
  {
   "cell_type": "code",
   "execution_count": 3,
   "metadata": {},
   "outputs": [],
   "source": [
    "# Initialize the parameters\n",
    "params_lmp = default()\n",
    "params_lmp[\"Npoints\"] = 250\n",
    "params_lmp[\"RUN_STEPS_DEFORM\"] = 40000\n",
    "params_lmp[\"RUN_STEPS_EQ\"]     = 1\n",
    "params_lmp[\"errate\"]  = 0\n",
    "params_lmp[\"nhilos\"]  = 4\n",
    "params_lmp[\"r_hilo\"] = 15\n",
    "params_lmp[\"h\"] =50\n",
    "params_lmp[\"r_hebra\"]        =  0.135\n",
    "params_lmp[\"r_hebra_offset\"] =  0.000\n",
    "\n",
    "params_lmp[\"dist_factor\"] = 0.2\n",
    "params_lmp[\"r0_factor\"] = 0.0005\n",
    "params_lmp[\"yukawa\"][\"A\"] = 30000\n",
    "params_lmp[\"yukawa\"][\"kappa\"] = 0.075\n",
    "params_lmp[\"hilo_central\"] = 10\n",
    "params_lmp[\"Remesh\"] = False\n",
    "params_lmp[\"V0_bond\"] = 40000 #38000\n",
    "params_lmp[\"remove_final\"] = False\n",
    "params_lmp[\"OMP_NUM_THREADS\"] = 4\n",
    "params_lmp[\"mpi\"] = True"
   ]
  },
  {
   "cell_type": "code",
   "execution_count": 4,
   "metadata": {},
   "outputs": [
    {
     "data": {
      "text/plain": [
       "79.03624876009066"
      ]
     },
     "execution_count": 4,
     "metadata": {},
     "output_type": "execute_result"
    }
   ],
   "source": [
    "import numpy as np \n",
    "\n",
    "np.arcsin(10*np.pi/32)*180/np.pi"
   ]
  },
  {
   "cell_type": "code",
   "execution_count": 5,
   "metadata": {},
   "outputs": [
    {
     "data": {
      "text/plain": [
       "{'A': 30000, 'kappa': 0.075, 'cutoff': None}"
      ]
     },
     "execution_count": 5,
     "metadata": {},
     "output_type": "execute_result"
    }
   ],
   "source": [
    "params_lmp[\"yukawa\"]"
   ]
  },
  {
   "cell_type": "code",
   "execution_count": 6,
   "metadata": {},
   "outputs": [
    {
     "name": "stdout",
     "output_type": "stream",
     "text": [
      "\u001b[34msettings_step       \u001b[39m: \n",
      "\t- has_children\n",
      "\t-has_parent\n",
      "\t-verbose\n",
      "\t-...\n",
      "\u001b[34mNpoints             \u001b[39m: 250\n",
      "\u001b[34mhilo_central        \u001b[39m: 10\n",
      "\u001b[34mtheta               \u001b[39m: 0.8901179185171081\n",
      "\u001b[34mfactor              \u001b[39m: 4\n",
      "\u001b[34mRemesh              \u001b[39m: False\n",
      "\u001b[34mRUN_STEPS_EQ        \u001b[39m: 1\n",
      "\u001b[34mRUN_STEPS_DEFORM    \u001b[39m: 40000\n",
      "\u001b[34merrate              \u001b[39m: 0\n",
      "\u001b[34mnhilos              \u001b[39m: 4\n",
      "\u001b[34mdist_factor         \u001b[39m: 0.2\n",
      "\u001b[34mr0_factor           \u001b[39m: 0.0005\n",
      "\u001b[34mV0_bond             \u001b[39m: 40000\n",
      "\u001b[34mr_hebra             \u001b[39m: 0.135\n",
      "\u001b[34mr_hebra_offset      \u001b[39m: 0.0\n",
      "\u001b[34mexternal_hilos      \u001b[39m: False\n",
      "\u001b[34mrecompute_dist      \u001b[39m: False\n",
      "\u001b[34mrecompute_factor    \u001b[39m: 1\n",
      "\u001b[34mNpoints_density     \u001b[39m: None\n",
      "\u001b[34mremove_final        \u001b[39m: False\n",
      "\u001b[34mth_hebra            \u001b[39m: 0.0\n",
      "\u001b[34mlen_periodic        \u001b[39m: 0.125\n",
      "\u001b[34myukawa              \u001b[39m: \n",
      "\t- A\n",
      "\t-kappa\n",
      "\t-cutoff\n",
      "\t-...\n",
      "\u001b[34mOMP_NUM_THREADS     \u001b[39m: 4\n",
      "\u001b[34mmpi                 \u001b[39m: True\n",
      "\u001b[34mmpi_np              \u001b[39m: 4\n",
      "\u001b[34mr_hilo              \u001b[39m: 15\n",
      "\u001b[34mh                   \u001b[39m: 50\n"
     ]
    }
   ],
   "source": [
    "pprint(params_lmp)"
   ]
  },
  {
   "cell_type": "code",
   "execution_count": 7,
   "metadata": {},
   "outputs": [
    {
     "name": "stdout",
     "output_type": "stream",
     "text": [
      "mpiexec -n 4 \"C:\\Users\\djoroya\\AppData\\Local\\LAMMPS 64-bit 2Aug2023-MSMPI\\bin\\lmp.exe\" -in in.lammps > out.lammps\n",
      "Output file: c:\\Users\\djoroya\\Documents\\GitHub\\YarnBraid-solo\\simulations\\2024-09-23__09-18-33__50799\\out.lammps\n"
     ]
    }
   ],
   "source": [
    "RunLammps(params_lmp,main_path)"
   ]
  },
  {
   "cell_type": "code",
   "execution_count": 8,
   "metadata": {},
   "outputs": [
    {
     "data": {
      "text/plain": [
       "79.03624876009066"
      ]
     },
     "execution_count": 8,
     "metadata": {},
     "output_type": "execute_result"
    }
   ],
   "source": [
    "import numpy as np\n",
    "\n",
    "np.arcsin(np.pi*10/32)*180/np.pi"
   ]
  },
  {
   "cell_type": "code",
   "execution_count": 9,
   "metadata": {},
   "outputs": [
    {
     "ename": "NameError",
     "evalue": "name 's' is not defined",
     "output_type": "error",
     "traceback": [
      "\u001b[1;31m---------------------------------------------------------------------------\u001b[0m",
      "\u001b[1;31mNameError\u001b[0m                                 Traceback (most recent call last)",
      "Cell \u001b[1;32mIn[9], line 1\u001b[0m\n\u001b[1;32m----> 1\u001b[0m \u001b[43ms\u001b[49m\n",
      "\u001b[1;31mNameError\u001b[0m: name 's' is not defined"
     ]
    }
   ],
   "source": [
    "s"
   ]
  },
  {
   "cell_type": "code",
   "execution_count": null,
   "metadata": {},
   "outputs": [],
   "source": [
    "pprint(params_lmp)"
   ]
  },
  {
   "cell_type": "code",
   "execution_count": null,
   "metadata": {},
   "outputs": [],
   "source": [
    "import os\n",
    "from tools.step.rerun import rerun\n",
    "\n",
    "\n",
    "json_file = os.path.join(*(main_path + \\\n",
    "                           [params_lmp[\"simulation_path\"]])) + \".json\""
   ]
  },
  {
   "cell_type": "code",
   "execution_count": null,
   "metadata": {},
   "outputs": [],
   "source": [
    "rerun(json_file,overwrite=True)"
   ]
  }
 ],
 "metadata": {
  "kernelspec": {
   "display_name": "Python 3",
   "language": "python",
   "name": "python3"
  },
  "language_info": {
   "codemirror_mode": {
    "name": "ipython",
    "version": 3
   },
   "file_extension": ".py",
   "mimetype": "text/x-python",
   "name": "python",
   "nbconvert_exporter": "python",
   "pygments_lexer": "ipython3",
   "version": "3.11.9"
  }
 },
 "nbformat": 4,
 "nbformat_minor": 2
}
