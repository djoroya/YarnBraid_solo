{
 "cells": [
  {
   "cell_type": "code",
   "execution_count": 1,
   "metadata": {},
   "outputs": [],
   "source": [
    "from tools.basic.path_gen   import path_gen\n",
    "from tools.step.pprint     import pprint\n",
    "\n",
    "from model.default          import *\n",
    "\n",
    "import os\n",
    "\n",
    "from model.lammps.RunLammps         import RunLammps\n"
   ]
  },
  {
   "cell_type": "code",
   "execution_count": 2,
   "metadata": {},
   "outputs": [],
   "source": [
    "main_path = os.path.join(\"output\", path_gen())"
   ]
  },
  {
   "cell_type": "code",
   "execution_count": 3,
   "metadata": {},
   "outputs": [],
   "source": [
    "out_lammps = os.path.join(main_path)"
   ]
  },
  {
   "attachments": {},
   "cell_type": "markdown",
   "metadata": {},
   "source": [
    "# Step 01. LAMMPS"
   ]
  },
  {
   "cell_type": "code",
   "execution_count": 4,
   "metadata": {},
   "outputs": [],
   "source": [
    "# Initialize the parameters\n",
    "params_lmp = lmp_default()\n",
    "params_lmp[\"Npoints\"] = 250\n",
    "params_lmp[\"RUN_STEPS_DEFORM\"] = 5000\n",
    "params_lmp[\"RUN_STEPS_EQ\"]     = 1\n",
    "params_lmp[\"errate\"]  = 0\n",
    "params_lmp[\"nhilos\"]  = 4\n",
    "params_lmp[\"r_hilo\"] = 15\n",
    "params_lmp[\"h\"] =50\n",
    "params_lmp[\"dist_factor\"] = 0.8\n",
    "params_lmp[\"r0_factor\"] = 0.0005\n",
    "params_lmp[\"yukawa\"][\"A\"] = 1000\n",
    "params_lmp[\"hilo_central\"] = 0\n",
    "params_lmp[\"Remesh\"] = False\n",
    "params_lmp[\"V0_bond\"] = 38000\n",
    "params_lmp[\"OMP_NUM_THREADS\"] = 4\n",
    "params_lmp[\"mpi\"] = True"
   ]
  },
  {
   "cell_type": "code",
   "execution_count": 5,
   "metadata": {},
   "outputs": [
    {
     "name": "stdout",
     "output_type": "stream",
     "text": [
      "\u001b[34melapsed             \u001b[39m: 0 h  -  0 m  -  0 s\n",
      "\u001b[31merror               \u001b[31m: 1\n",
      "\u001b[31merror_msg           \u001b[31m: No execution\n",
      "\u001b[34mverbose             \u001b[39m: True\n",
      "\u001b[34mNpoints             \u001b[39m: 250\n",
      "\u001b[34mhilo_central        \u001b[39m: 0\n",
      "\u001b[34mtheta               \u001b[39m: 0.8901179185171081\n",
      "\u001b[34mfactor              \u001b[39m: 4\n",
      "\u001b[34mRemesh              \u001b[39m: False\n",
      "\u001b[34mRUN_STEPS_EQ        \u001b[39m: 1\n",
      "\u001b[34mRUN_STEPS_DEFORM    \u001b[39m: 5000\n",
      "\u001b[34merrate              \u001b[39m: 0\n",
      "\u001b[34mnhilos              \u001b[39m: 4\n",
      "\u001b[34mdist_factor         \u001b[39m: 0.8\n",
      "\u001b[34mr0_factor           \u001b[39m: 0.0005\n",
      "\u001b[34mV0_bond             \u001b[39m: 38000\n",
      "\u001b[34mr_hebra             \u001b[39m: 0.2\n",
      "\u001b[34mexternal_hilos      \u001b[39m: False\n",
      "\u001b[34mrecompute_dist      \u001b[39m: False\n",
      "\u001b[34mrecompute_factor    \u001b[39m: 1\n",
      "\u001b[34mNpoints_density     \u001b[39m: None\n",
      "\u001b[34myukawa              \u001b[39m: \n",
      "\t- A\n",
      "\t-kappa\n",
      "\t-cutoff\n",
      "\t-...\n",
      "\u001b[34mOMP_NUM_THREADS     \u001b[39m: 4\n",
      "\u001b[34mmpi                 \u001b[39m: True\n",
      "\u001b[34mmpi_np              \u001b[39m: 4\n",
      "\u001b[34mr_hilo              \u001b[39m: 15\n",
      "\u001b[34mh                   \u001b[39m: 50\n"
     ]
    }
   ],
   "source": [
    "pprint(params_lmp)"
   ]
  },
  {
   "cell_type": "code",
   "execution_count": 6,
   "metadata": {},
   "outputs": [
    {
     "name": "stdout",
     "output_type": "stream",
     "text": [
      "mpiexec -n 4 \"C:\\Users\\djoroya\\AppData\\Local\\LAMMPS 64-bit 2Aug2023-MSMPI\\bin\\lmp.exe\" -in in.lammps > out.lammps\n",
      "Output file: c:\\Users\\djoroya\\Documents\\GitHub\\YarnBraid-solo\\scripts\\T01_basic\\T01_singlesteps\\T01_lammps\\output\\2024-07-03__13-48-49__37171\\out.lammps\n"
     ]
    }
   ],
   "source": [
    "RunLammps(params_lmp,out_lammps)"
   ]
  },
  {
   "cell_type": "code",
   "execution_count": null,
   "metadata": {},
   "outputs": [
    {
     "name": "stdout",
     "output_type": "stream",
     "text": [
      "\u001b[34melapsed             \u001b[39m: 0 h  -  0 m  -  14.71 s\n",
      "\u001b[32merror               \u001b[32m: 0\n",
      "\u001b[32merror_msg           \u001b[32m: Correct Execution\n",
      "\u001b[34mverbose             \u001b[39m: True\n",
      "\u001b[34mNpoints             \u001b[39m: 250\n",
      "\u001b[34mhilo_central        \u001b[39m: 0\n",
      "\u001b[34mtheta               \u001b[39m: 0.8901179185171081\n",
      "\u001b[34mfactor              \u001b[39m: 4\n",
      "\u001b[34mRemesh              \u001b[39m: False\n",
      "\u001b[34mRUN_STEPS_EQ        \u001b[39m: 1\n",
      "\u001b[34mRUN_STEPS_DEFORM    \u001b[39m: 5000\n",
      "\u001b[34merrate              \u001b[39m: 0\n",
      "\u001b[34mnhilos              \u001b[39m: 4\n",
      "\u001b[34mdist_factor         \u001b[39m: 0.8\n",
      "\u001b[34mr0_factor           \u001b[39m: 0.0005\n",
      "\u001b[34mV0_bond             \u001b[39m: 38000\n",
      "\u001b[34mr_hebra             \u001b[39m: 0.2\n",
      "\u001b[34mexternal_hilos      \u001b[39m: False\n",
      "\u001b[34mrecompute_dist      \u001b[39m: False\n",
      "\u001b[34mrecompute_factor    \u001b[39m: 1\n",
      "\u001b[34mNpoints_density     \u001b[39m: None\n",
      "\u001b[34myukawa              \u001b[39m: \n",
      "\t- A\n",
      "\t-kappa\n",
      "\t-cutoff\n",
      "\t-...\n",
      "\u001b[34mOMP_NUM_THREADS     \u001b[39m: 4\n",
      "\u001b[34mmpi                 \u001b[39m: True\n",
      "\u001b[34mmpi_np              \u001b[39m: 4\n",
      "\u001b[34mr_hilo              \u001b[39m: 2.6213650621782913\n",
      "\u001b[34mh                   \u001b[39m: 20.339401332041597\n",
      "\u001b[34moutput_folder       \u001b[39m: output\\2024-07-03__13-39-08__85006\n",
      "\u001b[34minit_time           \u001b[39m: 2024-07-03 13:39:08\n",
      "\u001b[34mL_hilo              \u001b[39m: 27.605994537582525\n",
      "\u001b[34mr_mean              \u001b[39m: 2.625590645514552\n",
      "\u001b[34mtrajs               \u001b[39m: np array with shape(64, 250, 3)\n",
      "\u001b[34mWriteDataLmp        \u001b[39m: output\\2024-07-03__13-39-08__85006\\data.lammps\n",
      "\u001b[34mWriteRunLmp         \u001b[39m: output\\2024-07-03__13-39-08__85006\\in.lammps\n",
      "\u001b[34mradius_compute_per_run\u001b[39m: 0.4\n",
      "\u001b[34mParseLmp            \u001b[39m: output\\2024-07-03__13-39-08__85006\\data.csv\n",
      "\u001b[34mold_df              \u001b[39m: Pandas DataFrame with shape (16000, 4)\n",
      "\u001b[34mdf                  \u001b[39m: Pandas DataFrame with shape (14312, 4)\n",
      "\u001b[34mradius              \u001b[39m: 0.5000330322338715\n",
      "\u001b[34mdump_last           \u001b[39m: output\\2024-07-03__13-39-08__85006\\data_last.lammps\n",
      "\u001b[34mfinal_time          \u001b[39m: 2024-07-03 13:39:23\n",
      "\u001b[34mroot_folder         \u001b[39m: c:\\Users\\djoroya\\Documents\\GitHub\\YarnBraid-solo\\scripts\\T01_basic\\T01_singlesteps\\T01_lammps\\\n"
     ]
    }
   ],
   "source": [
    "pprint(params_lmp)"
   ]
  },
  {
   "cell_type": "code",
   "execution_count": null,
   "metadata": {},
   "outputs": [],
   "source": [
    "# lmp_path = r\"C:\\Users\\djoroya\\Documents\\GitHub\\YarnBraid-solo\\scripts\\T01_basic\\T01_singlesteps\\T01_lammps\\output\\2024-07-03__13-29-52__67418\"\n",
    "lmp_path = out_lammps\n",
    "from model.gmsh.RunGmshTable import RunGmshTable\n",
    "from model.default import gmsh_default_table"
   ]
  },
  {
   "cell_type": "code",
   "execution_count": null,
   "metadata": {},
   "outputs": [],
   "source": [
    "params_gmsh = gmsh_default_table()\n",
    "params_gmsh[\"debug\"] = True\n",
    "params_gmsh[\"lammps_path\"] = lmp_path"
   ]
  },
  {
   "cell_type": "code",
   "execution_count": null,
   "metadata": {},
   "outputs": [],
   "source": [
    "import os\n",
    "from tools.basic.path_gen import path_gen\n",
    "\n",
    "outfolder = os.path.join(\"output\", path_gen())"
   ]
  },
  {
   "cell_type": "code",
   "execution_count": null,
   "metadata": {},
   "outputs": [
    {
     "name": "stdout",
     "output_type": "stream",
     "text": [
      "Trajectory  1\n",
      "Done\n",
      "Trajectory  2\n",
      "Done\n",
      "Trajectory  3\n",
      "Done\n",
      "Trajectory  4\n",
      "Done\n",
      "Trajectory  5\n",
      "Done\n",
      "Trajectory  6\n",
      "Done\n",
      "Trajectory  7\n",
      "Done\n",
      "Trajectory  8\n",
      "Done\n",
      "Trajectory  9\n",
      "Done\n",
      "Trajectory  10\n",
      "Done\n",
      "Trajectory  11\n",
      "Done\n",
      "Trajectory  12\n",
      "Done\n",
      "Trajectory  13\n",
      "Done\n",
      "Trajectory  14\n",
      "Done\n",
      "Trajectory  15\n",
      "Done\n",
      "Trajectory  16\n",
      "Done\n",
      "Trajectory  17\n",
      "Done\n",
      "Trajectory  18\n",
      "Done\n",
      "Trajectory  19\n",
      "Done\n",
      "Trajectory  20\n",
      "Done\n",
      "Trajectory  21\n",
      "Done\n",
      "Trajectory  22\n",
      "Done\n",
      "Trajectory  23\n",
      "Done\n",
      "Trajectory  24\n",
      "Done\n",
      "Trajectory  25\n",
      "Done\n",
      "Trajectory  26\n",
      "Done\n",
      "Trajectory  27\n",
      "Done\n",
      "Trajectory  28\n",
      "Done\n",
      "Trajectory  29\n",
      "Done\n",
      "Trajectory  30\n",
      "Done\n",
      "Trajectory  31\n",
      "Done\n",
      "Trajectory  32\n",
      "Done\n",
      "Trajectory  33\n",
      "Done\n",
      "Trajectory  34\n",
      "Done\n",
      "Trajectory  35\n",
      "Done\n",
      "Trajectory  36\n",
      "Done\n",
      "Trajectory  37\n",
      "Done\n",
      "Trajectory  38\n",
      "Done\n",
      "Trajectory  39\n",
      "Done\n",
      "Trajectory  40\n",
      "Done\n",
      "Trajectory  41\n",
      "Done\n",
      "Trajectory  42\n",
      "Done\n",
      "Trajectory  43\n",
      "Done\n",
      "Trajectory  44\n",
      "Done\n",
      "Trajectory  45\n",
      "Done\n",
      "Trajectory  46\n",
      "Done\n",
      "Trajectory  47\n",
      "Done\n",
      "Trajectory  48\n",
      "Done\n",
      "Trajectory  49\n",
      "Done\n",
      "Trajectory  50\n",
      "Done\n",
      "Trajectory  51\n",
      "Done\n",
      "Trajectory  52\n",
      "Done\n",
      "Trajectory  53\n",
      "Done\n",
      "Trajectory  54\n",
      "Done\n",
      "Trajectory  55\n",
      "Done\n",
      "Trajectory  56\n",
      "Done\n",
      "Trajectory  57\n",
      "Done\n",
      "Trajectory  58\n",
      "Done\n",
      "Trajectory  59\n",
      "Done\n",
      "Trajectory  60\n",
      "Done\n",
      "Trajectory  61\n",
      "Done\n",
      "Trajectory  62\n",
      "Done\n",
      "Trajectory  63\n",
      "Done\n",
      "Trajectory  64\n",
      "Done\n"
     ]
    }
   ],
   "source": [
    "RunGmshTable(params_gmsh, outfolder)"
   ]
  },
  {
   "cell_type": "code",
   "execution_count": 1,
   "metadata": {},
   "outputs": [],
   "source": [
    "from model.inflation.table.RunInflation import RunInflation"
   ]
  },
  {
   "cell_type": "code",
   "execution_count": 2,
   "metadata": {},
   "outputs": [],
   "source": [
    "from model.default import inflation_default\n",
    "import os\n",
    "from tools.basic.path_gen import path_gen"
   ]
  },
  {
   "cell_type": "code",
   "execution_count": 3,
   "metadata": {},
   "outputs": [],
   "source": [
    "outfolder_inflation = os.path.join(\"output\", path_gen())\n",
    "\n",
    "\n",
    "params_inflation = inflation_default()\n",
    "\n",
    "\n",
    "gmsh_path = r\"C:\\Users\\djoroya\\Documents\\GitHub\\YarnBraid-solo\\scripts\\T01_basic\\T01_singlesteps\\T01_lammps\\output\\2024-07-03__13-39-24__17231\"\n",
    "params_inflation[\"gmsh_path\"] = gmsh_path"
   ]
  },
  {
   "cell_type": "code",
   "execution_count": 4,
   "metadata": {},
   "outputs": [
    {
     "name": "stderr",
     "output_type": "stream",
     "text": [
      "c:\\Users\\djoroya\\Documents\\GitHub\\YarnBraid-solo\\.conda\\Lib\\site-packages\\numpy\\core\\fromnumeric.py:3504: RuntimeWarning: Mean of empty slice.\n",
      "  return _methods._mean(a, axis=axis, dtype=dtype,\n",
      "c:\\Users\\djoroya\\Documents\\GitHub\\YarnBraid-solo\\.conda\\Lib\\site-packages\\numpy\\core\\_methods.py:121: RuntimeWarning: invalid value encountered in divide\n",
      "  ret = um.true_divide(\n",
      "Traceback (most recent call last):\n",
      "  File \"c:\\Users\\djoroya\\Documents\\GitHub\\YarnBraid-solo\\src\\tools\\step\\runstep.py\", line 36, in wa\n",
      "    func(*args, **kwargs)\n",
      "  File \"c:\\Users\\djoroya\\Documents\\GitHub\\YarnBraid-solo\\src\\model\\inflation\\table\\RunInflation.py\", line 39, in RunInflation\n",
      "    inp_file = LoadInp(gmsh_params,df,params)\n",
      "               ^^^^^^^^^^^^^^^^^^^^^^^^^^^^^^\n",
      "  File \"c:\\Users\\djoroya\\Documents\\GitHub\\YarnBraid-solo\\src\\model\\inflation\\table\\LoadInp.py\", line 115, in LoadInp\n",
      "    id_nearst = np.argmin(dist)\n",
      "                ^^^^^^^^^^^^^^^\n",
      "  File \"c:\\Users\\djoroya\\Documents\\GitHub\\YarnBraid-solo\\.conda\\Lib\\site-packages\\numpy\\core\\fromnumeric.py\", line 1325, in argmin\n",
      "    return _wrapfunc(a, 'argmin', axis=axis, out=out, **kwds)\n",
      "           ^^^^^^^^^^^^^^^^^^^^^^^^^^^^^^^^^^^^^^^^^^^^^^^^^^\n",
      "  File \"c:\\Users\\djoroya\\Documents\\GitHub\\YarnBraid-solo\\.conda\\Lib\\site-packages\\numpy\\core\\fromnumeric.py\", line 59, in _wrapfunc\n",
      "    return bound(*args, **kwds)\n",
      "           ^^^^^^^^^^^^^^^^^^^^\n",
      "ValueError: attempt to get argmin of an empty sequence\n"
     ]
    },
    {
     "name": "stdout",
     "output_type": "stream",
     "text": [
      "\u001b[31mError in step: RunInflation\n",
      "\u001b[39m\n"
     ]
    },
    {
     "ename": "Exception",
     "evalue": "attempt to get argmin of an empty sequence",
     "output_type": "error",
     "traceback": [
      "\u001b[1;31m---------------------------------------------------------------------------\u001b[0m",
      "\u001b[1;31mValueError\u001b[0m                                Traceback (most recent call last)",
      "File \u001b[1;32mc:\\Users\\djoroya\\Documents\\GitHub\\YarnBraid-solo\\src\\tools\\step\\runstep.py:36\u001b[0m, in \u001b[0;36mrunstep.<locals>.wa\u001b[1;34m(*args, **kwargs)\u001b[0m\n\u001b[0;32m     35\u001b[0m \u001b[38;5;28;01mtry\u001b[39;00m:\n\u001b[1;32m---> 36\u001b[0m     \u001b[43mfunc\u001b[49m\u001b[43m(\u001b[49m\u001b[38;5;241;43m*\u001b[39;49m\u001b[43margs\u001b[49m\u001b[43m,\u001b[49m\u001b[43m \u001b[49m\u001b[38;5;241;43m*\u001b[39;49m\u001b[38;5;241;43m*\u001b[39;49m\u001b[43mkwargs\u001b[49m\u001b[43m)\u001b[49m\n\u001b[0;32m     37\u001b[0m     err \u001b[38;5;241m=\u001b[39m \u001b[38;5;241m0\u001b[39m\n",
      "File \u001b[1;32mc:\\Users\\djoroya\\Documents\\GitHub\\YarnBraid-solo\\src\\model\\inflation\\table\\RunInflation.py:39\u001b[0m, in \u001b[0;36mRunInflation\u001b[1;34m(params, out_folder)\u001b[0m\n\u001b[0;32m     35\u001b[0m \u001b[38;5;66;03m# Necesitamos agregar muchos puntos para que al buscar\u001b[39;00m\n\u001b[0;32m     36\u001b[0m \u001b[38;5;66;03m# puntos cercanos a las curvas no se pierdan puntos\u001b[39;00m\n\u001b[0;32m     37\u001b[0m \u001b[38;5;66;03m# df = df_respan(df)\u001b[39;00m\n\u001b[1;32m---> 39\u001b[0m inp_file \u001b[38;5;241m=\u001b[39m \u001b[43mLoadInp\u001b[49m\u001b[43m(\u001b[49m\u001b[43mgmsh_params\u001b[49m\u001b[43m,\u001b[49m\u001b[43mdf\u001b[49m\u001b[43m,\u001b[49m\u001b[43mparams\u001b[49m\u001b[43m)\u001b[49m\n\u001b[0;32m     41\u001b[0m \u001b[38;5;66;03m# inp_file.SetUniqueNodes()\u001b[39;00m\n",
      "File \u001b[1;32mc:\\Users\\djoroya\\Documents\\GitHub\\YarnBraid-solo\\src\\model\\inflation\\table\\LoadInp.py:115\u001b[0m, in \u001b[0;36mLoadInp\u001b[1;34m(gmsh_params, df, params)\u001b[0m\n\u001b[0;32m    114\u001b[0m \u001b[38;5;66;03m# add nset center of the circle\u001b[39;00m\n\u001b[1;32m--> 115\u001b[0m id_nearst \u001b[38;5;241m=\u001b[39m \u001b[43mnp\u001b[49m\u001b[38;5;241;43m.\u001b[39;49m\u001b[43margmin\u001b[49m\u001b[43m(\u001b[49m\u001b[43mdist\u001b[49m\u001b[43m)\u001b[49m\n\u001b[0;32m    116\u001b[0m id_center \u001b[38;5;241m=\u001b[39m id_bot[id_nearst]\n",
      "File \u001b[1;32mc:\\Users\\djoroya\\Documents\\GitHub\\YarnBraid-solo\\.conda\\Lib\\site-packages\\numpy\\core\\fromnumeric.py:1325\u001b[0m, in \u001b[0;36margmin\u001b[1;34m(a, axis, out, keepdims)\u001b[0m\n\u001b[0;32m   1324\u001b[0m kwds \u001b[38;5;241m=\u001b[39m {\u001b[38;5;124m'\u001b[39m\u001b[38;5;124mkeepdims\u001b[39m\u001b[38;5;124m'\u001b[39m: keepdims} \u001b[38;5;28;01mif\u001b[39;00m keepdims \u001b[38;5;129;01mis\u001b[39;00m \u001b[38;5;129;01mnot\u001b[39;00m np\u001b[38;5;241m.\u001b[39m_NoValue \u001b[38;5;28;01melse\u001b[39;00m {}\n\u001b[1;32m-> 1325\u001b[0m \u001b[38;5;28;01mreturn\u001b[39;00m \u001b[43m_wrapfunc\u001b[49m\u001b[43m(\u001b[49m\u001b[43ma\u001b[49m\u001b[43m,\u001b[49m\u001b[43m \u001b[49m\u001b[38;5;124;43m'\u001b[39;49m\u001b[38;5;124;43margmin\u001b[39;49m\u001b[38;5;124;43m'\u001b[39;49m\u001b[43m,\u001b[49m\u001b[43m \u001b[49m\u001b[43maxis\u001b[49m\u001b[38;5;241;43m=\u001b[39;49m\u001b[43maxis\u001b[49m\u001b[43m,\u001b[49m\u001b[43m \u001b[49m\u001b[43mout\u001b[49m\u001b[38;5;241;43m=\u001b[39;49m\u001b[43mout\u001b[49m\u001b[43m,\u001b[49m\u001b[43m \u001b[49m\u001b[38;5;241;43m*\u001b[39;49m\u001b[38;5;241;43m*\u001b[39;49m\u001b[43mkwds\u001b[49m\u001b[43m)\u001b[49m\n",
      "File \u001b[1;32mc:\\Users\\djoroya\\Documents\\GitHub\\YarnBraid-solo\\.conda\\Lib\\site-packages\\numpy\\core\\fromnumeric.py:59\u001b[0m, in \u001b[0;36m_wrapfunc\u001b[1;34m(obj, method, *args, **kwds)\u001b[0m\n\u001b[0;32m     58\u001b[0m \u001b[38;5;28;01mtry\u001b[39;00m:\n\u001b[1;32m---> 59\u001b[0m     \u001b[38;5;28;01mreturn\u001b[39;00m \u001b[43mbound\u001b[49m\u001b[43m(\u001b[49m\u001b[38;5;241;43m*\u001b[39;49m\u001b[43margs\u001b[49m\u001b[43m,\u001b[49m\u001b[43m \u001b[49m\u001b[38;5;241;43m*\u001b[39;49m\u001b[38;5;241;43m*\u001b[39;49m\u001b[43mkwds\u001b[49m\u001b[43m)\u001b[49m\n\u001b[0;32m     60\u001b[0m \u001b[38;5;28;01mexcept\u001b[39;00m \u001b[38;5;167;01mTypeError\u001b[39;00m:\n\u001b[0;32m     61\u001b[0m     \u001b[38;5;66;03m# A TypeError occurs if the object does have such a method in its\u001b[39;00m\n\u001b[0;32m     62\u001b[0m     \u001b[38;5;66;03m# class, but its signature is not identical to that of NumPy's. This\u001b[39;00m\n\u001b[1;32m   (...)\u001b[0m\n\u001b[0;32m     66\u001b[0m     \u001b[38;5;66;03m# Call _wrapit from within the except clause to ensure a potential\u001b[39;00m\n\u001b[0;32m     67\u001b[0m     \u001b[38;5;66;03m# exception has a traceback chain.\u001b[39;00m\n",
      "\u001b[1;31mValueError\u001b[0m: attempt to get argmin of an empty sequence",
      "\nDuring handling of the above exception, another exception occurred:\n",
      "\u001b[1;31mException\u001b[0m                                 Traceback (most recent call last)",
      "Cell \u001b[1;32mIn[4], line 1\u001b[0m\n\u001b[1;32m----> 1\u001b[0m \u001b[43mRunInflation\u001b[49m\u001b[43m(\u001b[49m\u001b[43mparams_inflation\u001b[49m\u001b[43m,\u001b[49m\u001b[43m \u001b[49m\u001b[43moutfolder_inflation\u001b[49m\u001b[43m)\u001b[49m\n",
      "File \u001b[1;32mc:\\Users\\djoroya\\Documents\\GitHub\\YarnBraid-solo\\src\\tools\\step\\runstep.py:47\u001b[0m, in \u001b[0;36mrunstep.<locals>.wa\u001b[1;34m(*args, **kwargs)\u001b[0m\n\u001b[0;32m     45\u001b[0m     \u001b[38;5;28;01mwith\u001b[39;00m \u001b[38;5;28mopen\u001b[39m(error_log,\u001b[38;5;124m\"\u001b[39m\u001b[38;5;124mw\u001b[39m\u001b[38;5;124m\"\u001b[39m) \u001b[38;5;28;01mas\u001b[39;00m f:\n\u001b[0;32m     46\u001b[0m         f\u001b[38;5;241m.\u001b[39mwrite(traceback\u001b[38;5;241m.\u001b[39mformat_exc())\n\u001b[1;32m---> 47\u001b[0m     \u001b[38;5;28;01mraise\u001b[39;00m \u001b[38;5;167;01mException\u001b[39;00m(e)\n\u001b[0;32m     48\u001b[0m     err \u001b[38;5;241m=\u001b[39m \u001b[38;5;241m1\u001b[39m\n\u001b[0;32m     49\u001b[0m os\u001b[38;5;241m.\u001b[39mchdir(current_folder)\n",
      "\u001b[1;31mException\u001b[0m: attempt to get argmin of an empty sequence"
     ]
    }
   ],
   "source": [
    "RunInflation(params_inflation, outfolder_inflation)"
   ]
  },
  {
   "cell_type": "code",
   "execution_count": null,
   "metadata": {},
   "outputs": [],
   "source": []
  }
 ],
 "metadata": {
  "kernelspec": {
   "display_name": "Python 3",
   "language": "python",
   "name": "python3"
  },
  "language_info": {
   "codemirror_mode": {
    "name": "ipython",
    "version": 3
   },
   "file_extension": ".py",
   "mimetype": "text/x-python",
   "name": "python",
   "nbconvert_exporter": "python",
   "pygments_lexer": "ipython3",
   "version": "3.11.9"
  }
 },
 "nbformat": 4,
 "nbformat_minor": 2
}
