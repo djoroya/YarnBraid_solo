{
 "cells": [
  {
   "cell_type": "code",
   "execution_count": 1,
   "metadata": {},
   "outputs": [],
   "source": [
    "from tools.basic.path_gen   import path_gen\n",
    "from tools.step.pprint     import pprint\n",
    "\n",
    "from model.lammps.default          import default\n",
    "\n",
    "import os\n",
    "\n",
    "from model.lammps.RunLammps         import RunLammps\n"
   ]
  },
  {
   "cell_type": "code",
   "execution_count": 2,
   "metadata": {},
   "outputs": [],
   "source": [
    "main_path = [\"output\"]"
   ]
  },
  {
   "attachments": {},
   "cell_type": "markdown",
   "metadata": {},
   "source": [
    "# Step 01. LAMMPS"
   ]
  },
  {
   "cell_type": "code",
   "execution_count": 3,
   "metadata": {},
   "outputs": [],
   "source": [
    "# Initialize the parameters\n",
    "params_lmp = default()\n",
    "params_lmp[\"Npoints\"] = 250\n",
    "params_lmp[\"RUN_STEPS_DEFORM\"] = 5000\n",
    "params_lmp[\"RUN_STEPS_EQ\"]     = 1\n",
    "params_lmp[\"errate\"]  = 0\n",
    "params_lmp[\"nhilos\"]  = 4\n",
    "params_lmp[\"r_hilo\"] = 15\n",
    "params_lmp[\"h\"] =50\n",
    "params_lmp[\"dist_factor\"] = 0.8\n",
    "params_lmp[\"r0_factor\"] = 0.0005\n",
    "params_lmp[\"yukawa\"][\"A\"] = 1000\n",
    "params_lmp[\"hilo_central\"] = 0\n",
    "params_lmp[\"Remesh\"] = False\n",
    "params_lmp[\"V0_bond\"] = 38000\n",
    "params_lmp[\"OMP_NUM_THREADS\"] = 4\n",
    "params_lmp[\"mpi\"] = True"
   ]
  },
  {
   "cell_type": "code",
   "execution_count": 4,
   "metadata": {},
   "outputs": [
    {
     "name": "stdout",
     "output_type": "stream",
     "text": [
      "\u001b[34melapsed             \u001b[39m: 0 h  -  0 m  -  0 s\n",
      "\u001b[31merror               \u001b[31m: 1\n",
      "\u001b[31merror_msg           \u001b[31m: No execution\n",
      "\u001b[34mverbose             \u001b[39m: True\n",
      "\u001b[34mNpoints             \u001b[39m: 250\n",
      "\u001b[34mhilo_central        \u001b[39m: 0\n",
      "\u001b[34mtheta               \u001b[39m: 0.8901179185171081\n",
      "\u001b[34mfactor              \u001b[39m: 4\n",
      "\u001b[34mRemesh              \u001b[39m: False\n",
      "\u001b[34mRUN_STEPS_EQ        \u001b[39m: 1\n",
      "\u001b[34mRUN_STEPS_DEFORM    \u001b[39m: 5000\n",
      "\u001b[34merrate              \u001b[39m: 0\n",
      "\u001b[34mnhilos              \u001b[39m: 4\n",
      "\u001b[34mdist_factor         \u001b[39m: 0.8\n",
      "\u001b[34mr0_factor           \u001b[39m: 0.0005\n",
      "\u001b[34mV0_bond             \u001b[39m: 38000\n",
      "\u001b[34mr_hebra             \u001b[39m: 0.2\n",
      "\u001b[34mexternal_hilos      \u001b[39m: False\n",
      "\u001b[34mrecompute_dist      \u001b[39m: False\n",
      "\u001b[34mrecompute_factor    \u001b[39m: 1\n",
      "\u001b[34mNpoints_density     \u001b[39m: None\n",
      "\u001b[34myukawa              \u001b[39m: \n",
      "\t- A\n",
      "\t-kappa\n",
      "\t-cutoff\n",
      "\t-...\n",
      "\u001b[34mOMP_NUM_THREADS     \u001b[39m: 4\n",
      "\u001b[34mmpi                 \u001b[39m: True\n",
      "\u001b[34mmpi_np              \u001b[39m: 4\n",
      "\u001b[34mr_hilo              \u001b[39m: 15\n",
      "\u001b[34mh                   \u001b[39m: 50\n"
     ]
    }
   ],
   "source": [
    "pprint(params_lmp)"
   ]
  },
  {
   "cell_type": "code",
   "execution_count": 5,
   "metadata": {},
   "outputs": [
    {
     "name": "stdout",
     "output_type": "stream",
     "text": [
      "mpiexec -n 4 \"C:\\Users\\djoroya\\AppData\\Local\\LAMMPS 64-bit 2Aug2023-MSMPI\\bin\\lmp.exe\" -in in.lammps > out.lammps\n",
      "Output file: c:\\Users\\djoroya\\Documents\\GitHub\\YarnBraid-solo\\simulations\\2024-07-04__15-01-35__20384\\out.lammps\n"
     ]
    }
   ],
   "source": [
    "RunLammps(params_lmp,main_path)"
   ]
  },
  {
   "cell_type": "code",
   "execution_count": 6,
   "metadata": {},
   "outputs": [
    {
     "name": "stdout",
     "output_type": "stream",
     "text": [
      "\u001b[34melapsed             \u001b[39m: 0 h  -  0 m  -  12.31 s\n",
      "\u001b[32merror               \u001b[32m: 0\n",
      "\u001b[32merror_msg           \u001b[32m: Correct Execution\n",
      "\u001b[34mverbose             \u001b[39m: True\n",
      "\u001b[34mNpoints             \u001b[39m: 250\n",
      "\u001b[34mhilo_central        \u001b[39m: 0\n",
      "\u001b[34mtheta               \u001b[39m: 0.8901179185171081\n",
      "\u001b[34mfactor              \u001b[39m: 4\n",
      "\u001b[34mRemesh              \u001b[39m: False\n",
      "\u001b[34mRUN_STEPS_EQ        \u001b[39m: 1\n",
      "\u001b[34mRUN_STEPS_DEFORM    \u001b[39m: 5000\n",
      "\u001b[34merrate              \u001b[39m: 0\n",
      "\u001b[34mnhilos              \u001b[39m: 4\n",
      "\u001b[34mdist_factor         \u001b[39m: 0.8\n",
      "\u001b[34mr0_factor           \u001b[39m: 0.0005\n",
      "\u001b[34mV0_bond             \u001b[39m: 38000\n",
      "\u001b[34mr_hebra             \u001b[39m: 0.2\n",
      "\u001b[34mexternal_hilos      \u001b[39m: False\n",
      "\u001b[34mrecompute_dist      \u001b[39m: False\n",
      "\u001b[34mrecompute_factor    \u001b[39m: 1\n",
      "\u001b[34mNpoints_density     \u001b[39m: None\n",
      "\u001b[34myukawa              \u001b[39m: \n",
      "\t- A\n",
      "\t-kappa\n",
      "\t-cutoff\n",
      "\t-...\n",
      "\u001b[34mOMP_NUM_THREADS     \u001b[39m: 4\n",
      "\u001b[34mmpi                 \u001b[39m: True\n",
      "\u001b[34mmpi_np              \u001b[39m: 4\n",
      "\u001b[34mr_hilo              \u001b[39m: 2.6213650621782913\n",
      "\u001b[34mh                   \u001b[39m: 20.339401332041597\n",
      "\u001b[34mfunction            \u001b[39m: \n",
      "\t- name\n",
      "\t-file\n",
      "\t-...\n",
      "\u001b[34msimulation_path     \u001b[39m: 2024-07-04__15-01-35__20384\n",
      "\u001b[34minit_time           \u001b[39m: 2024-07-04 15:01:35\n",
      "\u001b[34mL_hilo              \u001b[39m: 27.605994537582525\n",
      "\u001b[34mr_mean              \u001b[39m: 2.625590645514552\n",
      "\u001b[34mtrajs               \u001b[39m: np array with shape(64, 250, 3)\n",
      "\u001b[34mWriteDataLmp        \u001b[39m: c:\\Users\\djoroya\\Documents\\GitHub\\YarnBraid-solo\\simulations\\2024-07-04__15-01-35__20384\\data.lammps\n",
      "\u001b[34mWriteRunLmp         \u001b[39m: c:\\Users\\djoroya\\Documents\\GitHub\\YarnBraid-solo\\simulations\\2024-07-04__15-01-35__20384\\in.lammps\n",
      "\u001b[34mradius_compute_per_run\u001b[39m: 0.4\n",
      "\u001b[34mParseLmp            \u001b[39m: c:\\Users\\djoroya\\Documents\\GitHub\\YarnBraid-solo\\simulations\\2024-07-04__15-01-35__20384\\data.csv\n",
      "\u001b[34mdf                  \u001b[39m: Pandas DataFrame with shape (7164, 4)\n",
      "\u001b[34mold_df              \u001b[39m: Pandas DataFrame with shape (8000, 4)\n",
      "\u001b[34mradius              \u001b[39m: 0.19662637784895537\n",
      "\u001b[34mdump_last           \u001b[39m: c:\\Users\\djoroya\\Documents\\GitHub\\YarnBraid-solo\\simulations\\2024-07-04__15-01-35__20384\\data_last.lammps\n",
      "\u001b[34mfinal_time          \u001b[39m: 2024-07-04 15:01:47\n"
     ]
    }
   ],
   "source": [
    "pprint(params_lmp)"
   ]
  },
  {
   "cell_type": "code",
   "execution_count": 12,
   "metadata": {},
   "outputs": [],
   "source": [
    "import os\n",
    "from tools.step.rerun import rerun\n",
    "\n",
    "\n",
    "json_file = os.path.join(*(main_path + \\\n",
    "                           [params_lmp[\"simulation_path\"]])) + \".json\""
   ]
  },
  {
   "cell_type": "code",
   "execution_count": 16,
   "metadata": {},
   "outputs": [],
   "source": []
  },
  {
   "cell_type": "code",
   "execution_count": 18,
   "metadata": {},
   "outputs": [
    {
     "name": "stdout",
     "output_type": "stream",
     "text": [
      "Simulation exists. It will be overwritten\n",
      "['output']\n",
      "mpiexec -n 4 \"C:\\Users\\djoroya\\AppData\\Local\\LAMMPS 64-bit 2Aug2023-MSMPI\\bin\\lmp.exe\" -in in.lammps > out.lammps\n",
      "Output file: c:\\Users\\djoroya\\Documents\\GitHub\\YarnBraid-solo\\simulations\\2024-07-04__15-01-35__20384\\out.lammps\n"
     ]
    }
   ],
   "source": [
    "rerun(json_file,overwrite=True)"
   ]
  },
  {
   "cell_type": "code",
   "execution_count": null,
   "metadata": {},
   "outputs": [],
   "source": [
    "import shutil,os\n",
    "join = os.path.join\n",
    "from settings.simulations import simulations\n",
    "from tools.basic.loadsavejson import loadjson\n",
    "def deletesim(json_file):\n",
    "    \n",
    "    sim_params = loadjson(json_file)\n",
    "\n",
    "    simulation_path = sim_params[\"simulation_path\"]\n",
    "\n",
    "    sim_path_abs = join(simulations(),simulation_path)\n",
    "\n",
    "    if os.path.exists(sim_path_abs):\n",
    "        shutil.rmtree(sim_path_abs)\n",
    "        print(\"Simulation deleted\")\n",
    "        shutil.rmtree(json_file)\n",
    "        print(\"Initial json file deleted\")\n",
    "    else:\n",
    "        print(\"Simulation not found\")\n",
    "    \n",
    "\n",
    "\n"
   ]
  }
 ],
 "metadata": {
  "kernelspec": {
   "display_name": "Python 3",
   "language": "python",
   "name": "python3"
  },
  "language_info": {
   "codemirror_mode": {
    "name": "ipython",
    "version": 3
   },
   "file_extension": ".py",
   "mimetype": "text/x-python",
   "name": "python",
   "nbconvert_exporter": "python",
   "pygments_lexer": "ipython3",
   "version": "3.11.9"
  }
 },
 "nbformat": 4,
 "nbformat_minor": 2
}
