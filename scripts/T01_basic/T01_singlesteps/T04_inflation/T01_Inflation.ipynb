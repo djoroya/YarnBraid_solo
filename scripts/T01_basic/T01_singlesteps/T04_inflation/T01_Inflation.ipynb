{
 "cells": [
  {
   "cell_type": "code",
   "execution_count": 1,
   "metadata": {},
   "outputs": [],
   "source": [
    "from tools.basic.path_gen  import path_gen\n",
    "from tools.step.pprint     import pprint\n",
    "\n",
    "from model.inflation.default                  import default\n",
    "from model.inflation.RunInflation   import RunInflation\n",
    "\n",
    "import os,glob"
   ]
  },
  {
   "cell_type": "code",
   "execution_count": 2,
   "metadata": {},
   "outputs": [],
   "source": [
    "main_path = os.path.join(\"output\", path_gen())"
   ]
  },
  {
   "cell_type": "code",
   "execution_count": 3,
   "metadata": {},
   "outputs": [],
   "source": [
    "main_path = os.path.join(\"output\", path_gen())\n",
    "join = os.path.join\n",
    "gmsh_path = glob.glob(join(\"..\" , \"T03_gmsh\", \"output\", \"*\"))"
   ]
  },
  {
   "cell_type": "code",
   "execution_count": 4,
   "metadata": {},
   "outputs": [],
   "source": [
    "main_path = [\"output\"]\n",
    "join = os.path.join\n",
    "gmsh_path = glob.glob(join(\"..\" , \"T03_gmsh\", \"output\", \"*\"))\n",
    "gmsh_path = [ os.path.basename(i).replace(\".json\",\"\") for i in gmsh_path]"
   ]
  },
  {
   "cell_type": "code",
   "execution_count": 5,
   "metadata": {},
   "outputs": [
    {
     "data": {
      "text/plain": [
       "['2024-07-06__07-44-44__35643',\n",
       " '2024-07-06__07-45-17__83162',\n",
       " '2024-08-26__14-12-22__69985',\n",
       " '2024-08-27__10-23-04__63400',\n",
       " '2024-08-27__10-24-19__14945',\n",
       " '2024-08-27__10-29-40__75998',\n",
       " '2024-08-27__10-31-12__70379',\n",
       " '2024-08-27__10-36-28__53976',\n",
       " '2024-09-23__09-14-34__86854',\n",
       " '2024-09-23__09-21-03__26452']"
      ]
     },
     "execution_count": 5,
     "metadata": {},
     "output_type": "execute_result"
    }
   ],
   "source": [
    "gmsh_path"
   ]
  },
  {
   "attachments": {},
   "cell_type": "markdown",
   "metadata": {},
   "source": [
    "# Step 04. INFLATION"
   ]
  },
  {
   "cell_type": "code",
   "execution_count": 6,
   "metadata": {},
   "outputs": [
    {
     "name": "stdout",
     "output_type": "stream",
     "text": [
      "\u001b[34msettings_step       \u001b[39m: \n",
      "\t- has_children\n",
      "\t-has_parent\n",
      "\t-verbose\n",
      "\t-...\n",
      "\u001b[34mpressure            \u001b[39m: 800\n",
      "\u001b[34mauto_pressure       \u001b[39m: True\n",
      "\u001b[34mOMP_NUM_THREADS     \u001b[39m: 16\n",
      "\u001b[34mattemps             \u001b[39m: 4\n",
      "\u001b[34msurface_behavior    \u001b[39m: \n",
      "\t- type\n",
      "\t-dist\n",
      "\t-pressure\n",
      "\t-...\n",
      "\u001b[34mradius_target       \u001b[39m: 10\n",
      "\u001b[34mrho                 \u001b[39m: 0.00097\n",
      "\u001b[34mcalculix_dynamic    \u001b[39m: False\n",
      "\u001b[34mmpi                 \u001b[39m: True\n",
      "\u001b[34mmpi_np              \u001b[39m: 4\n",
      "\u001b[34mnsteps              \u001b[39m: 1\n",
      "\u001b[34mnlgeom              \u001b[39m: True\n",
      "\u001b[34mgmsh_path           \u001b[39m: 2024-09-23__09-21-03__26452\n",
      "\u001b[34mncpus               \u001b[39m: 4\n"
     ]
    }
   ],
   "source": [
    "params_infl = default()\n",
    "\n",
    "params_infl[\"gmsh_path\"] = gmsh_path[-1]\n",
    "params_infl[\"pressure\"]  = 800 # Pa\n",
    "params_infl[\"auto_pressure\"] = True\n",
    "params_infl[\"ncpus\"]     = 4\n",
    "params_infl[\"mpi\"]       = True\n",
    "params_infl[\"mpi_np\"]    = 4\n",
    "pprint(params_infl)"
   ]
  },
  {
   "cell_type": "code",
   "execution_count": 7,
   "metadata": {},
   "outputs": [
    {
     "name": "stdout",
     "output_type": "stream",
     "text": [
      "\u001b[34mtype                \u001b[39m: hard\n",
      "\u001b[34mdist                \u001b[39m: 0.1\n",
      "\u001b[34mpressure            \u001b[39m: 1000\n"
     ]
    }
   ],
   "source": [
    "pprint(params_infl[\"surface_behavior\"])"
   ]
  },
  {
   "cell_type": "code",
   "execution_count": 8,
   "metadata": {},
   "outputs": [
    {
     "name": "stdout",
     "output_type": "stream",
     "text": [
      "Nsets have been created\n",
      "Running Calculix at:  c:\\Users\\djoroya\\Documents\\GitHub\\YarnBraid-solo\\simulations\\2024-09-23__09-21-24__70851\n",
      "Output file:  c:\\Users\\djoroya\\Documents\\GitHub\\YarnBraid-solo\\simulations\\2024-09-23__09-21-24__70851\\out.txt\n",
      "Command:\n",
      " mpiexec -n 4 c:\\Users\\djoroya\\Documents\\GitHub\\YarnBraid_30_05_2024\\YarnBraid\\src\\dependences\\PrePoMax\\Solver\\ccx_dynamic.exe init\n",
      "Error reading cvf file\n",
      "\n",
      "pid:  14128 \n",
      "\n",
      "Calculix finished\n",
      "\n"
     ]
    }
   ],
   "source": [
    "RunInflation(params_infl,main_path)"
   ]
  },
  {
   "cell_type": "code",
   "execution_count": 9,
   "metadata": {},
   "outputs": [
    {
     "name": "stdout",
     "output_type": "stream",
     "text": [
      "\u001b[34msettings_step       \u001b[39m: \n",
      "\t- has_children\n",
      "\t-has_parent\n",
      "\t-verbose\n",
      "\t-...\n",
      "\u001b[34mpressure            \u001b[39m: 986.6666666666666\n",
      "\u001b[34mauto_pressure       \u001b[39m: True\n",
      "\u001b[34mOMP_NUM_THREADS     \u001b[39m: 16\n",
      "\u001b[34mattemps             \u001b[39m: 4\n",
      "\u001b[34msurface_behavior    \u001b[39m: \n",
      "\t- type\n",
      "\t-dist\n",
      "\t-pressure\n",
      "\t-...\n",
      "\u001b[34mradius_target       \u001b[39m: 10\n",
      "\u001b[34mrho                 \u001b[39m: 0.00097\n",
      "\u001b[34mmpi                 \u001b[39m: True\n",
      "\u001b[34mmpi_np              \u001b[39m: 4\n",
      "\u001b[34mnsteps              \u001b[39m: 1\n",
      "\u001b[34mnlgeom              \u001b[39m: True\n",
      "\u001b[34mgmsh_path           \u001b[39m: 2024-09-23__09-21-03__26452\n",
      "\u001b[34mncpus               \u001b[39m: 4\n",
      "\u001b[34mfunction            \u001b[39m: \n",
      "\t- name\n",
      "\t-file\n",
      "\t-...\n",
      "\u001b[34mmetadata            \u001b[39m: \n",
      "\t- elapsed\n",
      "\t-error\n",
      "\t-error_msg\n",
      "\t-init_time\n",
      "\t-final_time\n",
      "\t-...\n",
      "\u001b[34msimulation_path     \u001b[39m: 2024-09-23__09-21-24__70851\n",
      "\u001b[34mtheta               \u001b[39m: 0.8901179185171081\n",
      "\u001b[34mr_hebra             \u001b[39m: 0.135\n",
      "\u001b[34mcontacts            \u001b[39m: np array with shape(0, 2)\n",
      "\u001b[34mnsets               \u001b[39m: \n",
      "\t- esqueleto_1\n",
      "\t-SURF_1\n",
      "\t-FACE_TOP_1\n",
      "\t-FACE_BOT_1\n",
      "\t-Yarn_1_1\n",
      "\t-Yarn_1_2\n",
      "\t-Yarn_1_3\n",
      "\t-FACE_TOP_CENTRAL_1\n",
      "\t-FACE_BOT_CENTRAL_1\n",
      "\t-P2_esqueleto_2\n",
      "\t-...\n",
      "\u001b[34mfrd                 \u001b[39m: c:\\Users\\djoroya\\Documents\\GitHub\\YarnBraid-solo\\simulations\\2024-09-23__09-21-24__70851\\init.frd\n",
      "\u001b[34myarn_radius         \u001b[39m: 0.07118156172246073\n",
      "\u001b[34myarn_radius_std     \u001b[39m: 0.07124052203758523\n",
      "\u001b[34mradius_max          \u001b[39m: 2.264095388524691\n",
      "\u001b[34mradius_min          \u001b[39m: 1.276786048911191\n",
      "\u001b[34mheight              \u001b[39m: 4.53775245068947\n",
      "\u001b[34mlinear_density      \u001b[39m: 0.0069936981449585205\n",
      "\u001b[34mdenier              \u001b[39m: 62943.28330462668\n",
      "\u001b[34mdenier_per_filament \u001b[39m: 983.4888016347919\n",
      "\u001b[34mlinear_density_per_filament\u001b[39m: 0.00010927653351497688\n",
      "\u001b[34mvolume              \u001b[39m: 32.71718662815207\n",
      "\u001b[34myarn_radius_homotecia\u001b[39m: 0.135\n",
      "\u001b[34mhometecia           \u001b[39m: 1.8965585572057195\n"
     ]
    }
   ],
   "source": [
    "pprint(params_infl)"
   ]
  },
  {
   "cell_type": "code",
   "execution_count": 10,
   "metadata": {},
   "outputs": [],
   "source": [
    "import os\n",
    "from tools.step.rerun import rerun\n",
    "json_file = os.path.join(*(main_path + \\\n",
    "                           [params_infl[\"simulation_path\"]])) + \".json\""
   ]
  },
  {
   "cell_type": "code",
   "execution_count": 11,
   "metadata": {},
   "outputs": [
    {
     "name": "stdout",
     "output_type": "stream",
     "text": [
      "Simulation exists. It will be overwritten\n",
      "['output']\n",
      "Nsets have been created\n",
      "Running Calculix at:  c:\\Users\\djoroya\\Documents\\GitHub\\YarnBraid-solo\\simulations\\2024-09-23__09-21-24__70851\n",
      "Output file:  c:\\Users\\djoroya\\Documents\\GitHub\\YarnBraid-solo\\simulations\\2024-09-23__09-21-24__70851\\out.txt\n",
      "Command:\n",
      " mpiexec -n 4 c:\\Users\\djoroya\\Documents\\GitHub\\YarnBraid_30_05_2024\\YarnBraid\\src\\dependences\\PrePoMax\\Solver\\ccx_dynamic.exe init\n",
      "Error reading cvf file\n",
      "\n",
      "pid:  11156 \n",
      "\n",
      "Calculix finished\n",
      "\n"
     ]
    }
   ],
   "source": [
    "rerun(json_file,overwrite=True)"
   ]
  }
 ],
 "metadata": {
  "kernelspec": {
   "display_name": "Python 3",
   "language": "python",
   "name": "python3"
  },
  "language_info": {
   "codemirror_mode": {
    "name": "ipython",
    "version": 3
   },
   "file_extension": ".py",
   "mimetype": "text/x-python",
   "name": "python",
   "nbconvert_exporter": "python",
   "pygments_lexer": "ipython3",
   "version": "3.11.9"
  }
 },
 "nbformat": 4,
 "nbformat_minor": 2
}
