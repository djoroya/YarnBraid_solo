{
 "cells": [
  {
   "cell_type": "code",
   "execution_count": 1,
   "metadata": {},
   "outputs": [],
   "source": [
    "from tools.basic.path_gen  import path_gen\n",
    "from tools.step.pprint     import pprint\n",
    "\n",
    "from model.inflation.default                  import default\n",
    "from model.inflation.RunInflation   import RunInflation\n",
    "\n",
    "import os,glob"
   ]
  },
  {
   "cell_type": "code",
   "execution_count": 2,
   "metadata": {},
   "outputs": [],
   "source": [
    "main_path = os.path.join(\"output\", path_gen())"
   ]
  },
  {
   "cell_type": "code",
   "execution_count": 3,
   "metadata": {},
   "outputs": [],
   "source": [
    "main_path = os.path.join(\"output\", path_gen())\n",
    "join = os.path.join\n",
    "gmsh_path = glob.glob(join(\"..\" , \"T03_gmsh\", \"output\", \"*\"))"
   ]
  },
  {
   "cell_type": "code",
   "execution_count": 4,
   "metadata": {},
   "outputs": [],
   "source": [
    "main_path = [\"output\"]\n",
    "join = os.path.join\n",
    "gmsh_path = glob.glob(join(\"..\" , \"T03_gmsh\", \"output\", \"*\"))\n",
    "gmsh_path = [ os.path.basename(i).replace(\".json\",\"\") for i in gmsh_path]"
   ]
  },
  {
   "cell_type": "code",
   "execution_count": 5,
   "metadata": {},
   "outputs": [
    {
     "data": {
      "text/plain": [
       "['2024-07-06__07-44-44__35643',\n",
       " '2024-07-06__07-45-17__83162',\n",
       " '2024-08-26__14-12-22__69985',\n",
       " '2024-08-27__10-23-04__63400',\n",
       " '2024-08-27__10-24-19__14945',\n",
       " '2024-08-27__10-29-40__75998',\n",
       " '2024-08-27__10-31-12__70379',\n",
       " '2024-08-27__10-36-28__53976']"
      ]
     },
     "execution_count": 5,
     "metadata": {},
     "output_type": "execute_result"
    }
   ],
   "source": [
    "gmsh_path"
   ]
  },
  {
   "attachments": {},
   "cell_type": "markdown",
   "metadata": {},
   "source": [
    "# Step 04. INFLATION"
   ]
  },
  {
   "cell_type": "code",
   "execution_count": 6,
   "metadata": {},
   "outputs": [
    {
     "name": "stdout",
     "output_type": "stream",
     "text": [
      "\u001b[34msettings_step       \u001b[39m: \n",
      "\t- has_children\n",
      "\t-has_parent\n",
      "\t-verbose\n",
      "\t-...\n",
      "\u001b[34mpressure            \u001b[39m: 800\n",
      "\u001b[34mauto_pressure       \u001b[39m: True\n",
      "\u001b[34mOMP_NUM_THREADS     \u001b[39m: 16\n",
      "\u001b[34mattemps             \u001b[39m: 4\n",
      "\u001b[34msurface_behavior    \u001b[39m: \n",
      "\t- type\n",
      "\t-dist\n",
      "\t-pressure\n",
      "\t-...\n",
      "\u001b[34mradius_target       \u001b[39m: 10\n",
      "\u001b[34mrho                 \u001b[39m: 0.00097\n",
      "\u001b[34mcalculix_dynamic    \u001b[39m: False\n",
      "\u001b[34mmpi                 \u001b[39m: True\n",
      "\u001b[34mmpi_np              \u001b[39m: 4\n",
      "\u001b[34mnsteps              \u001b[39m: 1\n",
      "\u001b[34mnlgeom              \u001b[39m: True\n",
      "\u001b[34mgmsh_path           \u001b[39m: 2024-08-27__10-36-28__53976\n",
      "\u001b[34mncpus               \u001b[39m: 4\n"
     ]
    }
   ],
   "source": [
    "params_infl = default()\n",
    "\n",
    "params_infl[\"gmsh_path\"] = gmsh_path[-1]\n",
    "params_infl[\"pressure\"]  = 800 # Pa\n",
    "params_infl[\"auto_pressure\"] = True\n",
    "params_infl[\"ncpus\"]     = 4\n",
    "params_infl[\"mpi\"]       = True\n",
    "params_infl[\"mpi_np\"]    = 4\n",
    "pprint(params_infl)"
   ]
  },
  {
   "cell_type": "code",
   "execution_count": 7,
   "metadata": {},
   "outputs": [
    {
     "name": "stdout",
     "output_type": "stream",
     "text": [
      "\u001b[34mtype                \u001b[39m: hard\n",
      "\u001b[34mdist                \u001b[39m: 0.1\n",
      "\u001b[34mpressure            \u001b[39m: 1000\n"
     ]
    }
   ],
   "source": [
    "pprint(params_infl[\"surface_behavior\"])"
   ]
  },
  {
   "cell_type": "code",
   "execution_count": 8,
   "metadata": {},
   "outputs": [
    {
     "name": "stdout",
     "output_type": "stream",
     "text": [
      "Nsets have been created\n",
      "Running Calculix at:  c:\\Users\\djoroya\\Documents\\GitHub\\YarnBraid-solo\\simulations\\2024-08-28__19-12-42__71255\n",
      "Output file:  c:\\Users\\djoroya\\Documents\\GitHub\\YarnBraid-solo\\simulations\\2024-08-28__19-12-42__71255\\out.txt\n",
      "Command:\n",
      " mpiexec -n 4 c:\\Users\\djoroya\\Documents\\GitHub\\YarnBraid_30_05_2024\\YarnBraid\\src\\dependences\\PrePoMax\\Solver\\ccx_dynamic.exe init\n",
      "Error reading cvf file\n",
      "\n",
      "pid:  9080 \n",
      "\n",
      "SUMMARY OF C0NVERGENCE INFORMATION\n",
      "Calculix finished\n",
      "\n"
     ]
    }
   ],
   "source": [
    "RunInflation(params_infl,main_path)"
   ]
  },
  {
   "cell_type": "code",
   "execution_count": 9,
   "metadata": {},
   "outputs": [
    {
     "name": "stdout",
     "output_type": "stream",
     "text": [
      "\u001b[34msettings_step       \u001b[39m: \n",
      "\t- has_children\n",
      "\t-has_parent\n",
      "\t-verbose\n",
      "\t-...\n",
      "\u001b[34mpressure            \u001b[39m: 986.6666666666666\n",
      "\u001b[34mauto_pressure       \u001b[39m: True\n",
      "\u001b[34mOMP_NUM_THREADS     \u001b[39m: 16\n",
      "\u001b[34mattemps             \u001b[39m: 4\n",
      "\u001b[34msurface_behavior    \u001b[39m: \n",
      "\t- type\n",
      "\t-dist\n",
      "\t-pressure\n",
      "\t-...\n",
      "\u001b[34mradius_target       \u001b[39m: 10\n",
      "\u001b[34mrho                 \u001b[39m: 0.00097\n",
      "\u001b[34mmpi                 \u001b[39m: True\n",
      "\u001b[34mmpi_np              \u001b[39m: 4\n",
      "\u001b[34mnsteps              \u001b[39m: 1\n",
      "\u001b[34mnlgeom              \u001b[39m: True\n",
      "\u001b[34mgmsh_path           \u001b[39m: 2024-08-27__10-36-28__53976\n",
      "\u001b[34mncpus               \u001b[39m: 4\n",
      "\u001b[34mfunction            \u001b[39m: \n",
      "\t- name\n",
      "\t-file\n",
      "\t-...\n",
      "\u001b[34mmetadata            \u001b[39m: \n",
      "\t- elapsed\n",
      "\t-error\n",
      "\t-error_msg\n",
      "\t-init_time\n",
      "\t-final_time\n",
      "\t-...\n",
      "\u001b[34msimulation_path     \u001b[39m: 2024-08-28__19-12-42__71255\n",
      "\u001b[34mtheta               \u001b[39m: 0.8901179185171081\n",
      "\u001b[34mr_hebra             \u001b[39m: 0.2\n",
      "\u001b[34mcontacts            \u001b[39m: np array with shape(62, 2)\n",
      "\u001b[34mnsets               \u001b[39m: \n",
      "\t- esqueleto_1\n",
      "\t-SURF_1\n",
      "\t-FACE_TOP_1\n",
      "\t-FACE_BOT_1\n",
      "\t-Yarn_1_1\n",
      "\t-Yarn_1_2\n",
      "\t-Yarn_1_3\n",
      "\t-FACE_TOP_CENTRAL_1\n",
      "\t-FACE_BOT_CENTRAL_1\n",
      "\t-P2_esqueleto_2\n",
      "\t-...\n",
      "\u001b[34mfrd                 \u001b[39m: c:\\Users\\djoroya\\Documents\\GitHub\\YarnBraid-solo\\simulations\\2024-08-28__19-12-42__71255\\init.frd\n",
      "\u001b[34myarn_radius         \u001b[39m: 0.10379041705825783\n",
      "\u001b[34myarn_radius_std     \u001b[39m: 0.10379959782214447\n",
      "\u001b[34mradius_max          \u001b[39m: 3.039354932968279\n",
      "\u001b[34mradius_min          \u001b[39m: 1.8214461862707474\n",
      "\u001b[34mheight              \u001b[39m: 7.077383739461101\n",
      "\u001b[34mlinear_density      \u001b[39m: 0.014497560006446704\n",
      "\u001b[34mdenier              \u001b[39m: 130478.04005802034\n",
      "\u001b[34mdenier_per_filament \u001b[39m: 2038.7193759065678\n",
      "\u001b[34mlinear_density_per_filament\u001b[39m: 0.00022652437510072975\n",
      "\u001b[34mvolume              \u001b[39m: 105.77813820069736\n",
      "\u001b[34myarn_radius_homotecia\u001b[39m: 0.2\n",
      "\u001b[34mhometecia           \u001b[39m: 1.9269601729005434\n"
     ]
    }
   ],
   "source": [
    "pprint(params_infl)"
   ]
  },
  {
   "cell_type": "code",
   "execution_count": 10,
   "metadata": {},
   "outputs": [],
   "source": [
    "import os\n",
    "from tools.step.rerun import rerun\n",
    "json_file = os.path.join(*(main_path + \\\n",
    "                           [params_infl[\"simulation_path\"]])) + \".json\""
   ]
  },
  {
   "cell_type": "code",
   "execution_count": 11,
   "metadata": {},
   "outputs": [
    {
     "name": "stdout",
     "output_type": "stream",
     "text": [
      "Simulation exists. It will be overwritten\n",
      "['output']\n",
      "Nsets have been created\n",
      "Running Calculix at:  c:\\Users\\djoroya\\Documents\\GitHub\\YarnBraid-solo\\simulations\\2024-08-28__19-12-42__71255\n",
      "Output file:  c:\\Users\\djoroya\\Documents\\GitHub\\YarnBraid-solo\\simulations\\2024-08-28__19-12-42__71255\\out.txt\n",
      "Command:\n",
      " mpiexec -n 4 c:\\Users\\djoroya\\Documents\\GitHub\\YarnBraid_30_05_2024\\YarnBraid\\src\\dependences\\PrePoMax\\Solver\\ccx_dynamic.exe init\n",
      "Error reading cvf file\n",
      "\n",
      "pid:  644 \n",
      "\n",
      "SUMMARY OF C0NVERGENCE INFORMATION\n",
      "Calculix finished\n",
      "\n"
     ]
    }
   ],
   "source": [
    "rerun(json_file,overwrite=True)"
   ]
  }
 ],
 "metadata": {
  "kernelspec": {
   "display_name": "Python 3",
   "language": "python",
   "name": "python3"
  },
  "language_info": {
   "codemirror_mode": {
    "name": "ipython",
    "version": 3
   },
   "file_extension": ".py",
   "mimetype": "text/x-python",
   "name": "python",
   "nbconvert_exporter": "python",
   "pygments_lexer": "ipython3",
   "version": "3.11.9"
  }
 },
 "nbformat": 4,
 "nbformat_minor": 2
}
