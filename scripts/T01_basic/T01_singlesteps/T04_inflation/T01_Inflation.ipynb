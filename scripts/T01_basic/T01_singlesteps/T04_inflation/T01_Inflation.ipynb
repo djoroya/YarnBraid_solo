{
 "cells": [
  {
   "cell_type": "code",
   "execution_count": 1,
   "metadata": {},
   "outputs": [],
   "source": [
    "from tools.basic.path_gen  import path_gen\n",
    "from tools.step.pprint     import pprint\n",
    "\n",
    "from model.default                  import *\n",
    "from model.inflation.RunInflation   import RunInflation\n",
    "\n",
    "import os,glob"
   ]
  },
  {
   "cell_type": "code",
   "execution_count": 2,
   "metadata": {},
   "outputs": [],
   "source": [
    "main_path = os.path.join(\"output\", path_gen())"
   ]
  },
  {
   "cell_type": "code",
   "execution_count": 3,
   "metadata": {},
   "outputs": [],
   "source": [
    "main_path = os.path.join(\"output\", path_gen())\n",
    "join = os.path.join\n",
    "gmsh_path = glob.glob(join(\"..\" , \"T03_gmsh\", \"output\", \"*\"))"
   ]
  },
  {
   "cell_type": "code",
   "execution_count": 4,
   "metadata": {},
   "outputs": [
    {
     "data": {
      "text/plain": [
       "['..\\\\T03_gmsh\\\\output\\\\2024-07-02__15-59-44__19497',\n",
       " '..\\\\T03_gmsh\\\\output\\\\2024-07-02__15-59-47__91716']"
      ]
     },
     "execution_count": 4,
     "metadata": {},
     "output_type": "execute_result"
    }
   ],
   "source": [
    "gmsh_path"
   ]
  },
  {
   "attachments": {},
   "cell_type": "markdown",
   "metadata": {},
   "source": [
    "# Step 04. INFLATION"
   ]
  },
  {
   "cell_type": "code",
   "execution_count": 5,
   "metadata": {},
   "outputs": [
    {
     "name": "stdout",
     "output_type": "stream",
     "text": [
      "\u001b[34melapsed             \u001b[39m: 0 h  -  0 m  -  0 s\n",
      "\u001b[31merror               \u001b[31m: 1\n",
      "\u001b[31merror_msg           \u001b[31m: No execution\n",
      "\u001b[34mverbose             \u001b[39m: True\n",
      "\u001b[34mpressure            \u001b[39m: 800\n",
      "\u001b[34mOMP_NUM_THREADS     \u001b[39m: 16\n",
      "\u001b[34mattemps             \u001b[39m: 4\n",
      "\u001b[34msurface_behavior    \u001b[39m: \n",
      "\t- type\n",
      "\t-dist\n",
      "\t-pressure\n",
      "\t-...\n",
      "\u001b[34mradius_target       \u001b[39m: 10\n",
      "\u001b[34mrho                 \u001b[39m: 0.00097\n",
      "\u001b[34mcalculix_dynamic    \u001b[39m: False\n",
      "\u001b[34mmpi                 \u001b[39m: True\n",
      "\u001b[34mmpi_np              \u001b[39m: 4\n",
      "\u001b[34mnsteps              \u001b[39m: 1\n",
      "\u001b[34mgmsh_path           \u001b[39m: ..\\T03_gmsh\\output\\2024-07-02__15-59-47__91716\n",
      "\u001b[34mncpus               \u001b[39m: 4\n"
     ]
    }
   ],
   "source": [
    "params_infl = inflation_default()\n",
    "\n",
    "params_infl[\"gmsh_path\"] = gmsh_path[-1]\n",
    "params_infl[\"pressure\"]  = 800 # Pa\n",
    "params_infl[\"ncpus\"]     = 4\n",
    "params_infl[\"mpi\"]       = True\n",
    "params_infl[\"mpi_np\"]    = 4\n",
    "pprint(params_infl)"
   ]
  },
  {
   "cell_type": "code",
   "execution_count": 6,
   "metadata": {},
   "outputs": [
    {
     "name": "stdout",
     "output_type": "stream",
     "text": [
      "\u001b[34mtype                \u001b[39m: hard\n",
      "\u001b[34mdist                \u001b[39m: 0.1\n",
      "\u001b[34mpressure            \u001b[39m: 1000\n"
     ]
    }
   ],
   "source": [
    "pprint(params_infl[\"surface_behavior\"])"
   ]
  },
  {
   "cell_type": "code",
   "execution_count": 7,
   "metadata": {},
   "outputs": [
    {
     "name": "stdout",
     "output_type": "stream",
     "text": [
      "Nsets have been created\n",
      "Running Calculix at:  output\\2024-07-02__16-06-41__94035\n",
      "Output file:  c:\\Users\\djoroya\\Documents\\GitHub\\YarnBraid-solo\\scripts\\T01_basic\\T01_singlesteps\\T04_inflation\\output\\2024-07-02__16-06-41__94035\\out.txt\n",
      "Command:\n",
      " mpiexec -n 4 c:\\Users\\djoroya\\Documents\\GitHub\\YarnBraid_30_05_2024\\YarnBraid\\src\\dependences\\PrePoMax\\Solver\\ccx_dynamic.exe init\n",
      "Error reading cvf file\n",
      "\n",
      "pid:  17104 \n",
      "\n",
      "SUMMARY OF C0NVERGENCE INFORMATION\n",
      "  STEP   INC  ATT   ITER     CONT.   RESID.        CORR.      RESID.      CORR.\n",
      "                              EL.    FORCE         DISP       FLUX        TEMP.\n",
      "                              (#)     (%)           (%)        (%)         (%)\n",
      "     1     1     1     1        0  0.0000E+00  0.1000E+03  0.0000E+00  0.0000E+00\n",
      "     1     1     1     2   274750  0.0000E+00  0.5047E+02  0.0000E+00  0.0000E+00\n",
      "     1     1     1     3   188913  0.0000E+00  0.1877E+02  0.0000E+00  0.0000E+00\n",
      "     1     1     1     4   168155  0.0000E+00  0.6696E+01  0.0000E+00  0.0000E+00\n",
      "     1     1     1     5   164449  0.0000E+00  0.1349E+01  0.0000E+00  0.0000E+00\n",
      "     1     1     1     6   164006  0.0000E+00  0.6846E-01  0.0000E+00  0.0000E+00\n",
      "     1     1     1     7   164001  0.0000E+00  0.1070E-02  0.0000E+00  0.0000E+00\n",
      "Calculix finished\n",
      "\n"
     ]
    }
   ],
   "source": [
    "RunInflation(params_infl,main_path)"
   ]
  },
  {
   "cell_type": "code",
   "execution_count": 8,
   "metadata": {},
   "outputs": [
    {
     "name": "stdout",
     "output_type": "stream",
     "text": [
      "\u001b[34melapsed             \u001b[39m: 0 h  -  0 m  -  42.97 s\n",
      "\u001b[32merror               \u001b[32m: 0\n",
      "\u001b[32merror_msg           \u001b[32m: Correct Execution\n",
      "\u001b[34mverbose             \u001b[39m: True\n",
      "\u001b[34mpressure            \u001b[39m: 800\n",
      "\u001b[34mOMP_NUM_THREADS     \u001b[39m: 16\n",
      "\u001b[34mattemps             \u001b[39m: 4\n",
      "\u001b[34msurface_behavior    \u001b[39m: \n",
      "\t- type\n",
      "\t-dist\n",
      "\t-pressure\n",
      "\t-...\n",
      "\u001b[34mradius_target       \u001b[39m: 10\n",
      "\u001b[34mrho                 \u001b[39m: 0.00097\n",
      "\u001b[34mmpi                 \u001b[39m: True\n",
      "\u001b[34mmpi_np              \u001b[39m: 4\n",
      "\u001b[34mnsteps              \u001b[39m: 1\n",
      "\u001b[34mgmsh_path           \u001b[39m: ..\\T03_gmsh\\output\\2024-07-02__15-59-47__91716\n",
      "\u001b[34mncpus               \u001b[39m: 4\n",
      "\u001b[34moutput_folder       \u001b[39m: output\\2024-07-02__16-06-41__94035\n",
      "\u001b[34minit_time           \u001b[39m: 2024-07-02 16:06:41\n",
      "\u001b[34mtheta               \u001b[39m: 0.8901179185171081\n",
      "\u001b[34mr_hebra             \u001b[39m: 0.2\n",
      "\u001b[34mcontacts            \u001b[39m: np array with shape(548, 2)\n",
      "\u001b[34mnsets               \u001b[39m: \n",
      "\t- esqueleto_1\n",
      "\t-SURF_1\n",
      "\t-FACE_TOP_1\n",
      "\t-FACE_BOT_1\n",
      "\t-Yarn_1_1\n",
      "\t-Yarn_1_2\n",
      "\t-Yarn_1_3\n",
      "\t-FACE_TOP_CENTRAL_1\n",
      "\t-FACE_BOT_CENTRAL_1\n",
      "\t-P2_esqueleto_2\n",
      "\t-...\n",
      "\u001b[34mfrd                 \u001b[39m: output\\2024-07-02__16-06-41__94035\\init.frd\n",
      "\u001b[34myarn_radius         \u001b[39m: 0.11863673536749395\n",
      "\u001b[34myarn_radius_std     \u001b[39m: 0.11866286916221737\n",
      "\u001b[34mradius_max          \u001b[39m: 3.262328010836513\n",
      "\u001b[34mradius_min          \u001b[39m: 1.8624477418827756\n",
      "\u001b[34mheight              \u001b[39m: 5.996924930513019\n",
      "\u001b[34mlinear_density      \u001b[39m: 0.016394072438825034\n",
      "\u001b[34mdenier              \u001b[39m: 147546.65194942532\n",
      "\u001b[34mdenier_per_filament \u001b[39m: 2305.4164367097706\n",
      "\u001b[34mlinear_density_per_filament\u001b[39m: 0.00025615738185664116\n",
      "\u001b[34mvolume              \u001b[39m: 101.35465928869257\n",
      "\u001b[34myarn_radius_homotecia\u001b[39m: 0.2\n",
      "\u001b[34mhometecia           \u001b[39m: 1.6858184725032421\n",
      "\u001b[34mfinal_time          \u001b[39m: 2024-07-02 16:07:24\n",
      "\u001b[34mroot_folder         \u001b[39m: c:\\Users\\djoroya\\Documents\\GitHub\\YarnBraid-solo\\scripts\\T01_basic\\T01_singlesteps\\T04_inflation\\\n"
     ]
    }
   ],
   "source": [
    "pprint(params_infl)"
   ]
  }
 ],
 "metadata": {
  "kernelspec": {
   "display_name": "Python 3",
   "language": "python",
   "name": "python3"
  },
  "language_info": {
   "codemirror_mode": {
    "name": "ipython",
    "version": 3
   },
   "file_extension": ".py",
   "mimetype": "text/x-python",
   "name": "python",
   "nbconvert_exporter": "python",
   "pygments_lexer": "ipython3",
   "version": "3.11.9"
  }
 },
 "nbformat": 4,
 "nbformat_minor": 2
}
