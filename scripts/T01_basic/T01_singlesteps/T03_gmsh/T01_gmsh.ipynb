{
 "cells": [
  {
   "cell_type": "code",
   "execution_count": 7,
   "metadata": {},
   "outputs": [],
   "source": [
    "from tools.basic.path_gen      import path_gen\n",
    "from tools.step.pprint         import pprint\n",
    "from model.default  import *\n",
    "import os,glob\n",
    "from model.gmsh.RunGmsh import RunGmsh"
   ]
  },
  {
   "cell_type": "code",
   "execution_count": 8,
   "metadata": {},
   "outputs": [],
   "source": [
    "main_path = os.path.join(\"output/\", path_gen())"
   ]
  },
  {
   "cell_type": "code",
   "execution_count": 9,
   "metadata": {},
   "outputs": [],
   "source": [
    "main_path = os.path.join(\"output\", path_gen())\n",
    "join = os.path.join\n",
    "lsdyna_path = glob.glob(join(\"..\" , \"T02_lsdyna\", \"output\", \"*\"))"
   ]
  },
  {
   "cell_type": "code",
   "execution_count": 10,
   "metadata": {},
   "outputs": [
    {
     "data": {
      "text/plain": [
       "['..\\\\T02_lsdyna\\\\output\\\\2024-07-02__15-59-30__21466']"
      ]
     },
     "execution_count": 10,
     "metadata": {},
     "output_type": "execute_result"
    }
   ],
   "source": [
    "lsdyna_path"
   ]
  },
  {
   "attachments": {},
   "cell_type": "markdown",
   "metadata": {},
   "source": [
    "# Step 03. GMSH"
   ]
  },
  {
   "cell_type": "code",
   "execution_count": 11,
   "metadata": {},
   "outputs": [
    {
     "name": "stdout",
     "output_type": "stream",
     "text": [
      "\u001b[34melapsed             \u001b[39m: 0 h  -  0 m  -  0 s\n",
      "\u001b[31merror               \u001b[31m: 1\n",
      "\u001b[31merror_msg           \u001b[31m: No execution\n",
      "\u001b[34mverbose             \u001b[39m: True\n",
      "\u001b[34msize_element        \u001b[39m: None\n",
      "\u001b[34mAlgorithm           \u001b[39m: 1\n",
      "\u001b[34mfactor              \u001b[39m: None\n",
      "\u001b[34mlsdyna_path         \u001b[39m: ..\\T02_lsdyna\\output\\2024-07-02__15-59-30__21466\n"
     ]
    }
   ],
   "source": [
    "params_gmsh = gmsh_default()\n",
    "params_gmsh[\"lsdyna_path\"]   = lsdyna_path[0]\n",
    "params_gmsh[\"size_element\"]          = None\n",
    "pprint(params_gmsh)"
   ]
  },
  {
   "cell_type": "code",
   "execution_count": 13,
   "metadata": {},
   "outputs": [
    {
     "name": "stderr",
     "output_type": "stream",
     "text": [
      "64it [00:14,  4.34it/s]\n"
     ]
    }
   ],
   "source": [
    "RunGmsh(params_gmsh,main_path)"
   ]
  },
  {
   "cell_type": "code",
   "execution_count": 2,
   "metadata": {},
   "outputs": [
    {
     "name": "stdout",
     "output_type": "stream",
     "text": [
      "Pretty printing has been turned ON\n"
     ]
    }
   ],
   "source": [
    "pprint(params_gmsh)"
   ]
  }
 ],
 "metadata": {
  "kernelspec": {
   "display_name": "Python 3",
   "language": "python",
   "name": "python3"
  },
  "language_info": {
   "codemirror_mode": {
    "name": "ipython",
    "version": 3
   },
   "file_extension": ".py",
   "mimetype": "text/x-python",
   "name": "python",
   "nbconvert_exporter": "python",
   "pygments_lexer": "ipython3",
   "version": "3.11.9"
  }
 },
 "nbformat": 4,
 "nbformat_minor": 2
}
