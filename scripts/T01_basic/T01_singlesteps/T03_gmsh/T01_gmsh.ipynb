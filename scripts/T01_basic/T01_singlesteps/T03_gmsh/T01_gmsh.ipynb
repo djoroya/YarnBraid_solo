{
 "cells": [
  {
   "cell_type": "code",
   "execution_count": 1,
   "metadata": {},
   "outputs": [],
   "source": [
    "from tools.basic.path_gen      import path_gen\n",
    "from tools.step.pprint         import pprint\n",
    "from model.Gmsh.default  import default\n",
    "import os,glob\n",
    "from model.Gmsh.RunGmsh import RunGmsh"
   ]
  },
  {
   "cell_type": "code",
   "execution_count": 2,
   "metadata": {},
   "outputs": [],
   "source": [
    "main_path = os.path.join(\"output/\", path_gen())"
   ]
  },
  {
   "cell_type": "code",
   "execution_count": 3,
   "metadata": {},
   "outputs": [],
   "source": [
    "main_path = [\"output\"]\n",
    "join = os.path.join\n",
    "lsdyna_path = glob.glob(join(\"..\" , \"T02_lsdyna\", \"output\", \"*\"))\n",
    "lsdyna_path = [ os.path.basename(i).replace(\".json\",\"\") for i in lsdyna_path]"
   ]
  },
  {
   "cell_type": "code",
   "execution_count": 4,
   "metadata": {},
   "outputs": [
    {
     "data": {
      "text/plain": [
       "['2024-07-03__17-05-21__76595',\n",
       " '2024-07-03__17-08-06__87144',\n",
       " '2024-07-03__17-08-30__69437',\n",
       " '2024-07-03__17-10-03__70977',\n",
       " '2024-07-04__09-07-31__97190',\n",
       " '2024-07-04__15-13-37__82697',\n",
       " '2024-07-04__15-15-46__34639',\n",
       " '2024-07-04__15-18-06__85826',\n",
       " '2024-07-05__09-41-33__91362',\n",
       " '2024-07-05__09-41-49__83375']"
      ]
     },
     "execution_count": 4,
     "metadata": {},
     "output_type": "execute_result"
    }
   ],
   "source": [
    "lsdyna_path"
   ]
  },
  {
   "attachments": {},
   "cell_type": "markdown",
   "metadata": {},
   "source": [
    "# Step 03. GMSH"
   ]
  },
  {
   "cell_type": "code",
   "execution_count": 5,
   "metadata": {},
   "outputs": [
    {
     "name": "stdout",
     "output_type": "stream",
     "text": [
      "\u001b[34melapsed             \u001b[39m: 0 h  -  0 m  -  0 s\n",
      "\u001b[31merror               \u001b[31m: 1\n",
      "\u001b[31merror_msg           \u001b[31m: No execution\n",
      "\u001b[34mverbose             \u001b[39m: True\n",
      "\u001b[34msize_element        \u001b[39m: None\n",
      "\u001b[34mAlgorithm           \u001b[39m: 1\n",
      "\u001b[34mfactor              \u001b[39m: None\n",
      "\u001b[34mlsdyna_path         \u001b[39m: 2024-07-05__09-41-49__83375\n"
     ]
    }
   ],
   "source": [
    "params_gmsh = default()\n",
    "params_gmsh[\"lsdyna_path\"]   = lsdyna_path[-1]\n",
    "params_gmsh[\"size_element\"]          = None\n",
    "pprint(params_gmsh)"
   ]
  },
  {
   "cell_type": "code",
   "execution_count": 6,
   "metadata": {},
   "outputs": [
    {
     "name": "stderr",
     "output_type": "stream",
     "text": [
      "64it [00:12,  5.08it/s]\n"
     ]
    }
   ],
   "source": [
    "RunGmsh(params_gmsh,main_path)"
   ]
  },
  {
   "cell_type": "code",
   "execution_count": 7,
   "metadata": {},
   "outputs": [
    {
     "name": "stdout",
     "output_type": "stream",
     "text": [
      "\u001b[34melapsed             \u001b[39m: 0 h  -  0 m  -  12.6 s\n",
      "\u001b[32merror               \u001b[32m: 0\n",
      "\u001b[32merror_msg           \u001b[32m: Correct Execution\n",
      "\u001b[34mverbose             \u001b[39m: True\n",
      "\u001b[34msize_element        \u001b[39m: 0.21600000000000003\n",
      "\u001b[34mAlgorithm           \u001b[39m: 1\n",
      "\u001b[34mfactor              \u001b[39m: None\n",
      "\u001b[34mlsdyna_path         \u001b[39m: 2024-07-05__09-41-49__83375\n",
      "\u001b[34mfunction            \u001b[39m: \n",
      "\t- name\n",
      "\t-file\n",
      "\t-...\n",
      "\u001b[34msimulation_path     \u001b[39m: 2024-07-05__09-49-11__58792\n",
      "\u001b[34minit_time           \u001b[39m: 2024-07-05 09:49:11\n",
      "\u001b[34mfinal_time          \u001b[39m: 2024-07-05 09:49:24\n"
     ]
    }
   ],
   "source": [
    "pprint(params_gmsh)"
   ]
  },
  {
   "cell_type": "code",
   "execution_count": 8,
   "metadata": {},
   "outputs": [],
   "source": [
    "import os\n",
    "from tools.step.rerun import rerun\n",
    "json_file = os.path.join(*(main_path + \\\n",
    "                           [params_gmsh[\"simulation_path\"]])) + \".json\""
   ]
  },
  {
   "cell_type": "code",
   "execution_count": 9,
   "metadata": {},
   "outputs": [
    {
     "name": "stdout",
     "output_type": "stream",
     "text": [
      "Simulation exists. It will be overwritten\n",
      "['output']\n"
     ]
    },
    {
     "name": "stderr",
     "output_type": "stream",
     "text": [
      "64it [00:12,  4.96it/s]\n"
     ]
    }
   ],
   "source": [
    "rerun(json_file,overwrite=True)"
   ]
  }
 ],
 "metadata": {
  "kernelspec": {
   "display_name": "Python 3",
   "language": "python",
   "name": "python3"
  },
  "language_info": {
   "codemirror_mode": {
    "name": "ipython",
    "version": 3
   },
   "file_extension": ".py",
   "mimetype": "text/x-python",
   "name": "python",
   "nbconvert_exporter": "python",
   "pygments_lexer": "ipython3",
   "version": "3.11.9"
  }
 },
 "nbformat": 4,
 "nbformat_minor": 2
}
