{
 "cells": [
  {
   "cell_type": "code",
   "execution_count": 10,
   "metadata": {},
   "outputs": [],
   "source": [
    "from tools.basic.path_gen   import path_gen\n",
    "from tools.step.pprint     import pprint\n",
    "\n",
    "from model.simulation.default          import default\n",
    "\n",
    "import os,glob\n",
    "\n",
    "from model.simulation.RunSimulation import RunSimulation\n"
   ]
  },
  {
   "cell_type": "code",
   "execution_count": 11,
   "metadata": {},
   "outputs": [],
   "source": [
    "out_simula = [\"output\"]\n",
    "join = os.path.join\n",
    "infla_path = glob.glob(join(\"..\" , \"T04_inflation\", \"output\", \"*\"))\n",
    "infla_path = [ os.path.basename(i).replace(\".json\",\"\") for i in infla_path]"
   ]
  },
  {
   "cell_type": "code",
   "execution_count": 12,
   "metadata": {},
   "outputs": [
    {
     "data": {
      "text/plain": [
       "['2024-07-03__17-22-44__33313',\n",
       " '2024-07-03__17-24-38__59929',\n",
       " '2024-07-03__17-25-25__38615',\n",
       " '2024-07-03__17-26-53__69908',\n",
       " '2024-07-05__09-56-19__35028',\n",
       " '2024-07-05__09-58-08__55411',\n",
       " '2024-07-05__09-58-41__35313',\n",
       " '2024-07-05__09-59-44__86883']"
      ]
     },
     "execution_count": 12,
     "metadata": {},
     "output_type": "execute_result"
    }
   ],
   "source": [
    "infla_path"
   ]
  },
  {
   "attachments": {},
   "cell_type": "markdown",
   "metadata": {},
   "source": [
    "# Step 05. SIMULATION"
   ]
  },
  {
   "cell_type": "code",
   "execution_count": 13,
   "metadata": {},
   "outputs": [
    {
     "name": "stdout",
     "output_type": "stream",
     "text": [
      "\u001b[34melapsed             \u001b[39m: 0 h  -  0 m  -  0 s\n",
      "\u001b[31merror               \u001b[31m: 1\n",
      "\u001b[31merror_msg           \u001b[31m: No execution\n",
      "\u001b[34mverbose             \u001b[39m: True\n",
      "\u001b[34mhas_children        \u001b[39m: False\n",
      "\u001b[34myoung               \u001b[39m: 2960\n",
      "\u001b[34mpoisson             \u001b[39m: 0.37\n",
      "\u001b[34mepsilon             \u001b[39m: 0.1\n",
      "\u001b[34mOMP_NUM_THREADS     \u001b[39m: 4\n",
      "\u001b[34mtype_bc             \u001b[39m: 3\n",
      "\u001b[34mattemps             \u001b[39m: 4\n",
      "\u001b[34mAdjust              \u001b[39m: False\n",
      "\u001b[34mnfixed              \u001b[39m: 3\n",
      "\u001b[34mnsteps              \u001b[39m: 2\n",
      "\u001b[34mnonlinear           \u001b[39m: False\n",
      "\u001b[34mcylindrical         \u001b[39m: False\n",
      "\u001b[34mnruns               \u001b[39m: 1\n",
      "\u001b[34msurface_interaction \u001b[39m: \n",
      "\t- type\n",
      "\t-factor_E\n",
      "\t-...\n",
      "\u001b[34mmax_mono            \u001b[39m: None\n",
      "\u001b[34mcalculix_dynamic    \u001b[39m: False\n",
      "\u001b[34mmpi                 \u001b[39m: True\n",
      "\u001b[34mmpi_np              \u001b[39m: 4\n",
      "\u001b[34minflation_path      \u001b[39m: 2024-07-05__09-59-44__86883\n",
      "\u001b[34mdisplacement        \u001b[39m: 0.1\n",
      "\u001b[34mradius              \u001b[39m: 10\n",
      "\u001b[34mncpus               \u001b[39m: 4\n"
     ]
    }
   ],
   "source": [
    "params_simu = default()\n",
    "params_simu[\"young\"]         = 2960      # MPa\n",
    "params_simu[\"poisson\"]       = 0.37 # Pa\n",
    "params_simu[\"displacement\"]  = 0.1         # mm\n",
    "params_simu[\"radius\"]        = 10           # mm\n",
    "params_simu[\"inflation_path\"] = infla_path[-1]\n",
    "params_simu[\"type_bc\"]      = 3\n",
    "params_simu[\"mpi\"] = True\n",
    "params_simu[\"mpi_np\"] = 4\n",
    "params_simu[\"ncpus\"] = 4 # number of cpus\n",
    "pprint(params_simu)"
   ]
  },
  {
   "cell_type": "code",
   "execution_count": 14,
   "metadata": {},
   "outputs": [
    {
     "name": "stdout",
     "output_type": "stream",
     "text": [
      "main_path:  ['output']\n"
     ]
    }
   ],
   "source": [
    "print(\"main_path: \", out_simula)"
   ]
  },
  {
   "cell_type": "code",
   "execution_count": 15,
   "metadata": {},
   "outputs": [
    {
     "name": "stdout",
     "output_type": "stream",
     "text": [
      "Running Calculix at:  c:\\Users\\djoroya\\Documents\\GitHub\\YarnBraid-solo\\simulations\\2024-07-05__14-54-36__71349\n",
      "Output file:  c:\\Users\\djoroya\\Documents\\GitHub\\YarnBraid-solo\\simulations\\2024-07-05__14-54-36__71349\\out.txt\n",
      "Command:\n",
      " mpiexec -n 4 c:\\Users\\djoroya\\Documents\\GitHub\\YarnBraid_30_05_2024\\YarnBraid\\src\\dependences\\PrePoMax\\Solver\\ccx_dynamic.exe init_new\n",
      "Error reading cvf file\n",
      "\n",
      "pid:  21560 \n",
      "\n"
     ]
    }
   ],
   "source": [
    "RunSimulation(params_simu,out_simula)"
   ]
  },
  {
   "cell_type": "code",
   "execution_count": null,
   "metadata": {},
   "outputs": [
    {
     "name": "stdout",
     "output_type": "stream",
     "text": [
      "\u001b[34melapsed             \u001b[39m: 0 h  -  0 m  -  0 s\n",
      "\u001b[31merror               \u001b[31m: 1\n",
      "\u001b[31merror_msg           \u001b[31m: No execution\n",
      "\u001b[34mverbose             \u001b[39m: True\n",
      "\u001b[34mhas_children        \u001b[39m: False\n",
      "\u001b[34myoung               \u001b[39m: 2960\n",
      "\u001b[34mpoisson             \u001b[39m: 0.37\n",
      "\u001b[34mepsilon             \u001b[39m: 0.1\n",
      "\u001b[34mOMP_NUM_THREADS     \u001b[39m: 4\n",
      "\u001b[34mtype_bc             \u001b[39m: 3\n",
      "\u001b[34mattemps             \u001b[39m: 4\n",
      "\u001b[34mAdjust              \u001b[39m: False\n",
      "\u001b[34mnfixed              \u001b[39m: 3\n",
      "\u001b[34mnsteps              \u001b[39m: 2\n",
      "\u001b[34mnonlinear           \u001b[39m: False\n",
      "\u001b[34mcylindrical         \u001b[39m: False\n",
      "\u001b[34mnruns               \u001b[39m: 1\n",
      "\u001b[34msurface_interaction \u001b[39m: \n",
      "\t- type\n",
      "\t-factor_E\n",
      "\t-...\n",
      "\u001b[34mmax_mono            \u001b[39m: None\n",
      "\u001b[34mmpi                 \u001b[39m: True\n",
      "\u001b[34mmpi_np              \u001b[39m: 4\n",
      "\u001b[34minflation_path      \u001b[39m: 2024-07-05__09-59-44__86883\n",
      "\u001b[34mdisplacement        \u001b[39m: 0.355730615\n",
      "\u001b[34mradius              \u001b[39m: 10\n",
      "\u001b[34mncpus               \u001b[39m: 4\n",
      "\u001b[34mfunction            \u001b[39m: \n",
      "\t- name\n",
      "\t-file\n",
      "\t-...\n",
      "\u001b[34mmetadata            \u001b[39m: \n",
      "\t- elapsed\n",
      "\t-error\n",
      "\t-error_msg\n",
      "\t-verbose\n",
      "\t-has_children\n",
      "\t-init_time\n",
      "\t-final_time\n",
      "\t-...\n",
      "\u001b[34msimulation_path     \u001b[39m: 2024-07-05__14-47-05__29264\n",
      "\u001b[34mheight              \u001b[39m: 3.5573061499999996\n",
      "\u001b[34mfrd                 \u001b[39m: c:\\Users\\djoroya\\Documents\\GitHub\\YarnBraid-solo\\simulations\\2024-07-05__14-47-05__29264\\init_new.frd\n",
      "\u001b[34mnsets               \u001b[39m: \n",
      "\t- esqueleto_1\n",
      "\t-SURF_1\n",
      "\t-FACE_TOP_1\n",
      "\t-FACE_BOT_1\n",
      "\t-Yarn_1_1\n",
      "\t-Yarn_1_2\n",
      "\t-Yarn_1_3\n",
      "\t-FACE_TOP_CENTRAL_1\n",
      "\t-FACE_BOT_CENTRAL_1\n",
      "\t-P2_esqueleto_2\n",
      "\t-...\n",
      "\u001b[34mr_hebra             \u001b[39m: 0.2\n",
      "\u001b[34mvolume              \u001b[39m: 32.4794911667\n"
     ]
    }
   ],
   "source": [
    "pprint(params_simu)"
   ]
  },
  {
   "cell_type": "code",
   "execution_count": null,
   "metadata": {},
   "outputs": [],
   "source": [
    "import os\n",
    "from tools.step.rerun import rerun\n",
    "json_file = os.path.join(*(out_simula + \\\n",
    "                           [params_simu[\"simulation_path\"]])) + \".json\""
   ]
  },
  {
   "cell_type": "code",
   "execution_count": 9,
   "metadata": {},
   "outputs": [
    {
     "name": "stdout",
     "output_type": "stream",
     "text": [
      "Simulation exists. It will be overwritten\n",
      "['output']\n",
      "Running Calculix at:  c:\\Users\\djoroya\\Documents\\GitHub\\YarnBraid-solo\\simulations\\2024-07-05__14-47-05__29264\n",
      "Output file:  c:\\Users\\djoroya\\Documents\\GitHub\\YarnBraid-solo\\simulations\\2024-07-05__14-47-05__29264\\out.txt\n",
      "Command:\n",
      " mpiexec -n 4 c:\\Users\\djoroya\\Documents\\GitHub\\YarnBraid_30_05_2024\\YarnBraid\\src\\dependences\\PrePoMax\\Solver\\ccx_dynamic.exe init_new\n",
      "Error reading cvf file\n",
      "\n",
      "pid:  24484 \n",
      "\n",
      "SUMMARY OF C0NVERGENCE INFORMATION\n",
      "  STEP   INC  ATT   ITER     CONT.   RESID.        CORR.      RESID.      CORR.\n",
      "                              EL.    FORCE         DISP       FLUX        TEMP.\n",
      "                              (#)     (%)           (%)        (%)         (%)\n",
      "     1     1     1     1   213062  0.4676E+06  0.1000E+03  0.0000E+00  0.0000E+00\n",
      "     1     1     1     2   212986  0.0000E+00  0.1000E+03  0.0000E+00  0.0000E+00\n",
      "     1     2     1     1   120024  0.0000E+00  0.1000E+03  0.0000E+00  0.0000E+00\n",
      "     1     2     1     2    73154  0.0000E+00  0.4443E+02  0.0000E+00  0.0000E+00\n",
      "     1     2     1     3    50807  0.0000E+00  0.4768E+02  0.0000E+00  0.0000E+00\n",
      "     1     2     1     4    40244  0.0000E+00  0.7284E+02  0.0000E+00  0.0000E+00\n",
      "     1     2     1     5    35270  0.0000E+00  0.6204E+02  0.0000E+00  0.0000E+00\n",
      "     1     2     1     6    32984  0.0000E+00  0.1000E+03  0.0000E+00  0.0000E+00\n",
      "     1     2     1     7    31622  0.0000E+00  0.6630E+02  0.0000E+00  0.0000E+00\n",
      "     1     2     1     8    30694  0.0000E+00  0.7586E+01  0.0000E+00  0.0000E+00\n",
      "     1     2     1     9    30405  0.0000E+00  0.1139E+01  0.0000E+00  0.0000E+00\n",
      "     1     2     1    10    30371  0.0000E+00  0.3127E+00  0.0000E+00  0.0000E+00\n",
      "     1     2     1    11    30366  0.0000E+00  0.1688E-01  0.0000E+00  0.0000E+00\n",
      "     2     1     1     1    30543  0.7441E+05  0.1000E+03  0.0000E+00  0.0000E+00\n",
      "     2     1     1     2    93107  0.0000E+00  0.6574E+02  0.0000E+00  0.0000E+00\n",
      "     2     1     1     3    87441  0.0000E+00  0.3563E+02  0.0000E+00  0.0000E+00\n",
      "     2     1     1     4    62469  0.0000E+00  0.2739E+02  0.0000E+00  0.0000E+00\n",
      "     2     1     1     5    47657  0.0000E+00  0.2177E+02  0.0000E+00  0.0000E+00\n",
      "     2     1     1     6    41217  0.0000E+00  0.1808E+02  0.0000E+00  0.0000E+00\n",
      "     2     1     1     7    37301  0.0000E+00  0.2215E+02  0.0000E+00  0.0000E+00\n",
      "     2     1     1     8    32377  0.0000E+00  0.3452E+02  0.0000E+00  0.0000E+00\n",
      "     2     1     1     9    31005  0.0000E+00  0.2141E+02  0.0000E+00  0.0000E+00\n",
      "     2     1     1    10    36161  0.0000E+00  0.7136E+01  0.0000E+00  0.0000E+00\n",
      "     2     1     1    11    32010  0.0000E+00  0.4199E+01  0.0000E+00  0.0000E+00\n",
      "     2     1     1    12    29806  0.0000E+00  0.9331E+00  0.0000E+00  0.0000E+00\n",
      "     2     1     1    13    28923  0.0000E+00  0.3857E+00  0.0000E+00  0.0000E+00\n",
      "     2     1     1    14    28615  0.0000E+00  0.3509E+00  0.0000E+00  0.0000E+00\n",
      "     2     1     1    15    28537  0.0000E+00  0.3124E-01  0.0000E+00  0.0000E+00\n",
      "     2     1     1    16    28527  0.0000E+00  0.3064E-02  0.0000E+00  0.0000E+00\n",
      "Calculix finished\n",
      "\n"
     ]
    }
   ],
   "source": [
    "rerun(json_file,overwrite=True)"
   ]
  },
  {
   "cell_type": "code",
   "execution_count": null,
   "metadata": {},
   "outputs": [],
   "source": []
  }
 ],
 "metadata": {
  "kernelspec": {
   "display_name": "Python 3",
   "language": "python",
   "name": "python3"
  },
  "language_info": {
   "codemirror_mode": {
    "name": "ipython",
    "version": 3
   },
   "file_extension": ".py",
   "mimetype": "text/x-python",
   "name": "python",
   "nbconvert_exporter": "python",
   "pygments_lexer": "ipython3",
   "version": "3.11.9"
  }
 },
 "nbformat": 4,
 "nbformat_minor": 2
}
