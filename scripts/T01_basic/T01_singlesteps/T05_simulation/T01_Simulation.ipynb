{
 "cells": [
  {
   "cell_type": "code",
   "execution_count": 1,
   "metadata": {},
   "outputs": [],
   "source": [
    "from tools.basic.path_gen   import path_gen\n",
    "from tools.step.pprint     import pprint\n",
    "\n",
    "from model.default          import *\n",
    "\n",
    "import os,glob\n",
    "\n",
    "from model.simulation.RunSimulation import RunSimulation\n"
   ]
  },
  {
   "cell_type": "code",
   "execution_count": 2,
   "metadata": {},
   "outputs": [],
   "source": [
    "main_path = os.path.join(\"output\", path_gen())\n",
    "join = os.path.join\n",
    "infla_path = glob.glob(join(\"..\" , \"T04_inflation\", \"output\", \"*\"))"
   ]
  },
  {
   "cell_type": "code",
   "execution_count": 3,
   "metadata": {},
   "outputs": [
    {
     "data": {
      "text/plain": [
       "['..\\\\T04_inflation\\\\output\\\\2024-07-02__16-06-41__94035']"
      ]
     },
     "execution_count": 3,
     "metadata": {},
     "output_type": "execute_result"
    }
   ],
   "source": [
    "infla_path"
   ]
  },
  {
   "cell_type": "code",
   "execution_count": 4,
   "metadata": {},
   "outputs": [],
   "source": [
    "out_simula = os.path.join(\"output\",path_gen())\n"
   ]
  },
  {
   "attachments": {},
   "cell_type": "markdown",
   "metadata": {},
   "source": [
    "# Step 05. SIMULATION"
   ]
  },
  {
   "cell_type": "code",
   "execution_count": 5,
   "metadata": {},
   "outputs": [
    {
     "name": "stdout",
     "output_type": "stream",
     "text": [
      "\u001b[34melapsed             \u001b[39m: 0 h  -  0 m  -  0 s\n",
      "\u001b[31merror               \u001b[31m: 1\n",
      "\u001b[31merror_msg           \u001b[31m: No execution\n",
      "\u001b[34mverbose             \u001b[39m: True\n",
      "\u001b[34myoung               \u001b[39m: 2960\n",
      "\u001b[34mpoisson             \u001b[39m: 0.37\n",
      "\u001b[34mepsilon             \u001b[39m: 0.1\n",
      "\u001b[34mOMP_NUM_THREADS     \u001b[39m: 4\n",
      "\u001b[34mtype_bc             \u001b[39m: 3\n",
      "\u001b[34mattemps             \u001b[39m: 4\n",
      "\u001b[34mAdjust              \u001b[39m: False\n",
      "\u001b[34mnfixed              \u001b[39m: 3\n",
      "\u001b[34mnsteps              \u001b[39m: 1\n",
      "\u001b[34mnonlinear           \u001b[39m: False\n",
      "\u001b[34mcylindrical         \u001b[39m: False\n",
      "\u001b[34mnruns               \u001b[39m: 1\n",
      "\u001b[34msurface_interaction \u001b[39m: \n",
      "\t- type\n",
      "\t-factor_E\n",
      "\t-...\n",
      "\u001b[34mmax_mono            \u001b[39m: None\n",
      "\u001b[34mcalculix_dynamic    \u001b[39m: False\n",
      "\u001b[34mmpi                 \u001b[39m: True\n",
      "\u001b[34mmpi_np              \u001b[39m: 4\n",
      "\u001b[34mdisplacement        \u001b[39m: 0.1\n",
      "\u001b[34mradius              \u001b[39m: 10\n",
      "\u001b[34minflation_path      \u001b[39m: ..\\T04_inflation\\output\\2024-07-02__16-06-41__94035\n",
      "\u001b[34mncpus               \u001b[39m: 4\n"
     ]
    }
   ],
   "source": [
    "params_simu = simulation_default()\n",
    "params_simu[\"young\"]         = 2960      # MPa\n",
    "params_simu[\"poisson\"]       = 0.37 # Pa\n",
    "params_simu[\"displacement\"]  = 0.1         # mm\n",
    "params_simu[\"radius\"]        = 10           # mm\n",
    "params_simu[\"inflation_path\"] = infla_path[-1]\n",
    "params_simu[\"type_bc\"]      = 3\n",
    "params_simu[\"mpi\"] = True\n",
    "params_simu[\"mpi_np\"] = 4\n",
    "params_simu[\"ncpus\"] = 4 # number of cpus\n",
    "pprint(params_simu)"
   ]
  },
  {
   "cell_type": "code",
   "execution_count": 6,
   "metadata": {},
   "outputs": [
    {
     "name": "stdout",
     "output_type": "stream",
     "text": [
      "main_path:  output\\2024-07-02__16-08-58__64810\n"
     ]
    }
   ],
   "source": [
    "print(\"main_path: \", out_simula)"
   ]
  },
  {
   "cell_type": "code",
   "execution_count": 7,
   "metadata": {},
   "outputs": [
    {
     "name": "stdout",
     "output_type": "stream",
     "text": [
      "Running Calculix at:  output\\2024-07-02__16-08-58__64810\n",
      "Output file:  c:\\Users\\djoroya\\Documents\\GitHub\\YarnBraid-solo\\scripts\\T01_basic\\T01_singlesteps\\T05_simulation\\output\\2024-07-02__16-08-58__64810\\out.txt\n",
      "Command:\n",
      " mpiexec -n 4 c:\\Users\\djoroya\\Documents\\GitHub\\YarnBraid_30_05_2024\\YarnBraid\\src\\dependences\\PrePoMax\\Solver\\ccx_dynamic.exe init_new\n",
      "Error reading cvf file\n",
      "\n",
      "pid:  17928 \n",
      "\n",
      "SUMMARY OF C0NVERGENCE INFORMATION\n",
      "  STEP   INC  ATT   ITER     CONT.   RESID.        CORR.      RESID.      CORR.\n",
      "                              EL.    FORCE         DISP       FLUX        TEMP.\n",
      "                              (#)     (%)           (%)        (%)         (%)\n",
      "     1     1     1     1   213851  0.0000E+00  0.1000E+03  0.0000E+00  0.0000E+00\n",
      "     1     1     1     2   117560  0.0000E+00  0.5346E+02  0.0000E+00  0.0000E+00\n",
      "     1     1     1     3    72293  0.0000E+00  0.2449E+02  0.0000E+00  0.0000E+00\n",
      "     1     1     1     4    50757  0.0000E+00  0.2722E+02  0.0000E+00  0.0000E+00\n",
      "     1     1     1     5    40521  0.0000E+00  0.4636E+02  0.0000E+00  0.0000E+00\n",
      "     1     1     1     6    35896  0.0000E+00  0.3976E+02  0.0000E+00  0.0000E+00\n",
      "     1     1     1     7    33949  0.0000E+00  0.5412E+02  0.0000E+00  0.0000E+00\n",
      "     1     1     1     8    32577  0.0000E+00  0.4622E+02  0.0000E+00  0.0000E+00\n",
      "     1     1     1     9    31911  0.0000E+00  0.9591E+01  0.0000E+00  0.0000E+00\n",
      "     1     1     1    10    31613  0.0000E+00  0.1194E+01  0.0000E+00  0.0000E+00\n",
      "     1     1     1    11    31529  0.0000E+00  0.4970E+00  0.0000E+00  0.0000E+00\n",
      "     1     1     1    12    31512  0.0000E+00  0.2046E+00  0.0000E+00  0.0000E+00\n",
      "Calculix finished\n",
      "\n"
     ]
    }
   ],
   "source": [
    "RunSimulation(params_simu,out_simula)"
   ]
  },
  {
   "cell_type": "code",
   "execution_count": 8,
   "metadata": {},
   "outputs": [
    {
     "name": "stdout",
     "output_type": "stream",
     "text": [
      "\u001b[34melapsed             \u001b[39m: 0 h  -  0 m  -  54.9 s\n",
      "\u001b[32merror               \u001b[32m: 0\n",
      "\u001b[32merror_msg           \u001b[32m: Correct Execution\n",
      "\u001b[34mverbose             \u001b[39m: True\n",
      "\u001b[34myoung               \u001b[39m: 2960\n",
      "\u001b[34mpoisson             \u001b[39m: 0.37\n",
      "\u001b[34mepsilon             \u001b[39m: 0.1\n",
      "\u001b[34mOMP_NUM_THREADS     \u001b[39m: 4\n",
      "\u001b[34mtype_bc             \u001b[39m: 3\n",
      "\u001b[34mattemps             \u001b[39m: 4\n",
      "\u001b[34mAdjust              \u001b[39m: False\n",
      "\u001b[34mnfixed              \u001b[39m: 3\n",
      "\u001b[34mnsteps              \u001b[39m: 1\n",
      "\u001b[34mnonlinear           \u001b[39m: False\n",
      "\u001b[34mcylindrical         \u001b[39m: False\n",
      "\u001b[34mnruns               \u001b[39m: 1\n",
      "\u001b[34msurface_interaction \u001b[39m: \n",
      "\t- type\n",
      "\t-factor_E\n",
      "\t-...\n",
      "\u001b[34mmax_mono            \u001b[39m: None\n",
      "\u001b[34mmpi                 \u001b[39m: True\n",
      "\u001b[34mmpi_np              \u001b[39m: 4\n",
      "\u001b[34mdisplacement        \u001b[39m: 0.355727798\n",
      "\u001b[34mradius              \u001b[39m: 10\n",
      "\u001b[34minflation_path      \u001b[39m: ..\\T04_inflation\\output\\2024-07-02__16-06-41__94035\n",
      "\u001b[34mncpus               \u001b[39m: 4\n",
      "\u001b[34moutput_folder       \u001b[39m: output\\2024-07-02__16-08-58__64810\n",
      "\u001b[34minit_time           \u001b[39m: 2024-07-02 16:08:58\n",
      "\u001b[34mheight              \u001b[39m: 3.55727798\n",
      "\u001b[34mfrd                 \u001b[39m: output\\2024-07-02__16-08-58__64810\\init_new.frd\n",
      "\u001b[34mnsets               \u001b[39m: \n",
      "\t- esqueleto_1\n",
      "\t-SURF_1\n",
      "\t-FACE_TOP_1\n",
      "\t-FACE_BOT_1\n",
      "\t-Yarn_1_1\n",
      "\t-Yarn_1_2\n",
      "\t-Yarn_1_3\n",
      "\t-FACE_TOP_CENTRAL_1\n",
      "\t-FACE_BOT_CENTRAL_1\n",
      "\t-P2_esqueleto_2\n",
      "\t-...\n",
      "\u001b[34mr_hebra             \u001b[39m: 0.2\n",
      "\u001b[34mvolume              \u001b[39m: 32.48017522098\n",
      "\u001b[34mfinal_time          \u001b[39m: 2024-07-02 16:09:53\n",
      "\u001b[34mroot_folder         \u001b[39m: c:\\Users\\djoroya\\Documents\\GitHub\\YarnBraid-solo\\scripts\\T01_basic\\T01_singlesteps\\T05_simulation\\\n"
     ]
    }
   ],
   "source": [
    "pprint(params_simu)"
   ]
  },
  {
   "cell_type": "code",
   "execution_count": 9,
   "metadata": {},
   "outputs": [],
   "source": [
    "from tools.basic.loadsavejson import loadjson"
   ]
  },
  {
   "cell_type": "code",
   "execution_count": 10,
   "metadata": {},
   "outputs": [
    {
     "data": {
      "text/plain": [
       "0.11863673536749395"
      ]
     },
     "execution_count": 10,
     "metadata": {},
     "output_type": "execute_result"
    }
   ],
   "source": [
    "params_infl = loadjson(params_simu[\"inflation_path\"]+\"/params.json\")\n",
    "params_infl[\"yarn_radius\"]"
   ]
  },
  {
   "cell_type": "code",
   "execution_count": 11,
   "metadata": {},
   "outputs": [],
   "source": [
    "from tools.calculix.frd.readfrd import readfrd"
   ]
  },
  {
   "cell_type": "code",
   "execution_count": 12,
   "metadata": {},
   "outputs": [],
   "source": [
    "face_bot_1 = params_simu[\"nsets\"][\"FACE_BOT_1\"]"
   ]
  },
  {
   "cell_type": "code",
   "execution_count": 13,
   "metadata": {},
   "outputs": [
    {
     "data": {
      "text/plain": [
       "array([  2,   8,   3, 130, 131, 132, 133, 134, 135,  25,  26,  27, 549,\n",
       "       550, 551,   2,   8,   1, 130, 131, 132, 244, 245, 246,  19,  20,\n",
       "        21, 738, 739, 740,   1,   2,   3,  19,  20,  21,  22,  23,  24,\n",
       "        25,  26,  27, 352, 353, 354, 355, 356, 357, 358])"
      ]
     },
     "execution_count": 13,
     "metadata": {},
     "output_type": "execute_result"
    }
   ],
   "source": [
    "face_bot_1"
   ]
  },
  {
   "cell_type": "code",
   "execution_count": 14,
   "metadata": {},
   "outputs": [],
   "source": [
    "out = readfrd(params_simu[\"frd\"]) "
   ]
  },
  {
   "cell_type": "code",
   "execution_count": 15,
   "metadata": {},
   "outputs": [
    {
     "data": {
      "text/plain": [
       "node\n",
       "2     -0.014229\n",
       "8      0.000749\n",
       "3     -0.200796\n",
       "130    0.001721\n",
       "131    0.036910\n",
       "132   -0.025277\n",
       "133    0.389855\n",
       "134   -0.115152\n",
       "135    0.308268\n",
       "25    -0.023462\n",
       "26     0.053726\n",
       "27     0.028534\n",
       "549   -0.000011\n",
       "550    0.036389\n",
       "551    0.093731\n",
       "2     -0.014229\n",
       "8      0.000749\n",
       "1      0.089389\n",
       "130    0.001721\n",
       "131    0.036910\n",
       "132   -0.025277\n",
       "244    0.073244\n",
       "245    0.216084\n",
       "246    0.046458\n",
       "19    -0.012738\n",
       "20     0.164373\n",
       "21     0.042847\n",
       "738    0.041688\n",
       "739    0.059105\n",
       "740    0.127425\n",
       "1      0.089389\n",
       "2     -0.014229\n",
       "3     -0.200796\n",
       "19    -0.012738\n",
       "20     0.164373\n",
       "21     0.042847\n",
       "22     0.018144\n",
       "23    -0.030402\n",
       "24     0.157505\n",
       "25    -0.023462\n",
       "26     0.053726\n",
       "27     0.028534\n",
       "352    0.008431\n",
       "353    0.111260\n",
       "354    0.029555\n",
       "355    0.040313\n",
       "356    0.035351\n",
       "357    0.039727\n",
       "358    0.027238\n",
       "Name: F1, dtype: float64"
      ]
     },
     "execution_count": 15,
     "metadata": {},
     "output_type": "execute_result"
    }
   ],
   "source": [
    "out[\"data\"].loc[face_bot_1][\"F1\"]"
   ]
  }
 ],
 "metadata": {
  "kernelspec": {
   "display_name": "Python 3",
   "language": "python",
   "name": "python3"
  },
  "language_info": {
   "codemirror_mode": {
    "name": "ipython",
    "version": 3
   },
   "file_extension": ".py",
   "mimetype": "text/x-python",
   "name": "python",
   "nbconvert_exporter": "python",
   "pygments_lexer": "ipython3",
   "version": "3.11.9"
  }
 },
 "nbformat": 4,
 "nbformat_minor": 2
}
