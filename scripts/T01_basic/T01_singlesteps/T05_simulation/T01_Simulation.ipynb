{
 "cells": [
  {
   "cell_type": "code",
   "execution_count": 1,
   "metadata": {},
   "outputs": [],
   "source": [
    "from tools.basic.path_gen   import path_gen\n",
    "from tools.step.pprint     import pprint\n",
    "\n",
    "from model.simulation.default          import default\n",
    "\n",
    "import os,glob\n",
    "\n",
    "from model.simulation.RunSimulation import RunSimulation\n"
   ]
  },
  {
   "cell_type": "code",
   "execution_count": 2,
   "metadata": {},
   "outputs": [],
   "source": [
    "out_simula = [\"output\"]\n",
    "join = os.path.join\n",
    "infla_path = glob.glob(join(\"..\" , \"T04_inflation\", \"output\", \"*\"))\n",
    "infla_path = [ os.path.basename(i).replace(\".json\",\"\") for i in infla_path]"
   ]
  },
  {
   "cell_type": "code",
   "execution_count": 3,
   "metadata": {},
   "outputs": [
    {
     "data": {
      "text/plain": [
       "['2024-07-03__17-22-44__33313',\n",
       " '2024-07-03__17-24-38__59929',\n",
       " '2024-07-03__17-25-25__38615',\n",
       " '2024-07-03__17-26-53__69908',\n",
       " '2024-07-05__09-56-19__35028',\n",
       " '2024-07-05__09-58-08__55411',\n",
       " '2024-07-05__09-58-41__35313',\n",
       " '2024-07-05__09-59-44__86883',\n",
       " '2024-07-06__07-54-21__70467',\n",
       " '2024-07-06__07-57-22__15718']"
      ]
     },
     "execution_count": 3,
     "metadata": {},
     "output_type": "execute_result"
    }
   ],
   "source": [
    "infla_path"
   ]
  },
  {
   "attachments": {},
   "cell_type": "markdown",
   "metadata": {},
   "source": [
    "# Step 05. SIMULATION"
   ]
  },
  {
   "cell_type": "code",
   "execution_count": 4,
   "metadata": {},
   "outputs": [
    {
     "name": "stdout",
     "output_type": "stream",
     "text": [
      "\u001b[34msettings_step       \u001b[39m: \n",
      "\t- has_children\n",
      "\t-has_parent\n",
      "\t-verbose\n",
      "\t-...\n",
      "\u001b[34myoung               \u001b[39m: 2960\n",
      "\u001b[34mpoisson             \u001b[39m: 0.37\n",
      "\u001b[34mepsilon             \u001b[39m: 0.1\n",
      "\u001b[34mOMP_NUM_THREADS     \u001b[39m: 4\n",
      "\u001b[34mtype_bc             \u001b[39m: 3\n",
      "\u001b[34mattemps             \u001b[39m: 4\n",
      "\u001b[34mAdjust              \u001b[39m: False\n",
      "\u001b[34mnfixed              \u001b[39m: 3\n",
      "\u001b[34mnsteps              \u001b[39m: 2\n",
      "\u001b[34mnonlinear           \u001b[39m: False\n",
      "\u001b[34mcylindrical         \u001b[39m: False\n",
      "\u001b[34mnruns               \u001b[39m: 1\n",
      "\u001b[34msurface_interaction \u001b[39m: \n",
      "\t- type\n",
      "\t-factor_E\n",
      "\t-...\n",
      "\u001b[34mmax_mono            \u001b[39m: None\n",
      "\u001b[34mcalculix_dynamic    \u001b[39m: False\n",
      "\u001b[34mmpi                 \u001b[39m: True\n",
      "\u001b[34mmpi_np              \u001b[39m: 4\n",
      "\u001b[34minflation_path      \u001b[39m: 2024-07-06__07-57-22__15718\n",
      "\u001b[34mdisplacement        \u001b[39m: 0.1\n",
      "\u001b[34mradius              \u001b[39m: 10\n",
      "\u001b[34mncpus               \u001b[39m: 4\n"
     ]
    }
   ],
   "source": [
    "params_simu = default()\n",
    "params_simu[\"young\"]         = 2960      # MPa\n",
    "params_simu[\"poisson\"]       = 0.37 # Pa\n",
    "params_simu[\"displacement\"]  = 0.1         # mm\n",
    "params_simu[\"radius\"]        = 10           # mm\n",
    "params_simu[\"inflation_path\"] = infla_path[-1]\n",
    "params_simu[\"type_bc\"]      = 3\n",
    "params_simu[\"mpi\"] = True\n",
    "params_simu[\"mpi_np\"] = 4\n",
    "params_simu[\"ncpus\"] = 4 # number of cpus\n",
    "pprint(params_simu)"
   ]
  },
  {
   "cell_type": "code",
   "execution_count": 5,
   "metadata": {},
   "outputs": [
    {
     "name": "stdout",
     "output_type": "stream",
     "text": [
      "main_path:  ['output']\n"
     ]
    }
   ],
   "source": [
    "print(\"main_path: \", out_simula)"
   ]
  },
  {
   "cell_type": "code",
   "execution_count": 6,
   "metadata": {},
   "outputs": [
    {
     "name": "stdout",
     "output_type": "stream",
     "text": [
      "Running Calculix at:  c:\\Users\\djoroya\\Documents\\GitHub\\YarnBraid-solo\\simulations\\2024-07-06__22-22-24__33440\n",
      "Output file:  c:\\Users\\djoroya\\Documents\\GitHub\\YarnBraid-solo\\simulations\\2024-07-06__22-22-24__33440\\out.txt\n",
      "Command:\n",
      " mpiexec -n 4 c:\\Users\\djoroya\\Documents\\GitHub\\YarnBraid_30_05_2024\\YarnBraid\\src\\dependences\\PrePoMax\\Solver\\ccx_dynamic.exe init_new\n",
      "Error reading cvf file\n",
      "\n",
      "pid:  27984 \n",
      "\n",
      "SUMMARY OF C0NVERGENCE INFORMATION\n",
      "  STEP   INC  ATT   ITER     CONT.   RESID.        CORR.      RESID.      CORR.\n",
      "                              EL.    FORCE         DISP       FLUX        TEMP.\n",
      "                              (#)     (%)           (%)        (%)         (%)\n",
      "     1     1     1     1   213796  0.4531E+06  0.1000E+03  0.0000E+00  0.0000E+00\n",
      "     1     1     1     2   213725  0.0000E+00  0.1000E+03  0.0000E+00  0.0000E+00\n",
      "     1     2     1     1   119791  0.0000E+00  0.1000E+03  0.0000E+00  0.0000E+00\n",
      "     1     2     1     2    73089  0.0000E+00  0.4257E+02  0.0000E+00  0.0000E+00\n",
      "     1     2     1     3    50873  0.0000E+00  0.4824E+02  0.0000E+00  0.0000E+00\n",
      "     1     2     1     4    40310  0.0000E+00  0.8328E+02  0.0000E+00  0.0000E+00\n",
      "     1     2     1     5    35263  0.0000E+00  0.5655E+02  0.0000E+00  0.0000E+00\n",
      "     1     2     1     6    33335  0.0000E+00  0.1000E+03  0.0000E+00  0.0000E+00\n",
      "     1     2     1     7    31843  0.0000E+00  0.6726E+02  0.0000E+00  0.0000E+00\n",
      "     1     2     1     8    30827  0.0000E+00  0.7912E+01  0.0000E+00  0.0000E+00\n",
      "     1     2     1     9    30479  0.0000E+00  0.1898E+01  0.0000E+00  0.0000E+00\n",
      "     1     2     1    10    30423  0.0000E+00  0.2394E+01  0.0000E+00  0.0000E+00\n",
      "     1     2     1    11    30415  0.0000E+00  0.2233E+00  0.0000E+00  0.0000E+00\n",
      "     2     1     1     1    30571  0.7474E+05  0.1000E+03  0.0000E+00  0.0000E+00\n",
      "     2     1     1     2    94816  0.0000E+00  0.6351E+02  0.0000E+00  0.0000E+00\n",
      "     2     1     1     3    86223  0.0000E+00  0.3144E+02  0.0000E+00  0.0000E+00\n",
      "     2     1     1     4    61743  0.0000E+00  0.2519E+02  0.0000E+00  0.0000E+00\n",
      "     2     1     1     5    47000  0.0000E+00  0.2156E+02  0.0000E+00  0.0000E+00\n",
      "     2     1     1     6    40631  0.0000E+00  0.1715E+02  0.0000E+00  0.0000E+00\n",
      "     2     1     1     7    37365  0.0000E+00  0.3015E+02  0.0000E+00  0.0000E+00\n",
      "     2     1     1     8    32049  0.0000E+00  0.3291E+02  0.0000E+00  0.0000E+00\n",
      "     2     1     1     9    30668  0.0000E+00  0.2002E+02  0.0000E+00  0.0000E+00\n",
      "     2     1     1    10    36243  0.0000E+00  0.7878E+01  0.0000E+00  0.0000E+00\n",
      "     2     1     1    11    31871  0.0000E+00  0.5421E+01  0.0000E+00  0.0000E+00\n",
      "     2     1     1    12    29835  0.0000E+00  0.1074E+01  0.0000E+00  0.0000E+00\n",
      "     2     1     1    13    28903  0.0000E+00  0.1035E+01  0.0000E+00  0.0000E+00\n",
      "     2     1     1    14    28512  0.0000E+00  0.3661E+00  0.0000E+00  0.0000E+00\n",
      "     2     1     1    15    28364  0.0000E+00  0.5138E-01  0.0000E+00  0.0000E+00\n",
      "     2     1     1    16    28324  0.0000E+00  0.6336E-02  0.0000E+00  0.0000E+00\n",
      "     2     1     1    17    28319  0.0000E+00  0.1389E-03  0.0000E+00  0.0000E+00\n",
      "Calculix finished\n",
      "\n",
      "\u001b[31mError in step: RunSimulation\n",
      "\u001b[39m\n"
     ]
    },
    {
     "name": "stderr",
     "output_type": "stream",
     "text": [
      "Traceback (most recent call last):\n",
      "  File \"c:\\Users\\djoroya\\Documents\\GitHub\\YarnBraid-solo\\src\\tools\\step\\runstep.py\", line 79, in wa\n",
      "    func(*args, **kwargs)\n",
      "  File \"c:\\Users\\djoroya\\Documents\\GitHub\\YarnBraid-solo\\src\\model\\simulation\\RunSimulation.py\", line 103, in RunSimulation\n",
      "    lines = f.readlines()\n",
      "            ^^^^^^^^^^^^^\n",
      "  File \"<frozen codecs>\", line 322, in decode\n",
      "UnicodeDecodeError: 'utf-8' codec can't decode byte 0xa5 in position 157: invalid start byte\n"
     ]
    },
    {
     "ename": "Exception",
     "evalue": "'utf-8' codec can't decode byte 0xa5 in position 157: invalid start byte",
     "output_type": "error",
     "traceback": [
      "\u001b[1;31m---------------------------------------------------------------------------\u001b[0m",
      "\u001b[1;31mUnicodeDecodeError\u001b[0m                        Traceback (most recent call last)",
      "File \u001b[1;32mc:\\Users\\djoroya\\Documents\\GitHub\\YarnBraid-solo\\src\\tools\\step\\runstep.py:79\u001b[0m, in \u001b[0;36mrunstep.<locals>.decorator.<locals>.wa\u001b[1;34m(*args, **kwargs)\u001b[0m\n\u001b[0;32m     78\u001b[0m \u001b[38;5;28;01mtry\u001b[39;00m:\n\u001b[1;32m---> 79\u001b[0m     \u001b[43mfunc\u001b[49m\u001b[43m(\u001b[49m\u001b[38;5;241;43m*\u001b[39;49m\u001b[43margs\u001b[49m\u001b[43m,\u001b[49m\u001b[43m \u001b[49m\u001b[38;5;241;43m*\u001b[39;49m\u001b[38;5;241;43m*\u001b[39;49m\u001b[43mkwargs\u001b[49m\u001b[43m)\u001b[49m\n\u001b[0;32m     80\u001b[0m     err \u001b[38;5;241m=\u001b[39m \u001b[38;5;241m0\u001b[39m\n",
      "File \u001b[1;32mc:\\Users\\djoroya\\Documents\\GitHub\\YarnBraid-solo\\src\\model\\simulation\\RunSimulation.py:103\u001b[0m, in \u001b[0;36mRunSimulation\u001b[1;34m(params, output_folder, callback)\u001b[0m\n\u001b[0;32m    102\u001b[0m \u001b[38;5;28;01mwith\u001b[39;00m \u001b[38;5;28mopen\u001b[39m(file,\u001b[38;5;124m\"\u001b[39m\u001b[38;5;124mr\u001b[39m\u001b[38;5;124m\"\u001b[39m) \u001b[38;5;28;01mas\u001b[39;00m f:\n\u001b[1;32m--> 103\u001b[0m     lines \u001b[38;5;241m=\u001b[39m \u001b[43mf\u001b[49m\u001b[38;5;241;43m.\u001b[39;49m\u001b[43mreadlines\u001b[49m\u001b[43m(\u001b[49m\u001b[43m)\u001b[49m\n\u001b[0;32m    104\u001b[0m \u001b[38;5;28;01mfor\u001b[39;00m line \u001b[38;5;129;01min\u001b[39;00m lines:\n",
      "File \u001b[1;32m<frozen codecs>:322\u001b[0m, in \u001b[0;36mdecode\u001b[1;34m(self, input, final)\u001b[0m\n",
      "\u001b[1;31mUnicodeDecodeError\u001b[0m: 'utf-8' codec can't decode byte 0xa5 in position 157: invalid start byte",
      "\nDuring handling of the above exception, another exception occurred:\n",
      "\u001b[1;31mException\u001b[0m                                 Traceback (most recent call last)",
      "Cell \u001b[1;32mIn[6], line 1\u001b[0m\n\u001b[1;32m----> 1\u001b[0m \u001b[43mRunSimulation\u001b[49m\u001b[43m(\u001b[49m\u001b[43mparams_simu\u001b[49m\u001b[43m,\u001b[49m\u001b[43mout_simula\u001b[49m\u001b[43m)\u001b[49m\n",
      "File \u001b[1;32mc:\\Users\\djoroya\\Documents\\GitHub\\YarnBraid-solo\\src\\tools\\step\\runstep.py:90\u001b[0m, in \u001b[0;36mrunstep.<locals>.decorator.<locals>.wa\u001b[1;34m(*args, **kwargs)\u001b[0m\n\u001b[0;32m     88\u001b[0m     \u001b[38;5;28;01mwith\u001b[39;00m \u001b[38;5;28mopen\u001b[39m(error_log,\u001b[38;5;124m\"\u001b[39m\u001b[38;5;124mw\u001b[39m\u001b[38;5;124m\"\u001b[39m) \u001b[38;5;28;01mas\u001b[39;00m f:\n\u001b[0;32m     89\u001b[0m         f\u001b[38;5;241m.\u001b[39mwrite(traceback\u001b[38;5;241m.\u001b[39mformat_exc())\n\u001b[1;32m---> 90\u001b[0m     \u001b[38;5;28;01mraise\u001b[39;00m \u001b[38;5;167;01mException\u001b[39;00m(e)\n\u001b[0;32m     91\u001b[0m     err \u001b[38;5;241m=\u001b[39m \u001b[38;5;241m1\u001b[39m\n\u001b[0;32m     92\u001b[0m os\u001b[38;5;241m.\u001b[39mchdir(current_folder)\n",
      "\u001b[1;31mException\u001b[0m: 'utf-8' codec can't decode byte 0xa5 in position 157: invalid start byte"
     ]
    }
   ],
   "source": [
    "RunSimulation(params_simu,out_simula)"
   ]
  },
  {
   "cell_type": "code",
   "execution_count": null,
   "metadata": {},
   "outputs": [
    {
     "name": "stdout",
     "output_type": "stream",
     "text": [
      "\u001b[34melapsed             \u001b[39m: 0 h  -  0 m  -  0 s\n",
      "\u001b[31merror               \u001b[31m: 1\n",
      "\u001b[31merror_msg           \u001b[31m: No execution\n",
      "\u001b[34mverbose             \u001b[39m: True\n",
      "\u001b[34mhas_children        \u001b[39m: False\n",
      "\u001b[34myoung               \u001b[39m: 2960\n",
      "\u001b[34mpoisson             \u001b[39m: 0.37\n",
      "\u001b[34mepsilon             \u001b[39m: 0.1\n",
      "\u001b[34mOMP_NUM_THREADS     \u001b[39m: 4\n",
      "\u001b[34mtype_bc             \u001b[39m: 3\n",
      "\u001b[34mattemps             \u001b[39m: 4\n",
      "\u001b[34mAdjust              \u001b[39m: False\n",
      "\u001b[34mnfixed              \u001b[39m: 3\n",
      "\u001b[34mnsteps              \u001b[39m: 2\n",
      "\u001b[34mnonlinear           \u001b[39m: False\n",
      "\u001b[34mcylindrical         \u001b[39m: False\n",
      "\u001b[34mnruns               \u001b[39m: 1\n",
      "\u001b[34msurface_interaction \u001b[39m: \n",
      "\t- type\n",
      "\t-factor_E\n",
      "\t-...\n",
      "\u001b[34mmax_mono            \u001b[39m: None\n",
      "\u001b[34mmpi                 \u001b[39m: True\n",
      "\u001b[34mmpi_np              \u001b[39m: 4\n",
      "\u001b[34minflation_path      \u001b[39m: 2024-07-05__09-59-44__86883\n",
      "\u001b[34mdisplacement        \u001b[39m: 0.355730615\n",
      "\u001b[34mradius              \u001b[39m: 10\n",
      "\u001b[34mncpus               \u001b[39m: 4\n",
      "\u001b[34mfunction            \u001b[39m: \n",
      "\t- name\n",
      "\t-file\n",
      "\t-...\n",
      "\u001b[34mmetadata            \u001b[39m: \n",
      "\t- elapsed\n",
      "\t-error\n",
      "\t-error_msg\n",
      "\t-verbose\n",
      "\t-has_children\n",
      "\t-init_time\n",
      "\t-final_time\n",
      "\t-...\n",
      "\u001b[34msimulation_path     \u001b[39m: 2024-07-05__14-47-05__29264\n",
      "\u001b[34mheight              \u001b[39m: 3.5573061499999996\n",
      "\u001b[34mfrd                 \u001b[39m: c:\\Users\\djoroya\\Documents\\GitHub\\YarnBraid-solo\\simulations\\2024-07-05__14-47-05__29264\\init_new.frd\n",
      "\u001b[34mnsets               \u001b[39m: \n",
      "\t- esqueleto_1\n",
      "\t-SURF_1\n",
      "\t-FACE_TOP_1\n",
      "\t-FACE_BOT_1\n",
      "\t-Yarn_1_1\n",
      "\t-Yarn_1_2\n",
      "\t-Yarn_1_3\n",
      "\t-FACE_TOP_CENTRAL_1\n",
      "\t-FACE_BOT_CENTRAL_1\n",
      "\t-P2_esqueleto_2\n",
      "\t-...\n",
      "\u001b[34mr_hebra             \u001b[39m: 0.2\n",
      "\u001b[34mvolume              \u001b[39m: 32.4794911667\n"
     ]
    }
   ],
   "source": [
    "pprint(params_simu)"
   ]
  },
  {
   "cell_type": "code",
   "execution_count": null,
   "metadata": {},
   "outputs": [],
   "source": [
    "import os\n",
    "from tools.step.rerun import rerun\n",
    "json_file = os.path.join(*(out_simula + \\\n",
    "                           [params_simu[\"simulation_path\"]])) + \".json\""
   ]
  },
  {
   "cell_type": "code",
   "execution_count": null,
   "metadata": {},
   "outputs": [
    {
     "name": "stdout",
     "output_type": "stream",
     "text": [
      "Simulation exists. It will be overwritten\n",
      "['output']\n",
      "Running Calculix at:  c:\\Users\\djoroya\\Documents\\GitHub\\YarnBraid-solo\\simulations\\2024-07-05__14-47-05__29264\n",
      "Output file:  c:\\Users\\djoroya\\Documents\\GitHub\\YarnBraid-solo\\simulations\\2024-07-05__14-47-05__29264\\out.txt\n",
      "Command:\n",
      " mpiexec -n 4 c:\\Users\\djoroya\\Documents\\GitHub\\YarnBraid_30_05_2024\\YarnBraid\\src\\dependences\\PrePoMax\\Solver\\ccx_dynamic.exe init_new\n",
      "Error reading cvf file\n",
      "\n",
      "pid:  24484 \n",
      "\n",
      "SUMMARY OF C0NVERGENCE INFORMATION\n",
      "  STEP   INC  ATT   ITER     CONT.   RESID.        CORR.      RESID.      CORR.\n",
      "                              EL.    FORCE         DISP       FLUX        TEMP.\n",
      "                              (#)     (%)           (%)        (%)         (%)\n",
      "     1     1     1     1   213062  0.4676E+06  0.1000E+03  0.0000E+00  0.0000E+00\n",
      "     1     1     1     2   212986  0.0000E+00  0.1000E+03  0.0000E+00  0.0000E+00\n",
      "     1     2     1     1   120024  0.0000E+00  0.1000E+03  0.0000E+00  0.0000E+00\n",
      "     1     2     1     2    73154  0.0000E+00  0.4443E+02  0.0000E+00  0.0000E+00\n",
      "     1     2     1     3    50807  0.0000E+00  0.4768E+02  0.0000E+00  0.0000E+00\n",
      "     1     2     1     4    40244  0.0000E+00  0.7284E+02  0.0000E+00  0.0000E+00\n",
      "     1     2     1     5    35270  0.0000E+00  0.6204E+02  0.0000E+00  0.0000E+00\n",
      "     1     2     1     6    32984  0.0000E+00  0.1000E+03  0.0000E+00  0.0000E+00\n",
      "     1     2     1     7    31622  0.0000E+00  0.6630E+02  0.0000E+00  0.0000E+00\n",
      "     1     2     1     8    30694  0.0000E+00  0.7586E+01  0.0000E+00  0.0000E+00\n",
      "     1     2     1     9    30405  0.0000E+00  0.1139E+01  0.0000E+00  0.0000E+00\n",
      "     1     2     1    10    30371  0.0000E+00  0.3127E+00  0.0000E+00  0.0000E+00\n",
      "     1     2     1    11    30366  0.0000E+00  0.1688E-01  0.0000E+00  0.0000E+00\n",
      "     2     1     1     1    30543  0.7441E+05  0.1000E+03  0.0000E+00  0.0000E+00\n",
      "     2     1     1     2    93107  0.0000E+00  0.6574E+02  0.0000E+00  0.0000E+00\n",
      "     2     1     1     3    87441  0.0000E+00  0.3563E+02  0.0000E+00  0.0000E+00\n",
      "     2     1     1     4    62469  0.0000E+00  0.2739E+02  0.0000E+00  0.0000E+00\n",
      "     2     1     1     5    47657  0.0000E+00  0.2177E+02  0.0000E+00  0.0000E+00\n",
      "     2     1     1     6    41217  0.0000E+00  0.1808E+02  0.0000E+00  0.0000E+00\n",
      "     2     1     1     7    37301  0.0000E+00  0.2215E+02  0.0000E+00  0.0000E+00\n",
      "     2     1     1     8    32377  0.0000E+00  0.3452E+02  0.0000E+00  0.0000E+00\n",
      "     2     1     1     9    31005  0.0000E+00  0.2141E+02  0.0000E+00  0.0000E+00\n",
      "     2     1     1    10    36161  0.0000E+00  0.7136E+01  0.0000E+00  0.0000E+00\n",
      "     2     1     1    11    32010  0.0000E+00  0.4199E+01  0.0000E+00  0.0000E+00\n",
      "     2     1     1    12    29806  0.0000E+00  0.9331E+00  0.0000E+00  0.0000E+00\n",
      "     2     1     1    13    28923  0.0000E+00  0.3857E+00  0.0000E+00  0.0000E+00\n",
      "     2     1     1    14    28615  0.0000E+00  0.3509E+00  0.0000E+00  0.0000E+00\n",
      "     2     1     1    15    28537  0.0000E+00  0.3124E-01  0.0000E+00  0.0000E+00\n",
      "     2     1     1    16    28527  0.0000E+00  0.3064E-02  0.0000E+00  0.0000E+00\n",
      "Calculix finished\n",
      "\n"
     ]
    }
   ],
   "source": [
    "rerun(json_file,overwrite=True)"
   ]
  },
  {
   "cell_type": "code",
   "execution_count": null,
   "metadata": {},
   "outputs": [],
   "source": []
  }
 ],
 "metadata": {
  "kernelspec": {
   "display_name": "Python 3",
   "language": "python",
   "name": "python3"
  },
  "language_info": {
   "codemirror_mode": {
    "name": "ipython",
    "version": 3
   },
   "file_extension": ".py",
   "mimetype": "text/x-python",
   "name": "python",
   "nbconvert_exporter": "python",
   "pygments_lexer": "ipython3",
   "version": "3.11.9"
  }
 },
 "nbformat": 4,
 "nbformat_minor": 2
}
