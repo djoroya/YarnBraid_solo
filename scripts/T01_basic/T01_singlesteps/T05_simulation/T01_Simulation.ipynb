{
 "cells": [
  {
   "cell_type": "code",
   "execution_count": 1,
   "metadata": {},
   "outputs": [],
   "source": [
    "from tools.basic.path_gen   import path_gen\n",
    "from tools.step.pprint     import pprint\n",
    "\n",
    "from model.simulation.default          import default\n",
    "\n",
    "import os,glob\n",
    "\n",
    "from model.simulation.RunSimulation import RunSimulation\n"
   ]
  },
  {
   "cell_type": "code",
   "execution_count": 2,
   "metadata": {},
   "outputs": [],
   "source": [
    "out_simula = [\"output\"]\n",
    "join = os.path.join\n",
    "infla_path = glob.glob(join(\"..\" , \"T04_inflation\", \"output\", \"*\"))\n",
    "infla_path = [ os.path.basename(i).replace(\".json\",\"\") for i in infla_path]"
   ]
  },
  {
   "cell_type": "code",
   "execution_count": 3,
   "metadata": {},
   "outputs": [
    {
     "data": {
      "text/plain": [
       "['2024-07-03__17-22-44__33313',\n",
       " '2024-07-03__17-24-38__59929',\n",
       " '2024-07-03__17-25-25__38615',\n",
       " '2024-07-03__17-26-53__69908',\n",
       " '2024-07-05__09-56-19__35028',\n",
       " '2024-07-05__09-58-08__55411',\n",
       " '2024-07-05__09-58-41__35313',\n",
       " '2024-07-05__09-59-44__86883',\n",
       " '2024-07-06__07-54-21__70467',\n",
       " '2024-07-06__07-57-22__15718',\n",
       " '2024-08-26__14-26-48__23464',\n",
       " '2024-08-27__10-24-49__11892',\n",
       " '2024-08-27__10-32-37__63701',\n",
       " '2024-08-27__10-36-59__13755',\n",
       " '2024-08-28__12-44-04__33704',\n",
       " '2024-08-28__19-12-42__71255']"
      ]
     },
     "execution_count": 3,
     "metadata": {},
     "output_type": "execute_result"
    }
   ],
   "source": [
    "infla_path"
   ]
  },
  {
   "attachments": {},
   "cell_type": "markdown",
   "metadata": {},
   "source": [
    "# Step 05. SIMULATION"
   ]
  },
  {
   "cell_type": "code",
   "execution_count": 4,
   "metadata": {},
   "outputs": [
    {
     "name": "stdout",
     "output_type": "stream",
     "text": [
      "\u001b[34msettings_step       \u001b[39m: \n",
      "\t- has_children\n",
      "\t-has_parent\n",
      "\t-verbose\n",
      "\t-...\n",
      "\u001b[34myoung               \u001b[39m: 2960\n",
      "\u001b[34mpoisson             \u001b[39m: 0.37\n",
      "\u001b[34mepsilon             \u001b[39m: 0.5\n",
      "\u001b[34mOMP_NUM_THREADS     \u001b[39m: 4\n",
      "\u001b[34mtype_bc             \u001b[39m: 3\n",
      "\u001b[34mattemps             \u001b[39m: 4\n",
      "\u001b[34mAdjust              \u001b[39m: False\n",
      "\u001b[34mnfixed              \u001b[39m: 3\n",
      "\u001b[34mnsteps              \u001b[39m: 2\n",
      "\u001b[34mnonlinear           \u001b[39m: False\n",
      "\u001b[34mcylindrical         \u001b[39m: False\n",
      "\u001b[34mnruns               \u001b[39m: 1\n",
      "\u001b[34msurface_interaction \u001b[39m: \n",
      "\t- type\n",
      "\t-factor_E\n",
      "\t-...\n",
      "\u001b[34mmax_mono            \u001b[39m: None\n",
      "\u001b[34mcalculix_dynamic    \u001b[39m: False\n",
      "\u001b[34mmpi                 \u001b[39m: True\n",
      "\u001b[34mmpi_np              \u001b[39m: 4\n",
      "\u001b[34minflation_path      \u001b[39m: 2024-08-28__19-12-42__71255\n",
      "\u001b[34monly_braid          \u001b[39m: False\n",
      "\u001b[34mdisplacement        \u001b[39m: 0.1\n",
      "\u001b[34mradius              \u001b[39m: 10\n",
      "\u001b[34mncpus               \u001b[39m: 4\n"
     ]
    }
   ],
   "source": [
    "params_simu = default()\n",
    "params_simu[\"young\"]         = 2960      # MPa\n",
    "params_simu[\"poisson\"]       = 0.37 # Pa\n",
    "params_simu[\"displacement\"]  = 0.1         # mm\n",
    "params_simu[\"epsilon\"]          = 0.5           # s\n",
    "params_simu[\"radius\"]        = 10           # mm\n",
    "params_simu[\"inflation_path\"] = infla_path[-1]\n",
    "params_simu[\"type_bc\"]      = 3\n",
    "params_simu[\"mpi\"] = True\n",
    "params_simu[\"mpi_np\"] = 4\n",
    "params_simu[\"ncpus\"] = 4 # number of cpus\n",
    "pprint(params_simu)"
   ]
  },
  {
   "cell_type": "code",
   "execution_count": 5,
   "metadata": {},
   "outputs": [
    {
     "data": {
      "text/plain": [
       "0.5"
      ]
     },
     "execution_count": 5,
     "metadata": {},
     "output_type": "execute_result"
    }
   ],
   "source": [
    "params_simu[\"epsilon\"]"
   ]
  },
  {
   "cell_type": "code",
   "execution_count": 6,
   "metadata": {},
   "outputs": [
    {
     "name": "stdout",
     "output_type": "stream",
     "text": [
      "main_path:  ['output']\n"
     ]
    }
   ],
   "source": [
    "print(\"main_path: \", out_simula)"
   ]
  },
  {
   "cell_type": "code",
   "execution_count": 7,
   "metadata": {},
   "outputs": [
    {
     "name": "stdout",
     "output_type": "stream",
     "text": [
      "Running Calculix at:  c:\\Users\\djoroya\\Documents\\GitHub\\YarnBraid-solo\\simulations\\2024-09-23__09-11-39__86135\n",
      "Output file:  c:\\Users\\djoroya\\Documents\\GitHub\\YarnBraid-solo\\simulations\\2024-09-23__09-11-39__86135\\out.txt\n",
      "Command:\n",
      " mpiexec -n 4 c:\\Users\\djoroya\\Documents\\GitHub\\YarnBraid_30_05_2024\\YarnBraid\\src\\dependences\\PrePoMax\\Solver\\ccx_dynamic.exe init_new\n",
      "Error reading cvf file\n",
      "\n",
      "pid:  13260 \n",
      "\n",
      "SUMMARY OF C0NVERGENCE INFORMATION\n",
      "  STEP   INC  ATT   ITER     CONT.   RESID.        CORR.      RESID.      CORR.\n",
      "                              EL.    FORCE         DISP       FLUX        TEMP.\n",
      "                              (#)     (%)           (%)        (%)         (%)\n",
      "     1     1     1     1   111130  0.1994E+06  0.1000E+03  0.0000E+00  0.0000E+00\n",
      "     1     1     1     2   110891  0.0000E+00  0.1000E+03  0.0000E+00  0.0000E+00\n",
      "     1     1     1     3    65590  0.0000E+00  0.7048E+02  0.0000E+00  0.0000E+00\n",
      "     1     1     1     4    37981  0.0000E+00  0.6647E+02  0.0000E+00  0.0000E+00\n",
      "     1     1     1     5    24068  0.0000E+00  0.5809E+02  0.0000E+00  0.0000E+00\n",
      "     1     1     1     6    18234  0.0000E+00  0.4982E+02  0.0000E+00  0.0000E+00\n",
      "     1     1     1     7    16039  0.0000E+00  0.4316E+02  0.0000E+00  0.0000E+00\n",
      "     1     1     1     8    15455  0.0000E+00  0.6463E+01  0.0000E+00  0.0000E+00\n",
      "     1     1     1     9    15325  0.0000E+00  0.2453E+01  0.0000E+00  0.0000E+00\n",
      "     1     1     1    10    15311  0.0000E+00  0.2902E-01  0.0000E+00  0.0000E+00\n",
      "     2     1     1     1    14943  0.2357E+05  0.1000E+03  0.0000E+00  0.0000E+00\n",
      "     2     1     1     2   234033  0.0000E+00  0.7472E+02  0.0000E+00  0.0000E+00\n",
      "     2     1     1     3   137830  0.0000E+00  0.9652E+01  0.0000E+00  0.0000E+00\n",
      "     2     1     1     4    81641  0.0000E+00  0.9635E+01  0.0000E+00  0.0000E+00\n",
      "     2     1     1     5    56951  0.0000E+00  0.7769E+01  0.0000E+00  0.0000E+00\n",
      "     2     1     1     6    41272  0.0000E+00  0.7085E+01  0.0000E+00  0.0000E+00\n",
      "     2     1     1     7    30401  0.0000E+00  0.1520E+02  0.0000E+00  0.0000E+00\n",
      "     2     1     1     8    39799  0.0000E+00  0.9170E+01  0.0000E+00  0.0000E+00\n",
      "     2     1     1     9    26827  0.0000E+00  0.2873E+02  0.0000E+00  0.0000E+00\n",
      "     2     1     1    10    33204  0.0000E+00  0.3090E+02  0.0000E+00  0.0000E+00\n",
      "     2     1     1    11    29520  0.0000E+00  0.1521E+02  0.0000E+00  0.0000E+00\n",
      "     2     1     1    12    24235  0.0000E+00  0.5651E+01  0.0000E+00  0.0000E+00\n",
      "     2     1     1    13    18484  0.0000E+00  0.6385E+01  0.0000E+00  0.0000E+00\n",
      "     2     1     1    14    16258  0.0000E+00  0.3761E+01  0.0000E+00  0.0000E+00\n",
      "     2     1     1    15    14892  0.0000E+00  0.1576E+01  0.0000E+00  0.0000E+00\n",
      "     2     1     1    16    14341  0.0000E+00  0.9429E+00  0.0000E+00  0.0000E+00\n",
      "     2     1     1    17    14092  0.0000E+00  0.1476E+00  0.0000E+00  0.0000E+00\n",
      "     2     1     1    18    13866  0.0000E+00  0.1175E+00  0.0000E+00  0.0000E+00\n",
      "     2     1     1    19    13752  0.0000E+00  0.7586E-01  0.0000E+00  0.0000E+00\n",
      "     2     1     1    20    13728  0.0000E+00  0.2407E-01  0.0000E+00  0.0000E+00\n",
      "     2     1     1    21    13710  0.0000E+00  0.1430E-02  0.0000E+00  0.0000E+00\n",
      "     2     1     1    22    13705  0.0000E+00  0.1929E-04  0.0000E+00  0.0000E+00\n",
      "Calculix finished\n",
      "\n"
     ]
    }
   ],
   "source": [
    "RunSimulation(params_simu,out_simula)"
   ]
  },
  {
   "cell_type": "code",
   "execution_count": 8,
   "metadata": {},
   "outputs": [
    {
     "name": "stdout",
     "output_type": "stream",
     "text": [
      "\u001b[34msettings_step       \u001b[39m: \n",
      "\t- has_children\n",
      "\t-has_parent\n",
      "\t-verbose\n",
      "\t-...\n",
      "\u001b[34myoung               \u001b[39m: 2960\n",
      "\u001b[34mpoisson             \u001b[39m: 0.37\n",
      "\u001b[34mepsilon             \u001b[39m: 0.5\n",
      "\u001b[34mOMP_NUM_THREADS     \u001b[39m: 4\n",
      "\u001b[34mtype_bc             \u001b[39m: 3\n",
      "\u001b[34mattemps             \u001b[39m: 4\n",
      "\u001b[34mAdjust              \u001b[39m: False\n",
      "\u001b[34mnfixed              \u001b[39m: 3\n",
      "\u001b[34mnsteps              \u001b[39m: 2\n",
      "\u001b[34mnonlinear           \u001b[39m: False\n",
      "\u001b[34mcylindrical         \u001b[39m: False\n",
      "\u001b[34mnruns               \u001b[39m: 1\n",
      "\u001b[34msurface_interaction \u001b[39m: \n",
      "\t- type\n",
      "\t-factor_E\n",
      "\t-...\n",
      "\u001b[34mmax_mono            \u001b[39m: None\n",
      "\u001b[34mmpi                 \u001b[39m: True\n",
      "\u001b[34mmpi_np              \u001b[39m: 4\n",
      "\u001b[34minflation_path      \u001b[39m: 2024-08-28__19-12-42__71255\n",
      "\u001b[34monly_braid          \u001b[39m: False\n",
      "\u001b[34mdisplacement        \u001b[39m: 1.836411525\n",
      "\u001b[34mradius              \u001b[39m: 10\n",
      "\u001b[34mncpus               \u001b[39m: 4\n",
      "\u001b[34mfunction            \u001b[39m: \n",
      "\t- name\n",
      "\t-file\n",
      "\t-...\n",
      "\u001b[34mmetadata            \u001b[39m: \n",
      "\t- elapsed\n",
      "\t-error\n",
      "\t-error_msg\n",
      "\t-init_time\n",
      "\t-final_time\n",
      "\t-...\n",
      "\u001b[34msimulation_path     \u001b[39m: 2024-09-23__09-11-39__86135\n",
      "\u001b[34mheight              \u001b[39m: 3.67282305\n",
      "\u001b[34mfrd                 \u001b[39m: c:\\Users\\djoroya\\Documents\\GitHub\\YarnBraid-solo\\simulations\\2024-09-23__09-11-39__86135\\init_new.frd\n",
      "\u001b[34mnsets               \u001b[39m: \n",
      "\t- esqueleto_1\n",
      "\t-SURF_1\n",
      "\t-FACE_TOP_1\n",
      "\t-FACE_BOT_1\n",
      "\t-Yarn_1_1\n",
      "\t-Yarn_1_2\n",
      "\t-Yarn_1_3\n",
      "\t-FACE_TOP_CENTRAL_1\n",
      "\t-FACE_BOT_CENTRAL_1\n",
      "\t-P2_esqueleto_2\n",
      "\t-...\n",
      "\u001b[34mr_hebra             \u001b[39m: 0.2\n",
      "\u001b[34mvolume              \u001b[39m: 26.147339224299998\n"
     ]
    }
   ],
   "source": [
    "pprint(params_simu)"
   ]
  },
  {
   "cell_type": "code",
   "execution_count": 9,
   "metadata": {},
   "outputs": [
    {
     "ename": "NameError",
     "evalue": "name 'err' is not defined",
     "output_type": "error",
     "traceback": [
      "\u001b[1;31m---------------------------------------------------------------------------\u001b[0m",
      "\u001b[1;31mNameError\u001b[0m                                 Traceback (most recent call last)",
      "Cell \u001b[1;32mIn[9], line 1\u001b[0m\n\u001b[1;32m----> 1\u001b[0m \u001b[43merr\u001b[49m\n",
      "\u001b[1;31mNameError\u001b[0m: name 'err' is not defined"
     ]
    }
   ],
   "source": [
    "err"
   ]
  },
  {
   "cell_type": "code",
   "execution_count": 16,
   "metadata": {},
   "outputs": [],
   "source": [
    "import os\n",
    "from tools.step.rerun import rerun\n",
    "json_file = os.path.join(*(out_simula + \\\n",
    "                           [params_simu[\"simulation_path\"]])) + \".json\""
   ]
  },
  {
   "cell_type": "code",
   "execution_count": 17,
   "metadata": {},
   "outputs": [
    {
     "name": "stdout",
     "output_type": "stream",
     "text": [
      "Simulation exists. It will be overwritten\n",
      "['output']\n",
      "Running Calculix at:  c:\\Users\\djoroya\\Documents\\GitHub\\YarnBraid-solo\\simulations\\2024-09-23__09-09-29__74197\n",
      "Output file:  c:\\Users\\djoroya\\Documents\\GitHub\\YarnBraid-solo\\simulations\\2024-09-23__09-09-29__74197\\out.txt\n",
      "Command:\n",
      " mpiexec -n 4 c:\\Users\\djoroya\\Documents\\GitHub\\YarnBraid_30_05_2024\\YarnBraid\\src\\dependences\\PrePoMax\\Solver\\ccx_dynamic.exe init_new\n",
      "Error reading cvf file\n",
      "\n",
      "pid:  12484 \n",
      "\n",
      "SUMMARY OF C0NVERGENCE INFORMATION\n",
      "  STEP   INC  ATT   ITER     CONT.   RESID.        CORR.      RESID.      CORR.\n",
      "                              EL.    FORCE         DISP       FLUX        TEMP.\n",
      "                              (#)     (%)           (%)        (%)         (%)\n",
      "     1     1     1     1   111130  0.1994E+06  0.1000E+03  0.0000E+00  0.0000E+00\n",
      "     1     1     1     2   110891  0.0000E+00  0.1000E+03  0.0000E+00  0.0000E+00\n",
      "     1     1     1     3    65590  0.0000E+00  0.7048E+02  0.0000E+00  0.0000E+00\n",
      "     1     1     1     4    37981  0.0000E+00  0.6647E+02  0.0000E+00  0.0000E+00\n",
      "     1     1     1     5    24068  0.0000E+00  0.5809E+02  0.0000E+00  0.0000E+00\n",
      "     1     1     1     6    18234  0.0000E+00  0.4982E+02  0.0000E+00  0.0000E+00\n",
      "     1     1     1     7    16039  0.0000E+00  0.4316E+02  0.0000E+00  0.0000E+00\n",
      "     1     1     1     8    15455  0.0000E+00  0.6463E+01  0.0000E+00  0.0000E+00\n",
      "     1     1     1     9    15325  0.0000E+00  0.2453E+01  0.0000E+00  0.0000E+00\n",
      "     1     1     1    10    15311  0.0000E+00  0.2902E-01  0.0000E+00  0.0000E+00\n",
      "     2     1     1     1    14943  0.2357E+05  0.1000E+03  0.0000E+00  0.0000E+00\n",
      "     2     1     1     2   234033  0.0000E+00  0.7472E+02  0.0000E+00  0.0000E+00\n",
      "     2     1     1     3   137830  0.0000E+00  0.9652E+01  0.0000E+00  0.0000E+00\n",
      "     2     1     1     4    81641  0.0000E+00  0.9635E+01  0.0000E+00  0.0000E+00\n",
      "     2     1     1     5    56951  0.0000E+00  0.7769E+01  0.0000E+00  0.0000E+00\n",
      "     2     1     1     6    41272  0.0000E+00  0.7085E+01  0.0000E+00  0.0000E+00\n",
      "     2     1     1     7    30401  0.0000E+00  0.1520E+02  0.0000E+00  0.0000E+00\n",
      "     2     1     1     8    39799  0.0000E+00  0.9170E+01  0.0000E+00  0.0000E+00\n",
      "     2     1     1     9    26827  0.0000E+00  0.2873E+02  0.0000E+00  0.0000E+00\n",
      "     2     1     1    10    33204  0.0000E+00  0.3090E+02  0.0000E+00  0.0000E+00\n",
      "     2     1     1    11    29520  0.0000E+00  0.1521E+02  0.0000E+00  0.0000E+00\n",
      "     2     1     1    12    24235  0.0000E+00  0.5651E+01  0.0000E+00  0.0000E+00\n",
      "     2     1     1    13    18484  0.0000E+00  0.6385E+01  0.0000E+00  0.0000E+00\n",
      "     2     1     1    14    16258  0.0000E+00  0.3761E+01  0.0000E+00  0.0000E+00\n",
      "     2     1     1    15    14892  0.0000E+00  0.1576E+01  0.0000E+00  0.0000E+00\n",
      "     2     1     1    16    14341  0.0000E+00  0.9429E+00  0.0000E+00  0.0000E+00\n",
      "     2     1     1    17    14092  0.0000E+00  0.1476E+00  0.0000E+00  0.0000E+00\n",
      "     2     1     1    18    13866  0.0000E+00  0.1175E+00  0.0000E+00  0.0000E+00\n",
      "     2     1     1    19    13752  0.0000E+00  0.7586E-01  0.0000E+00  0.0000E+00\n",
      "     2     1     1    20    13728  0.0000E+00  0.2407E-01  0.0000E+00  0.0000E+00\n",
      "     2     1     1    21    13710  0.0000E+00  0.1430E-02  0.0000E+00  0.0000E+00\n",
      "     2     1     1    22    13705  0.0000E+00  0.1929E-04  0.0000E+00  0.0000E+00\n",
      "Calculix finished\n",
      "\n",
      "\u001b[31mError in step: RunSimulation\n",
      "\u001b[39m\n"
     ]
    },
    {
     "name": "stderr",
     "output_type": "stream",
     "text": [
      "Traceback (most recent call last):\n",
      "  File \"c:\\Users\\djoroya\\Documents\\GitHub\\YarnBraid-solo\\src\\tools\\step\\runstep.py\", line 79, in wa\n",
      "    func(*args, **kwargs)\n",
      "  File \"c:\\Users\\djoroya\\Documents\\GitHub\\YarnBraid-solo\\src\\model\\simulation\\RunSimulation.py\", line 103, in RunSimulation\n",
      "    lines = f.readlines()\n",
      "            ^^^^^^^^^^^^^\n",
      "  File \"<frozen codecs>\", line 322, in decode\n",
      "UnicodeDecodeError: 'utf-8' codec can't decode byte 0xfc in position 224: invalid start byte\n"
     ]
    },
    {
     "ename": "Exception",
     "evalue": "'utf-8' codec can't decode byte 0xfc in position 224: invalid start byte",
     "output_type": "error",
     "traceback": [
      "\u001b[1;31m---------------------------------------------------------------------------\u001b[0m",
      "\u001b[1;31mUnicodeDecodeError\u001b[0m                        Traceback (most recent call last)",
      "File \u001b[1;32mc:\\Users\\djoroya\\Documents\\GitHub\\YarnBraid-solo\\src\\tools\\step\\runstep.py:79\u001b[0m, in \u001b[0;36mrunstep.<locals>.decorator.<locals>.wa\u001b[1;34m(*args, **kwargs)\u001b[0m\n\u001b[0;32m     78\u001b[0m \u001b[38;5;28;01mtry\u001b[39;00m:\n\u001b[1;32m---> 79\u001b[0m     \u001b[43mfunc\u001b[49m\u001b[43m(\u001b[49m\u001b[38;5;241;43m*\u001b[39;49m\u001b[43margs\u001b[49m\u001b[43m,\u001b[49m\u001b[43m \u001b[49m\u001b[38;5;241;43m*\u001b[39;49m\u001b[38;5;241;43m*\u001b[39;49m\u001b[43mkwargs\u001b[49m\u001b[43m)\u001b[49m\n\u001b[0;32m     80\u001b[0m     err \u001b[38;5;241m=\u001b[39m \u001b[38;5;241m0\u001b[39m\n",
      "File \u001b[1;32mc:\\Users\\djoroya\\Documents\\GitHub\\YarnBraid-solo\\src\\model\\simulation\\RunSimulation.py:103\u001b[0m, in \u001b[0;36mRunSimulation\u001b[1;34m(params, output_folder, callback)\u001b[0m\n\u001b[0;32m    102\u001b[0m \u001b[38;5;28;01mwith\u001b[39;00m \u001b[38;5;28mopen\u001b[39m(file,\u001b[38;5;124m\"\u001b[39m\u001b[38;5;124mr\u001b[39m\u001b[38;5;124m\"\u001b[39m) \u001b[38;5;28;01mas\u001b[39;00m f:\n\u001b[1;32m--> 103\u001b[0m     lines \u001b[38;5;241m=\u001b[39m \u001b[43mf\u001b[49m\u001b[38;5;241;43m.\u001b[39;49m\u001b[43mreadlines\u001b[49m\u001b[43m(\u001b[49m\u001b[43m)\u001b[49m\n\u001b[0;32m    104\u001b[0m \u001b[38;5;28;01mfor\u001b[39;00m line \u001b[38;5;129;01min\u001b[39;00m lines:\n",
      "File \u001b[1;32m<frozen codecs>:322\u001b[0m, in \u001b[0;36mdecode\u001b[1;34m(self, input, final)\u001b[0m\n",
      "\u001b[1;31mUnicodeDecodeError\u001b[0m: 'utf-8' codec can't decode byte 0xfc in position 224: invalid start byte",
      "\nDuring handling of the above exception, another exception occurred:\n",
      "\u001b[1;31mException\u001b[0m                                 Traceback (most recent call last)",
      "Cell \u001b[1;32mIn[17], line 1\u001b[0m\n\u001b[1;32m----> 1\u001b[0m \u001b[43mrerun\u001b[49m\u001b[43m(\u001b[49m\u001b[43mjson_file\u001b[49m\u001b[43m,\u001b[49m\u001b[43moverwrite\u001b[49m\u001b[38;5;241;43m=\u001b[39;49m\u001b[38;5;28;43;01mTrue\u001b[39;49;00m\u001b[43m)\u001b[49m\n",
      "File \u001b[1;32mc:\\Users\\djoroya\\Documents\\GitHub\\YarnBraid-solo\\src\\tools\\step\\rerun.py:46\u001b[0m, in \u001b[0;36mrerun\u001b[1;34m(json_path, overwrite)\u001b[0m\n\u001b[0;32m     44\u001b[0m outfolder \u001b[38;5;241m=\u001b[39m json_path_rel\u001b[38;5;241m.\u001b[39msplit(os\u001b[38;5;241m.\u001b[39msep)[:\u001b[38;5;241m-\u001b[39m\u001b[38;5;241m1\u001b[39m]\n\u001b[0;32m     45\u001b[0m \u001b[38;5;28mprint\u001b[39m(outfolder)\n\u001b[1;32m---> 46\u001b[0m \u001b[43mmodel\u001b[49m\u001b[43m(\u001b[49m\u001b[43mdefault_params\u001b[49m\u001b[43m,\u001b[49m\u001b[43moutfolder\u001b[49m\u001b[43m)\u001b[49m\n",
      "File \u001b[1;32mc:\\Users\\djoroya\\Documents\\GitHub\\YarnBraid-solo\\src\\tools\\step\\runstep.py:90\u001b[0m, in \u001b[0;36mrunstep.<locals>.decorator.<locals>.wa\u001b[1;34m(*args, **kwargs)\u001b[0m\n\u001b[0;32m     88\u001b[0m     \u001b[38;5;28;01mwith\u001b[39;00m \u001b[38;5;28mopen\u001b[39m(error_log,\u001b[38;5;124m\"\u001b[39m\u001b[38;5;124mw\u001b[39m\u001b[38;5;124m\"\u001b[39m) \u001b[38;5;28;01mas\u001b[39;00m f:\n\u001b[0;32m     89\u001b[0m         f\u001b[38;5;241m.\u001b[39mwrite(traceback\u001b[38;5;241m.\u001b[39mformat_exc())\n\u001b[1;32m---> 90\u001b[0m     \u001b[38;5;28;01mraise\u001b[39;00m \u001b[38;5;167;01mException\u001b[39;00m(e)\n\u001b[0;32m     91\u001b[0m     err \u001b[38;5;241m=\u001b[39m \u001b[38;5;241m1\u001b[39m\n\u001b[0;32m     92\u001b[0m os\u001b[38;5;241m.\u001b[39mchdir(current_folder)\n",
      "\u001b[1;31mException\u001b[0m: 'utf-8' codec can't decode byte 0xfc in position 224: invalid start byte"
     ]
    }
   ],
   "source": [
    "rerun(json_file,overwrite=True)"
   ]
  },
  {
   "cell_type": "code",
   "execution_count": null,
   "metadata": {},
   "outputs": [],
   "source": []
  }
 ],
 "metadata": {
  "kernelspec": {
   "display_name": "Python 3",
   "language": "python",
   "name": "python3"
  },
  "language_info": {
   "codemirror_mode": {
    "name": "ipython",
    "version": 3
   },
   "file_extension": ".py",
   "mimetype": "text/x-python",
   "name": "python",
   "nbconvert_exporter": "python",
   "pygments_lexer": "ipython3",
   "version": "3.11.9"
  }
 },
 "nbformat": 4,
 "nbformat_minor": 2
}
