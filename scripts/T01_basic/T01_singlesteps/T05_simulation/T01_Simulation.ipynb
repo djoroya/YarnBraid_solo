{
 "cells": [
  {
   "cell_type": "code",
   "execution_count": 1,
   "metadata": {},
   "outputs": [],
   "source": [
    "from tools.basic.path_gen   import path_gen\n",
    "from tools.step.pprint     import pprint\n",
    "\n",
    "from model.default          import *\n",
    "\n",
    "import os,glob\n",
    "\n",
    "from model.simulation.RunSimulation import RunSimulation\n"
   ]
  },
  {
   "cell_type": "code",
   "execution_count": 2,
   "metadata": {},
   "outputs": [],
   "source": [
    "out_simula = [\"output\"]\n",
    "join = os.path.join\n",
    "infla_path = glob.glob(join(\"..\" , \"T04_inflation\", \"output\", \"*\"))\n",
    "infla_path = [ os.path.basename(i).replace(\".json\",\"\") for i in infla_path]"
   ]
  },
  {
   "cell_type": "code",
   "execution_count": 3,
   "metadata": {},
   "outputs": [
    {
     "data": {
      "text/plain": [
       "['2024-07-03__17-22-44__33313',\n",
       " '2024-07-03__17-24-38__59929',\n",
       " '2024-07-03__17-25-25__38615',\n",
       " '2024-07-03__17-26-53__69908']"
      ]
     },
     "execution_count": 3,
     "metadata": {},
     "output_type": "execute_result"
    }
   ],
   "source": [
    "infla_path"
   ]
  },
  {
   "attachments": {},
   "cell_type": "markdown",
   "metadata": {},
   "source": [
    "# Step 05. SIMULATION"
   ]
  },
  {
   "cell_type": "code",
   "execution_count": 4,
   "metadata": {},
   "outputs": [
    {
     "name": "stdout",
     "output_type": "stream",
     "text": [
      "\u001b[34melapsed             \u001b[39m: 0 h  -  0 m  -  0 s\n",
      "\u001b[31merror               \u001b[31m: 1\n",
      "\u001b[31merror_msg           \u001b[31m: No execution\n",
      "\u001b[34mverbose             \u001b[39m: True\n",
      "\u001b[34myoung               \u001b[39m: 2960\n",
      "\u001b[34mpoisson             \u001b[39m: 0.37\n",
      "\u001b[34mepsilon             \u001b[39m: 0.1\n",
      "\u001b[34mOMP_NUM_THREADS     \u001b[39m: 4\n",
      "\u001b[34mtype_bc             \u001b[39m: 3\n",
      "\u001b[34mattemps             \u001b[39m: 4\n",
      "\u001b[34mAdjust              \u001b[39m: False\n",
      "\u001b[34mnfixed              \u001b[39m: 3\n",
      "\u001b[34mnsteps              \u001b[39m: 1\n",
      "\u001b[34mnonlinear           \u001b[39m: False\n",
      "\u001b[34mcylindrical         \u001b[39m: False\n",
      "\u001b[34mnruns               \u001b[39m: 1\n",
      "\u001b[34msurface_interaction \u001b[39m: \n",
      "\t- type\n",
      "\t-factor_E\n",
      "\t-...\n",
      "\u001b[34mmax_mono            \u001b[39m: None\n",
      "\u001b[34mcalculix_dynamic    \u001b[39m: False\n",
      "\u001b[34mmpi                 \u001b[39m: True\n",
      "\u001b[34mmpi_np              \u001b[39m: 4\n",
      "\u001b[34mdisplacement        \u001b[39m: 0.1\n",
      "\u001b[34mradius              \u001b[39m: 10\n",
      "\u001b[34minflation_path      \u001b[39m: 2024-07-03__17-26-53__69908\n",
      "\u001b[34mncpus               \u001b[39m: 4\n"
     ]
    }
   ],
   "source": [
    "params_simu = simulation_default()\n",
    "params_simu[\"young\"]         = 2960      # MPa\n",
    "params_simu[\"poisson\"]       = 0.37 # Pa\n",
    "params_simu[\"displacement\"]  = 0.1         # mm\n",
    "params_simu[\"radius\"]        = 10           # mm\n",
    "params_simu[\"inflation_path\"] = infla_path[-1]\n",
    "params_simu[\"type_bc\"]      = 3\n",
    "params_simu[\"mpi\"] = True\n",
    "params_simu[\"mpi_np\"] = 4\n",
    "params_simu[\"ncpus\"] = 4 # number of cpus\n",
    "pprint(params_simu)"
   ]
  },
  {
   "cell_type": "code",
   "execution_count": 5,
   "metadata": {},
   "outputs": [
    {
     "name": "stdout",
     "output_type": "stream",
     "text": [
      "main_path:  ['output']\n"
     ]
    }
   ],
   "source": [
    "print(\"main_path: \", out_simula)"
   ]
  },
  {
   "cell_type": "code",
   "execution_count": 6,
   "metadata": {},
   "outputs": [
    {
     "name": "stdout",
     "output_type": "stream",
     "text": [
      "Running Calculix at:  c:\\Users\\djoroya\\Documents\\GitHub\\YarnBraid-solo\\simulations\\2024-07-04__09-09-19__23916\n",
      "Output file:  c:\\Users\\djoroya\\Documents\\GitHub\\YarnBraid-solo\\simulations\\2024-07-04__09-09-19__23916\\out.txt\n",
      "Command:\n",
      " mpiexec -n 4 c:\\Users\\djoroya\\Documents\\GitHub\\YarnBraid_30_05_2024\\YarnBraid\\src\\dependences\\PrePoMax\\Solver\\ccx_dynamic.exe init_new\n",
      "Error reading cvf file\n",
      "\n",
      "pid:  22476 \n",
      "\n",
      "SUMMARY OF C0NVERGENCE INFORMATION\n",
      "  STEP   INC  ATT   ITER     CONT.   RESID.        CORR.      RESID.      CORR.\n",
      "                              EL.    FORCE         DISP       FLUX        TEMP.\n",
      "                              (#)     (%)           (%)        (%)         (%)\n",
      "     1     1     1     1   213650  0.0000E+00  0.1000E+03  0.0000E+00  0.0000E+00\n",
      "     1     1     1     2   117444  0.0000E+00  0.5367E+02  0.0000E+00  0.0000E+00\n",
      "     1     1     1     3    72156  0.0000E+00  0.2448E+02  0.0000E+00  0.0000E+00\n",
      "     1     1     1     4    50617  0.0000E+00  0.2717E+02  0.0000E+00  0.0000E+00\n",
      "     1     1     1     5    40388  0.0000E+00  0.4639E+02  0.0000E+00  0.0000E+00\n",
      "     1     1     1     6    35821  0.0000E+00  0.4009E+02  0.0000E+00  0.0000E+00\n",
      "     1     1     1     7    33726  0.0000E+00  0.5451E+02  0.0000E+00  0.0000E+00\n",
      "     1     1     1     8    32390  0.0000E+00  0.4629E+02  0.0000E+00  0.0000E+00\n",
      "     1     1     1     9    31755  0.0000E+00  0.9186E+01  0.0000E+00  0.0000E+00\n",
      "     1     1     1    10    31459  0.0000E+00  0.1186E+01  0.0000E+00  0.0000E+00\n",
      "     1     1     1    11    31379  0.0000E+00  0.5045E+00  0.0000E+00  0.0000E+00\n",
      "     1     1     1    12    31372  0.0000E+00  0.2089E+00  0.0000E+00  0.0000E+00\n",
      "Calculix finished\n",
      "\n"
     ]
    }
   ],
   "source": [
    "RunSimulation(params_simu,out_simula)"
   ]
  },
  {
   "cell_type": "code",
   "execution_count": 7,
   "metadata": {},
   "outputs": [
    {
     "name": "stdout",
     "output_type": "stream",
     "text": [
      "\u001b[34melapsed             \u001b[39m: 0 h  -  0 m  -  43.66 s\n",
      "\u001b[32merror               \u001b[32m: 0\n",
      "\u001b[32merror_msg           \u001b[32m: Correct Execution\n",
      "\u001b[34mverbose             \u001b[39m: True\n",
      "\u001b[34myoung               \u001b[39m: 2960\n",
      "\u001b[34mpoisson             \u001b[39m: 0.37\n",
      "\u001b[34mepsilon             \u001b[39m: 0.1\n",
      "\u001b[34mOMP_NUM_THREADS     \u001b[39m: 4\n",
      "\u001b[34mtype_bc             \u001b[39m: 3\n",
      "\u001b[34mattemps             \u001b[39m: 4\n",
      "\u001b[34mAdjust              \u001b[39m: False\n",
      "\u001b[34mnfixed              \u001b[39m: 3\n",
      "\u001b[34mnsteps              \u001b[39m: 1\n",
      "\u001b[34mnonlinear           \u001b[39m: False\n",
      "\u001b[34mcylindrical         \u001b[39m: False\n",
      "\u001b[34mnruns               \u001b[39m: 1\n",
      "\u001b[34msurface_interaction \u001b[39m: \n",
      "\t- type\n",
      "\t-factor_E\n",
      "\t-...\n",
      "\u001b[34mmax_mono            \u001b[39m: None\n",
      "\u001b[34mmpi                 \u001b[39m: True\n",
      "\u001b[34mmpi_np              \u001b[39m: 4\n",
      "\u001b[34mdisplacement        \u001b[39m: 0.35572765500000003\n",
      "\u001b[34mradius              \u001b[39m: 10\n",
      "\u001b[34minflation_path      \u001b[39m: 2024-07-03__17-26-53__69908\n",
      "\u001b[34mncpus               \u001b[39m: 4\n",
      "\u001b[34msimulation_path     \u001b[39m: 2024-07-04__09-09-19__23916\n",
      "\u001b[34minit_time           \u001b[39m: 2024-07-04 09:09:19\n",
      "\u001b[34mheight              \u001b[39m: 3.55727655\n",
      "\u001b[34mfrd                 \u001b[39m: c:\\Users\\djoroya\\Documents\\GitHub\\YarnBraid-solo\\simulations\\2024-07-04__09-09-19__23916\\init_new.frd\n",
      "\u001b[34mnsets               \u001b[39m: \n",
      "\t- esqueleto_1\n",
      "\t-SURF_1\n",
      "\t-FACE_TOP_1\n",
      "\t-FACE_BOT_1\n",
      "\t-Yarn_1_1\n",
      "\t-Yarn_1_2\n",
      "\t-Yarn_1_3\n",
      "\t-FACE_TOP_CENTRAL_1\n",
      "\t-FACE_BOT_CENTRAL_1\n",
      "\t-P2_esqueleto_2\n",
      "\t-...\n",
      "\u001b[34mr_hebra             \u001b[39m: 0.2\n",
      "\u001b[34mvolume              \u001b[39m: 32.479401503199995\n",
      "\u001b[34mfinal_time          \u001b[39m: 2024-07-04 09:10:03\n"
     ]
    }
   ],
   "source": [
    "pprint(params_simu)"
   ]
  },
  {
   "cell_type": "code",
   "execution_count": 8,
   "metadata": {},
   "outputs": [],
   "source": [
    "from tools.basic.loadsavejson import loadjson"
   ]
  },
  {
   "cell_type": "code",
   "execution_count": 9,
   "metadata": {},
   "outputs": [
    {
     "ename": "FileNotFoundError",
     "evalue": "[Errno 2] No such file or directory: '2024-07-03__17-26-53__69908/params.json'",
     "output_type": "error",
     "traceback": [
      "\u001b[1;31m---------------------------------------------------------------------------\u001b[0m",
      "\u001b[1;31mFileNotFoundError\u001b[0m                         Traceback (most recent call last)",
      "Cell \u001b[1;32mIn[9], line 1\u001b[0m\n\u001b[1;32m----> 1\u001b[0m params_infl \u001b[38;5;241m=\u001b[39m \u001b[43mloadjson\u001b[49m\u001b[43m(\u001b[49m\u001b[43mparams_simu\u001b[49m\u001b[43m[\u001b[49m\u001b[38;5;124;43m\"\u001b[39;49m\u001b[38;5;124;43minflation_path\u001b[39;49m\u001b[38;5;124;43m\"\u001b[39;49m\u001b[43m]\u001b[49m\u001b[38;5;241;43m+\u001b[39;49m\u001b[38;5;124;43m\"\u001b[39;49m\u001b[38;5;124;43m/params.json\u001b[39;49m\u001b[38;5;124;43m\"\u001b[39;49m\u001b[43m)\u001b[49m\n\u001b[0;32m      2\u001b[0m params_infl[\u001b[38;5;124m\"\u001b[39m\u001b[38;5;124myarn_radius\u001b[39m\u001b[38;5;124m\"\u001b[39m]\n",
      "File \u001b[1;32mc:\\Users\\djoroya\\Documents\\GitHub\\YarnBraid-solo\\src\\tools\\basic\\loadsavejson.py:37\u001b[0m, in \u001b[0;36mloadjson\u001b[1;34m(ruta_archivo)\u001b[0m\n\u001b[0;32m     35\u001b[0m \u001b[38;5;28;01mdef\u001b[39;00m \u001b[38;5;21mloadjson\u001b[39m(ruta_archivo):\n\u001b[0;32m     36\u001b[0m     \u001b[38;5;66;03m# Cargar el diccionario desde el archivo JSON\u001b[39;00m\n\u001b[1;32m---> 37\u001b[0m     \u001b[38;5;28;01mwith\u001b[39;00m \u001b[38;5;28;43mopen\u001b[39;49m\u001b[43m(\u001b[49m\u001b[43mruta_archivo\u001b[49m\u001b[43m,\u001b[49m\u001b[43m \u001b[49m\u001b[38;5;124;43m'\u001b[39;49m\u001b[38;5;124;43mr\u001b[39;49m\u001b[38;5;124;43m'\u001b[39;49m\u001b[43m)\u001b[49m \u001b[38;5;28;01mas\u001b[39;00m archivo:\n\u001b[0;32m     38\u001b[0m         diccionario \u001b[38;5;241m=\u001b[39m json\u001b[38;5;241m.\u001b[39mload(archivo)\n\u001b[0;32m     40\u001b[0m     \u001b[38;5;66;03m# Convertir listas en matrices de NumPy\u001b[39;00m\n",
      "\u001b[1;31mFileNotFoundError\u001b[0m: [Errno 2] No such file or directory: '2024-07-03__17-26-53__69908/params.json'"
     ]
    }
   ],
   "source": [
    "params_infl = loadjson(params_simu[\"inflation_path\"]+\"/params.json\")\n",
    "params_infl[\"yarn_radius\"]"
   ]
  },
  {
   "cell_type": "code",
   "execution_count": null,
   "metadata": {},
   "outputs": [],
   "source": [
    "from tools.calculix.frd.readfrd import readfrd"
   ]
  },
  {
   "cell_type": "code",
   "execution_count": null,
   "metadata": {},
   "outputs": [],
   "source": [
    "face_bot_1 = params_simu[\"nsets\"][\"FACE_BOT_1\"]"
   ]
  },
  {
   "cell_type": "code",
   "execution_count": null,
   "metadata": {},
   "outputs": [],
   "source": [
    "face_bot_1"
   ]
  },
  {
   "cell_type": "code",
   "execution_count": null,
   "metadata": {},
   "outputs": [],
   "source": [
    "out = readfrd(params_simu[\"frd\"]) "
   ]
  },
  {
   "cell_type": "code",
   "execution_count": null,
   "metadata": {},
   "outputs": [],
   "source": [
    "out[\"data\"].loc[face_bot_1][\"F1\"]"
   ]
  }
 ],
 "metadata": {
  "kernelspec": {
   "display_name": "Python 3",
   "language": "python",
   "name": "python3"
  },
  "language_info": {
   "codemirror_mode": {
    "name": "ipython",
    "version": 3
   },
   "file_extension": ".py",
   "mimetype": "text/x-python",
   "name": "python",
   "nbconvert_exporter": "python",
   "pygments_lexer": "ipython3",
   "version": "3.11.9"
  }
 },
 "nbformat": 4,
 "nbformat_minor": 2
}
