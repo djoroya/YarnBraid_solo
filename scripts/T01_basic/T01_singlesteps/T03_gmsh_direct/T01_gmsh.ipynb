{
 "cells": [
  {
   "cell_type": "code",
   "execution_count": 89,
   "metadata": {},
   "outputs": [],
   "source": [
    "from model.GmshSplit.RunGmshSplit import RunGmshSplit\n",
    "from model.default import gmsh_default_table\n",
    "import os,glob"
   ]
  },
  {
   "cell_type": "code",
   "execution_count": 90,
   "metadata": {},
   "outputs": [],
   "source": [
    "main_path = [\"output\"]\n",
    "join = os.path.join\n",
    "lmp_path = glob.glob(join(\"..\" , \"T01_lammps\", \"output\", \"*\"))\n",
    "lmp_path = [ os.path.basename(i).replace(\".json\",\"\") for i in lmp_path]"
   ]
  },
  {
   "cell_type": "code",
   "execution_count": 91,
   "metadata": {},
   "outputs": [],
   "source": [
    "params_gmsh = gmsh_default_table()\n",
    "params_gmsh[\"debug\"] = True\n",
    "params_gmsh[\"lammps_path\"] = lmp_path[-1]"
   ]
  },
  {
   "cell_type": "code",
   "execution_count": 92,
   "metadata": {},
   "outputs": [
    {
     "name": "stdout",
     "output_type": "stream",
     "text": [
      "Trajectory  1\n",
      "Done\n",
      "Trajectory  2\n",
      "Done\n",
      "Trajectory  3\n",
      "Done\n",
      "Trajectory  4\n",
      "Done\n",
      "Trajectory  5\n",
      "Done\n",
      "Trajectory  6\n",
      "Done\n",
      "Trajectory  7\n",
      "Done\n",
      "Trajectory  8\n",
      "Done\n"
     ]
    }
   ],
   "source": [
    "RunGmshSplit(params_gmsh, main_path)"
   ]
  },
  {
   "cell_type": "code",
   "execution_count": null,
   "metadata": {},
   "outputs": [
    {
     "data": {
      "text/plain": [
       "{'elapsed': 0,\n",
       " 'error': 1,\n",
       " 'error_msg': 'No execution',\n",
       " 'verbose': True,\n",
       " 'factor_radius': 0.8,\n",
       " 'factor_mesh_min': 2.3,\n",
       " 'factor_mesh_max': 2.8,\n",
       " 'debug': True,\n",
       " 'refine': False,\n",
       " 'lammps_path': '2024-07-04__13-30-55__25904',\n",
       " 'function': {'name': 'RunGmshSplit', 'file': 'model.GmshSplit.RunGmshSplit'},\n",
       " 'simulation_path': '2024-07-04__14-10-12__46670'}"
      ]
     },
     "execution_count": 32,
     "metadata": {},
     "output_type": "execute_result"
    }
   ],
   "source": [
    "data"
   ]
  },
  {
   "cell_type": "code",
   "execution_count": null,
   "metadata": {},
   "outputs": [],
   "source": [
    "json_path = r\"C:\\Users\\djoroya\\Documents\\GitHub\\YarnBraid-solo\\scripts\\T01_basic\\T01_singlesteps\\T03_gmsh_direct\\output\\2024-07-04__14-10-12__46670.json\""
   ]
  },
  {
   "cell_type": "code",
   "execution_count": 7,
   "metadata": {},
   "outputs": [],
   "source": [
    "json_path = r\"output\\2024-07-04__14-07-38__87836.json\""
   ]
  },
  {
   "cell_type": "code",
   "execution_count": null,
   "metadata": {},
   "outputs": [],
   "source": []
  },
  {
   "cell_type": "code",
   "execution_count": 11,
   "metadata": {},
   "outputs": [],
   "source": [
    "from tools.step.rerun import rerun"
   ]
  },
  {
   "cell_type": "code",
   "execution_count": 12,
   "metadata": {},
   "outputs": [
    {
     "name": "stdout",
     "output_type": "stream",
     "text": [
      "Simulation does not exist. It will be created\n"
     ]
    },
    {
     "ename": "AttributeError",
     "evalue": "module 'model.gmsh.default' has no attribute 'default'",
     "output_type": "error",
     "traceback": [
      "\u001b[1;31m---------------------------------------------------------------------------\u001b[0m",
      "\u001b[1;31mAttributeError\u001b[0m                            Traceback (most recent call last)",
      "Cell \u001b[1;32mIn[12], line 1\u001b[0m\n\u001b[1;32m----> 1\u001b[0m \u001b[43mrerun\u001b[49m\u001b[43m(\u001b[49m\u001b[43mjson_path\u001b[49m\u001b[43m,\u001b[49m\u001b[43moverwrite\u001b[49m\u001b[38;5;241;43m=\u001b[39;49m\u001b[38;5;28;43;01mTrue\u001b[39;49;00m\u001b[43m)\u001b[49m\n",
      "File \u001b[1;32mc:\\Users\\djoroya\\Documents\\GitHub\\YarnBraid-solo\\src\\tools\\step\\rerun.py:36\u001b[0m, in \u001b[0;36mrerun\u001b[1;34m(json_path, overwrite)\u001b[0m\n\u001b[0;32m     33\u001b[0m module_default \u001b[38;5;241m=\u001b[39m importlib\u001b[38;5;241m.\u001b[39mimport_module(\u001b[38;5;124m\"\u001b[39m\u001b[38;5;124m.\u001b[39m\u001b[38;5;124m\"\u001b[39m\u001b[38;5;241m.\u001b[39mjoin(default_path))\n\u001b[0;32m     35\u001b[0m     \u001b[38;5;66;03m# Obtener la función desde el módulo\u001b[39;00m\n\u001b[1;32m---> 36\u001b[0m default_params \u001b[38;5;241m=\u001b[39m \u001b[38;5;28;43mgetattr\u001b[39;49m\u001b[43m(\u001b[49m\u001b[43mmodule_default\u001b[49m\u001b[43m,\u001b[49m\u001b[43m \u001b[49m\u001b[38;5;124;43m\"\u001b[39;49m\u001b[38;5;124;43mdefault\u001b[39;49m\u001b[38;5;124;43m\"\u001b[39;49m\u001b[43m)\u001b[49m()\n\u001b[0;32m     37\u001b[0m model \u001b[38;5;241m=\u001b[39m \u001b[38;5;28mgetattr\u001b[39m(model_module, data[\u001b[38;5;124m\"\u001b[39m\u001b[38;5;124mfunction\u001b[39m\u001b[38;5;124m\"\u001b[39m][\u001b[38;5;124m\"\u001b[39m\u001b[38;5;124mname\u001b[39m\u001b[38;5;124m\"\u001b[39m])\n\u001b[0;32m     38\u001b[0m \u001b[38;5;28;01mfor\u001b[39;00m key \u001b[38;5;129;01min\u001b[39;00m default_params\u001b[38;5;241m.\u001b[39mkeys():\n",
      "\u001b[1;31mAttributeError\u001b[0m: module 'model.gmsh.default' has no attribute 'default'"
     ]
    }
   ],
   "source": [
    "rerun(json_path,overwrite=True)"
   ]
  },
  {
   "cell_type": "code",
   "execution_count": null,
   "metadata": {},
   "outputs": [],
   "source": []
  }
 ],
 "metadata": {
  "kernelspec": {
   "display_name": "Python 3",
   "language": "python",
   "name": "python3"
  },
  "language_info": {
   "codemirror_mode": {
    "name": "ipython",
    "version": 3
   },
   "file_extension": ".py",
   "mimetype": "text/x-python",
   "name": "python",
   "nbconvert_exporter": "python",
   "pygments_lexer": "ipython3",
   "version": "3.11.9"
  }
 },
 "nbformat": 4,
 "nbformat_minor": 2
}
