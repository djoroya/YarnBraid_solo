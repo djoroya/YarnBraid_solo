{
 "cells": [
  {
   "cell_type": "code",
   "execution_count": 42,
   "metadata": {},
   "outputs": [],
   "source": [
    "import numpy as np"
   ]
  },
  {
   "cell_type": "code",
   "execution_count": 43,
   "metadata": {},
   "outputs": [
    {
     "name": "stdout",
     "output_type": "stream",
     "text": [
      "sigma_trenzado = 308.93 MPa\n",
      "sigma_hebra = 599.68 MPa\n",
      "sigma_trenzado_homogenized = 110.85 MPa\n",
      "ratio = 0.515\n"
     ]
    }
   ],
   "source": [
    "dia_hebra = 0.27 # mm\n",
    "# \n",
    "F_hebra = 3.5 # 3.241 # kg\n",
    "F_hebra_sin_corr = 3.241 # kg\n",
    "F_hebra_kg = F_hebra\n",
    "F_hebra = 9.81*F_hebra # N\n",
    "A_hebra = np.pi*(dia_hebra/2)**2\n",
    "sigma_hebra = F_hebra/A_hebra # MPa\n",
    "\n",
    "F_trenzado = 142 # kg\n",
    "F_trenzado_con_alma = 177 # kg\n",
    "F_trenzado_kg = F_trenzado\n",
    "F_trenzado = 9.81*F_trenzado # N\n",
    "dia_trenzado = 4 # mm\n",
    "\n",
    "# 4 monofilamentos x 16 + 15 monofilamentos en alma\n",
    "theta = 85 # grados\n",
    "ctheta = np.sin(np.deg2rad(theta))\n",
    "Nalma = 15\n",
    "Atrenzado = (ctheta*16*4 + Nalma)*np.pi*(dia_hebra/2)**2 \n",
    "sigma_trenzado = F_trenzado/Atrenzado # MPa\n",
    "\n",
    "# homogenized \n",
    "Atrenzado_homogenized = np.pi*(dia_trenzado/2)**2\n",
    "sigma_trenzado_homogenized = F_trenzado/Atrenzado_homogenized # MPa\n",
    "# print with 2 decimals\n",
    "print(f\"sigma_trenzado = {sigma_trenzado:.2f} MPa\")\n",
    "print(f\"sigma_hebra = {sigma_hebra:.2f} MPa\")\n",
    "print(f\"sigma_trenzado_homogenized = {sigma_trenzado_homogenized:.2f} MPa\")\n",
    "# \n",
    "# ratio \n",
    "ratio = sigma_trenzado/sigma_hebra\n",
    "print(f\"ratio = {ratio:.3f}\")"
   ]
  },
  {
   "cell_type": "code",
   "execution_count": 44,
   "metadata": {},
   "outputs": [],
   "source": [
    "from tools.step.runstep import runstep,address,lj\n",
    "import os\n"
   ]
  },
  {
   "cell_type": "code",
   "execution_count": 45,
   "metadata": {},
   "outputs": [],
   "source": [
    "import glob"
   ]
  },
  {
   "cell_type": "markdown",
   "metadata": {},
   "source": []
  },
  {
   "cell_type": "code",
   "execution_count": 46,
   "metadata": {},
   "outputs": [],
   "source": [
    "files = glob.glob('output/*.json')"
   ]
  },
  {
   "cell_type": "code",
   "execution_count": 47,
   "metadata": {},
   "outputs": [],
   "source": [
    "file = files[-4]"
   ]
  },
  {
   "cell_type": "code",
   "execution_count": null,
   "metadata": {},
   "outputs": [],
   "source": []
  },
  {
   "cell_type": "code",
   "execution_count": 48,
   "metadata": {},
   "outputs": [
    {
     "name": "stdout",
     "output_type": "stream",
     "text": [
      "Simulation not found\n",
      "output\\2024-07-05__14-22-40__46083.json\n",
      "Simulation not found\n",
      "output\\2024-07-05__14-29-07__76656.json\n",
      "Simulation not found\n",
      "output\\2024-07-05__14-30-12__53952.json\n",
      "Simulation not found\n",
      "output\\2024-07-05__14-32-03__44965.json\n",
      "Simulation not found\n",
      "output\\2024-07-05__14-50-36__53791.json\n",
      "Simulation not found\n",
      "output\\2024-07-05__14-52-13__22902.json\n",
      "Simulation not found\n",
      "output\\2024-07-05__14-55-04__95293.json\n",
      "Simulation not found\n",
      "output\\2024-07-05__14-57-51__18699.json\n",
      "Simulation not found\n",
      "output\\2024-07-05__14-58-27__62765.json\n",
      "Simulation not found\n",
      "output\\2024-07-05__14-59-13__81888.json\n",
      "Simulation not found\n",
      "output\\2024-07-05__15-00-05__67269.json\n",
      "Simulation not found\n",
      "output\\2024-07-05__17-14-48__40756.json\n"
     ]
    }
   ],
   "source": [
    "results = []\n",
    "for file in files:\n",
    "\n",
    "    try:\n",
    "        id_sim = os.path.basename(file).replace('.json','')\n",
    "\n",
    "        params = lj(id_sim)\n",
    "\n",
    "        steps = params[\"results\"][\"frd\"][\"steps\"]\n",
    "        step_str =  [ i[:7 ] for i in steps ]\n",
    "        step_str = np.array(step_str)    \n",
    "        step_str_uq = np.unique(step_str)\n",
    "\n",
    "        indx = [ np.where(step_str == iuq )[-1][-1] for iuq in step_str_uq]\n",
    "\n",
    "\n",
    "        sigma_max = [i[\"sigma_max\"] for i in params[\"results\"][\"measurements\"]]\n",
    "        epsilon = [i[\"epsilon\"] for i in params[\"results\"][\"measurements\"]]\n",
    "        Ftotal = [i[\"F_total\"] for i in params[\"results\"][\"measurements\"]]\n",
    "\n",
    "        sigma_max = np.array(sigma_max)\n",
    "        sigma_max = sigma_max[indx]\n",
    "\n",
    "        epsilon = np.array(epsilon)\n",
    "        epsilon = epsilon[indx]\n",
    "        Ftotal = np.array(Ftotal)/9.81 # kg\n",
    "        Ftotal = Ftotal[indx]\n",
    "\n",
    "\n",
    "\n",
    "\n",
    "        step_str_uq = step_str[indx]\n",
    "\n",
    "        angle = 85\n",
    "        ctheta = np.sin(np.deg2rad(angle))\n",
    "\n",
    "        results.append({\"id_sim\":id_sim,\n",
    "                        \"step_str_uq\":step_str_uq,\"sigma_max\":sigma_max,\n",
    "                        \"epsilon\":epsilon,\n",
    "                        \"Ftotal\":Ftotal})\n",
    "\n",
    "    except Exception as e:\n",
    "        print(e)\n",
    "        print(file)\n",
    "        pass\n"
   ]
  },
  {
   "cell_type": "code",
   "execution_count": 49,
   "metadata": {},
   "outputs": [],
   "source": [
    "from matplotlib import pyplot as plt\n",
    "import numpy as np"
   ]
  },
  {
   "cell_type": "code",
   "execution_count": 50,
   "metadata": {},
   "outputs": [
    {
     "data": {
      "text/plain": [
       "2"
      ]
     },
     "execution_count": 50,
     "metadata": {},
     "output_type": "execute_result"
    }
   ],
   "source": [
    "len(results)"
   ]
  },
  {
   "cell_type": "code",
   "execution_count": 51,
   "metadata": {},
   "outputs": [
    {
     "data": {
      "text/plain": [
       "{'id_sim': '2024-07-06__22-25-23__53759',\n",
       " 'step_str_uq': array(['step_01', 'step_02'], dtype='<U7'),\n",
       " 'sigma_max': array([20.37645856, 97.55946335]),\n",
       " 'epsilon': array([0.00014345, 0.14174412]),\n",
       " 'Ftotal': array([-2.28269838, 24.40499817])}"
      ]
     },
     "execution_count": 51,
     "metadata": {},
     "output_type": "execute_result"
    }
   ],
   "source": [
    "results[0]"
   ]
  },
  {
   "cell_type": "code",
   "execution_count": 52,
   "metadata": {},
   "outputs": [],
   "source": [
    "results = results[-7:]"
   ]
  },
  {
   "cell_type": "code",
   "execution_count": 53,
   "metadata": {},
   "outputs": [
    {
     "data": {
      "text/plain": [
       "<matplotlib.legend.Legend at 0x2b2a1c7c490>"
      ]
     },
     "execution_count": 53,
     "metadata": {},
     "output_type": "execute_result"
    },
    {
     "data": {
      "image/png": "[encoded data removed]",
      "text/plain": [
       "<Figure size 640x480 with 1 Axes>"
      ]
     },
     "metadata": {},
     "output_type": "display_data"
    }
   ],
   "source": [
    "# linear regression\n",
    "iter = -1\n",
    "for r in results:\n",
    "    iter += 1\n",
    "    id_sim = r[\"id_sim\"]\n",
    "    step_str_uq = r[\"step_str_uq\"]\n",
    "    sigma_max = r[\"sigma_max\"]\n",
    "    epsilon = r[\"epsilon\"]\n",
    "    Ftotal = r[\"Ftotal\"]\n",
    "\n",
    "    Fmax =  sigma_max*A_hebra/9.81\n",
    "    label = f\"{id_sim}\" + f\"iter = {iter}\"\n",
    "    plt.plot(Ftotal,Fmax,label=label,marker=\"o\")\n",
    "plt.axvline(x=F_trenzado_kg, color='b', linestyle='--',label=\"rotura trenzado sin alma (experimental)\")\n",
    "plt.axhline(y=F_hebra_kg, color='g', linestyle='--',label=\"rotura hebra (experimental)\")\n",
    "\n",
    "\n",
    "plt.axvline(x=F_trenzado_con_alma, color='r', linestyle='--',label=\"rotura trenzado con alma (experimental)\")\n",
    "plt.axhline(y=F_hebra_sin_corr, color='y', linestyle='--',label=\"rotura hebra sin correccion (experimental)\")\n",
    "\n",
    "F_trenzado_con_alma = 142 # kg\n",
    "#\n",
    "plt.ylabel(\"F Hebra (kg)\")\n",
    "plt.xlabel(\"F load (kg)\")\n",
    "plt.grid()\n",
    "# outside\n",
    "plt.legend(loc='center left', bbox_to_anchor=(1, 0.5))"
   ]
  },
  {
   "cell_type": "code",
   "execution_count": 54,
   "metadata": {},
   "outputs": [
    {
     "data": {
      "text/plain": [
       "142"
      ]
     },
     "execution_count": 54,
     "metadata": {},
     "output_type": "execute_result"
    }
   ],
   "source": [
    "F_trenzado_kg"
   ]
  },
  {
   "cell_type": "code",
   "execution_count": 55,
   "metadata": {},
   "outputs": [
    {
     "data": {
      "text/plain": [
       "142"
      ]
     },
     "execution_count": 55,
     "metadata": {},
     "output_type": "execute_result"
    }
   ],
   "source": [
    "F_trenzado_con_alma"
   ]
  },
  {
   "cell_type": "code",
   "execution_count": 56,
   "metadata": {},
   "outputs": [
    {
     "name": "stdout",
     "output_type": "stream",
     "text": [
      "Ftotal = 7.657948332976674 kg\n"
     ]
    }
   ],
   "source": [
    "Ftotal = results[-1][\"Ftotal\"][-1]\n",
    "\n",
    "print(f\"Ftotal = {Ftotal} kg\")\n",
    "\n"
   ]
  },
  {
   "cell_type": "code",
   "execution_count": 57,
   "metadata": {},
   "outputs": [],
   "source": [
    "Ftotals = [i[\"Ftotal\"][-1] for i in results]\n",
    "Fmaxs = [i[\"sigma_max\"][-1]*A_hebra/9.81 for i in results]\n",
    "ratio = [iFmax/iFtotal for iFmax,iFtotal in zip(Fmaxs,Ftotals)]\n",
    "error = [ np.sqrt((iratio - F_hebra_kg/F_trenzado_kg)**2) for iratio in ratio]"
   ]
  },
  {
   "cell_type": "code",
   "execution_count": 58,
   "metadata": {},
   "outputs": [
    {
     "data": {
      "text/plain": [
       "142"
      ]
     },
     "execution_count": 58,
     "metadata": {},
     "output_type": "execute_result"
    }
   ],
   "source": [
    "F_trenzado_kg"
   ]
  },
  {
   "cell_type": "code",
   "execution_count": 59,
   "metadata": {},
   "outputs": [],
   "source": [
    "import pandas as pd"
   ]
  },
  {
   "cell_type": "code",
   "execution_count": null,
   "metadata": {},
   "outputs": [],
   "source": []
  },
  {
   "cell_type": "code",
   "execution_count": null,
   "metadata": {},
   "outputs": [],
   "source": []
  }
 ],
 "metadata": {
  "kernelspec": {
   "display_name": "Python 3",
   "language": "python",
   "name": "python3"
  },
  "language_info": {
   "codemirror_mode": {
    "name": "ipython",
    "version": 3
   },
   "file_extension": ".py",
   "mimetype": "text/x-python",
   "name": "python",
   "nbconvert_exporter": "python",
   "pygments_lexer": "ipython3",
   "version": "3.11.9"
  }
 },
 "nbformat": 4,
 "nbformat_minor": 2
}
