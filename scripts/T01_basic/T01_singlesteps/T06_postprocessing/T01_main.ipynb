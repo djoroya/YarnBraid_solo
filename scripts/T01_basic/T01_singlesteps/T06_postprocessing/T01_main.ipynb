{
 "cells": [
  {
   "cell_type": "code",
   "execution_count": 1,
   "metadata": {},
   "outputs": [],
   "source": [
    "from model.post.RunPost import RunPost\n",
    "from model.post.default import default\n",
    "import os,glob"
   ]
  },
  {
   "cell_type": "code",
   "execution_count": 2,
   "metadata": {},
   "outputs": [],
   "source": [
    "out_simula = [\"output\"]\n",
    "join = os.path.join\n",
    "sim_path = glob.glob(join(\"..\" , \"T05_simulation\", \"output\", \"*\"))\n",
    "sim_path = [ os.path.basename(i).replace(\".json\",\"\") for i in sim_path]"
   ]
  },
  {
   "cell_type": "code",
   "execution_count": 3,
   "metadata": {},
   "outputs": [
    {
     "data": {
      "text/plain": [
       "['2024-07-05__10-13-31__84500',\n",
       " '2024-07-05__14-40-15__44676',\n",
       " '2024-07-05__14-42-11__74386',\n",
       " '2024-07-05__14-44-48__38985',\n",
       " '2024-07-05__14-45-40__97275',\n",
       " '2024-07-05__14-46-25__22171',\n",
       " '2024-07-05__14-47-05__29264',\n",
       " '2024-07-06__22-22-24__33440']"
      ]
     },
     "execution_count": 3,
     "metadata": {},
     "output_type": "execute_result"
    }
   ],
   "source": [
    "sim_path"
   ]
  },
  {
   "cell_type": "code",
   "execution_count": 4,
   "metadata": {},
   "outputs": [],
   "source": [
    "import numpy as np"
   ]
  },
  {
   "cell_type": "code",
   "execution_count": 5,
   "metadata": {},
   "outputs": [],
   "source": [
    "params = default()\n",
    "params[\"tensile_path\"] = sim_path[-1]\n",
    "params[\"max_mono\"] = 142 # MPa\n"
   ]
  },
  {
   "cell_type": "code",
   "execution_count": 6,
   "metadata": {},
   "outputs": [
    {
     "name": "stdout",
     "output_type": "stream",
     "text": [
      "Read frd\n",
      "--------------------\n",
      "Interp section\n",
      "--------------------\n",
      "Interpolating section\n"
     ]
    },
    {
     "name": "stderr",
     "output_type": "stream",
     "text": [
      "100%|██████████| 64/64 [00:00<00:00, 209.05it/s]\n"
     ]
    },
    {
     "name": "stdout",
     "output_type": "stream",
     "text": [
      "Interpolating section\n"
     ]
    },
    {
     "name": "stderr",
     "output_type": "stream",
     "text": [
      "100%|██████████| 64/64 [00:00<00:00, 200.53it/s]\n"
     ]
    },
    {
     "name": "stdout",
     "output_type": "stream",
     "text": [
      "Interpolating section\n"
     ]
    },
    {
     "name": "stderr",
     "output_type": "stream",
     "text": [
      "100%|██████████| 64/64 [00:00<00:00, 212.69it/s]\n"
     ]
    }
   ],
   "source": [
    "RunPost(params, out_simula)"
   ]
  }
 ],
 "metadata": {
  "kernelspec": {
   "display_name": "Python 3",
   "language": "python",
   "name": "python3"
  },
  "language_info": {
   "codemirror_mode": {
    "name": "ipython",
    "version": 3
   },
   "file_extension": ".py",
   "mimetype": "text/x-python",
   "name": "python",
   "nbconvert_exporter": "python",
   "pygments_lexer": "ipython3",
   "version": "3.11.9"
  }
 },
 "nbformat": 4,
 "nbformat_minor": 2
}
