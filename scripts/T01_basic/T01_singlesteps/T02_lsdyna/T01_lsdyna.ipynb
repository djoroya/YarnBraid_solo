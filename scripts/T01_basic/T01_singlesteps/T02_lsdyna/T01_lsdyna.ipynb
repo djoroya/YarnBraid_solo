{
 "cells": [
  {
   "cell_type": "code",
   "execution_count": 1,
   "metadata": {},
   "outputs": [],
   "source": [
    "from tools.basic.path_gen               import path_gen\n",
    "from tools.step.pprint                  import pprint\n",
    "\n",
    "from model.lsdyna.default           import default\n",
    "from model.lsdyna.RunLSdyna  import RunLSdyna\n",
    "import glob,os\n"
   ]
  },
  {
   "cell_type": "code",
   "execution_count": 2,
   "metadata": {},
   "outputs": [],
   "source": [
    "main_path = [\"output\"]\n",
    "join = os.path.join\n",
    "lmp_path = glob.glob(join(\"..\" , \"T01_lammps\", \"output\", \"*\"))\n",
    "lmp_path = [ os.path.basename(i).replace(\".json\",\"\") for i in lmp_path]"
   ]
  },
  {
   "cell_type": "code",
   "execution_count": 3,
   "metadata": {},
   "outputs": [
    {
     "data": {
      "text/plain": [
       "['2024-07-06__07-37-17__51256',\n",
       " '2024-08-26__13-57-07__25068',\n",
       " '2024-08-26__13-59-38__87196',\n",
       " '2024-08-26__14-00-45__94372',\n",
       " '2024-08-26__14-06-28__76421',\n",
       " '2024-08-26__15-40-56__79197',\n",
       " '2024-08-26__15-41-04__97989',\n",
       " '2024-08-26__15-41-41__22006',\n",
       " '2024-08-26__15-42-07__30126',\n",
       " '2024-08-26__15-44-04__24464',\n",
       " '2024-08-26__15-45-29__39674',\n",
       " '2024-08-26__15-46-48__89882',\n",
       " '2024-08-26__15-47-42__17369',\n",
       " '2024-08-26__15-49-06__80800',\n",
       " '2024-08-26__15-50-50__30407',\n",
       " '2024-08-26__16-24-12__81763',\n",
       " '2024-08-26__16-24-56__36183',\n",
       " '2024-08-26__16-31-48__38088',\n",
       " '2024-08-26__16-32-46__96413',\n",
       " '2024-08-27__08-39-46__50173',\n",
       " '2024-08-27__08-40-52__14696',\n",
       " '2024-08-27__08-43-10__21385',\n",
       " '2024-08-27__08-45-09__24726',\n",
       " '2024-08-27__08-45-44__40886',\n",
       " '2024-08-27__08-46-41__74513',\n",
       " '2024-08-27__08-48-40__78656',\n",
       " '2024-08-27__09-12-32__34888',\n",
       " '2024-08-27__09-14-23__24301',\n",
       " '2024-08-27__09-16-52__25864',\n",
       " '2024-08-27__09-17-35__44188',\n",
       " '2024-08-27__09-18-27__31430',\n",
       " '2024-08-27__09-18-45__16374',\n",
       " '2024-08-27__09-21-56__17893',\n",
       " '2024-08-27__09-23-15__34263',\n",
       " '2024-08-27__09-24-15__84213',\n",
       " '2024-08-27__09-27-15__41526',\n",
       " '2024-08-27__09-30-02__61822',\n",
       " '2024-08-27__09-32-54__89137']"
      ]
     },
     "execution_count": 3,
     "metadata": {},
     "output_type": "execute_result"
    }
   ],
   "source": [
    "lmp_path"
   ]
  },
  {
   "cell_type": "code",
   "execution_count": 4,
   "metadata": {},
   "outputs": [
    {
     "name": "stdout",
     "output_type": "stream",
     "text": [
      "\u001b[34msettings_step       \u001b[39m: \n",
      "\t- has_children\n",
      "\t-has_parent\n",
      "\t-verbose\n",
      "\t-...\n",
      "\u001b[34mradius              \u001b[39m: None\n",
      "\u001b[34mfactor_npoints      \u001b[39m: 0.125\n",
      "\u001b[34malign               \u001b[39m: False\n",
      "\u001b[34mfactor              \u001b[39m: 0.75\n",
      "\u001b[34mhmax                \u001b[39m: 5\n",
      "\u001b[34mnpoints             \u001b[39m: 50\n",
      "\u001b[34mlmp_path            \u001b[39m: 2024-08-27__09-32-54__89137\n"
     ]
    }
   ],
   "source": [
    "params_lsdyna = default()\n",
    "params_lsdyna['lmp_path']      = lmp_path[-1]\n",
    "params_lsdyna[\"radius\"]        = None # take the radius from the lammps simulation\n",
    "params_lsdyna[\"hmax\"]       = 5\n",
    "params_lsdyna[\"factor\"]       = 0.75\n",
    "pprint(params_lsdyna)"
   ]
  },
  {
   "cell_type": "code",
   "execution_count": 5,
   "metadata": {},
   "outputs": [
    {
     "name": "stderr",
     "output_type": "stream",
     "text": [
      "100%|██████████| 64/64 [01:24<00:00,  1.32s/it]\n"
     ]
    }
   ],
   "source": [
    "RunLSdyna(params_lsdyna,main_path)"
   ]
  },
  {
   "cell_type": "code",
   "execution_count": 6,
   "metadata": {},
   "outputs": [
    {
     "name": "stdout",
     "output_type": "stream",
     "text": [
      "\u001b[34msettings_step       \u001b[39m: \n",
      "\t- has_children\n",
      "\t-has_parent\n",
      "\t-verbose\n",
      "\t-...\n",
      "\u001b[34mradius              \u001b[39m: 0.15000000000000002\n",
      "\u001b[34mfactor_npoints      \u001b[39m: 0.125\n",
      "\u001b[34malign               \u001b[39m: False\n",
      "\u001b[34mfactor              \u001b[39m: 0.75\n",
      "\u001b[34mhmax                \u001b[39m: 5\n",
      "\u001b[34mnpoints             \u001b[39m: 24\n",
      "\u001b[34mlmp_path            \u001b[39m: 2024-08-27__09-32-54__89137\n",
      "\u001b[34mfunction            \u001b[39m: \n",
      "\t- name\n",
      "\t-file\n",
      "\t-...\n",
      "\u001b[34mmetadata            \u001b[39m: \n",
      "\t- elapsed\n",
      "\t-error\n",
      "\t-error_msg\n",
      "\t-init_time\n",
      "\t-final_time\n",
      "\t-...\n",
      "\u001b[34msimulation_path     \u001b[39m: 2024-08-27__10-34-58__20433\n"
     ]
    }
   ],
   "source": [
    "pprint(params_lsdyna)"
   ]
  },
  {
   "cell_type": "code",
   "execution_count": 7,
   "metadata": {},
   "outputs": [
    {
     "ename": "NameError",
     "evalue": "name 'ss' is not defined",
     "output_type": "error",
     "traceback": [
      "\u001b[1;31m---------------------------------------------------------------------------\u001b[0m",
      "\u001b[1;31mNameError\u001b[0m                                 Traceback (most recent call last)",
      "Cell \u001b[1;32mIn[7], line 1\u001b[0m\n\u001b[1;32m----> 1\u001b[0m \u001b[43mss\u001b[49m\n",
      "\u001b[1;31mNameError\u001b[0m: name 'ss' is not defined"
     ]
    }
   ],
   "source": [
    "ss"
   ]
  },
  {
   "cell_type": "code",
   "execution_count": null,
   "metadata": {},
   "outputs": [],
   "source": [
    "import os\n",
    "from tools.step.rerun import rerun\n",
    "json_file = os.path.join(*(main_path + \\\n",
    "                           [params_lsdyna[\"simulation_path\"]])) + \".json\""
   ]
  },
  {
   "cell_type": "code",
   "execution_count": null,
   "metadata": {},
   "outputs": [
    {
     "name": "stdout",
     "output_type": "stream",
     "text": [
      "Simulation exists. It will be overwritten\n",
      "['output']\n"
     ]
    },
    {
     "name": "stderr",
     "output_type": "stream",
     "text": [
      "100%|██████████| 64/64 [01:23<00:00,  1.31s/it]\n"
     ]
    }
   ],
   "source": [
    "rerun(json_file,overwrite=True)"
   ]
  }
 ],
 "metadata": {
  "kernelspec": {
   "display_name": "Python 3",
   "language": "python",
   "name": "python3"
  },
  "language_info": {
   "codemirror_mode": {
    "name": "ipython",
    "version": 3
   },
   "file_extension": ".py",
   "mimetype": "text/x-python",
   "name": "python",
   "nbconvert_exporter": "python",
   "pygments_lexer": "ipython3",
   "version": "3.11.9"
  }
 },
 "nbformat": 4,
 "nbformat_minor": 2
}
