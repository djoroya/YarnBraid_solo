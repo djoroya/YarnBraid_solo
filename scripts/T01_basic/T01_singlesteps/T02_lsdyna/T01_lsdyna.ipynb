{
 "cells": [
  {
   "cell_type": "code",
   "execution_count": 1,
   "metadata": {},
   "outputs": [],
   "source": [
    "from tools.basic.path_gen               import path_gen\n",
    "from tools.step.pprint                  import pprint\n",
    "\n",
    "from model.default           import *\n",
    "from model.lsdyna.RunLSdyna  import RunLSdyna\n",
    "import glob,os\n"
   ]
  },
  {
   "cell_type": "code",
   "execution_count": 2,
   "metadata": {},
   "outputs": [],
   "source": [
    "main_path = os.path.join(\"output\", path_gen())\n",
    "join = os.path.join\n",
    "lmp_path = glob.glob(join(\"..\" , \"T01_lammps\", \"output\", \"*\"))"
   ]
  },
  {
   "cell_type": "code",
   "execution_count": 3,
   "metadata": {},
   "outputs": [
    {
     "data": {
      "text/plain": [
       "['..\\\\T01_lammps\\\\output\\\\2024-07-02__15-54-45__38849']"
      ]
     },
     "execution_count": 3,
     "metadata": {},
     "output_type": "execute_result"
    }
   ],
   "source": [
    "lmp_path"
   ]
  },
  {
   "attachments": {},
   "cell_type": "markdown",
   "metadata": {},
   "source": [
    "# Step 02. LS-DYNA"
   ]
  },
  {
   "cell_type": "code",
   "execution_count": 4,
   "metadata": {},
   "outputs": [
    {
     "name": "stdout",
     "output_type": "stream",
     "text": [
      "\u001b[34melapsed             \u001b[39m: 0 h  -  0 m  -  0 s\n",
      "\u001b[31merror               \u001b[31m: 1\n",
      "\u001b[31merror_msg           \u001b[31m: No execution\n",
      "\u001b[34mverbose             \u001b[39m: True\n",
      "\u001b[34mradius              \u001b[39m: None\n",
      "\u001b[34mfactor_npoints      \u001b[39m: 0.125\n",
      "\u001b[34malign               \u001b[39m: False\n",
      "\u001b[34mfactor              \u001b[39m: 0.9\n",
      "\u001b[34mhmax                \u001b[39m: None\n",
      "\u001b[34mlmp_path            \u001b[39m: ..\\T01_lammps\\output\\2024-07-02__15-54-45__38849\n",
      "\u001b[34mnpoints             \u001b[39m: 50\n"
     ]
    }
   ],
   "source": [
    "params_lsdyna = lsdyna_default()\n",
    "params_lsdyna['lmp_path']      = lmp_path[0]\n",
    "params_lsdyna[\"radius\"]        = None # take the radius from the lammps simulation\n",
    "params_lsdyna[\"npoints\"]       = 50\n",
    "pprint(params_lsdyna)"
   ]
  },
  {
   "cell_type": "code",
   "execution_count": 5,
   "metadata": {},
   "outputs": [
    {
     "data": {
      "application/vnd.jupyter.widget-view+json": {
       "model_id": "5e64e87843584a4cbedb47aad951552a",
       "version_major": 2,
       "version_minor": 0
      },
      "text/plain": [
       "  0%|          | 0/64 [00:00<?, ?it/s]"
      ]
     },
     "metadata": {},
     "output_type": "display_data"
    }
   ],
   "source": [
    "RunLSdyna(params_lsdyna,main_path)"
   ]
  },
  {
   "cell_type": "code",
   "execution_count": 6,
   "metadata": {},
   "outputs": [
    {
     "name": "stdout",
     "output_type": "stream",
     "text": [
      "\u001b[34melapsed             \u001b[39m: 0 h  -  1 m  -  21.19 s\n",
      "\u001b[32merror               \u001b[32m: 0\n",
      "\u001b[32merror_msg           \u001b[32m: Correct Execution\n",
      "\u001b[34mverbose             \u001b[39m: True\n",
      "\u001b[34mradius              \u001b[39m: 0.18000000000000002\n",
      "\u001b[34mfactor_npoints      \u001b[39m: 0.125\n",
      "\u001b[34malign               \u001b[39m: False\n",
      "\u001b[34mfactor              \u001b[39m: 0.9\n",
      "\u001b[34mhmax                \u001b[39m: None\n",
      "\u001b[34mlmp_path            \u001b[39m: ..\\T01_lammps\\output\\2024-07-02__15-54-45__38849\n",
      "\u001b[34mnpoints             \u001b[39m: 31\n",
      "\u001b[34moutput_folder       \u001b[39m: output\\2024-07-02__15-59-30__21466\n",
      "\u001b[34minit_time           \u001b[39m: 2024-07-02 15:59:30\n",
      "\u001b[34mfinal_time          \u001b[39m: 2024-07-02 16:00:51\n",
      "\u001b[34mroot_folder         \u001b[39m: c:\\Users\\djoroya\\Documents\\GitHub\\YarnBraid-solo\\scripts\\T01_basic\\T01_singlesteps\\T02_lsdyna\\\n"
     ]
    }
   ],
   "source": [
    "pprint(params_lsdyna)"
   ]
  }
 ],
 "metadata": {
  "kernelspec": {
   "display_name": "Python 3",
   "language": "python",
   "name": "python3"
  },
  "language_info": {
   "codemirror_mode": {
    "name": "ipython",
    "version": 3
   },
   "file_extension": ".py",
   "mimetype": "text/x-python",
   "name": "python",
   "nbconvert_exporter": "python",
   "pygments_lexer": "ipython3",
   "version": "3.11.9"
  }
 },
 "nbformat": 4,
 "nbformat_minor": 2
}
