{
 "cells": [
  {
   "cell_type": "code",
   "execution_count": 8,
   "metadata": {},
   "outputs": [],
   "source": [
    "from tools.basic.path_gen               import path_gen\n",
    "from tools.step.pprint                  import pprint\n",
    "\n",
    "from model.lsdyna.default           import default\n",
    "from model.lsdyna.RunLSdyna  import RunLSdyna\n",
    "import glob,os\n"
   ]
  },
  {
   "cell_type": "code",
   "execution_count": 9,
   "metadata": {},
   "outputs": [],
   "source": [
    "main_path = [\"output\"]\n",
    "join = os.path.join\n",
    "lmp_path = glob.glob(join(\"..\" , \"T01_lammps\", \"output\", \"*\"))\n",
    "lmp_path = [ os.path.basename(i).replace(\".json\",\"\") for i in lmp_path]"
   ]
  },
  {
   "cell_type": "code",
   "execution_count": 10,
   "metadata": {},
   "outputs": [
    {
     "data": {
      "text/plain": [
       "['2024-07-06__07-37-17__51256',\n",
       " '2024-08-26__13-57-07__25068',\n",
       " '2024-08-26__13-59-38__87196',\n",
       " '2024-08-26__14-00-45__94372',\n",
       " '2024-08-26__14-06-28__76421',\n",
       " '2024-08-26__15-40-56__79197',\n",
       " '2024-08-26__15-41-04__97989',\n",
       " '2024-08-26__15-41-41__22006',\n",
       " '2024-08-26__15-42-07__30126',\n",
       " '2024-08-26__15-44-04__24464',\n",
       " '2024-08-26__15-45-29__39674',\n",
       " '2024-08-26__15-46-48__89882',\n",
       " '2024-08-26__15-47-42__17369',\n",
       " '2024-08-26__15-49-06__80800',\n",
       " '2024-08-26__15-50-50__30407',\n",
       " '2024-08-26__16-24-12__81763',\n",
       " '2024-08-26__16-24-56__36183',\n",
       " '2024-08-26__16-31-48__38088',\n",
       " '2024-08-26__16-32-46__96413',\n",
       " '2024-08-27__08-39-46__50173',\n",
       " '2024-08-27__08-40-52__14696',\n",
       " '2024-08-27__08-43-10__21385',\n",
       " '2024-08-27__08-45-09__24726',\n",
       " '2024-08-27__08-45-44__40886',\n",
       " '2024-08-27__08-46-41__74513',\n",
       " '2024-08-27__08-48-40__78656',\n",
       " '2024-08-27__09-12-32__34888',\n",
       " '2024-08-27__09-14-23__24301',\n",
       " '2024-08-27__09-16-52__25864',\n",
       " '2024-08-27__09-17-35__44188',\n",
       " '2024-08-27__09-18-27__31430',\n",
       " '2024-08-27__09-18-45__16374',\n",
       " '2024-08-27__09-21-56__17893',\n",
       " '2024-08-27__09-23-15__34263',\n",
       " '2024-08-27__09-24-15__84213',\n",
       " '2024-08-27__09-27-15__41526',\n",
       " '2024-08-27__09-30-02__61822',\n",
       " '2024-08-27__09-32-54__89137',\n",
       " '2024-08-27__11-17-56__27573',\n",
       " '2024-08-27__15-40-26__72756',\n",
       " '2024-08-27__16-06-07__47297',\n",
       " '2024-08-27__16-23-14__89986',\n",
       " '2024-08-27__16-41-09__54999',\n",
       " '2024-08-27__16-41-43__79635',\n",
       " '2024-08-27__16-42-04__98039',\n",
       " '2024-08-27__16-42-33__31452',\n",
       " '2024-08-27__17-07-09__38675',\n",
       " '2024-08-27__17-14-11__82832',\n",
       " '2024-08-27__18-04-28__84518',\n",
       " '2024-08-27__18-08-10__44977',\n",
       " '2024-08-28__09-10-33__38350',\n",
       " '2024-08-28__12-24-50__60935',\n",
       " '2024-08-28__12-27-49__70741',\n",
       " '2024-08-28__12-33-28__62613',\n",
       " '2024-08-28__12-37-11__11392',\n",
       " '2024-08-28__12-40-52__83876',\n",
       " '2024-08-28__12-48-44__57409',\n",
       " '2024-08-28__13-18-41__45573',\n",
       " '2024-08-28__13-20-24__48752',\n",
       " '2024-08-28__13-20-57__63439',\n",
       " '2024-08-28__13-24-05__99851',\n",
       " '2024-08-28__13-26-23__86703',\n",
       " '2024-08-28__13-46-21__67857',\n",
       " '2024-08-28__13-46-27__62636',\n",
       " '2024-08-28__13-46-36__57461',\n",
       " '2024-08-28__14-29-31__45021',\n",
       " '2024-08-28__19-08-55__57663',\n",
       " '2024-08-29__09-12-11__33005',\n",
       " '2024-08-29__09-19-54__99993',\n",
       " '2024-08-29__09-38-32__96649',\n",
       " '2024-08-29__09-44-21__28680',\n",
       " '2024-08-29__09-48-19__88632',\n",
       " '2024-08-29__10-03-38__48781',\n",
       " '2024-08-29__10-04-17__13613',\n",
       " '2024-08-29__10-06-01__61323',\n",
       " '2024-08-29__10-07-43__63655',\n",
       " '2024-08-29__10-09-20__14701',\n",
       " '2024-08-29__10-26-07__70508',\n",
       " '2024-08-29__10-34-04__68943',\n",
       " '2024-08-29__10-43-47__11632',\n",
       " '2024-08-29__10-44-32__69347',\n",
       " '2024-08-29__10-47-04__99785',\n",
       " '2024-08-29__10-57-16__59082',\n",
       " '2024-08-29__11-07-28__30283',\n",
       " '2024-08-29__11-07-45__96013',\n",
       " '2024-08-29__11-09-05__74676',\n",
       " '2024-08-29__11-09-58__10150',\n",
       " '2024-08-29__11-11-29__25164',\n",
       " '2024-08-29__11-15-49__80904',\n",
       " '2024-08-29__11-21-03__85303',\n",
       " '2024-08-29__11-23-35__86057',\n",
       " '2024-08-29__11-33-58__69817',\n",
       " '2024-08-29__11-52-51__63371',\n",
       " '2024-08-29__12-05-49__49458',\n",
       " '2024-08-29__12-14-14__51556',\n",
       " '2024-08-30__08-28-37__70581',\n",
       " '2024-09-23__09-16-46__27916',\n",
       " '2024-09-23__09-18-33__50799']"
      ]
     },
     "execution_count": 10,
     "metadata": {},
     "output_type": "execute_result"
    }
   ],
   "source": [
    "lmp_path"
   ]
  },
  {
   "cell_type": "code",
   "execution_count": 11,
   "metadata": {},
   "outputs": [
    {
     "name": "stdout",
     "output_type": "stream",
     "text": [
      "\u001b[34msettings_step       \u001b[39m: \n",
      "\t- has_children\n",
      "\t-has_parent\n",
      "\t-verbose\n",
      "\t-...\n",
      "\u001b[34mradius              \u001b[39m: None\n",
      "\u001b[34mfactor_npoints      \u001b[39m: 0.125\n",
      "\u001b[34malign               \u001b[39m: False\n",
      "\u001b[34mfactor              \u001b[39m: 0.75\n",
      "\u001b[34mhmax                \u001b[39m: 10\n",
      "\u001b[34mnpoints             \u001b[39m: 50\n",
      "\u001b[34mlmp_path            \u001b[39m: 2024-09-23__09-18-33__50799\n"
     ]
    }
   ],
   "source": [
    "params_lsdyna = default()\n",
    "params_lsdyna['lmp_path']      = lmp_path[-1]\n",
    "params_lsdyna[\"radius\"]        = None # take the radius from the lammps simulation\n",
    "params_lsdyna[\"hmax\"]       = 10\n",
    "params_lsdyna[\"factor\"]       = 0.75\n",
    "pprint(params_lsdyna)"
   ]
  },
  {
   "cell_type": "code",
   "execution_count": 12,
   "metadata": {},
   "outputs": [
    {
     "name": "stderr",
     "output_type": "stream",
     "text": [
      "100%|██████████| 64/64 [01:25<00:00,  1.34s/it]\n"
     ]
    }
   ],
   "source": [
    "RunLSdyna(params_lsdyna,main_path)"
   ]
  },
  {
   "cell_type": "code",
   "execution_count": 13,
   "metadata": {},
   "outputs": [
    {
     "name": "stdout",
     "output_type": "stream",
     "text": [
      "\u001b[34msettings_step       \u001b[39m: \n",
      "\t- has_children\n",
      "\t-has_parent\n",
      "\t-verbose\n",
      "\t-...\n",
      "\u001b[34mradius              \u001b[39m: 0.10125\n",
      "\u001b[34mfactor_npoints      \u001b[39m: 0.125\n",
      "\u001b[34malign               \u001b[39m: False\n",
      "\u001b[34mfactor              \u001b[39m: 0.75\n",
      "\u001b[34mhmax                \u001b[39m: 10\n",
      "\u001b[34mnpoints             \u001b[39m: 31\n",
      "\u001b[34mlmp_path            \u001b[39m: 2024-09-23__09-18-33__50799\n",
      "\u001b[34mfunction            \u001b[39m: \n",
      "\t- name\n",
      "\t-file\n",
      "\t-...\n",
      "\u001b[34mmetadata            \u001b[39m: \n",
      "\t- elapsed\n",
      "\t-error\n",
      "\t-error_msg\n",
      "\t-init_time\n",
      "\t-final_time\n",
      "\t-...\n",
      "\u001b[34msimulation_path     \u001b[39m: 2024-09-23__09-19-34__37289\n"
     ]
    }
   ],
   "source": [
    "pprint(params_lsdyna)"
   ]
  },
  {
   "cell_type": "code",
   "execution_count": 14,
   "metadata": {},
   "outputs": [
    {
     "ename": "NameError",
     "evalue": "name 'ss' is not defined",
     "output_type": "error",
     "traceback": [
      "\u001b[1;31m---------------------------------------------------------------------------\u001b[0m",
      "\u001b[1;31mNameError\u001b[0m                                 Traceback (most recent call last)",
      "Cell \u001b[1;32mIn[14], line 1\u001b[0m\n\u001b[1;32m----> 1\u001b[0m \u001b[43mss\u001b[49m\n",
      "\u001b[1;31mNameError\u001b[0m: name 'ss' is not defined"
     ]
    }
   ],
   "source": [
    "ss"
   ]
  },
  {
   "cell_type": "code",
   "execution_count": null,
   "metadata": {},
   "outputs": [],
   "source": [
    "import os\n",
    "from tools.step.rerun import rerun\n",
    "json_file = os.path.join(*(main_path + \\\n",
    "                           [params_lsdyna[\"simulation_path\"]])) + \".json\""
   ]
  },
  {
   "cell_type": "code",
   "execution_count": null,
   "metadata": {},
   "outputs": [
    {
     "name": "stdout",
     "output_type": "stream",
     "text": [
      "Simulation exists. It will be overwritten\n",
      "['output']\n"
     ]
    },
    {
     "name": "stderr",
     "output_type": "stream",
     "text": [
      "100%|██████████| 64/64 [01:23<00:00,  1.31s/it]\n"
     ]
    }
   ],
   "source": [
    "rerun(json_file,overwrite=True)"
   ]
  }
 ],
 "metadata": {
  "kernelspec": {
   "display_name": "Python 3",
   "language": "python",
   "name": "python3"
  },
  "language_info": {
   "codemirror_mode": {
    "name": "ipython",
    "version": 3
   },
   "file_extension": ".py",
   "mimetype": "text/x-python",
   "name": "python",
   "nbconvert_exporter": "python",
   "pygments_lexer": "ipython3",
   "version": "3.11.9"
  }
 },
 "nbformat": 4,
 "nbformat_minor": 2
}
