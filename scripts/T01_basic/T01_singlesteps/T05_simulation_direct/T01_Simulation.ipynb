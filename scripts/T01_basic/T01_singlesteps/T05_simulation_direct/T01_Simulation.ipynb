{
 "cells": [
  {
   "cell_type": "code",
   "execution_count": 7,
   "metadata": {},
   "outputs": [],
   "source": [
    "from tools.basic.path_gen   import path_gen\n",
    "from tools.step.pprint     import pprint\n",
    "\n",
    "from model.simulation.default          import default\n",
    "\n",
    "import os,glob\n",
    "\n",
    "from model.simulation.RunSimulation import RunSimulation\n"
   ]
  },
  {
   "cell_type": "code",
   "execution_count": 8,
   "metadata": {},
   "outputs": [],
   "source": [
    "out_simula = [\"output\"]\n",
    "join = os.path.join\n",
    "infla_path = glob.glob(join(\"..\" , \"T04_inflation_direct\", \"output\", \"*\"))\n",
    "infla_path = [ os.path.basename(i).replace(\".json\",\"\") for i in infla_path]"
   ]
  },
  {
   "cell_type": "code",
   "execution_count": 9,
   "metadata": {},
   "outputs": [
    {
     "data": {
      "text/plain": [
       "['2024-07-05__10-06-53__60562',\n",
       " '2024-07-05__10-08-04__99009',\n",
       " '2024-07-05__10-09-08__47472',\n",
       " '2024-07-06__07-57-54__79727',\n",
       " '2024-08-27__09-46-23__44583',\n",
       " '2024-08-27__09-47-14__46881',\n",
       " '2024-08-27__09-47-54__32035',\n",
       " '2024-08-27__09-49-44__85464',\n",
       " '2024-08-27__09-52-20__59339',\n",
       " '2024-08-27__09-57-45__65026',\n",
       " '2024-08-27__10-04-23__65026',\n",
       " '2024-08-27__10-11-29__12645',\n",
       " '2024-08-27__11-50-47__65193',\n",
       " '2024-08-27__12-03-27__65026',\n",
       " '2024-08-27__12-07-16__88957',\n",
       " '2024-08-27__12-14-49__18524',\n",
       " '2024-08-27__12-32-49__20487',\n",
       " '2024-08-27__12-49-55__66414',\n",
       " '2024-08-27__12-53-18__29026',\n",
       " '2024-08-27__13-03-56__65026',\n",
       " '2024-08-27__13-14-29__47336',\n",
       " '2024-08-27__13-20-10__22498',\n",
       " '2024-08-27__13-26-49__53720',\n",
       " '2024-08-27__13-37-07__65026',\n",
       " '2024-08-27__13-55-38__65026',\n",
       " '2024-08-27__14-36-11__51508']"
      ]
     },
     "execution_count": 9,
     "metadata": {},
     "output_type": "execute_result"
    }
   ],
   "source": [
    "infla_path"
   ]
  },
  {
   "attachments": {},
   "cell_type": "markdown",
   "metadata": {},
   "source": [
    "# Step 05. SIMULATION"
   ]
  },
  {
   "cell_type": "code",
   "execution_count": 10,
   "metadata": {},
   "outputs": [
    {
     "name": "stdout",
     "output_type": "stream",
     "text": [
      "\u001b[34msettings_step       \u001b[39m: \n",
      "\t- has_children\n",
      "\t-has_parent\n",
      "\t-verbose\n",
      "\t-...\n",
      "\u001b[34myoung               \u001b[39m: 2960\n",
      "\u001b[34mpoisson             \u001b[39m: 0.37\n",
      "\u001b[34mepsilon             \u001b[39m: 0.1\n",
      "\u001b[34mOMP_NUM_THREADS     \u001b[39m: 4\n",
      "\u001b[34mtype_bc             \u001b[39m: 3\n",
      "\u001b[34mattemps             \u001b[39m: 4\n",
      "\u001b[34mAdjust              \u001b[39m: False\n",
      "\u001b[34mnfixed              \u001b[39m: 3\n",
      "\u001b[34mnsteps              \u001b[39m: 2\n",
      "\u001b[34mnonlinear           \u001b[39m: False\n",
      "\u001b[34mcylindrical         \u001b[39m: False\n",
      "\u001b[34mnruns               \u001b[39m: 1\n",
      "\u001b[34msurface_interaction \u001b[39m: \n",
      "\t- type\n",
      "\t-factor_E\n",
      "\t-...\n",
      "\u001b[34mmax_mono            \u001b[39m: None\n",
      "\u001b[34mcalculix_dynamic    \u001b[39m: False\n",
      "\u001b[34mmpi                 \u001b[39m: True\n",
      "\u001b[34mmpi_np              \u001b[39m: 4\n",
      "\u001b[34minflation_path      \u001b[39m: 2024-08-27__14-36-11__51508\n",
      "\u001b[34mdisplacement        \u001b[39m: 0.1\n",
      "\u001b[34mradius              \u001b[39m: 10\n",
      "\u001b[34mncpus               \u001b[39m: 4\n"
     ]
    }
   ],
   "source": [
    "params_simu = default()\n",
    "params_simu[\"young\"]         = 2960      # MPa\n",
    "params_simu[\"poisson\"]       = 0.37 # Pa\n",
    "params_simu[\"displacement\"]  = 0.1         # mm\n",
    "params_simu[\"radius\"]        = 10           # mm\n",
    "params_simu[\"inflation_path\"] = infla_path[-1]\n",
    "params_simu[\"type_bc\"]      = 3\n",
    "params_simu[\"mpi\"] = True\n",
    "params_simu[\"mpi_np\"] = 4\n",
    "params_simu[\"ncpus\"] = 4 # number of cpus\n",
    "pprint(params_simu)"
   ]
  },
  {
   "cell_type": "code",
   "execution_count": 11,
   "metadata": {},
   "outputs": [
    {
     "name": "stdout",
     "output_type": "stream",
     "text": [
      "main_path:  ['output']\n"
     ]
    }
   ],
   "source": [
    "print(\"main_path: \", out_simula)"
   ]
  },
  {
   "cell_type": "code",
   "execution_count": 12,
   "metadata": {},
   "outputs": [
    {
     "name": "stdout",
     "output_type": "stream",
     "text": [
      "\u001b[31mError in step: RunSimulation\n",
      "\u001b[39m\n"
     ]
    },
    {
     "name": "stderr",
     "output_type": "stream",
     "text": [
      "Traceback (most recent call last):\n",
      "  File \"c:\\Users\\djoroya\\Documents\\GitHub\\YarnBraid-solo\\src\\tools\\step\\runstep.py\", line 79, in wa\n",
      "    func(*args, **kwargs)\n",
      "  File \"c:\\Users\\djoroya\\Documents\\GitHub\\YarnBraid-solo\\src\\model\\simulation\\RunSimulation.py\", line 27, in RunSimulation\n",
      "    params_infl = build_inp(params)\n",
      "                  ^^^^^^^^^^^^^^^^^\n",
      "  File \"c:\\Users\\djoroya\\Documents\\GitHub\\YarnBraid-solo\\src\\model\\simulation\\build_inp.py\", line 101, in build_inp\n",
      "    nsets  = params_infl[\"nsets\"]\n",
      "             ~~~~~~~~~~~^^^^^^^^^\n",
      "KeyError: 'nsets'\n"
     ]
    },
    {
     "ename": "Exception",
     "evalue": "'nsets'",
     "output_type": "error",
     "traceback": [
      "\u001b[1;31m---------------------------------------------------------------------------\u001b[0m",
      "\u001b[1;31mKeyError\u001b[0m                                  Traceback (most recent call last)",
      "File \u001b[1;32mc:\\Users\\djoroya\\Documents\\GitHub\\YarnBraid-solo\\src\\tools\\step\\runstep.py:79\u001b[0m, in \u001b[0;36mrunstep.<locals>.decorator.<locals>.wa\u001b[1;34m(*args, **kwargs)\u001b[0m\n\u001b[0;32m     78\u001b[0m \u001b[38;5;28;01mtry\u001b[39;00m:\n\u001b[1;32m---> 79\u001b[0m     \u001b[43mfunc\u001b[49m\u001b[43m(\u001b[49m\u001b[38;5;241;43m*\u001b[39;49m\u001b[43margs\u001b[49m\u001b[43m,\u001b[49m\u001b[43m \u001b[49m\u001b[38;5;241;43m*\u001b[39;49m\u001b[38;5;241;43m*\u001b[39;49m\u001b[43mkwargs\u001b[49m\u001b[43m)\u001b[49m\n\u001b[0;32m     80\u001b[0m     err \u001b[38;5;241m=\u001b[39m \u001b[38;5;241m0\u001b[39m\n",
      "File \u001b[1;32mc:\\Users\\djoroya\\Documents\\GitHub\\YarnBraid-solo\\src\\model\\simulation\\RunSimulation.py:27\u001b[0m, in \u001b[0;36mRunSimulation\u001b[1;34m(params, output_folder, callback)\u001b[0m\n\u001b[0;32m     25\u001b[0m callback() \u001b[38;5;28;01mif\u001b[39;00m callback \u001b[38;5;28;01melse\u001b[39;00m \u001b[38;5;28;01mNone\u001b[39;00m\n\u001b[1;32m---> 27\u001b[0m params_infl \u001b[38;5;241m=\u001b[39m \u001b[43mbuild_inp\u001b[49m\u001b[43m(\u001b[49m\u001b[43mparams\u001b[49m\u001b[43m)\u001b[49m\n\u001b[0;32m     28\u001b[0m \u001b[38;5;66;03m# ==============================================================================\u001b[39;00m\n\u001b[0;32m     29\u001b[0m \u001b[38;5;66;03m# load lines \u001b[39;00m\n",
      "File \u001b[1;32mc:\\Users\\djoroya\\Documents\\GitHub\\YarnBraid-solo\\src\\model\\simulation\\build_inp.py:101\u001b[0m, in \u001b[0;36mbuild_inp\u001b[1;34m(params)\u001b[0m\n\u001b[0;32m    100\u001b[0m nruns  \u001b[38;5;241m=\u001b[39m params[\u001b[38;5;124m\"\u001b[39m\u001b[38;5;124mnruns\u001b[39m\u001b[38;5;124m\"\u001b[39m]\n\u001b[1;32m--> 101\u001b[0m nsets  \u001b[38;5;241m=\u001b[39m \u001b[43mparams_infl\u001b[49m\u001b[43m[\u001b[49m\u001b[38;5;124;43m\"\u001b[39;49m\u001b[38;5;124;43mnsets\u001b[39;49m\u001b[38;5;124;43m\"\u001b[39;49m\u001b[43m]\u001b[49m\n\u001b[0;32m    103\u001b[0m ls_list \u001b[38;5;241m=\u001b[39m []\n",
      "\u001b[1;31mKeyError\u001b[0m: 'nsets'",
      "\nDuring handling of the above exception, another exception occurred:\n",
      "\u001b[1;31mException\u001b[0m                                 Traceback (most recent call last)",
      "Cell \u001b[1;32mIn[12], line 1\u001b[0m\n\u001b[1;32m----> 1\u001b[0m \u001b[43mRunSimulation\u001b[49m\u001b[43m(\u001b[49m\u001b[43mparams_simu\u001b[49m\u001b[43m,\u001b[49m\u001b[43mout_simula\u001b[49m\u001b[43m)\u001b[49m\n",
      "File \u001b[1;32mc:\\Users\\djoroya\\Documents\\GitHub\\YarnBraid-solo\\src\\tools\\step\\runstep.py:90\u001b[0m, in \u001b[0;36mrunstep.<locals>.decorator.<locals>.wa\u001b[1;34m(*args, **kwargs)\u001b[0m\n\u001b[0;32m     88\u001b[0m     \u001b[38;5;28;01mwith\u001b[39;00m \u001b[38;5;28mopen\u001b[39m(error_log,\u001b[38;5;124m\"\u001b[39m\u001b[38;5;124mw\u001b[39m\u001b[38;5;124m\"\u001b[39m) \u001b[38;5;28;01mas\u001b[39;00m f:\n\u001b[0;32m     89\u001b[0m         f\u001b[38;5;241m.\u001b[39mwrite(traceback\u001b[38;5;241m.\u001b[39mformat_exc())\n\u001b[1;32m---> 90\u001b[0m     \u001b[38;5;28;01mraise\u001b[39;00m \u001b[38;5;167;01mException\u001b[39;00m(e)\n\u001b[0;32m     91\u001b[0m     err \u001b[38;5;241m=\u001b[39m \u001b[38;5;241m1\u001b[39m\n\u001b[0;32m     92\u001b[0m os\u001b[38;5;241m.\u001b[39mchdir(current_folder)\n",
      "\u001b[1;31mException\u001b[0m: 'nsets'"
     ]
    }
   ],
   "source": [
    "RunSimulation(params_simu,out_simula)"
   ]
  },
  {
   "cell_type": "code",
   "execution_count": null,
   "metadata": {},
   "outputs": [
    {
     "name": "stdout",
     "output_type": "stream",
     "text": [
      "\u001b[34msettings_step       \u001b[39m: \n",
      "\t- has_children\n",
      "\t-has_parent\n",
      "\t-verbose\n",
      "\t-...\n",
      "\u001b[34myoung               \u001b[39m: 2960\n",
      "\u001b[34mpoisson             \u001b[39m: 0.37\n",
      "\u001b[34mepsilon             \u001b[39m: 0.1\n",
      "\u001b[34mOMP_NUM_THREADS     \u001b[39m: 4\n",
      "\u001b[34mtype_bc             \u001b[39m: 3\n",
      "\u001b[34mattemps             \u001b[39m: 4\n",
      "\u001b[34mAdjust              \u001b[39m: False\n",
      "\u001b[34mnfixed              \u001b[39m: 3\n",
      "\u001b[34mnsteps              \u001b[39m: 2\n",
      "\u001b[34mnonlinear           \u001b[39m: False\n",
      "\u001b[34mcylindrical         \u001b[39m: False\n",
      "\u001b[34mnruns               \u001b[39m: 1\n",
      "\u001b[34msurface_interaction \u001b[39m: \n",
      "\t- type\n",
      "\t-factor_E\n",
      "\t-...\n",
      "\u001b[34mmax_mono            \u001b[39m: None\n",
      "\u001b[34mmpi                 \u001b[39m: True\n",
      "\u001b[34mmpi_np              \u001b[39m: 4\n",
      "\u001b[34minflation_path      \u001b[39m: 2024-08-26__14-26-48__23464\n",
      "\u001b[34mdisplacement        \u001b[39m: 0.35180935700000004\n",
      "\u001b[34mradius              \u001b[39m: 10\n",
      "\u001b[34mncpus               \u001b[39m: 4\n",
      "\u001b[34mfunction            \u001b[39m: \n",
      "\t- name\n",
      "\t-file\n",
      "\t-...\n",
      "\u001b[34mmetadata            \u001b[39m: \n",
      "\t- elapsed\n",
      "\t-error\n",
      "\t-error_msg\n",
      "\t-init_time\n",
      "\t-final_time\n",
      "\t-...\n",
      "\u001b[34msimulation_path     \u001b[39m: 2024-08-26__14-29-59__70349\n",
      "\u001b[34mheight              \u001b[39m: 3.5180935700000004\n",
      "\u001b[34mfrd                 \u001b[39m: c:\\Users\\djoroya\\Documents\\GitHub\\YarnBraid-solo\\simulations\\2024-08-26__14-29-59__70349\\init_new.frd\n",
      "\u001b[34mnsets               \u001b[39m: \n",
      "\t- esqueleto_1\n",
      "\t-SURF_1\n",
      "\t-FACE_TOP_1\n",
      "\t-FACE_BOT_1\n",
      "\t-Yarn_1_1\n",
      "\t-Yarn_1_2\n",
      "\t-Yarn_1_3\n",
      "\t-FACE_TOP_CENTRAL_1\n",
      "\t-FACE_BOT_CENTRAL_1\n",
      "\t-P2_esqueleto_2\n",
      "\t-...\n",
      "\u001b[34mr_hebra             \u001b[39m: 0.2\n",
      "\u001b[34mvolume              \u001b[39m: 26.183875016019996\n"
     ]
    }
   ],
   "source": [
    "pprint(params_simu)"
   ]
  },
  {
   "cell_type": "code",
   "execution_count": null,
   "metadata": {},
   "outputs": [],
   "source": [
    "import os\n",
    "from tools.step.rerun import rerun\n",
    "json_file = os.path.join(*(out_simula + \\\n",
    "                           [params_simu[\"simulation_path\"]])) + \".json\""
   ]
  },
  {
   "cell_type": "code",
   "execution_count": null,
   "metadata": {},
   "outputs": [
    {
     "name": "stdout",
     "output_type": "stream",
     "text": [
      "Simulation exists. It will be overwritten\n",
      "['output']\n"
     ]
    },
    {
     "name": "stdout",
     "output_type": "stream",
     "text": [
      "Running Calculix at:  c:\\Users\\djoroya\\Documents\\GitHub\\YarnBraid-solo\\simulations\\2024-08-26__14-29-59__70349\n",
      "Output file:  c:\\Users\\djoroya\\Documents\\GitHub\\YarnBraid-solo\\simulations\\2024-08-26__14-29-59__70349\\out.txt\n",
      "Command:\n",
      " mpiexec -n 4 c:\\Users\\djoroya\\Documents\\GitHub\\YarnBraid_30_05_2024\\YarnBraid\\src\\dependences\\PrePoMax\\Solver\\ccx_dynamic.exe init_new\n",
      "Error reading cvf file\n",
      "\n",
      "pid:  6944 \n",
      "\n",
      "SUMMARY OF C0NVERGENCE INFORMATION\n",
      "  STEP   INC  ATT   ITER     CONT.   RESID.        CORR.      RESID.      CORR.\n",
      "                              EL.    FORCE         DISP       FLUX        TEMP.\n",
      "                              (#)     (%)           (%)        (%)         (%)\n",
      "     1     1     1     1    21983  0.5241E+06  0.1000E+03  0.0000E+00  0.0000E+00\n",
      "     1     1     1     2    21880  0.0000E+00  0.1000E+03  0.0000E+00  0.0000E+00\n",
      "     1     1     1     3    13162  0.0000E+00  0.7567E+02  0.0000E+00  0.0000E+00\n",
      "     1     1     1     4     8609  0.0000E+00  0.3390E+02  0.0000E+00  0.0000E+00\n",
      "     1     1     1     5     6704  0.0000E+00  0.7746E+02  0.0000E+00  0.0000E+00\n",
      "     1     1     1     6     5961  0.0000E+00  0.1431E+02  0.0000E+00  0.0000E+00\n",
      "     1     1     1     7     5438  0.0000E+00  0.1691E+02  0.0000E+00  0.0000E+00\n",
      "     1     1     1     8     5275  0.0000E+00  0.7531E+01  0.0000E+00  0.0000E+00\n",
      "     1     1     1     9     5258  0.0000E+00  0.2111E+01  0.0000E+00  0.0000E+00\n",
      "     1     1     1    10     5259  0.0000E+00  0.3550E-01  0.0000E+00  0.0000E+00\n",
      "     2     1     1     1     4729  0.1926E+05  0.1000E+03  0.0000E+00  0.0000E+00\n",
      "     2     1     1     2    53898  0.0000E+00  0.7714E+02  0.0000E+00  0.0000E+00\n",
      "     2     1     1     3    73775  0.0000E+00  0.4284E+02  0.0000E+00  0.0000E+00\n",
      "     2     1     1     4    48443  0.0000E+00  0.2239E+02  0.0000E+00  0.0000E+00\n",
      "     2     1     1     5    33035  0.0000E+00  0.1843E+02  0.0000E+00  0.0000E+00\n",
      "     2     1     1     6    26023  0.0000E+00  0.2143E+02  0.0000E+00  0.0000E+00\n",
      "     2     1     1     7    24931  0.0000E+00  0.2015E+02  0.0000E+00  0.0000E+00\n",
      "     2     1     1     8    27248  0.0000E+00  0.2460E+02  0.0000E+00  0.0000E+00\n",
      "     2     1     1     9    27268  0.0000E+00  0.9508E+01  0.0000E+00  0.0000E+00\n",
      "     2     2     1     1    84305  0.0000E+00  0.1000E+03  0.0000E+00  0.0000E+00\n",
      "     2     2     1     2    68315  0.0000E+00  0.3760E+02  0.0000E+00  0.0000E+00\n",
      "     2     2     1     3    44657  0.0000E+00  0.1100E+02  0.0000E+00  0.0000E+00\n",
      "     2     2     1     4    28094  0.0000E+00  0.7813E+01  0.0000E+00  0.0000E+00\n",
      "     2     2     1     5    20007  0.0000E+00  0.1704E+02  0.0000E+00  0.0000E+00\n",
      "     2     2     1     6    16073  0.0000E+00  0.4949E+01  0.0000E+00  0.0000E+00\n",
      "     2     2     1     7    13034  0.0000E+00  0.3598E+01  0.0000E+00  0.0000E+00\n",
      "     2     2     1     8    11460  0.0000E+00  0.2031E+01  0.0000E+00  0.0000E+00\n",
      "     2     2     1     9    10421  0.0000E+00  0.1892E+01  0.0000E+00  0.0000E+00\n",
      "     2     2     1    10     9966  0.0000E+00  0.3519E+00  0.0000E+00  0.0000E+00\n",
      "     2     2     1    11     9784  0.0000E+00  0.2441E+00  0.0000E+00  0.0000E+00\n",
      "     2     2     1    12     9755  0.0000E+00  0.1079E+00  0.0000E+00  0.0000E+00\n",
      "     2     2     1    13     9750  0.0000E+00  0.3317E-03  0.0000E+00  0.0000E+00\n",
      "Calculix finished\n",
      "\n"
     ]
    }
   ],
   "source": [
    "rerun(json_file,overwrite=True)"
   ]
  },
  {
   "cell_type": "code",
   "execution_count": null,
   "metadata": {},
   "outputs": [],
   "source": []
  }
 ],
 "metadata": {
  "kernelspec": {
   "display_name": "Python 3",
   "language": "python",
   "name": "python3"
  },
  "language_info": {
   "codemirror_mode": {
    "name": "ipython",
    "version": 3
   },
   "file_extension": ".py",
   "mimetype": "text/x-python",
   "name": "python",
   "nbconvert_exporter": "python",
   "pygments_lexer": "ipython3",
   "version": "3.11.9"
  }
 },
 "nbformat": 4,
 "nbformat_minor": 2
}
