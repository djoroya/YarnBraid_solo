{
 "cells": [
  {
   "cell_type": "code",
   "execution_count": 1,
   "metadata": {},
   "outputs": [],
   "source": [
    "from tools.basic.path_gen   import path_gen\n",
    "from tools.step.pprint     import pprint\n",
    "\n",
    "from model.simulation.default          import default\n",
    "\n",
    "import os,glob\n",
    "\n",
    "from models.direct.simulationDirect.RunSimulation import RunSimulation\n"
   ]
  },
  {
   "cell_type": "code",
   "execution_count": 2,
   "metadata": {},
   "outputs": [],
   "source": [
    "out_simula = [\"output\"]\n",
    "join = os.path.join\n",
    "infla_path = glob.glob(join(\"..\" , \"T04_inflation_direct\", \"output\", \"*\"))\n",
    "infla_path = [ os.path.basename(i).replace(\".json\",\"\") for i in infla_path]"
   ]
  },
  {
   "cell_type": "code",
   "execution_count": 3,
   "metadata": {},
   "outputs": [
    {
     "data": {
      "text/plain": [
       "['2024-07-05__10-06-53__60562',\n",
       " '2024-07-05__10-08-04__99009',\n",
       " '2024-07-05__10-09-08__47472',\n",
       " '2024-07-06__07-57-54__79727',\n",
       " '2024-08-27__09-46-23__44583',\n",
       " '2024-08-27__09-47-14__46881',\n",
       " '2024-08-27__09-47-54__32035',\n",
       " '2024-08-27__09-49-44__85464',\n",
       " '2024-08-27__09-52-20__59339',\n",
       " '2024-08-27__09-57-45__65026',\n",
       " '2024-08-27__10-04-23__65026',\n",
       " '2024-08-27__10-11-29__12645',\n",
       " '2024-08-27__11-50-47__65193',\n",
       " '2024-08-27__12-03-27__65026',\n",
       " '2024-08-27__12-07-16__88957',\n",
       " '2024-08-27__12-14-49__18524',\n",
       " '2024-08-27__12-32-49__20487',\n",
       " '2024-08-27__12-49-55__66414',\n",
       " '2024-08-27__12-53-18__29026',\n",
       " '2024-08-27__13-03-56__65026',\n",
       " '2024-08-27__13-14-29__47336',\n",
       " '2024-08-27__13-20-10__22498',\n",
       " '2024-08-27__13-26-49__53720',\n",
       " '2024-08-27__13-37-07__65026',\n",
       " '2024-08-27__13-55-38__65026',\n",
       " '2024-08-27__14-36-11__51508',\n",
       " '2024-08-27__17-17-09__65026',\n",
       " '2024-08-27__17-17-21__65026',\n",
       " '2024-08-27__17-19-33__65026',\n",
       " '2024-08-27__17-27-58__11578',\n",
       " '2024-08-27__17-29-13__71011',\n",
       " '2024-08-27__17-35-15__22038',\n",
       " '2024-08-27__17-36-14__63576',\n",
       " '2024-08-27__17-44-19__76182',\n",
       " '2024-08-27__17-49-43__28789',\n",
       " '2024-08-27__18-13-50__12099',\n",
       " '2024-08-27__18-14-03__65026',\n",
       " '2024-08-27__18-14-51__81268',\n",
       " '2024-08-27__18-15-59__50037',\n",
       " '2024-08-27__18-18-40__37001',\n",
       " '2024-08-27__18-21-27__66061',\n",
       " '2024-08-27__18-31-10__22031',\n",
       " '2024-08-27__18-54-42__87066',\n",
       " '2024-08-27__18-56-09__91439',\n",
       " '2024-08-27__19-03-20__33204',\n",
       " '2024-08-27__19-08-14__85864',\n",
       " '2024-08-28__08-56-16__11267',\n",
       " '2024-08-28__09-00-24__23421',\n",
       " '2024-08-28__09-13-19__59802',\n",
       " '2024-08-28__09-41-20__65026',\n",
       " '2024-08-28__09-42-19__88793',\n",
       " '2024-08-28__09-55-37__65026',\n",
       " '2024-08-28__10-03-50__43939',\n",
       " '2024-08-28__10-05-21__33783',\n",
       " '2024-08-28__10-14-06__96983',\n",
       " '2024-08-28__10-14-36__21122',\n",
       " '2024-08-28__10-14-47__75668',\n",
       " '2024-08-28__11-31-39__54525',\n",
       " '2024-08-28__12-05-33__65026',\n",
       " '2024-08-28__12-44-43__55350',\n",
       " '2024-08-28__12-53-52__65026',\n",
       " '2024-08-28__13-31-00__68981',\n",
       " '2024-08-28__13-54-10__83303',\n",
       " '2024-08-28__14-33-12__65026',\n",
       " '2024-08-28__15-55-39__23980',\n",
       " '2024-08-28__15-59-57__94412',\n",
       " '2024-08-28__18-13-15__44417',\n",
       " '2024-08-28__19-47-05__69134',\n",
       " '2024-08-28__21-38-52__45495',\n",
       " '2024-08-29__09-26-34__87833',\n",
       " '2024-08-29__10-15-23__25826',\n",
       " '2024-08-29__10-32-42__68892',\n",
       " '2024-08-29__10-53-48__99756',\n",
       " '2024-08-29__11-32-50__75839',\n",
       " '2024-08-29__12-12-43__99007',\n",
       " '2024-08-29__12-51-16__87225',\n",
       " '2024-08-29__13-05-57__90794',\n",
       " '2024-08-29__13-21-08__65026']"
      ]
     },
     "execution_count": 3,
     "metadata": {},
     "output_type": "execute_result"
    }
   ],
   "source": [
    "infla_path"
   ]
  },
  {
   "attachments": {},
   "cell_type": "markdown",
   "metadata": {},
   "source": [
    "# Step 05. SIMULATION"
   ]
  },
  {
   "cell_type": "code",
   "execution_count": 4,
   "metadata": {},
   "outputs": [
    {
     "name": "stdout",
     "output_type": "stream",
     "text": [
      "\u001b[34msettings_step       \u001b[39m: \n",
      "\t- has_children\n",
      "\t-has_parent\n",
      "\t-verbose\n",
      "\t-...\n",
      "\u001b[34myoung               \u001b[39m: 2960\n",
      "\u001b[34mpoisson             \u001b[39m: 0.37\n",
      "\u001b[34mepsilon             \u001b[39m: 0.3\n",
      "\u001b[34mOMP_NUM_THREADS     \u001b[39m: 4\n",
      "\u001b[34mtype_bc             \u001b[39m: 2\n",
      "\u001b[34mattemps             \u001b[39m: 4\n",
      "\u001b[34mAdjust              \u001b[39m: False\n",
      "\u001b[34mnfixed              \u001b[39m: 3\n",
      "\u001b[34mnsteps              \u001b[39m: 6\n",
      "\u001b[34mnonlinear           \u001b[39m: False\n",
      "\u001b[34mcylindrical         \u001b[39m: True\n",
      "\u001b[34mnruns               \u001b[39m: 1\n",
      "\u001b[34msurface_interaction \u001b[39m: \n",
      "\t- type\n",
      "\t-factor_E\n",
      "\t-...\n",
      "\u001b[34mmax_mono            \u001b[39m: None\n",
      "\u001b[34mcalculix_dynamic    \u001b[39m: False\n",
      "\u001b[34mmpi                 \u001b[39m: True\n",
      "\u001b[34mmpi_np              \u001b[39m: 6\n",
      "\u001b[34minflation_path      \u001b[39m: 2024-08-29__13-05-57__90794\n",
      "\u001b[34mradius              \u001b[39m: 10\n",
      "\u001b[34mOMP_NUM_THREADS     \u001b[39m: 6\n",
      "\u001b[34mncpus               \u001b[39m: 4\n"
     ]
    }
   ],
   "source": [
    "params_simu = default()\n",
    "params_simu[\"young\"]         = 2960      # MPa\n",
    "params_simu[\"poisson\"]       = 0.37 # Pa\n",
    "params_simu[\"epsilon\"]  = 0.3         # mm\n",
    "params_simu[\"radius\"]        = 10           # mm\n",
    "params_simu[\"inflation_path\"] = infla_path[-2]\n",
    "params_simu[\"type_bc\"]      = 2\n",
    "params_simu[\"cylindrical\"] = True\n",
    "params_simu[\"mpi\"] = True\n",
    "params_simu[\"OMP_NUM_THREADS     \"] = 6\n",
    "params_simu[\"mpi_np\"] = 6\n",
    "params_simu[\"nsteps\"] = 6\n",
    "params_simu[\"ncpus\"] = 4 # number of cpus\n",
    "pprint(params_simu)"
   ]
  },
  {
   "cell_type": "code",
   "execution_count": 5,
   "metadata": {},
   "outputs": [
    {
     "name": "stdout",
     "output_type": "stream",
     "text": [
      "main_path:  ['output']\n"
     ]
    }
   ],
   "source": [
    "print(\"main_path: \", out_simula)"
   ]
  },
  {
   "cell_type": "code",
   "execution_count": 6,
   "metadata": {},
   "outputs": [
    {
     "name": "stdout",
     "output_type": "stream",
     "text": [
      "Running Calculix at:  c:\\Users\\djoroya\\Documents\\GitHub\\YarnBraid-solo\\simulations\\2024-08-29__19-09-10__35201\n",
      "Output file:  c:\\Users\\djoroya\\Documents\\GitHub\\YarnBraid-solo\\simulations\\2024-08-29__19-09-10__35201\\out.txt\n",
      "Command:\n",
      " mpiexec -n 6 c:\\Users\\djoroya\\Documents\\GitHub\\YarnBraid_30_05_2024\\YarnBraid\\src\\dependences\\PrePoMax\\Solver\\ccx_dynamic.exe init_new\n",
      "Error reading cvf file\n",
      "\n",
      "pid:  14212 \n",
      "\n",
      "SUMMARY OF C0NVERGENCE INFORMATION\n",
      "  STEP   INC  ATT   ITER     CONT.   RESID.        CORR.      RESID.      CORR.\n",
      "                              EL.    FORCE         DISP       FLUX        TEMP.\n",
      "                              (#)     (%)           (%)        (%)         (%)\n",
      "     1     1     1     1      233  0.7249E+06  0.1000E+03  0.0000E+00  0.0000E+00\n",
      "     1     1     1     2      235  0.0000E+00  0.8373E+02  0.0000E+00  0.0000E+00\n",
      "     1     1     1     3      117  0.0000E+00  0.7758E+02  0.0000E+00  0.0000E+00\n",
      "     1     1     1     4       65  0.0000E+00  0.2771E+02  0.0000E+00  0.0000E+00\n",
      "     1     1     1     5       38  0.0000E+00  0.6857E+01  0.0000E+00  0.0000E+00\n",
      "     1     1     1     6       29  0.0000E+00  0.1451E+01  0.0000E+00  0.0000E+00\n",
      "     1     1     1     7       28  0.0000E+00  0.2458E-02  0.0000E+00  0.0000E+00\n",
      "     1     1     1     8       28  0.0000E+00  0.2742E-10  0.0000E+00  0.0000E+00\n",
      "     2     1     1     1       26  0.4248E+04  0.1000E+03  0.0000E+00  0.0000E+00\n",
      "     2     1     1     2   292817  0.0000E+00  0.2895E+02  0.0000E+00  0.0000E+00\n",
      "     2     1     1     3   223008  0.0000E+00  0.1184E+02  0.0000E+00  0.0000E+00\n",
      "     2     1     1     4   132742  0.0000E+00  0.4637E+01  0.0000E+00  0.0000E+00\n",
      "     2     1     1     5    75634  0.0000E+00  0.4934E+01  0.0000E+00  0.0000E+00\n",
      "     2     1     1     6    45545  0.0000E+00  0.3312E+01  0.0000E+00  0.0000E+00\n",
      "     2     1     1     7    30456  0.0000E+00  0.5248E+01  0.0000E+00  0.0000E+00\n",
      "     2     1     1     8    23302  0.0000E+00  0.3624E+01  0.0000E+00  0.0000E+00\n",
      "     2     1     1     9    22152  0.0000E+00  0.2071E+01  0.0000E+00  0.0000E+00\n",
      "     2     1     1    10    19762  0.0000E+00  0.1781E+01  0.0000E+00  0.0000E+00\n",
      "     2     1     1    11    18387  0.0000E+00  0.4967E+00  0.0000E+00  0.0000E+00\n",
      "     2     1     1    12    17675  0.0000E+00  0.6898E+00  0.0000E+00  0.0000E+00\n",
      "     2     1     1    13    17437  0.0000E+00  0.3826E+00  0.0000E+00  0.0000E+00\n",
      "     2     1     1    14    17337  0.0000E+00  0.2519E+00  0.0000E+00  0.0000E+00\n",
      "     2     1     1    15    17305  0.0000E+00  0.3644E-01  0.0000E+00  0.0000E+00\n",
      "     2     1     1    16    17297  0.0000E+00  0.4380E-02  0.0000E+00  0.0000E+00\n",
      "     3     1     1     1    86137  0.1006E+06  0.1000E+03  0.0000E+00  0.0000E+00\n",
      "     3     1     1     2   333464  0.0000E+00  0.5890E+02  0.0000E+00  0.0000E+00\n",
      "     3     1     1     3   254192  0.0000E+00  0.9045E+01  0.0000E+00  0.0000E+00\n",
      "     3     1     1     4   175853  0.0000E+00  0.6286E+01  0.0000E+00  0.0000E+00\n",
      "     3     1     1     5   135079  0.0000E+00  0.6092E+01  0.0000E+00  0.0000E+00\n",
      "     3     1     1     6   116890  0.0000E+00  0.6277E+01  0.0000E+00  0.0000E+00\n",
      "     3     1     1     7   109333  0.0000E+00  0.6022E+01  0.0000E+00  0.0000E+00\n",
      "     3     1     1     8   105676  0.0000E+00  0.1065E+01  0.0000E+00  0.0000E+00\n",
      "     3     1     1     9   104190  0.0000E+00  0.7292E+00  0.0000E+00  0.0000E+00\n",
      "     3     1     1    10   103887  0.0000E+00  0.3870E+00  0.0000E+00  0.0000E+00\n",
      "     3     1     1    11   103839  0.0000E+00  0.8930E-02  0.0000E+00  0.0000E+00\n",
      "     4     1     1     1   140655  0.9597E+05  0.1000E+03  0.0000E+00  0.0000E+00\n",
      "     4     1     1     2   397246  0.0000E+00  0.5744E+02  0.0000E+00  0.0000E+00\n",
      "     4     1     1     3   296418  0.0000E+00  0.2933E+02  0.0000E+00  0.0000E+00\n",
      "     4     1     1     4   227855  0.0000E+00  0.7470E+01  0.0000E+00  0.0000E+00\n",
      "     4     1     1     5   198057  0.0000E+00  0.4672E+01  0.0000E+00  0.0000E+00\n",
      "     4     1     1     6   185966  0.0000E+00  0.3110E+01  0.0000E+00  0.0000E+00\n",
      "     4     1     1     7   180733  0.0000E+00  0.2214E+01  0.0000E+00  0.0000E+00\n",
      "     4     1     1     8   179290  0.0000E+00  0.8753E+00  0.0000E+00  0.0000E+00\n",
      "     4     1     1     9   179030  0.0000E+00  0.3125E-01  0.0000E+00  0.0000E+00\n",
      "     4     1     1    10   179002  0.0000E+00  0.4490E-02  0.0000E+00  0.0000E+00\n",
      "     5     1     1     1   183469  0.9616E+05  0.1000E+03  0.0000E+00  0.0000E+00\n",
      "     5     1     1     2   378305  0.0000E+00  0.4664E+02  0.0000E+00  0.0000E+00\n",
      "     5     1     1     3   299607  0.0000E+00  0.3210E+02  0.0000E+00  0.0000E+00\n",
      "     5     1     1     4   253780  0.0000E+00  0.9960E+01  0.0000E+00  0.0000E+00\n",
      "     5     1     1     5   236725  0.0000E+00  0.1461E+02  0.0000E+00  0.0000E+00\n",
      "     5     1     1     6   230200  0.0000E+00  0.1003E+02  0.0000E+00  0.0000E+00\n",
      "     5     1     1     7   227664  0.0000E+00  0.4398E+01  0.0000E+00  0.0000E+00\n",
      "     5     1     1     8   226860  0.0000E+00  0.5177E+01  0.0000E+00  0.0000E+00\n",
      "     5     1     1     9   226731  0.0000E+00  0.1877E+00  0.0000E+00  0.0000E+00\n",
      "     6     1     1     1   233835  0.2799E+06  0.1000E+03  0.0000E+00  0.0000E+00\n",
      "     6     1     1     2   390112  0.0000E+00  0.6871E+02  0.0000E+00  0.0000E+00\n",
      "     6     1     1     3   324892  0.0000E+00  0.4583E+02  0.0000E+00  0.0000E+00\n",
      "     6     1     1     4   275549  0.0000E+00  0.1230E+02  0.0000E+00  0.0000E+00\n",
      "     6     1     1     5   256641  0.0000E+00  0.1342E+02  0.0000E+00  0.0000E+00\n",
      "     6     1     1     6   249253  0.0000E+00  0.1348E+02  0.0000E+00  0.0000E+00\n",
      "     6     1     1     7   246211  0.0000E+00  0.1597E+02  0.0000E+00  0.0000E+00\n",
      "     6     1     1     8   245163  0.0000E+00  0.6890E+01  0.0000E+00  0.0000E+00\n",
      "     6     1     1     9   244451  0.0000E+00  0.4794E+01  0.0000E+00  0.0000E+00\n",
      "     6     1     1    10   244145  0.0000E+00  0.4978E+01  0.0000E+00  0.0000E+00\n",
      "     6     1     1    11   244063  0.0000E+00  0.1317E+02  0.0000E+00  0.0000E+00\n",
      "     6     2     1     1   287537  0.0000E+00  0.1000E+03  0.0000E+00  0.0000E+00\n",
      "     6     2     1     2   484715  0.0000E+00  0.6234E+02  0.0000E+00  0.0000E+00\n",
      "     6     2     1     3   346642  0.0000E+00  0.2983E+02  0.0000E+00  0.0000E+00\n",
      "     6     2     1     4   270004  0.0000E+00  0.2200E+02  0.0000E+00  0.0000E+00\n",
      "     6     2     1     5   235015  0.0000E+00  0.2338E+02  0.0000E+00  0.0000E+00\n",
      "     6     2     1     6   218838  0.0000E+00  0.2526E+02  0.0000E+00  0.0000E+00\n",
      "     6     2     1     7   209902  0.0000E+00  0.1806E+02  0.0000E+00  0.0000E+00\n",
      "     6     2     1     8   205640  0.0000E+00  0.8481E+01  0.0000E+00  0.0000E+00\n",
      "     6     2     1     9   204047  0.0000E+00  0.9969E+01  0.0000E+00  0.0000E+00\n",
      "     6     2     1    10   203590  0.0000E+00  0.2940E+01  0.0000E+00  0.0000E+00\n",
      "     6     2     1    11   203546  0.0000E+00  0.1539E+00  0.0000E+00  0.0000E+00\n",
      "Calculix finished\n",
      "\n"
     ]
    }
   ],
   "source": [
    "RunSimulation(params_simu,out_simula)"
   ]
  },
  {
   "cell_type": "code",
   "execution_count": 7,
   "metadata": {},
   "outputs": [
    {
     "ename": "NameError",
     "evalue": "name 'ss' is not defined",
     "output_type": "error",
     "traceback": [
      "\u001b[1;31m---------------------------------------------------------------------------\u001b[0m",
      "\u001b[1;31mNameError\u001b[0m                                 Traceback (most recent call last)",
      "Cell \u001b[1;32mIn[7], line 1\u001b[0m\n\u001b[1;32m----> 1\u001b[0m \u001b[43mss\u001b[49m\n",
      "\u001b[1;31mNameError\u001b[0m: name 'ss' is not defined"
     ]
    }
   ],
   "source": [
    "ss"
   ]
  },
  {
   "cell_type": "code",
   "execution_count": null,
   "metadata": {},
   "outputs": [
    {
     "name": "stdout",
     "output_type": "stream",
     "text": [
      "\u001b[34msettings_step       \u001b[39m: \n",
      "\t- has_children\n",
      "\t-has_parent\n",
      "\t-verbose\n",
      "\t-...\n",
      "\u001b[34myoung               \u001b[39m: 2960\n",
      "\u001b[34mpoisson             \u001b[39m: 0.37\n",
      "\u001b[34mepsilon             \u001b[39m: 0.1\n",
      "\u001b[34mOMP_NUM_THREADS     \u001b[39m: 4\n",
      "\u001b[34mtype_bc             \u001b[39m: 1\n",
      "\u001b[34mattemps             \u001b[39m: 4\n",
      "\u001b[34mAdjust              \u001b[39m: False\n",
      "\u001b[34mnfixed              \u001b[39m: 3\n",
      "\u001b[34mnsteps              \u001b[39m: 2\n",
      "\u001b[34mnonlinear           \u001b[39m: False\n",
      "\u001b[34mcylindrical         \u001b[39m: True\n",
      "\u001b[34mnruns               \u001b[39m: 1\n",
      "\u001b[34msurface_interaction \u001b[39m: \n",
      "\t- type\n",
      "\t-factor_E\n",
      "\t-...\n",
      "\u001b[34mmax_mono            \u001b[39m: None\n",
      "\u001b[34mmpi                 \u001b[39m: True\n",
      "\u001b[34mmpi_np              \u001b[39m: 4\n",
      "\u001b[34minflation_path      \u001b[39m: 2024-08-28__13-54-10__83303\n",
      "\u001b[34mdisplacement        \u001b[39m: 0.525156699\n",
      "\u001b[34mradius              \u001b[39m: 10\n",
      "\u001b[34mncpus               \u001b[39m: 4\n",
      "\u001b[34mfunction            \u001b[39m: \n",
      "\t- name\n",
      "\t-file\n",
      "\t-...\n",
      "\u001b[34mmetadata            \u001b[39m: \n",
      "\t- elapsed\n",
      "\t-error\n",
      "\t-error_msg\n",
      "\t-init_time\n",
      "\t-final_time\n",
      "\t-...\n",
      "\u001b[34msimulation_path     \u001b[39m: 2024-08-28__14-11-00__70557\n",
      "\u001b[34mheight              \u001b[39m: 5.25156699\n",
      "\u001b[34mfrd                 \u001b[39m: c:\\Users\\djoroya\\Documents\\GitHub\\YarnBraid-solo\\simulations\\2024-08-28__14-11-00__70557\\init_new.frd\n",
      "\u001b[34mnsets               \u001b[39m: \n",
      "\t- ESQUELETO_1\n",
      "\t-P2_ESQUELETO_2\n",
      "\t-P3_ESQUELETO_3\n",
      "\t-P4_ESQUELETO_4\n",
      "\t-P5_ESQUELETO_5\n",
      "\t-P6_ESQUELETO_6\n",
      "\t-P7_ESQUELETO_7\n",
      "\t-P8_ESQUELETO_8\n",
      "\t-P9_ESQUELETO_9\n",
      "\t-P10_ESQUELETO_10\n",
      "\t-...\n",
      "\u001b[34mr_hebra             \u001b[39m: 0.135\n",
      "\u001b[34mvolume              \u001b[39m: 24.40524428254\n"
     ]
    }
   ],
   "source": [
    "pprint(params_simu)"
   ]
  },
  {
   "cell_type": "code",
   "execution_count": null,
   "metadata": {},
   "outputs": [],
   "source": [
    "import os\n",
    "from tools.step.rerun import rerun\n",
    "json_file = os.path.join(*(out_simula + \\\n",
    "                           [params_simu[\"simulation_path\"]])) + \".json\""
   ]
  },
  {
   "cell_type": "code",
   "execution_count": null,
   "metadata": {},
   "outputs": [
    {
     "name": "stdout",
     "output_type": "stream",
     "text": [
      "Simulation exists. It will be overwritten\n",
      "['output']\n",
      "Running Calculix at:  c:\\Users\\djoroya\\Documents\\GitHub\\YarnBraid-solo\\simulations\\2024-08-28__14-11-00__70557\n",
      "Output file:  c:\\Users\\djoroya\\Documents\\GitHub\\YarnBraid-solo\\simulations\\2024-08-28__14-11-00__70557\\out.txt\n",
      "Command:\n",
      " mpiexec -n 4 c:\\Users\\djoroya\\Documents\\GitHub\\YarnBraid_30_05_2024\\YarnBraid\\src\\dependences\\PrePoMax\\Solver\\ccx_dynamic.exe init_new\n",
      "Error reading cvf file\n",
      "\n",
      "pid:  2068 \n",
      "\n",
      "SUMMARY OF C0NVERGENCE INFORMATION\n",
      "  STEP   INC  ATT   ITER     CONT.   RESID.        CORR.      RESID.      CORR.\n",
      "                              EL.    FORCE         DISP       FLUX        TEMP.\n",
      "                              (#)     (%)           (%)        (%)         (%)\n",
      "     1     1     1     1     3757  0.2906E+07  0.1000E+03  0.0000E+00  0.0000E+00\n",
      "     1     1     1     2     3735  0.0000E+00  0.1000E+03  0.0000E+00  0.0000E+00\n",
      "     1     1     1     3     2099  0.0000E+00  0.6251E+02  0.0000E+00  0.0000E+00\n",
      "     1     1     1     4     1105  0.0000E+00  0.4504E+02  0.0000E+00  0.0000E+00\n",
      "     1     1     1     5      720  0.0000E+00  0.4491E+02  0.0000E+00  0.0000E+00\n",
      "     1     1     1     6      558  0.0000E+00  0.4771E+02  0.0000E+00  0.0000E+00\n",
      "     1     1     1     7      490  0.0000E+00  0.2510E+02  0.0000E+00  0.0000E+00\n",
      "     1     1     1     8      456  0.0000E+00  0.1912E+02  0.0000E+00  0.0000E+00\n",
      "     1     1     1     9      430  0.0000E+00  0.9506E+01  0.0000E+00  0.0000E+00\n",
      "     1     1     1    10      426  0.0000E+00  0.2752E+00  0.0000E+00  0.0000E+00\n",
      "     1     1     1    11      426  0.0000E+00  0.1978E-10  0.0000E+00  0.0000E+00\n"
     ]
    }
   ],
   "source": [
    "rerun(json_file,overwrite=True)"
   ]
  },
  {
   "cell_type": "code",
   "execution_count": null,
   "metadata": {},
   "outputs": [],
   "source": []
  }
 ],
 "metadata": {
  "kernelspec": {
   "display_name": "Python 3",
   "language": "python",
   "name": "python3"
  },
  "language_info": {
   "codemirror_mode": {
    "name": "ipython",
    "version": 3
   },
   "file_extension": ".py",
   "mimetype": "text/x-python",
   "name": "python",
   "nbconvert_exporter": "python",
   "pygments_lexer": "ipython3",
   "version": "3.11.9"
  }
 },
 "nbformat": 4,
 "nbformat_minor": 2
}
