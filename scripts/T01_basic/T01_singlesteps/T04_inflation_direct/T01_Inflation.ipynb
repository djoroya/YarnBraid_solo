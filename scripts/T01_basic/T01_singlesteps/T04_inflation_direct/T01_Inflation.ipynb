{
 "cells": [
  {
   "cell_type": "code",
   "execution_count": 1,
   "metadata": {},
   "outputs": [],
   "source": [
    "from tools.basic.path_gen  import path_gen\n",
    "from tools.step.pprint     import pprint\n",
    "\n",
    "from model.InflationDirect.default                  import default\n",
    "from model.InflationDirect.RunInflationDirect import RunInflationDirect\n",
    "import os,glob"
   ]
  },
  {
   "cell_type": "code",
   "execution_count": 2,
   "metadata": {},
   "outputs": [],
   "source": [
    "main_path = os.path.join(\"output\", path_gen())"
   ]
  },
  {
   "cell_type": "code",
   "execution_count": 3,
   "metadata": {},
   "outputs": [],
   "source": [
    "main_path = os.path.join(\"output\", path_gen())\n",
    "join = os.path.join\n",
    "gmsh_path = glob.glob(join(\"..\" , \"T03_gmsh_direct\", \"output\", \"*\"))"
   ]
  },
  {
   "cell_type": "code",
   "execution_count": 4,
   "metadata": {},
   "outputs": [],
   "source": [
    "main_path = [\"output\"]\n",
    "join = os.path.join\n",
    "gmsh_path = glob.glob(join(\"..\" , \"T03_gmsh_direct\", \"output\", \"*\"))\n",
    "gmsh_path = [ os.path.basename(i).replace(\".json\",\"\") for i in gmsh_path]"
   ]
  },
  {
   "cell_type": "code",
   "execution_count": 5,
   "metadata": {},
   "outputs": [
    {
     "data": {
      "text/plain": [
       "['2024-07-04__13-39-57__99172',\n",
       " '2024-07-04__13-55-16__98946',\n",
       " '2024-07-04__13-56-18__32422',\n",
       " '2024-07-04__13-58-15__28444',\n",
       " '2024-07-04__13-58-27__38990',\n",
       " '2024-07-04__14-07-29__59332',\n",
       " '2024-07-04__14-07-38__87836',\n",
       " '2024-07-04__14-10-12__46670',\n",
       " '2024-07-04__14-41-10__53793',\n",
       " '2024-07-06__07-47-50__97035',\n",
       " '2024-08-26__16-46-07__83538',\n",
       " '2024-08-26__16-49-15__47085',\n",
       " '2024-08-26__16-51-24__71104',\n",
       " '2024-08-26__16-53-21__50132',\n",
       " '2024-08-27__09-35-37__42410',\n",
       " '2024-08-27__09-40-40__35315',\n",
       " '2024-08-27__09-43-56__46018',\n",
       " '2024-08-27__09-44-23__22748',\n",
       " '2024-08-27__09-56-22__85863',\n",
       " '2024-08-27__10-02-08__90295',\n",
       " '2024-08-27__10-10-05__35605',\n",
       " '2024-08-27__11-48-46__30536',\n",
       " '2024-08-27__12-01-00__35359',\n",
       " '2024-08-27__13-53-16__16852',\n",
       " '2024-08-27__15-49-11__87005',\n",
       " '2024-08-27__16-03-27__97098',\n",
       " '2024-08-27__16-04-41__26195',\n",
       " '2024-08-27__17-04-17__92136',\n",
       " '2024-08-27__17-06-23__61702',\n",
       " '2024-08-27__17-16-05__63101',\n",
       " '2024-08-27__17-29-57__12001',\n",
       " '2024-08-27__17-31-14__42653',\n",
       " '2024-08-27__17-33-46__40828',\n",
       " '2024-08-27__17-41-17__68405',\n",
       " '2024-08-27__17-48-19__39671',\n",
       " '2024-08-27__18-05-24__56770',\n",
       " '2024-08-27__18-06-07__15515',\n",
       " '2024-08-27__18-09-04__45888',\n",
       " '2024-08-27__18-12-32__78750',\n",
       " '2024-08-27__18-17-28__21172']"
      ]
     },
     "execution_count": 5,
     "metadata": {},
     "output_type": "execute_result"
    }
   ],
   "source": [
    "gmsh_path"
   ]
  },
  {
   "attachments": {},
   "cell_type": "markdown",
   "metadata": {},
   "source": [
    "# Step 04. INFLATION"
   ]
  },
  {
   "cell_type": "code",
   "execution_count": 6,
   "metadata": {},
   "outputs": [
    {
     "name": "stdout",
     "output_type": "stream",
     "text": [
      "\u001b[34msettings_step       \u001b[39m: \n",
      "\t- has_children\n",
      "\t-has_parent\n",
      "\t-verbose\n",
      "\t-...\n",
      "\u001b[34mpressure            \u001b[39m: 800\n",
      "\u001b[34mOMP_NUM_THREADS     \u001b[39m: 4\n",
      "\u001b[34mattemps             \u001b[39m: 4\n",
      "\u001b[34msurface_behavior    \u001b[39m: \n",
      "\t- type\n",
      "\t-dist\n",
      "\t-pressure\n",
      "\t-...\n",
      "\u001b[34mradius_target       \u001b[39m: 10\n",
      "\u001b[34mrho                 \u001b[39m: 0.00097\n",
      "\u001b[34mcalculix_dynamic    \u001b[39m: False\n",
      "\u001b[34mmpi                 \u001b[39m: True\n",
      "\u001b[34mmpi_np              \u001b[39m: 4\n",
      "\u001b[34mnsteps              \u001b[39m: 2\n",
      "\u001b[34mnlgeom              \u001b[39m: True\n",
      "\u001b[34mgmsh_path           \u001b[39m: 2024-08-27__18-17-28__21172\n",
      "\u001b[34mauto_pressure       \u001b[39m: True\n"
     ]
    }
   ],
   "source": [
    "params_infl = default()\n",
    "\n",
    "params_infl[\"gmsh_path\"] = gmsh_path[-1]\n",
    "params_infl[\"auto_pressure\"] = True\n",
    "params_infl[\"pressure\"]  = 800 # Pa\n",
    "params_infl[\"OMP_NUM_THREADS\"]     = 4\n",
    "params_infl[\"mpi\"]       = True\n",
    "params_infl[\"mpi_np\"]    = 4\n",
    "params_infl[\"nsteps\"]    = 2\n",
    "pprint(params_infl)"
   ]
  },
  {
   "cell_type": "code",
   "execution_count": 7,
   "metadata": {},
   "outputs": [
    {
     "name": "stdout",
     "output_type": "stream",
     "text": [
      "\u001b[34mtype                \u001b[39m: hard\n",
      "\u001b[34mdist                \u001b[39m: 0.1\n",
      "\u001b[34mpressure            \u001b[39m: 1000\n"
     ]
    }
   ],
   "source": [
    "pprint(params_infl[\"surface_behavior\"])"
   ]
  },
  {
   "cell_type": "code",
   "execution_count": 8,
   "metadata": {},
   "outputs": [
    {
     "name": "stderr",
     "output_type": "stream",
     "text": [
      "c:\\Users\\djoroya\\Documents\\GitHub\\YarnBraid-solo\\.conda\\Lib\\site-packages\\numpy\\core\\fromnumeric.py:3504: RuntimeWarning: Mean of empty slice.\n",
      "  return _methods._mean(a, axis=axis, dtype=dtype,\n",
      "c:\\Users\\djoroya\\Documents\\GitHub\\YarnBraid-solo\\.conda\\Lib\\site-packages\\numpy\\core\\_methods.py:121: RuntimeWarning: invalid value encountered in divide\n",
      "  ret = um.true_divide(\n"
     ]
    },
    {
     "name": "stdout",
     "output_type": "stream",
     "text": [
      "Error in LoadInp\n",
      "Running Calculix at:  c:\\Users\\djoroya\\Documents\\GitHub\\YarnBraid-solo\\simulations\\2024-08-27__18-31-10__22031\n",
      "Output file:  c:\\Users\\djoroya\\Documents\\GitHub\\YarnBraid-solo\\simulations\\2024-08-27__18-31-10__22031\\out.txt\n",
      "Command:\n",
      " mpiexec -n 4 c:\\Users\\djoroya\\Documents\\GitHub\\YarnBraid_30_05_2024\\YarnBraid\\src\\dependences\\PrePoMax\\Solver\\ccx_dynamic.exe init\n",
      "Error reading cvf file\n",
      "\n",
      "pid:  13612 \n",
      "\n",
      "SUMMARY OF C0NVERGENCE INFORMATION\n",
      "  STEP   INC  ATT   ITER     CONT.   RESID.        CORR.      RESID.      CORR.\n",
      "                              EL.    FORCE         DISP       FLUX        TEMP.\n",
      "                              (#)     (%)           (%)        (%)         (%)\n",
      "     1     1     1     1      120  0.2854E+02  0.1000E+03  0.0000E+00  0.0000E+00\n",
      "     1     1     1     2      109  0.4975E+00  0.7157E+01  0.0000E+00  0.0000E+00\n",
      "     1     1     1     3      108  0.2899E-02  0.1190E+01  0.0000E+00  0.0000E+00\n",
      "     1     1     1     4      108  0.0000E+00  0.7841E+00  0.0000E+00  0.0000E+00\n",
      "     2     1     1     1      105  0.5911E+02  0.1000E+03  0.0000E+00  0.0000E+00\n",
      "     2     1     1     2      466  0.4883E+01  0.1781E+02  0.0000E+00  0.0000E+00\n",
      "     2     1     1     3      344  0.2023E+00  0.2496E+01  0.0000E+00  0.0000E+00\n",
      "     2     1     1     4      320  0.1039E-01  0.1275E+01  0.0000E+00  0.0000E+00\n",
      "     2     1     1     5      316  0.8266E-02  0.1093E+01  0.0000E+00  0.0000E+00\n",
      "     2     1     1     6      316  0.7256E-02  0.9598E+00  0.0000E+00  0.0000E+00\n",
      "     3     1     1     1      367  0.4631E+02  0.1000E+03  0.0000E+00  0.0000E+00\n",
      "     3     1     1     2     3344  0.7657E+01  0.1928E+02  0.0000E+00  0.0000E+00\n",
      "     3     1     1     3     2812  0.4452E+00  0.4809E+01  0.0000E+00  0.0000E+00\n",
      "     3     1     1     4     2692  0.1517E-01  0.2343E+01  0.0000E+00  0.0000E+00\n"
     ]
    }
   ],
   "source": [
    "RunInflationDirect(params_infl,main_path)"
   ]
  },
  {
   "cell_type": "code",
   "execution_count": null,
   "metadata": {},
   "outputs": [
    {
     "name": "stdout",
     "output_type": "stream",
     "text": [
      "\u001b[34msettings_step       \u001b[39m: \n",
      "\t- has_children\n",
      "\t-has_parent\n",
      "\t-verbose\n",
      "\t-...\n",
      "\u001b[34mpressure            \u001b[39m: 739.9999999999998\n",
      "\u001b[34mOMP_NUM_THREADS     \u001b[39m: 4\n",
      "\u001b[34mattemps             \u001b[39m: 4\n",
      "\u001b[34msurface_behavior    \u001b[39m: \n",
      "\t- type\n",
      "\t-dist\n",
      "\t-pressure\n",
      "\t-...\n",
      "\u001b[34mradius_target       \u001b[39m: 10\n",
      "\u001b[34mrho                 \u001b[39m: 0.00097\n",
      "\u001b[34mmpi                 \u001b[39m: True\n",
      "\u001b[34mmpi_np              \u001b[39m: 4\n",
      "\u001b[34mnsteps              \u001b[39m: 3\n",
      "\u001b[34mnlgeom              \u001b[39m: True\n",
      "\u001b[34mgmsh_path           \u001b[39m: 2024-08-27__13-53-16__16852\n",
      "\u001b[34mauto_pressure       \u001b[39m: True\n",
      "\u001b[34mfunction            \u001b[39m: \n",
      "\t- name\n",
      "\t-file\n",
      "\t-...\n",
      "\u001b[34mmetadata            \u001b[39m: \n",
      "\t- elapsed\n",
      "\t-error\n",
      "\t-error_msg\n",
      "\t-init_time\n",
      "\t-final_time\n",
      "\t-...\n",
      "\u001b[34msimulation_path     \u001b[39m: 2024-08-27__14-36-11__51508\n",
      "\u001b[34mlammps_params       \u001b[39m: \n",
      "\t- settings_step\n",
      "\t-Npoints\n",
      "\t-hilo_central\n",
      "\t-theta\n",
      "\t-factor\n",
      "\t-Remesh\n",
      "\t-RUN_STEPS_EQ\n",
      "\t-RUN_STEPS_DEFORM\n",
      "\t-errate\n",
      "\t-nhilos\n",
      "\t-...\n",
      "\u001b[34mgmsh_params         \u001b[39m: \n",
      "\t- settings_step\n",
      "\t-factor_radius\n",
      "\t-factor_mesh_min\n",
      "\t-factor_mesh_max\n",
      "\t-debug\n",
      "\t-refine\n",
      "\t-lammps_path\n",
      "\t-function\n",
      "\t-metadata\n",
      "\t-simulation_path\n",
      "\t-...\n",
      "\u001b[34mcontacts            \u001b[39m: np array with shape(1216, 2)\n"
     ]
    }
   ],
   "source": [
    "pprint(params_infl)"
   ]
  },
  {
   "cell_type": "code",
   "execution_count": null,
   "metadata": {},
   "outputs": [
    {
     "ename": "NameError",
     "evalue": "name 'err' is not defined",
     "output_type": "error",
     "traceback": [
      "\u001b[1;31m---------------------------------------------------------------------------\u001b[0m",
      "\u001b[1;31mNameError\u001b[0m                                 Traceback (most recent call last)",
      "Cell \u001b[1;32mIn[10], line 1\u001b[0m\n\u001b[1;32m----> 1\u001b[0m \u001b[43merr\u001b[49m\n",
      "\u001b[1;31mNameError\u001b[0m: name 'err' is not defined"
     ]
    }
   ],
   "source": [
    "err"
   ]
  },
  {
   "cell_type": "code",
   "execution_count": null,
   "metadata": {},
   "outputs": [],
   "source": [
    "import os\n",
    "from tools.step.rerun import rerun\n",
    "json_file = os.path.join(*(main_path + \\\n",
    "                           [params_infl[\"simulation_path\"]])) + \".json\""
   ]
  },
  {
   "cell_type": "code",
   "execution_count": null,
   "metadata": {},
   "outputs": [],
   "source": [
    "rerun(json_file,overwrite=True)"
   ]
  }
 ],
 "metadata": {
  "kernelspec": {
   "display_name": "Python 3",
   "language": "python",
   "name": "python3"
  },
  "language_info": {
   "codemirror_mode": {
    "name": "ipython",
    "version": 3
   },
   "file_extension": ".py",
   "mimetype": "text/x-python",
   "name": "python",
   "nbconvert_exporter": "python",
   "pygments_lexer": "ipython3",
   "version": "3.11.9"
  }
 },
 "nbformat": 4,
 "nbformat_minor": 2
}
