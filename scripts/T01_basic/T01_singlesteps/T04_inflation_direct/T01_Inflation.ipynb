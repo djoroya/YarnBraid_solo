{
 "cells": [
  {
   "cell_type": "code",
   "execution_count": 1,
   "metadata": {},
   "outputs": [],
   "source": [
    "from tools.basic.path_gen  import path_gen\n",
    "from tools.step.pprint     import pprint\n",
    "\n",
    "from model.InflationDirect.default                  import default\n",
    "from model.InflationDirect.RunInflationDirect import RunInflationDirect\n",
    "import os,glob"
   ]
  },
  {
   "cell_type": "code",
   "execution_count": 2,
   "metadata": {},
   "outputs": [],
   "source": [
    "main_path = os.path.join(\"output\", path_gen())"
   ]
  },
  {
   "cell_type": "code",
   "execution_count": 3,
   "metadata": {},
   "outputs": [],
   "source": [
    "main_path = os.path.join(\"output\", path_gen())\n",
    "join = os.path.join\n",
    "gmsh_path = glob.glob(join(\"..\" , \"T03_gmsh_direct\", \"output\", \"*\"))"
   ]
  },
  {
   "cell_type": "code",
   "execution_count": 4,
   "metadata": {},
   "outputs": [],
   "source": [
    "main_path = [\"output\"]\n",
    "join = os.path.join\n",
    "gmsh_path = glob.glob(join(\"..\" , \"T03_gmsh_direct\", \"output\", \"*\"))\n",
    "gmsh_path = [ os.path.basename(i).replace(\".json\",\"\") for i in gmsh_path]"
   ]
  },
  {
   "cell_type": "code",
   "execution_count": 5,
   "metadata": {},
   "outputs": [
    {
     "data": {
      "text/plain": [
       "['2024-07-04__13-39-57__99172',\n",
       " '2024-07-04__13-55-16__98946',\n",
       " '2024-07-04__13-56-18__32422',\n",
       " '2024-07-04__13-58-15__28444',\n",
       " '2024-07-04__13-58-27__38990',\n",
       " '2024-07-04__14-07-29__59332',\n",
       " '2024-07-04__14-07-38__87836',\n",
       " '2024-07-04__14-10-12__46670',\n",
       " '2024-07-04__14-41-10__53793']"
      ]
     },
     "execution_count": 5,
     "metadata": {},
     "output_type": "execute_result"
    }
   ],
   "source": [
    "gmsh_path"
   ]
  },
  {
   "attachments": {},
   "cell_type": "markdown",
   "metadata": {},
   "source": [
    "# Step 04. INFLATION"
   ]
  },
  {
   "cell_type": "code",
   "execution_count": 6,
   "metadata": {},
   "outputs": [
    {
     "name": "stdout",
     "output_type": "stream",
     "text": [
      "\u001b[34melapsed             \u001b[39m: 0 h  -  0 m  -  0 s\n",
      "\u001b[31merror               \u001b[31m: 1\n",
      "\u001b[31merror_msg           \u001b[31m: No execution\n",
      "\u001b[34mverbose             \u001b[39m: True\n",
      "\u001b[34mpressure            \u001b[39m: 800\n",
      "\u001b[34mOMP_NUM_THREADS     \u001b[39m: 16\n",
      "\u001b[34mattemps             \u001b[39m: 4\n",
      "\u001b[34msurface_behavior    \u001b[39m: \n",
      "\t- type\n",
      "\t-dist\n",
      "\t-pressure\n",
      "\t-...\n",
      "\u001b[34mradius_target       \u001b[39m: 10\n",
      "\u001b[34mrho                 \u001b[39m: 0.00097\n",
      "\u001b[34mcalculix_dynamic    \u001b[39m: False\n",
      "\u001b[34mmpi                 \u001b[39m: True\n",
      "\u001b[34mmpi_np              \u001b[39m: 4\n",
      "\u001b[34mnsteps              \u001b[39m: 1\n",
      "\u001b[34mnlgeom              \u001b[39m: True\n",
      "\u001b[34mgmsh_path           \u001b[39m: 2024-07-04__14-41-10__53793\n",
      "\u001b[34mncpus               \u001b[39m: 4\n"
     ]
    }
   ],
   "source": [
    "params_infl = default()\n",
    "\n",
    "params_infl[\"gmsh_path\"] = gmsh_path[-1]\n",
    "params_infl[\"pressure\"]  = 800 # Pa\n",
    "params_infl[\"ncpus\"]     = 4\n",
    "params_infl[\"mpi\"]       = True\n",
    "params_infl[\"mpi_np\"]    = 4\n",
    "pprint(params_infl)"
   ]
  },
  {
   "cell_type": "code",
   "execution_count": 7,
   "metadata": {},
   "outputs": [
    {
     "name": "stdout",
     "output_type": "stream",
     "text": [
      "\u001b[34mtype                \u001b[39m: hard\n",
      "\u001b[34mdist                \u001b[39m: 0.1\n",
      "\u001b[34mpressure            \u001b[39m: 1000\n"
     ]
    }
   ],
   "source": [
    "pprint(params_infl[\"surface_behavior\"])"
   ]
  },
  {
   "cell_type": "code",
   "execution_count": 8,
   "metadata": {},
   "outputs": [
    {
     "name": "stdout",
     "output_type": "stream",
     "text": [
      "Running Calculix at:  c:\\Users\\djoroya\\Documents\\GitHub\\YarnBraid-solo\\simulations\\2024-07-05__10-09-08__47472\n",
      "Output file:  c:\\Users\\djoroya\\Documents\\GitHub\\YarnBraid-solo\\simulations\\2024-07-05__10-09-08__47472\\out.txt\n",
      "Command:\n",
      " mpiexec -n 4 c:\\Users\\djoroya\\Documents\\GitHub\\YarnBraid_30_05_2024\\YarnBraid\\src\\dependences\\PrePoMax\\Solver\\ccx_dynamic.exe init\n",
      "Error reading cvf file\n",
      "\n",
      "pid:  19964 \n",
      "\n",
      "Calculix finished\n",
      "\n"
     ]
    }
   ],
   "source": [
    "RunInflationDirect(params_infl,main_path)"
   ]
  },
  {
   "cell_type": "code",
   "execution_count": 9,
   "metadata": {},
   "outputs": [
    {
     "name": "stdout",
     "output_type": "stream",
     "text": [
      "\u001b[34melapsed             \u001b[39m: 0 h  -  0 m  -  23.29 s\n",
      "\u001b[32merror               \u001b[32m: 0\n",
      "\u001b[32merror_msg           \u001b[32m: Correct Execution\n",
      "\u001b[34mverbose             \u001b[39m: True\n",
      "\u001b[34mpressure            \u001b[39m: 739.9999999999998\n",
      "\u001b[34mOMP_NUM_THREADS     \u001b[39m: 16\n",
      "\u001b[34mattemps             \u001b[39m: 4\n",
      "\u001b[34msurface_behavior    \u001b[39m: \n",
      "\t- type\n",
      "\t-dist\n",
      "\t-pressure\n",
      "\t-...\n",
      "\u001b[34mradius_target       \u001b[39m: 10\n",
      "\u001b[34mrho                 \u001b[39m: 0.00097\n",
      "\u001b[34mmpi                 \u001b[39m: True\n",
      "\u001b[34mmpi_np              \u001b[39m: 4\n",
      "\u001b[34mnsteps              \u001b[39m: 1\n",
      "\u001b[34mnlgeom              \u001b[39m: True\n",
      "\u001b[34mgmsh_path           \u001b[39m: 2024-07-04__14-41-10__53793\n",
      "\u001b[34mncpus               \u001b[39m: 4\n",
      "\u001b[34mfunction            \u001b[39m: \n",
      "\t- name\n",
      "\t-file\n",
      "\t-...\n",
      "\u001b[34msimulation_path     \u001b[39m: 2024-07-05__10-09-08__47472\n",
      "\u001b[34minit_time           \u001b[39m: 2024-07-05 10:09:08\n",
      "\u001b[34mlammps_params       \u001b[39m: \n",
      "\t- elapsed\n",
      "\t-error\n",
      "\t-error_msg\n",
      "\t-verbose\n",
      "\t-Npoints\n",
      "\t-hilo_central\n",
      "\t-theta\n",
      "\t-factor\n",
      "\t-Remesh\n",
      "\t-RUN_STEPS_EQ\n",
      "\t-...\n",
      "\u001b[34mgmsh_params         \u001b[39m: \n",
      "\t- elapsed\n",
      "\t-error\n",
      "\t-error_msg\n",
      "\t-verbose\n",
      "\t-factor_radius\n",
      "\t-factor_mesh_min\n",
      "\t-factor_mesh_max\n",
      "\t-debug\n",
      "\t-refine\n",
      "\t-lammps_path\n",
      "\t-...\n",
      "\u001b[34mcontacts            \u001b[39m: np array with shape(1216, 2)\n",
      "\u001b[34mfinal_time          \u001b[39m: 2024-07-05 10:09:31\n"
     ]
    }
   ],
   "source": [
    "pprint(params_infl)"
   ]
  },
  {
   "cell_type": "code",
   "execution_count": 10,
   "metadata": {},
   "outputs": [],
   "source": [
    "import os\n",
    "from tools.step.rerun import rerun\n",
    "json_file = os.path.join(*(main_path + \\\n",
    "                           [params_infl[\"simulation_path\"]])) + \".json\""
   ]
  },
  {
   "cell_type": "code",
   "execution_count": 11,
   "metadata": {},
   "outputs": [
    {
     "name": "stdout",
     "output_type": "stream",
     "text": [
      "Simulation exists. It will be overwritten\n",
      "['output']\n",
      "Running Calculix at:  c:\\Users\\djoroya\\Documents\\GitHub\\YarnBraid-solo\\simulations\\2024-07-05__10-09-08__47472\n",
      "Output file:  c:\\Users\\djoroya\\Documents\\GitHub\\YarnBraid-solo\\simulations\\2024-07-05__10-09-08__47472\\out.txt\n",
      "Command:\n",
      " mpiexec -n 4 c:\\Users\\djoroya\\Documents\\GitHub\\YarnBraid_30_05_2024\\YarnBraid\\src\\dependences\\PrePoMax\\Solver\\ccx_dynamic.exe init\n",
      "Error reading cvf file\n",
      "\n",
      "pid:  17176 \n",
      "\n",
      "Calculix finished\n",
      "\n"
     ]
    }
   ],
   "source": [
    "rerun(json_file,overwrite=True)"
   ]
  }
 ],
 "metadata": {
  "kernelspec": {
   "display_name": "Python 3",
   "language": "python",
   "name": "python3"
  },
  "language_info": {
   "codemirror_mode": {
    "name": "ipython",
    "version": 3
   },
   "file_extension": ".py",
   "mimetype": "text/x-python",
   "name": "python",
   "nbconvert_exporter": "python",
   "pygments_lexer": "ipython3",
   "version": "3.11.9"
  }
 },
 "nbformat": 4,
 "nbformat_minor": 2
}
