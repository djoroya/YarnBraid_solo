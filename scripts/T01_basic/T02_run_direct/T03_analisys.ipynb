{
 "cells": [
  {
   "cell_type": "code",
   "execution_count": 1,
   "metadata": {},
   "outputs": [],
   "source": [
    "import numpy as np"
   ]
  },
  {
   "cell_type": "code",
   "execution_count": 2,
   "metadata": {},
   "outputs": [
    {
     "name": "stdout",
     "output_type": "stream",
     "text": [
      "sigma_trenzado = 308.93 MPa\n",
      "sigma_hebra = 599.68 MPa\n",
      "sigma_trenzado_homogenized = 110.85 MPa\n",
      "ratio = 0.515\n"
     ]
    }
   ],
   "source": [
    "dia_hebra = 0.27 # mm\n",
    "# \n",
    "F_hebra = 3.5 # 3.241 # kg\n",
    "F_hebra_sin_corr = 3.241 # kg\n",
    "F_hebra_kg = F_hebra\n",
    "F_hebra = 9.81*F_hebra # N\n",
    "A_hebra = np.pi*(dia_hebra/2)**2\n",
    "sigma_hebra = F_hebra/A_hebra # MPa\n",
    "\n",
    "F_trenzado = 142 # kg\n",
    "F_trenzado_con_alma = 177 # kg\n",
    "F_trenzado_kg = F_trenzado\n",
    "F_trenzado = 9.81*F_trenzado # N\n",
    "dia_trenzado = 4 # mm\n",
    "\n",
    "# 4 monofilamentos x 16 + 15 monofilamentos en alma\n",
    "theta = 85 # grados\n",
    "ctheta = np.sin(np.deg2rad(theta))\n",
    "Nalma = 15\n",
    "Atrenzado = (ctheta*16*4 + Nalma)*np.pi*(dia_hebra/2)**2 \n",
    "sigma_trenzado = F_trenzado/Atrenzado # MPa\n",
    "\n",
    "# homogenized \n",
    "Atrenzado_homogenized = np.pi*(dia_trenzado/2)**2\n",
    "sigma_trenzado_homogenized = F_trenzado/Atrenzado_homogenized # MPa\n",
    "# print with 2 decimals\n",
    "print(f\"sigma_trenzado = {sigma_trenzado:.2f} MPa\")\n",
    "print(f\"sigma_hebra = {sigma_hebra:.2f} MPa\")\n",
    "print(f\"sigma_trenzado_homogenized = {sigma_trenzado_homogenized:.2f} MPa\")\n",
    "# \n",
    "# ratio \n",
    "ratio = sigma_trenzado/sigma_hebra\n",
    "print(f\"ratio = {ratio:.3f}\")"
   ]
  },
  {
   "cell_type": "code",
   "execution_count": 3,
   "metadata": {},
   "outputs": [],
   "source": [
    "from tools.step.runstep import runstep,address,lj\n",
    "import os\n"
   ]
  },
  {
   "cell_type": "code",
   "execution_count": 4,
   "metadata": {},
   "outputs": [],
   "source": [
    "import glob"
   ]
  },
  {
   "cell_type": "markdown",
   "metadata": {},
   "source": []
  },
  {
   "cell_type": "code",
   "execution_count": 5,
   "metadata": {},
   "outputs": [],
   "source": [
    "files = glob.glob('output/*.json')"
   ]
  },
  {
   "cell_type": "code",
   "execution_count": 6,
   "metadata": {},
   "outputs": [],
   "source": [
    "file = files[-4]"
   ]
  },
  {
   "cell_type": "code",
   "execution_count": null,
   "metadata": {},
   "outputs": [],
   "source": []
  },
  {
   "cell_type": "code",
   "execution_count": 7,
   "metadata": {},
   "outputs": [
    {
     "name": "stdout",
     "output_type": "stream",
     "text": [
      "Simulation not found\n",
      "output\\2024-08-30__08-55-14__69218.json\n",
      "Simulation not found\n",
      "output\\2024-08-30__09-08-30__98506.json\n",
      "'Ftrenzado'\n",
      "output\\2024-08-30__09-27-38__56150.json\n",
      "'Ftrenzado'\n",
      "output\\2024-08-30__11-06-00__65026.json\n",
      "'Ftrenzado'\n",
      "output\\2024-08-30__12-42-12__65026.json\n",
      "'Ftrenzado'\n",
      "output\\2024-08-30__22-32-19__65026.json\n",
      "Simulation not found\n",
      "output\\2024-08-31__08-23-50__65026.json\n",
      "Simulation not found\n",
      "output\\2024-08-31__17-02-56__96293.json\n",
      "Simulation not found\n",
      "output\\2024-09-01__15-54-14__96293.json\n",
      "Simulation not found\n",
      "output\\2024-09-10__16-39-35__78128.json\n",
      "Simulation not found\n",
      "output\\2024-09-10__16-54-15__59821.json\n",
      "'Ftrenzado'\n",
      "output\\2024-09-10__18-46-17__53932.json\n",
      "Simulation not found\n",
      "output\\2024-09-11__08-45-05__88798.json\n",
      "Simulation not found\n",
      "output\\2024-09-11__09-27-37__96293.json\n",
      "Simulation not found\n",
      "output\\2024-09-11__14-05-30__96293.json\n",
      "'Ftrenzado'\n",
      "output\\2024-09-11__15-42-25__31477.json\n",
      "Simulation not found\n",
      "output\\2024-09-11__17-11-50__65026.json\n",
      "'Ftrenzado'\n",
      "output\\2024-09-12__08-08-17__87159.json\n",
      "'Ftrenzado'\n",
      "output\\2024-09-12__10-00-17__65026.json\n",
      "Simulation not found\n",
      "output\\2024-09-12__11-25-10__65026.json\n",
      "Simulation not found\n",
      "output\\2024-09-12__12-58-07__20121.json\n",
      "Simulation not found\n",
      "output\\2024-09-12__14-27-22__96293.json\n",
      "'Ftrenzado'\n",
      "output\\2024-09-12__14-41-40__96293.json\n",
      "Simulation not found\n",
      "output\\2024-09-13__10-06-37__36656.json\n",
      "Simulation not found\n",
      "output\\2024-09-13__12-43-42__89427.json\n",
      "Simulation not found\n",
      "output\\2024-09-13__13-11-55__96293.json\n",
      "Simulation not found\n",
      "output\\2024-09-16__08-25-12__96293.json\n",
      "Simulation not found\n",
      "output\\2024-09-16__08-47-21__26862.json\n",
      "Simulation not found\n",
      "output\\2024-09-16__08-56-08__76506.json\n",
      "Simulation not found\n",
      "output\\2024-09-16__08-56-14__47091.json\n",
      "Simulation not found\n",
      "output\\2024-09-16__08-56-28__89015.json\n",
      "Simulation not found\n",
      "output\\2024-09-16__08-57-57__70746.json\n",
      "Simulation not found\n",
      "output\\2024-09-16__08-58-17__59238.json\n",
      "Simulation not found\n",
      "output\\2024-09-16__08-58-46__38761.json\n",
      "Simulation not found\n",
      "output\\2024-09-16__08-59-01__54837.json\n",
      "Simulation not found\n",
      "output\\2024-09-16__09-00-12__93317.json\n",
      "Simulation not found\n",
      "output\\2024-09-16__09-00-27__25278.json\n",
      "Simulation not found\n",
      "output\\2024-09-16__09-01-06__88958.json\n",
      "Simulation not found\n",
      "output\\2024-09-16__09-02-05__80471.json\n",
      "Simulation not found\n",
      "output\\2024-09-16__09-05-05__46664.json\n",
      "Simulation not found\n",
      "output\\2024-09-16__09-12-08__22413.json\n",
      "Simulation not found\n",
      "output\\2024-09-16__09-12-18__27317.json\n",
      "Simulation not found\n",
      "output\\2024-09-16__09-14-44__80525.json\n",
      "Simulation not found\n",
      "output\\2024-09-16__09-16-04__23890.json\n",
      "Simulation not found\n",
      "output\\2024-09-16__09-41-37__33911.json\n",
      "'Ftrenzado'\n",
      "output\\2024-09-16__09-46-40__68447.json\n",
      "'Ftrenzado'\n",
      "output\\2024-09-16__10-00-08__12138.json\n",
      "Simulation not found\n",
      "output\\2024-09-16__10-14-24__39406.json\n",
      "Simulation not found\n",
      "output\\2024-09-16__10-15-04__84607.json\n",
      "Simulation not found\n",
      "output\\2024-09-16__10-15-23__82316.json\n",
      "Simulation not found\n",
      "output\\2024-09-16__10-15-52__80939.json\n",
      "'Ftrenzado'\n",
      "output\\2024-09-16__10-16-02__43940.json\n",
      "'Ftrenzado'\n",
      "output\\2024-09-16__10-27-20__33889.json\n",
      "'Ftrenzado'\n",
      "output\\2024-09-16__10-28-10__45080.json\n",
      "'Ftrenzado'\n",
      "output\\2024-09-16__10-29-54__33255.json\n",
      "'Ftrenzado'\n",
      "output\\2024-09-16__10-43-32__69671.json\n",
      "Simulation not found\n",
      "output\\2024-09-16__13-19-04__88329.json\n",
      "Simulation not found\n",
      "output\\2024-09-16__13-53-26__30104.json\n",
      "Simulation not found\n",
      "output\\2024-09-16__13-54-47__23179.json\n",
      "Simulation not found\n",
      "output\\2024-09-16__13-57-05__15302.json\n",
      "Simulation not found\n",
      "output\\2024-09-16__14-06-07__83569.json\n",
      "Simulation not found\n",
      "output\\2024-09-16__14-06-46__99496.json\n",
      "Simulation not found\n",
      "output\\2024-09-16__14-07-34__89175.json\n",
      "Simulation not found\n",
      "output\\2024-09-16__14-09-53__39352.json\n",
      "Simulation not found\n",
      "output\\2024-09-16__14-10-55__41452.json\n",
      "Simulation not found\n",
      "output\\2024-09-16__14-19-48__65985.json\n",
      "Simulation not found\n",
      "output\\2024-09-16__14-56-11__68940.json\n",
      "Simulation not found\n",
      "output\\2024-09-16__15-02-52__43893.json\n",
      "Simulation not found\n",
      "output\\2024-09-16__15-14-46__42211.json\n",
      "Simulation not found\n",
      "output\\2024-09-16__16-24-45__69424.json\n",
      "Simulation not found\n",
      "output\\2024-09-16__16-32-36__44707.json\n",
      "Simulation not found\n",
      "output\\2024-09-16__16-32-52__72089.json\n",
      "Simulation not found\n",
      "output\\2024-09-16__20-44-34__65026.json\n",
      "Simulation not found\n",
      "output\\2024-09-17__11-40-02__43439.json\n",
      "Simulation not found\n",
      "output\\2024-09-17__11-52-27__14227.json\n",
      "Simulation not found\n",
      "output\\2024-09-17__11-52-40__42042.json\n",
      "Simulation not found\n",
      "output\\2024-09-17__12-00-49__96293.json\n",
      "Simulation not found\n",
      "output\\2024-09-17__12-03-31__83401.json\n",
      "Simulation not found\n",
      "output\\2024-09-17__12-05-20__41814.json\n",
      "Simulation not found\n",
      "output\\2024-09-17__12-22-07__70924.json\n"
     ]
    }
   ],
   "source": [
    "results = []\n",
    "for file in files:\n",
    "\n",
    "    try:\n",
    "        id_sim = os.path.basename(file).replace('.json','')\n",
    "\n",
    "        params_sim = lj(id_sim)\n",
    "        params = lj(params_sim[\"dependencies\"][\"post_path\"])\n",
    "\n",
    "        steps = params[\"results\"][\"frd\"][\"steps\"]\n",
    "        step_str =  [ i[:7 ] for i in steps ]\n",
    "        step_str = np.array(step_str)    \n",
    "        step_str_uq = np.unique(step_str)\n",
    "\n",
    "        indx = [ np.where(step_str == iuq )[-1][-1] for iuq in step_str_uq]\n",
    "\n",
    "\n",
    "        sigma_max = [i[\"sigma_max\"] for i in params[\"results\"][\"measurements\"]]\n",
    "        epsilon = [i[\"epsilon\"] for i in params[\"results\"][\"measurements\"]]\n",
    "        Ftotal = [i[\"F_total\"] for i in params[\"results\"][\"measurements\"]]\n",
    "        Ftrenzado = [i[\"Ftrenzado\"] for i in params[\"results\"][\"measurements\"]]\n",
    "        Falma = [i[\"Falma\"] for i in params[\"results\"][\"measurements\"]]\n",
    "\n",
    "        sigma_max = np.array(sigma_max)\n",
    "        sigma_max = sigma_max[indx]\n",
    "\n",
    "        epsilon = np.array(epsilon)\n",
    "        epsilon = epsilon[indx]\n",
    "        Ftotal = np.array(Ftotal)/9.81 # kg\n",
    "        Ftotal = Ftotal[indx]\n",
    "\n",
    "        Ftrenzado = np.array(Ftrenzado)/9.81 # kg\n",
    "        Ftrenzado = Ftrenzado[indx]\n",
    "\n",
    "        Falma = np.array(Falma)/9.81 # kg\n",
    "        Falma = Falma[indx]\n",
    "\n",
    "        step_str_uq = step_str[indx]\n",
    "\n",
    "        angle = 85\n",
    "        ctheta = np.sin(np.deg2rad(angle))\n",
    "\n",
    "        results.append({\"id_sim\":id_sim,\n",
    "                        \"step_str_uq\":step_str_uq,\"sigma_max\":sigma_max,\n",
    "                        \"Ftrenzado\":Ftrenzado,\n",
    "                        \"Falma\":Falma,\n",
    "                        \"epsilon\":epsilon,\n",
    "                        \"Ftotal\":Ftotal})\n",
    "\n",
    "    except Exception as e:\n",
    "        print(e)\n",
    "        print(file)\n",
    "        pass\n"
   ]
  },
  {
   "cell_type": "code",
   "execution_count": 8,
   "metadata": {},
   "outputs": [],
   "source": [
    "from matplotlib import pyplot as plt\n",
    "import numpy as np"
   ]
  },
  {
   "cell_type": "code",
   "execution_count": 9,
   "metadata": {},
   "outputs": [
    {
     "data": {
      "text/plain": [
       "13"
      ]
     },
     "execution_count": 9,
     "metadata": {},
     "output_type": "execute_result"
    }
   ],
   "source": [
    "len(results)"
   ]
  },
  {
   "cell_type": "code",
   "execution_count": 10,
   "metadata": {},
   "outputs": [],
   "source": [
    "results = results[-7:]"
   ]
  },
  {
   "cell_type": "code",
   "execution_count": 11,
   "metadata": {},
   "outputs": [
    {
     "data": {
      "text/plain": [
       "<matplotlib.legend.Legend at 0x1acba4d0290>"
      ]
     },
     "execution_count": 11,
     "metadata": {},
     "output_type": "execute_result"
    },
    {
     "data": {
      "image/png": "[encoded data removed]",
      "text/plain": [
       "<Figure size 640x480 with 1 Axes>"
      ]
     },
     "metadata": {},
     "output_type": "display_data"
    }
   ],
   "source": [
    "# linear regression\n",
    "iter = -1\n",
    "for r in results:\n",
    "    iter += 1\n",
    "    id_sim = r[\"id_sim\"]\n",
    "    step_str_uq = r[\"step_str_uq\"]\n",
    "    sigma_max = r[\"sigma_max\"]\n",
    "    epsilon = r[\"epsilon\"]\n",
    "    Ftotal = r[\"Ftotal\"]\n",
    "\n",
    "    Fmax =  sigma_max*A_hebra/9.81\n",
    "    label = f\"{id_sim}\" + f\"iter = {iter}\"\n",
    "    plt.plot(Ftotal,Fmax,label=label,marker=\"o\")\n",
    "plt.axvline(x=F_trenzado_kg, color='b', linestyle='--',label=\"rotura trenzado sin alma (experimental)\")\n",
    "plt.axhline(y=F_hebra_kg, color='g', linestyle='--',label=\"rotura hebra (experimental)\")\n",
    "\n",
    "\n",
    "plt.axvline(x=F_trenzado_con_alma, color='r', linestyle='--',label=\"rotura trenzado con alma (experimental)\")\n",
    "plt.axhline(y=F_hebra_sin_corr, color='y', linestyle='--',label=\"rotura hebra sin correccion (experimental)\")\n",
    "\n",
    "F_trenzado_con_alma = 142 # kg\n",
    "#\n",
    "plt.ylabel(\"F Hebra (kg)\")\n",
    "plt.xlabel(\"F load (kg)\")\n",
    "plt.grid()\n",
    "# outside\n",
    "plt.legend(loc='center left', bbox_to_anchor=(1, 0.5))"
   ]
  },
  {
   "cell_type": "code",
   "execution_count": 12,
   "metadata": {},
   "outputs": [
    {
     "data": {
      "text/plain": [
       "142"
      ]
     },
     "execution_count": 12,
     "metadata": {},
     "output_type": "execute_result"
    }
   ],
   "source": [
    "F_trenzado_kg"
   ]
  },
  {
   "cell_type": "code",
   "execution_count": 13,
   "metadata": {},
   "outputs": [
    {
     "data": {
      "text/plain": [
       "142"
      ]
     },
     "execution_count": 13,
     "metadata": {},
     "output_type": "execute_result"
    }
   ],
   "source": [
    "F_trenzado_con_alma"
   ]
  },
  {
   "cell_type": "code",
   "execution_count": 14,
   "metadata": {},
   "outputs": [
    {
     "name": "stdout",
     "output_type": "stream",
     "text": [
      "Ftotal = 2.278522812792944 kg\n",
      "Ftrenzado = 2.278522812792944 kg\n",
      "Falma = 0.0 kg\n"
     ]
    }
   ],
   "source": [
    "Ftotal = results[-1][\"Ftotal\"][-1]\n",
    "Ftrenzado = results[-1][\"Ftrenzado\"][-1]\n",
    "Falma = results[-1][\"Falma\"][-1]\n",
    "\n",
    "print(f\"Ftotal = {Ftotal} kg\")\n",
    "print(f\"Ftrenzado = {Ftrenzado} kg\")\n",
    "print(f\"Falma = {Falma} kg\")\n"
   ]
  },
  {
   "cell_type": "code",
   "execution_count": 15,
   "metadata": {},
   "outputs": [],
   "source": [
    "Falmas = [i[\"Falma\"][-1] for i in results]\n",
    "Ftotals = [i[\"Ftotal\"][-1] for i in results]\n",
    "Fmaxs = [i[\"sigma_max\"][-1]*A_hebra/9.81 for i in results]\n",
    "ratio = [iFmax/iFtotal for iFmax,iFtotal in zip(Fmaxs,Ftotals)]\n",
    "error = [ np.sqrt((iratio - F_hebra_kg/F_trenzado_kg)**2) for iratio in ratio]"
   ]
  },
  {
   "cell_type": "code",
   "execution_count": 16,
   "metadata": {},
   "outputs": [
    {
     "data": {
      "text/plain": [
       "142"
      ]
     },
     "execution_count": 16,
     "metadata": {},
     "output_type": "execute_result"
    }
   ],
   "source": [
    "F_trenzado_kg"
   ]
  },
  {
   "cell_type": "code",
   "execution_count": 17,
   "metadata": {},
   "outputs": [],
   "source": [
    "import pandas as pd"
   ]
  },
  {
   "cell_type": "code",
   "execution_count": 18,
   "metadata": {},
   "outputs": [],
   "source": [
    "df = pd.DataFrame({\"Ftotal\":Ftotals,\"Falma\":Falmas,\"Fmax\":Fmaxs,\"error\":error,\"ratio\":ratio})"
   ]
  },
  {
   "cell_type": "code",
   "execution_count": 19,
   "metadata": {},
   "outputs": [],
   "source": [
    "# sort by error\n",
    "df = df.sort_values(by=\"error\")"
   ]
  },
  {
   "cell_type": "code",
   "execution_count": 20,
   "metadata": {},
   "outputs": [
    {
     "data": {
      "text/html": [
       "<div>\n",
       "<style scoped>\n",
       "    .dataframe tbody tr th:only-of-type {\n",
       "        vertical-align: middle;\n",
       "    }\n",
       "\n",
       "    .dataframe tbody tr th {\n",
       "        vertical-align: top;\n",
       "    }\n",
       "\n",
       "    .dataframe thead th {\n",
       "        text-align: right;\n",
       "    }\n",
       "</style>\n",
       "<table border=\"1\" class=\"dataframe\">\n",
       "  <thead>\n",
       "    <tr style=\"text-align: right;\">\n",
       "      <th></th>\n",
       "      <th>Ftotal</th>\n",
       "      <th>Falma</th>\n",
       "      <th>Fmax</th>\n",
       "      <th>error</th>\n",
       "      <th>ratio</th>\n",
       "    </tr>\n",
       "  </thead>\n",
       "  <tbody>\n",
       "    <tr>\n",
       "      <th>1</th>\n",
       "      <td>84.483264</td>\n",
       "      <td>0.0</td>\n",
       "      <td>3.215772</td>\n",
       "      <td>0.013416</td>\n",
       "      <td>0.038064</td>\n",
       "    </tr>\n",
       "    <tr>\n",
       "      <th>0</th>\n",
       "      <td>33.715278</td>\n",
       "      <td>0.0</td>\n",
       "      <td>1.523699</td>\n",
       "      <td>0.020545</td>\n",
       "      <td>0.045193</td>\n",
       "    </tr>\n",
       "    <tr>\n",
       "      <th>2</th>\n",
       "      <td>84.483264</td>\n",
       "      <td>0.0</td>\n",
       "      <td>4.248976</td>\n",
       "      <td>0.025646</td>\n",
       "      <td>0.050294</td>\n",
       "    </tr>\n",
       "    <tr>\n",
       "      <th>3</th>\n",
       "      <td>79.693733</td>\n",
       "      <td>0.0</td>\n",
       "      <td>4.199766</td>\n",
       "      <td>0.028051</td>\n",
       "      <td>0.052699</td>\n",
       "    </tr>\n",
       "    <tr>\n",
       "      <th>6</th>\n",
       "      <td>2.278523</td>\n",
       "      <td>0.0</td>\n",
       "      <td>0.272576</td>\n",
       "      <td>0.094980</td>\n",
       "      <td>0.119628</td>\n",
       "    </tr>\n",
       "    <tr>\n",
       "      <th>5</th>\n",
       "      <td>2.278523</td>\n",
       "      <td>0.0</td>\n",
       "      <td>0.272576</td>\n",
       "      <td>0.094980</td>\n",
       "      <td>0.119628</td>\n",
       "    </tr>\n",
       "    <tr>\n",
       "      <th>4</th>\n",
       "      <td>2.278523</td>\n",
       "      <td>0.0</td>\n",
       "      <td>0.619461</td>\n",
       "      <td>0.247222</td>\n",
       "      <td>0.271870</td>\n",
       "    </tr>\n",
       "  </tbody>\n",
       "</table>\n",
       "</div>"
      ],
      "text/plain": [
       "      Ftotal  Falma      Fmax     error     ratio\n",
       "1  84.483264    0.0  3.215772  0.013416  0.038064\n",
       "0  33.715278    0.0  1.523699  0.020545  0.045193\n",
       "2  84.483264    0.0  4.248976  0.025646  0.050294\n",
       "3  79.693733    0.0  4.199766  0.028051  0.052699\n",
       "6   2.278523    0.0  0.272576  0.094980  0.119628\n",
       "5   2.278523    0.0  0.272576  0.094980  0.119628\n",
       "4   2.278523    0.0  0.619461  0.247222  0.271870"
      ]
     },
     "execution_count": 20,
     "metadata": {},
     "output_type": "execute_result"
    }
   ],
   "source": [
    "df"
   ]
  },
  {
   "cell_type": "code",
   "execution_count": 21,
   "metadata": {},
   "outputs": [
    {
     "name": "stdout",
     "output_type": "stream",
     "text": [
      "ratio = inf\n"
     ]
    },
    {
     "name": "stderr",
     "output_type": "stream",
     "text": [
      "C:\\Users\\djoroya\\AppData\\Local\\Temp\\ipykernel_11736\\3485108412.py:2: RuntimeWarning: divide by zero encountered in scalar divide\n",
      "  ratio = Ftrenzado/Falma\n"
     ]
    }
   ],
   "source": [
    "# Ratio \n",
    "ratio = Ftrenzado/Falma\t\n",
    "\n",
    "print(f\"ratio = {ratio:.3f}\")"
   ]
  },
  {
   "cell_type": "code",
   "execution_count": null,
   "metadata": {},
   "outputs": [],
   "source": []
  },
  {
   "cell_type": "code",
   "execution_count": null,
   "metadata": {},
   "outputs": [],
   "source": []
  }
 ],
 "metadata": {
  "kernelspec": {
   "display_name": "Python 3",
   "language": "python",
   "name": "python3"
  },
  "language_info": {
   "codemirror_mode": {
    "name": "ipython",
    "version": 3
   },
   "file_extension": ".py",
   "mimetype": "text/x-python",
   "name": "python",
   "nbconvert_exporter": "python",
   "pygments_lexer": "ipython3",
   "version": "3.11.9"
  }
 },
 "nbformat": 4,
 "nbformat_minor": 2
}
