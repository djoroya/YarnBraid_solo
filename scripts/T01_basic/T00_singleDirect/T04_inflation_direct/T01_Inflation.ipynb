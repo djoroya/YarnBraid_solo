{
 "cells": [
  {
   "cell_type": "code",
   "execution_count": 1,
   "metadata": {},
   "outputs": [],
   "source": [
    "from tools.basic.path_gen  import path_gen\n",
    "from tools.step.pprint     import pprint\n",
    "\n",
    "from models.direct.InflationDirect.default                  import default\n",
    "from models.direct.InflationDirect.RunInflationDirect import RunInflationDirect\n",
    "import os,glob"
   ]
  },
  {
   "cell_type": "code",
   "execution_count": 2,
   "metadata": {},
   "outputs": [],
   "source": [
    "main_path = os.path.join(\"output\", path_gen())"
   ]
  },
  {
   "cell_type": "code",
   "execution_count": 3,
   "metadata": {},
   "outputs": [],
   "source": [
    "main_path = os.path.join(\"output\", path_gen())\n",
    "join = os.path.join\n",
    "gmsh_path = glob.glob(join(\"..\" , \"T03_gmsh_direct\", \"output\", \"*\"))"
   ]
  },
  {
   "cell_type": "code",
   "execution_count": 4,
   "metadata": {},
   "outputs": [],
   "source": [
    "main_path = [\"output\"]\n",
    "join = os.path.join\n",
    "gmsh_path = glob.glob(join(\"..\" , \"T03_gmsh_direct\", \"output\", \"*\"))\n",
    "gmsh_path = [ os.path.basename(i).replace(\".json\",\"\") for i in gmsh_path]"
   ]
  },
  {
   "cell_type": "code",
   "execution_count": 5,
   "metadata": {},
   "outputs": [
    {
     "data": {
      "text/plain": [
       "['2024-07-04__13-39-57__99172',\n",
       " '2024-07-04__13-55-16__98946',\n",
       " '2024-07-04__13-56-18__32422',\n",
       " '2024-07-04__13-58-15__28444',\n",
       " '2024-07-04__13-58-27__38990',\n",
       " '2024-07-04__14-07-29__59332',\n",
       " '2024-07-04__14-07-38__87836',\n",
       " '2024-07-04__14-10-12__46670',\n",
       " '2024-07-04__14-41-10__53793',\n",
       " '2024-07-06__07-47-50__97035',\n",
       " '2024-08-26__16-46-07__83538',\n",
       " '2024-08-26__16-49-15__47085',\n",
       " '2024-08-26__16-51-24__71104',\n",
       " '2024-08-26__16-53-21__50132',\n",
       " '2024-08-27__09-35-37__42410',\n",
       " '2024-08-27__09-40-40__35315',\n",
       " '2024-08-27__09-43-56__46018',\n",
       " '2024-08-27__09-44-23__22748',\n",
       " '2024-08-27__09-56-22__85863',\n",
       " '2024-08-27__10-02-08__90295',\n",
       " '2024-08-27__10-10-05__35605',\n",
       " '2024-08-27__11-48-46__30536',\n",
       " '2024-08-27__12-01-00__35359',\n",
       " '2024-08-27__13-53-16__16852',\n",
       " '2024-08-27__15-49-11__87005',\n",
       " '2024-08-27__16-03-27__97098',\n",
       " '2024-08-27__16-04-41__26195',\n",
       " '2024-08-27__17-04-17__92136',\n",
       " '2024-08-27__17-06-23__61702',\n",
       " '2024-08-27__17-16-05__63101',\n",
       " '2024-08-27__17-29-57__12001',\n",
       " '2024-08-27__17-31-14__42653',\n",
       " '2024-08-27__17-33-46__40828',\n",
       " '2024-08-27__17-41-17__68405',\n",
       " '2024-08-27__17-48-19__39671',\n",
       " '2024-08-27__18-05-24__56770',\n",
       " '2024-08-27__18-06-07__15515',\n",
       " '2024-08-27__18-09-04__45888',\n",
       " '2024-08-27__18-12-32__78750',\n",
       " '2024-08-27__18-17-28__21172',\n",
       " '2024-08-27__18-35-45__73813',\n",
       " '2024-08-27__18-38-50__50209',\n",
       " '2024-08-27__18-44-12__21907',\n",
       " '2024-08-27__18-52-10__34066',\n",
       " '2024-08-27__18-52-20__31098',\n",
       " '2024-08-27__19-04-09__20089',\n",
       " '2024-08-27__19-07-19__63798',\n",
       " '2024-08-28__09-12-00__94338',\n",
       " '2024-08-28__09-22-36__78207',\n",
       " '2024-08-28__09-23-57__38050',\n",
       " '2024-08-28__09-24-34__88439',\n",
       " '2024-08-28__09-33-05__75720',\n",
       " '2024-08-28__09-34-09__91736',\n",
       " '2024-08-28__09-35-06__22626',\n",
       " '2024-08-28__09-38-19__29199',\n",
       " '2024-08-28__09-39-36__47585',\n",
       " '2024-08-28__10-04-56__48808',\n",
       " '2024-08-28__11-24-39__25679',\n",
       " '2024-08-28__11-26-23__25257',\n",
       " '2024-08-28__11-27-49__41413',\n",
       " '2024-08-28__11-30-47__34510',\n",
       " '2024-08-28__11-51-10__25159',\n",
       " '2024-08-28__12-42-47__79974',\n",
       " '2024-08-28__12-51-04__73089',\n",
       " '2024-08-28__13-11-03__46901',\n",
       " '2024-08-28__13-29-25__30486',\n",
       " '2024-08-28__13-48-49__28761',\n",
       " '2024-08-28__14-31-10__35704',\n",
       " '2024-08-28__17-27-58__39620',\n",
       " '2024-08-28__17-30-01__39427',\n",
       " '2024-08-28__17-32-31__53918',\n",
       " '2024-08-28__17-33-18__91637',\n",
       " '2024-08-28__17-35-54__51004',\n",
       " '2024-08-28__17-36-43__86594',\n",
       " '2024-08-28__17-38-00__56165',\n",
       " '2024-08-28__17-40-53__86625',\n",
       " '2024-08-28__17-42-51__87632',\n",
       " '2024-08-28__17-45-54__30059',\n",
       " '2024-08-28__17-52-03__26548',\n",
       " '2024-08-28__17-54-45__47393',\n",
       " '2024-08-28__17-55-32__46614',\n",
       " '2024-08-28__17-56-18__76462',\n",
       " '2024-08-28__17-57-14__94497',\n",
       " '2024-08-28__17-57-39__98087',\n",
       " '2024-08-28__17-58-45__35923',\n",
       " '2024-08-28__18-01-11__78063',\n",
       " '2024-08-28__18-06-19__23127',\n",
       " '2024-08-28__18-09-09__59089',\n",
       " '2024-08-28__18-10-25__69508',\n",
       " '2024-08-28__19-10-33__31817',\n",
       " '2024-08-28__21-36-55__84802',\n",
       " '2024-08-29__09-16-01__62068',\n",
       " '2024-08-29__09-22-48__56870',\n",
       " '2024-08-29__09-41-40__93910',\n",
       " '2024-08-29__09-52-08__97854',\n",
       " '2024-08-29__10-11-17__95615',\n",
       " '2024-08-29__10-28-27__90429',\n",
       " '2024-08-29__10-36-02__76239',\n",
       " '2024-08-29__10-50-30__66301',\n",
       " '2024-08-29__11-02-43__76655',\n",
       " '2024-08-29__11-14-37__49643',\n",
       " '2024-08-29__11-27-40__48164',\n",
       " '2024-08-29__11-51-16__49037',\n",
       " '2024-08-29__12-01-04__16850',\n",
       " '2024-08-29__12-09-31__95126',\n",
       " '2024-08-29__12-19-42__31530',\n",
       " '2024-08-29__12-23-47__41735',\n",
       " '2024-08-29__12-26-00__14578',\n",
       " '2024-08-29__12-30-19__28484',\n",
       " '2024-08-29__12-30-40__88603',\n",
       " '2024-08-29__12-30-58__28212',\n",
       " '2024-08-29__12-33-36__71413',\n",
       " '2024-08-29__12-33-42__75252',\n",
       " '2024-08-29__12-34-15__10635',\n",
       " '2024-08-29__12-34-18__66425',\n",
       " '2024-08-29__12-34-21__91094',\n",
       " '2024-08-29__12-34-48__18449',\n",
       " '2024-08-29__12-36-21__62528',\n",
       " '2024-08-29__12-36-37__97560',\n",
       " '2024-08-29__12-37-59__31144',\n",
       " '2024-08-29__12-39-12__53479',\n",
       " '2024-08-29__12-39-59__68210',\n",
       " '2024-08-29__12-58-13__85086',\n",
       " '2024-08-29__12-59-05__57138',\n",
       " '2024-08-29__13-03-31__22453',\n",
       " '2024-08-29__13-03-54__66390']"
      ]
     },
     "execution_count": 5,
     "metadata": {},
     "output_type": "execute_result"
    }
   ],
   "source": [
    "gmsh_path"
   ]
  },
  {
   "attachments": {},
   "cell_type": "markdown",
   "metadata": {},
   "source": [
    "# Step 04. INFLATION"
   ]
  },
  {
   "cell_type": "code",
   "execution_count": 6,
   "metadata": {},
   "outputs": [
    {
     "name": "stdout",
     "output_type": "stream",
     "text": [
      "\u001b[34msettings_step       \u001b[39m: \n",
      "\t- has_children\n",
      "\t-has_parent\n",
      "\t-verbose\n",
      "\t-...\n",
      "\u001b[34mpressure            \u001b[39m: 800\n",
      "\u001b[34mOMP_NUM_THREADS     \u001b[39m: 5\n",
      "\u001b[34mattemps             \u001b[39m: 4\n",
      "\u001b[34msurface_behavior    \u001b[39m: \n",
      "\t- type\n",
      "\t-dist\n",
      "\t-pressure\n",
      "\t-...\n",
      "\u001b[34mradius_target       \u001b[39m: 10\n",
      "\u001b[34mrho                 \u001b[39m: 0.00097\n",
      "\u001b[34mcalculix_dynamic    \u001b[39m: False\n",
      "\u001b[34mmpi                 \u001b[39m: True\n",
      "\u001b[34mmpi_np              \u001b[39m: 5\n",
      "\u001b[34mnsteps              \u001b[39m: 2\n",
      "\u001b[34mnlgeom              \u001b[39m: True\n",
      "\u001b[34mgmsh_path           \u001b[39m: 2024-08-29__13-03-54__66390\n",
      "\u001b[34mauto_pressure       \u001b[39m: True\n"
     ]
    }
   ],
   "source": [
    "params_infl = default()\n",
    "\n",
    "params_infl[\"gmsh_path\"] = gmsh_path[-1]\n",
    "params_infl[\"auto_pressure\"] = True\n",
    "params_infl[\"pressure\"]  = 800 # Pa\n",
    "params_infl[\"OMP_NUM_THREADS\"]     = 5\n",
    "params_infl[\"mpi\"]       = True\n",
    "params_infl[\"mpi_np\"]    = 5\n",
    "params_infl[\"nsteps\"]    = 2\n",
    "pprint(params_infl)"
   ]
  },
  {
   "cell_type": "code",
   "execution_count": 7,
   "metadata": {},
   "outputs": [
    {
     "name": "stdout",
     "output_type": "stream",
     "text": [
      "\u001b[34mtype                \u001b[39m: hard\n",
      "\u001b[34mdist                \u001b[39m: 0.1\n",
      "\u001b[34mpressure            \u001b[39m: 1000\n"
     ]
    }
   ],
   "source": [
    "pprint(params_infl[\"surface_behavior\"])"
   ]
  },
  {
   "cell_type": "code",
   "execution_count": 8,
   "metadata": {},
   "outputs": [],
   "source": [
    "RunInflationDirect(params_infl,main_path)"
   ]
  },
  {
   "cell_type": "code",
   "execution_count": null,
   "metadata": {},
   "outputs": [
    {
     "name": "stdout",
     "output_type": "stream",
     "text": [
      "\u001b[34msettings_step       \u001b[39m: \n",
      "\t- has_children\n",
      "\t-has_parent\n",
      "\t-verbose\n",
      "\t-...\n",
      "\u001b[34mpressure            \u001b[39m: 522.3529411764707\n",
      "\u001b[34mOMP_NUM_THREADS     \u001b[39m: 3\n",
      "\u001b[34mattemps             \u001b[39m: 4\n",
      "\u001b[34msurface_behavior    \u001b[39m: \n",
      "\t- type\n",
      "\t-dist\n",
      "\t-pressure\n",
      "\t-...\n",
      "\u001b[34mradius_target       \u001b[39m: 10\n",
      "\u001b[34mrho                 \u001b[39m: 0.00097\n",
      "\u001b[34mmpi                 \u001b[39m: True\n",
      "\u001b[34mmpi_np              \u001b[39m: 3\n",
      "\u001b[34mnsteps              \u001b[39m: 2\n",
      "\u001b[34mnlgeom              \u001b[39m: True\n",
      "\u001b[34mgmsh_path           \u001b[39m: 2024-08-29__13-03-54__66390\n",
      "\u001b[34mauto_pressure       \u001b[39m: True\n",
      "\u001b[34mfunction            \u001b[39m: \n",
      "\t- name\n",
      "\t-file\n",
      "\t-...\n",
      "\u001b[34mmetadata            \u001b[39m: \n",
      "\t- elapsed\n",
      "\t-error\n",
      "\t-error_msg\n",
      "\t-init_time\n",
      "\t-final_time\n",
      "\t-...\n",
      "\u001b[34msimulation_path     \u001b[39m: 2024-08-29__13-05-57__90794\n",
      "\u001b[34mlammps_params       \u001b[39m: \n",
      "\t- settings_step\n",
      "\t-Npoints\n",
      "\t-hilo_central\n",
      "\t-theta\n",
      "\t-factor\n",
      "\t-Remesh\n",
      "\t-RUN_STEPS_EQ\n",
      "\t-RUN_STEPS_DEFORM\n",
      "\t-errate\n",
      "\t-nhilos\n",
      "\t-...\n",
      "\u001b[34mgmsh_params         \u001b[39m: \n",
      "\t- settings_step\n",
      "\t-factor_radius\n",
      "\t-factor_mesh_min\n",
      "\t-factor_mesh_max\n",
      "\t-debug\n",
      "\t-refine\n",
      "\t-lammps_path\n",
      "\t-factor_length\n",
      "\t-function\n",
      "\t-metadata\n",
      "\t-...\n",
      "\u001b[34mcontacts            \u001b[39m: np array with shape(1200, 2)\n",
      "\u001b[34mnsets               \u001b[39m: \n",
      "\t- ESQUELETO_1\n",
      "\t-P2_ESQUELETO_2\n",
      "\t-P3_ESQUELETO_3\n",
      "\t-P4_ESQUELETO_4\n",
      "\t-P5_ESQUELETO_5\n",
      "\t-P6_ESQUELETO_6\n",
      "\t-P7_ESQUELETO_7\n",
      "\t-P8_ESQUELETO_8\n",
      "\t-P9_ESQUELETO_9\n",
      "\t-P10_ESQUELETO_10\n",
      "\t-...\n",
      "\u001b[34mr_hebra             \u001b[39m: 0.135\n"
     ]
    }
   ],
   "source": [
    "pprint(params_infl)"
   ]
  },
  {
   "cell_type": "code",
   "execution_count": null,
   "metadata": {},
   "outputs": [
    {
     "data": {
      "text/plain": [
       "81.52173913043478"
      ]
     },
     "execution_count": 10,
     "metadata": {},
     "output_type": "execute_result"
    }
   ],
   "source": [
    "18000/(23*12*0.8)"
   ]
  },
  {
   "cell_type": "code",
   "execution_count": null,
   "metadata": {},
   "outputs": [
    {
     "data": {
      "text/plain": [
       "15120.0"
      ]
     },
     "execution_count": 11,
     "metadata": {},
     "output_type": "execute_result"
    }
   ],
   "source": [
    "150*12*23*0.8 - 18000"
   ]
  },
  {
   "cell_type": "code",
   "execution_count": null,
   "metadata": {},
   "outputs": [
    {
     "ename": "NameError",
     "evalue": "name 'err' is not defined",
     "output_type": "error",
     "traceback": [
      "\u001b[1;31m---------------------------------------------------------------------------\u001b[0m",
      "\u001b[1;31mNameError\u001b[0m                                 Traceback (most recent call last)",
      "Cell \u001b[1;32mIn[12], line 1\u001b[0m\n\u001b[1;32m----> 1\u001b[0m \u001b[43merr\u001b[49m\n",
      "\u001b[1;31mNameError\u001b[0m: name 'err' is not defined"
     ]
    }
   ],
   "source": [
    "err"
   ]
  },
  {
   "cell_type": "code",
   "execution_count": null,
   "metadata": {},
   "outputs": [],
   "source": [
    "import os\n",
    "from tools.step.rerun import rerun\n",
    "json_file = os.path.join(*(main_path + \\\n",
    "                           [params_infl[\"simulation_path\"]])) + \".json\""
   ]
  },
  {
   "cell_type": "code",
   "execution_count": null,
   "metadata": {},
   "outputs": [],
   "source": [
    "rerun(json_file,overwrite=True)"
   ]
  }
 ],
 "metadata": {
  "kernelspec": {
   "display_name": "Python 3",
   "language": "python",
   "name": "python3"
  },
  "language_info": {
   "codemirror_mode": {
    "name": "ipython",
    "version": 3
   },
   "file_extension": ".py",
   "mimetype": "text/x-python",
   "name": "python",
   "nbconvert_exporter": "python",
   "pygments_lexer": "ipython3",
   "version": "3.11.9"
  }
 },
 "nbformat": 4,
 "nbformat_minor": 2
}
