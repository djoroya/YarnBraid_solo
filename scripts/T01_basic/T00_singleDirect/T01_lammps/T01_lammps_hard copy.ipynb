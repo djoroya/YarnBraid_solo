{
 "cells": [
  {
   "cell_type": "code",
   "execution_count": 1,
   "metadata": {},
   "outputs": [],
   "source": [
    "from tools.basic.path_gen   import path_gen\n",
    "from tools.step.pprint     import pprint\n",
    "\n",
    "from models.direct.lammpshard.default          import default\n",
    "\n",
    "import os\n",
    "\n",
    "from models.direct.lammpsperiodic.RunLammps         import RunLammps\n"
   ]
  },
  {
   "cell_type": "code",
   "execution_count": 2,
   "metadata": {},
   "outputs": [],
   "source": [
    "main_path = [\"output\"]"
   ]
  },
  {
   "attachments": {},
   "cell_type": "markdown",
   "metadata": {},
   "source": [
    "# Step 01. LAMMPS"
   ]
  },
  {
   "cell_type": "code",
   "execution_count": 3,
   "metadata": {},
   "outputs": [],
   "source": [
    "# Initialize the parameters\n",
    "params_lmp = default()\n",
    "params_lmp[\"Npoints\"] = 20\n",
    "params_lmp[\"RUN_STEPS_DEFORM\"] = 40000\n",
    "params_lmp[\"RUN_STEPS_EQ\"]     = 1\n",
    "params_lmp[\"errate\"]  = 0\n",
    "params_lmp[\"nhilos\"]  = 4\n",
    "params_lmp[\"r_hilo\"] = 15\n",
    "params_lmp[\"h\"] =50\n",
    "params_lmp[\"r_hebra\"]        =  0.135\n",
    "params_lmp[\"r_hebra_offset\"] =  0.000\n",
    "\n",
    "params_lmp[\"dist_factor\"] = 0.2\n",
    "params_lmp[\"r0_factor\"] = 0.0005\n",
    "params_lmp[\"yukawa\"][\"A\"] = 30000\n",
    "params_lmp[\"yukawa\"][\"kappa\"] = 0.075\n",
    "params_lmp[\"hilo_central\"] = 10\n",
    "params_lmp[\"Remesh\"] = False\n",
    "params_lmp[\"V0_bond\"] = 40000 #38000\n",
    "params_lmp[\"remove_final\"] = False\n",
    "params_lmp[\"OMP_NUM_THREADS\"] = 4\n",
    "params_lmp[\"mpi\"] = True"
   ]
  },
  {
   "cell_type": "code",
   "execution_count": 4,
   "metadata": {},
   "outputs": [
    {
     "data": {
      "text/plain": [
       "False"
      ]
     },
     "execution_count": 4,
     "metadata": {},
     "output_type": "execute_result"
    }
   ],
   "source": [
    "params_lmp[\"remove_final\"]"
   ]
  },
  {
   "cell_type": "code",
   "execution_count": 5,
   "metadata": {},
   "outputs": [
    {
     "data": {
      "text/plain": [
       "4"
      ]
     },
     "execution_count": 5,
     "metadata": {},
     "output_type": "execute_result"
    }
   ],
   "source": [
    "params_lmp[\"factor\"]"
   ]
  },
  {
   "cell_type": "code",
   "execution_count": 6,
   "metadata": {},
   "outputs": [
    {
     "data": {
      "text/plain": [
       "79.03624876009066"
      ]
     },
     "execution_count": 6,
     "metadata": {},
     "output_type": "execute_result"
    }
   ],
   "source": [
    "import numpy as np \n",
    "\n",
    "np.arcsin(10*np.pi/32)*180/np.pi"
   ]
  },
  {
   "cell_type": "code",
   "execution_count": 7,
   "metadata": {},
   "outputs": [
    {
     "data": {
      "text/plain": [
       "{'A': 30000, 'kappa': 0.075, 'cutoff': None}"
      ]
     },
     "execution_count": 7,
     "metadata": {},
     "output_type": "execute_result"
    }
   ],
   "source": [
    "params_lmp[\"yukawa\"]"
   ]
  },
  {
   "cell_type": "code",
   "execution_count": 8,
   "metadata": {},
   "outputs": [
    {
     "name": "stdout",
     "output_type": "stream",
     "text": [
      "\u001b[34msettings_step       \u001b[39m: \n",
      "\t- has_children\n",
      "\t-has_parent\n",
      "\t-verbose\n",
      "\t-...\n",
      "\u001b[34mNpoints             \u001b[39m: 20\n",
      "\u001b[34mhilo_central        \u001b[39m: 10\n",
      "\u001b[34mtheta               \u001b[39m: 0.8901179185171081\n",
      "\u001b[34mfactor              \u001b[39m: 4\n",
      "\u001b[34mRemesh              \u001b[39m: False\n",
      "\u001b[34mRUN_STEPS_EQ        \u001b[39m: 1\n",
      "\u001b[34mRUN_STEPS_DEFORM    \u001b[39m: 40000\n",
      "\u001b[34merrate              \u001b[39m: 0\n",
      "\u001b[34mnhilos              \u001b[39m: 4\n",
      "\u001b[34mdist_factor         \u001b[39m: 0.2\n",
      "\u001b[34mr0_factor           \u001b[39m: 0.0005\n",
      "\u001b[34mV0_bond             \u001b[39m: 40000\n",
      "\u001b[34mr_hebra             \u001b[39m: 0.135\n",
      "\u001b[34mr_hebra_offset      \u001b[39m: 0.0\n",
      "\u001b[34mexternal_hilos      \u001b[39m: False\n",
      "\u001b[34mrecompute_dist      \u001b[39m: False\n",
      "\u001b[34mrecompute_factor    \u001b[39m: 1\n",
      "\u001b[34mNpoints_density     \u001b[39m: None\n",
      "\u001b[34mremove_final        \u001b[39m: False\n",
      "\u001b[34mth_hebra            \u001b[39m: 0.0\n",
      "\u001b[34myukawa              \u001b[39m: \n",
      "\t- A\n",
      "\t-kappa\n",
      "\t-cutoff\n",
      "\t-...\n",
      "\u001b[34mOMP_NUM_THREADS     \u001b[39m: 4\n",
      "\u001b[34mmpi                 \u001b[39m: True\n",
      "\u001b[34mmpi_np              \u001b[39m: 4\n",
      "\u001b[34mr_hilo              \u001b[39m: 15\n",
      "\u001b[34mh                   \u001b[39m: 50\n"
     ]
    }
   ],
   "source": [
    "pprint(params_lmp)"
   ]
  },
  {
   "cell_type": "code",
   "execution_count": 9,
   "metadata": {},
   "outputs": [
    {
     "name": "stdout",
     "output_type": "stream",
     "text": [
      "[[1, 5], [5, 9], [9, 13], [13, 17], [17, 21], [21, 25], [25, 29], [29, 1], [2, 6], [6, 10], [10, 14], [14, 18], [18, 22], [22, 26], [26, 30], [30, 2], [3, 7], [7, 11], [11, 15], [15, 19], [19, 23], [23, 27], [27, 31], [31, 3], [4, 8], [8, 12], [12, 16], [16, 20], [20, 24], [24, 28], [28, 32], [32, 4], [33, 37], [37, 41], [41, 45], [45, 49], [49, 53], [53, 57], [57, 61], [61, 33], [34, 38], [38, 42], [42, 46], [46, 50], [50, 54], [54, 58], [58, 62], [62, 34], [35, 39], [39, 43], [43, 47], [47, 51], [51, 55], [55, 59], [59, 63], [63, 35], [36, 40], [40, 44], [44, 48], [48, 52], [52, 56], [56, 60], [60, 64], [64, 36]]\n"
     ]
    }
   ],
   "source": [
    "all_bonds = []\n",
    "for i in [1,2,3,4,33,34,35,36]:\n",
    "    bonds = [ i + 4*j for j in range(8)]\n",
    "\n",
    "    pairs = [ [bonds[j], bonds[j+1]] for j in range(7)]\n",
    "    pairs.append([bonds[7], bonds[0]])\n",
    "    all_bonds += pairs\n",
    "print(all_bonds)"
   ]
  },
  {
   "cell_type": "code",
   "execution_count": 10,
   "metadata": {},
   "outputs": [
    {
     "name": "stdout",
     "output_type": "stream",
     "text": [
      "mpiexec -n 4 \"C:\\Users\\djoroya\\AppData\\Local\\LAMMPS 64-bit 2Aug2023-MSMPI\\bin\\lmp.exe\" -in in.lammps > out.lammps\n",
      "Output file: c:\\Users\\djoroya\\Documents\\GitHub\\YarnBraid-solo\\simulations\\2024-09-17__15-11-24__67827\\out.lammps\n"
     ]
    }
   ],
   "source": [
    "RunLammps(params_lmp,main_path)"
   ]
  }
 ],
 "metadata": {
  "kernelspec": {
   "display_name": "Python 3",
   "language": "python",
   "name": "python3"
  },
  "language_info": {
   "codemirror_mode": {
    "name": "ipython",
    "version": 3
   },
   "file_extension": ".py",
   "mimetype": "text/x-python",
   "name": "python",
   "nbconvert_exporter": "python",
   "pygments_lexer": "ipython3",
   "version": "3.11.9"
  }
 },
 "nbformat": 4,
 "nbformat_minor": 2
}
