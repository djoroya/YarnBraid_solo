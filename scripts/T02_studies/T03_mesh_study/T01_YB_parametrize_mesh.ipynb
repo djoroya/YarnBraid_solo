{
 "cells": [
  {
   "cell_type": "code",
   "execution_count": 1,
   "metadata": {},
   "outputs": [],
   "source": [
    "from tools.basic.loadsavejson import loadjson\n",
    "import time\n",
    "from datetime import datetime"
   ]
  },
  {
   "cell_type": "code",
   "execution_count": 2,
   "metadata": {},
   "outputs": [],
   "source": [
    "# path = \"/home/djoroya/projects/DIMAT/01_TECNORED_BRAID_v2/github/notebooks/C02_YarnBraid/parametrize/output/2023-11-29__13-33-20__83711/vars.json\"\n",
    "# ntotal = 7 # hours\n",
    "# mins = 10 \n",
    "# niter = int(ntotal*60/mins)\n",
    "# for i in range(niter):\n",
    "#     vars_params = loadjson(path)\n",
    "#     n = len(vars_params[\"paths\"])\n",
    "#     if n == 16:\n",
    "#         break\n",
    "#     else:\n",
    "#         print(\"The number of paths is: \", n)\n",
    "#         print(\"When the number of paths is 16 the simulation has finished\\n\")\n",
    "#         # time\n",
    "#         now = datetime.now()\n",
    "#         current_time = now.strftime(\"%H:%M:%S\")\n",
    "#         print(\"Current Time =\", current_time)\n",
    "#     time.sleep(mins*60)\n",
    "\n",
    "# time.sleep(30*60)\n",
    "\n",
    "# if n == 16:\n",
    "#     print(\"The number of paths is: \", n)\n",
    "#     print(\"The simulation has finished\")\n",
    "# else:\n",
    "#     raise Exception(\"The simulation has not finished\")\n",
    "\n"
   ]
  },
  {
   "cell_type": "code",
   "execution_count": 3,
   "metadata": {},
   "outputs": [],
   "source": [
    "# path = \"/home/djoroya/projects/DIMAT/01_TECNORED_BRAID_v2/github/notebooks/C02_YarnBraid/parametrize/output/2023-11-29__13-33-20__83711/vars.json\"\n",
    "# ntotal = 8 # hours\n",
    "# mins = 10 \n",
    "# niter = ntotal*60/mins\n",
    "# niter/6"
   ]
  },
  {
   "cell_type": "code",
   "execution_count": 4,
   "metadata": {},
   "outputs": [],
   "source": [
    "from tools.step.pprint import pprint\n",
    "from tools.basic.path_gen import path_gen\n",
    "from tools.parametrize.parametrize import parametrize\n",
    "\n",
    "import os\n",
    "import numpy as np\n",
    "\n",
    "from model.RunYB   import RunYB\n",
    "from model.default import default"
   ]
  },
  {
   "cell_type": "code",
   "execution_count": 5,
   "metadata": {},
   "outputs": [],
   "source": [
    "# Creamos la carpeta de salida\n",
    "main_path = os.path.join(\"output/\",path_gen())\n",
    "if not os.path.exists(main_path):\n",
    "    os.makedirs(main_path)"
   ]
  },
  {
   "cell_type": "code",
   "execution_count": 6,
   "metadata": {},
   "outputs": [],
   "source": [
    "r = default()"
   ]
  },
  {
   "attachments": {},
   "cell_type": "markdown",
   "metadata": {},
   "source": [
    "# Valores Constantes"
   ]
  },
  {
   "cell_type": "code",
   "execution_count": 7,
   "metadata": {},
   "outputs": [],
   "source": [
    "def default_values():\n",
    "    r = default() # Valores por defecto\n",
    "    # Modificamos los valores que queremos\n",
    "    r[\"lammps\"][\"RUN_STEPS_DEFORM\"] = 9000\n",
    "    r[\"lammps\"][\"RUN_STEPS_EQ\"] = 1\n",
    "    r[\"lammps\"][\"errate\"] = 5e-3\n",
    "    r[\"lammps\"][\"nhilos\"] = 4\n",
    "    r[\"lammps\"][\"r_hilo\"] = 15\n",
    "    r[\"lammps\"][\"yukawa\"][\"A\"] = 2000\n",
    "    r[\"lammps\"][\"hilo_central\"] = 4\n",
    "    r[\"lammps\"][\"Npoints\"] = 250\n",
    "\n",
    "\n",
    "    r[\"lsdyna\"][\"npoints\"] = 150\n",
    "    r[\"lsdyna\"][\"radius\"] = None\n",
    "    r[\"lsdyna\"][\"align\"] = False\n",
    "\n",
    "    r[\"gmsh\"] [\"size_element\"] = 1.5\n",
    "    r[\"gmsh\"][\"Algorithm\"] = 2\n",
    "\n",
    "    r[\"inflation\"][\"pressure\"]  = 1200\n",
    "\n",
    "    r[\"simulation\"][\"displacement\"] = 0.00005 #  mm\n",
    "    r[\"simulation\"][\"type_bc\"] = 2\n",
    "    r[\"simulation\"][\"young\"] = 2960 # MPa\n",
    "    r[\"simulation\"][\"poisson\"] = 0.37\n",
    "    r[\"simulation\"][\"ncpu\"] = 16\n",
    "    r[\"simulation\"][\"radius\"] = 4\n",
    "\n",
    "    return r"
   ]
  },
  {
   "cell_type": "code",
   "execution_count": 8,
   "metadata": {},
   "outputs": [],
   "source": [
    "r = default_values()"
   ]
  },
  {
   "cell_type": "code",
   "execution_count": 9,
   "metadata": {},
   "outputs": [
    {
     "data": {
      "text/plain": [
       "{'type': 'hard', 'dist': 0.1, 'pressure': 1000}"
      ]
     },
     "execution_count": 9,
     "metadata": {},
     "output_type": "execute_result"
    }
   ],
   "source": [
    "r[\"inflation\"][\"surface_behavior\"]"
   ]
  },
  {
   "attachments": {},
   "cell_type": "markdown",
   "metadata": {},
   "source": [
    "# Variables"
   ]
  },
  {
   "cell_type": "code",
   "execution_count": 10,
   "metadata": {},
   "outputs": [],
   "source": [
    "vars = dict()\n",
    "\n",
    "\n",
    "vars[\"size_element\"] =  {\"span\"    :   np.linspace(0.8 , 1.6 ,10),\n",
    "              \"path\"  :  [\"gmsh\",\"size_element\"]  }\n"
   ]
  },
  {
   "attachments": {},
   "cell_type": "markdown",
   "metadata": {},
   "source": [
    "# Loop over all the variables"
   ]
  },
  {
   "cell_type": "code",
   "execution_count": 11,
   "metadata": {},
   "outputs": [
    {
     "name": "stdout",
     "output_type": "stream",
     "text": [
      "output/2023-12-01__11-40-52__47476\n"
     ]
    }
   ],
   "source": [
    "print(main_path)"
   ]
  },
  {
   "cell_type": "code",
   "execution_count": 12,
   "metadata": {},
   "outputs": [
    {
     "data": {
      "text/html": [
       "<h3>Parametrization (9/10)    [<span style='color: green'>2023-Dec-01   |  11:40</span>] - [<span style='color:green'>2023-Dec-01   |  11:42</span>]  </h3><h4>Elapsed time: 103.15 s</h4><h4>Estimated end: 2023-Dec-01   |  11:44</h4><table border=\"1\" class=\"dataframe\">\n",
       "  <thead>\n",
       "    <tr style=\"text-align: right;\">\n",
       "      <th style=\"border: 1px solid black;\">ID</th>\n",
       "      <th style=\"border: 1px solid black;\">name</th>\n",
       "      <th style=\"border: 1px solid black;\">Status</th>\n",
       "      <th style=\"border: 1px solid black;\">size_element</th>\n",
       "      <th style=\"border: 1px solid black;\">Loading</th>\n",
       "      <th style=\"border: 1px solid black;\">Date</th>\n",
       "      <th style=\"border: 1px solid black;\">time</th>\n",
       "    </tr>\n",
       "  </thead>\n",
       "  <tbody>\n",
       "    <tr>\n",
       "      <td style=\"border: 1px solid black;\">1</td>\n",
       "      <td style=\"border: 1px solid black;\">Exp-1</td>\n",
       "      <td style=\"border: 1px solid black;\">❌</td>\n",
       "      <td style=\"border: 1px solid black;\">8.00e-01</td>\n",
       "      <td style=\"border: 1px solid black;\"><div style='text-align: left;'><font color=\"green\">(1/5) </font>▉       </div></td>\n",
       "      <td style=\"border: 1px solid black;\">2023-Dec-01   |  11:41</td>\n",
       "      <td style=\"border: 1px solid black;\">11.62</td>\n",
       "    </tr>\n",
       "    <tr>\n",
       "      <td style=\"border: 1px solid black;\">2</td>\n",
       "      <td style=\"border: 1px solid black;\">Exp-2</td>\n",
       "      <td style=\"border: 1px solid black;\">❌</td>\n",
       "      <td style=\"border: 1px solid black;\">8.89e-01</td>\n",
       "      <td style=\"border: 1px solid black;\"><div style='text-align: left;'><font color=\"green\">(1/5) </font>▉       </div></td>\n",
       "      <td style=\"border: 1px solid black;\">2023-Dec-01   |  11:41</td>\n",
       "      <td style=\"border: 1px solid black;\">11.48</td>\n",
       "    </tr>\n",
       "    <tr>\n",
       "      <td style=\"border: 1px solid black;\">3</td>\n",
       "      <td style=\"border: 1px solid black;\">Exp-3</td>\n",
       "      <td style=\"border: 1px solid black;\">❌</td>\n",
       "      <td style=\"border: 1px solid black;\">9.78e-01</td>\n",
       "      <td style=\"border: 1px solid black;\"><div style='text-align: left;'><font color=\"green\">(1/5) </font>▉       </div></td>\n",
       "      <td style=\"border: 1px solid black;\">2023-Dec-01   |  11:41</td>\n",
       "      <td style=\"border: 1px solid black;\">11.43</td>\n",
       "    </tr>\n",
       "    <tr>\n",
       "      <td style=\"border: 1px solid black;\">4</td>\n",
       "      <td style=\"border: 1px solid black;\">Exp-4</td>\n",
       "      <td style=\"border: 1px solid black;\">❌</td>\n",
       "      <td style=\"border: 1px solid black;\">1.07e+00</td>\n",
       "      <td style=\"border: 1px solid black;\"><div style='text-align: left;'><font color=\"green\">(1/5) </font>▉       </div></td>\n",
       "      <td style=\"border: 1px solid black;\">2023-Dec-01   |  11:41</td>\n",
       "      <td style=\"border: 1px solid black;\">11.40</td>\n",
       "    </tr>\n",
       "    <tr>\n",
       "      <td style=\"border: 1px solid black;\">5</td>\n",
       "      <td style=\"border: 1px solid black;\">Exp-5</td>\n",
       "      <td style=\"border: 1px solid black;\">❌</td>\n",
       "      <td style=\"border: 1px solid black;\">1.16e+00</td>\n",
       "      <td style=\"border: 1px solid black;\"><div style='text-align: left;'><font color=\"green\">(1/5) </font>▉       </div></td>\n",
       "      <td style=\"border: 1px solid black;\">2023-Dec-01   |  11:41</td>\n",
       "      <td style=\"border: 1px solid black;\">11.55</td>\n",
       "    </tr>\n",
       "    <tr>\n",
       "      <td style=\"border: 1px solid black;\">6</td>\n",
       "      <td style=\"border: 1px solid black;\">Exp-6</td>\n",
       "      <td style=\"border: 1px solid black;\">❌</td>\n",
       "      <td style=\"border: 1px solid black;\">1.24e+00</td>\n",
       "      <td style=\"border: 1px solid black;\"><div style='text-align: left;'><font color=\"green\">(1/5) </font>▉       </div></td>\n",
       "      <td style=\"border: 1px solid black;\">2023-Dec-01   |  11:42</td>\n",
       "      <td style=\"border: 1px solid black;\">11.42</td>\n",
       "    </tr>\n",
       "    <tr>\n",
       "      <td style=\"border: 1px solid black;\">7</td>\n",
       "      <td style=\"border: 1px solid black;\">Exp-7</td>\n",
       "      <td style=\"border: 1px solid black;\">❌</td>\n",
       "      <td style=\"border: 1px solid black;\">1.33e+00</td>\n",
       "      <td style=\"border: 1px solid black;\"><div style='text-align: left;'><font color=\"green\">(1/5) </font>▉       </div></td>\n",
       "      <td style=\"border: 1px solid black;\">2023-Dec-01   |  11:42</td>\n",
       "      <td style=\"border: 1px solid black;\">11.39</td>\n",
       "    </tr>\n",
       "    <tr>\n",
       "      <td style=\"border: 1px solid black;\">8</td>\n",
       "      <td style=\"border: 1px solid black;\">Exp-8</td>\n",
       "      <td style=\"border: 1px solid black;\">❌</td>\n",
       "      <td style=\"border: 1px solid black;\">1.42e+00</td>\n",
       "      <td style=\"border: 1px solid black;\"><div style='text-align: left;'><font color=\"green\">(1/5) </font>▉       </div></td>\n",
       "      <td style=\"border: 1px solid black;\">2023-Dec-01   |  11:42</td>\n",
       "      <td style=\"border: 1px solid black;\">11.37</td>\n",
       "    </tr>\n",
       "    <tr>\n",
       "      <td style=\"border: 1px solid black;\">9</td>\n",
       "      <td style=\"border: 1px solid black;\">Exp-9</td>\n",
       "      <td style=\"border: 1px solid black;\">❌</td>\n",
       "      <td style=\"border: 1px solid black;\">1.51e+00</td>\n",
       "      <td style=\"border: 1px solid black;\"><div style='text-align: left;'><font color=\"green\">(1/5) </font>▉       </div></td>\n",
       "      <td style=\"border: 1px solid black;\">2023-Dec-01   |  11:42</td>\n",
       "      <td style=\"border: 1px solid black;\">11.49</td>\n",
       "    </tr>\n",
       "    <tr>\n",
       "      <td style=\"border: 1px solid black;\">10</td>\n",
       "      <td style=\"border: 1px solid black;\">Exp-10</td>\n",
       "      <td style=\"border: 1px solid black;\">❌</td>\n",
       "      <td style=\"border: 1px solid black;\">1.60e+00</td>\n",
       "      <td style=\"border: 1px solid black;\"><div style='text-align: left;'><font color=\"green\">(1/5) </font>▉       </div></td>\n",
       "      <td style=\"border: 1px solid black;\">2023-Dec-01   |  11:42</td>\n",
       "      <td style=\"border: 1px solid black;\">11.55</td>\n",
       "    </tr>\n",
       "  </tbody>\n",
       "</table>"
      ],
      "text/plain": [
       "<IPython.core.display.HTML object>"
      ]
     },
     "metadata": {},
     "output_type": "display_data"
    }
   ],
   "source": [
    "parametrize( main_path = main_path,  # path to save the output\n",
    "             Run       = RunYB,      # function to run\n",
    "             vars      = vars,       # variables to parametrize\n",
    "             default   = default_values)    # default values"
   ]
  }
 ],
 "metadata": {
  "kernelspec": {
   "display_name": "TECNORED",
   "language": "python",
   "name": "python3"
  },
  "language_info": {
   "codemirror_mode": {
    "name": "ipython",
    "version": 3
   },
   "file_extension": ".py",
   "mimetype": "text/x-python",
   "name": "python",
   "nbconvert_exporter": "python",
   "pygments_lexer": "ipython3",
   "version": "3.12.0"
  }
 },
 "nbformat": 4,
 "nbformat_minor": 2
}
