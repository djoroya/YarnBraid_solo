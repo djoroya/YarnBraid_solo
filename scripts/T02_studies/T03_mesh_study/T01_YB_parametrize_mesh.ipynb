{
 "cells": [
  {
   "cell_type": "code",
   "execution_count": null,
   "metadata": {},
   "outputs": [],
   "source": []
  },
  {
   "cell_type": "code",
   "execution_count": null,
   "metadata": {},
   "outputs": [],
   "source": [
    "from tools.basic.path_gen import path_gen\n",
    "from tools.parametrize.parametrize import parametrize\n",
    "from model.RunYB import RunYB\n",
    "import os\n",
    "import numpy as np\n",
    "\n",
    "from model.default import default"
   ]
  },
  {
   "cell_type": "code",
   "execution_count": null,
   "metadata": {},
   "outputs": [],
   "source": [
    "from params.PLMP_0001 import PLMP_0001"
   ]
  },
  {
   "attachments": {},
   "cell_type": "markdown",
   "metadata": {},
   "source": [
    "# Valores Constantes"
   ]
  },
  {
   "cell_type": "code",
   "execution_count": null,
   "metadata": {},
   "outputs": [],
   "source": [
    "OMP_NUM_THREADS = 4\n",
    "mpi_np = 6\n",
    "def default_values():\n",
    "    r = default() # Valores por defecto\n",
    "    # Modificamos los valores que queremos\n",
    "    r[\"lammps_sim\"] = PLMP_0001()\n",
    "    r[\"lammps_sim\"][\"OMP_NUM_THREADS\"] = OMP_NUM_THREADS\n",
    "    r[\"lammps_sim\"][\"mpi\"] = True\n",
    "    r[\"lammps_sim\"][\"mpi_np\"] = mpi_np\n",
    "    # =================================================\n",
    "    r[\"lsdyna_sim\"][\"factor_npoints\"] = 0.35\n",
    "    r[\"lsdyna_sim\"][\"factor\"] = 0.8\n",
    "    r[\"lsdyna_sim\"][\"hmax\"] = 1.8\n",
    "    # =================================================\n",
    "\n",
    "    r[\"gmsh\"][\"Algorithm\"] = 2\n",
    "    r[\"gmsh\"][\"factor\"] = 1.2 # ====================>> 0.6\n",
    "\n",
    "    # =================================================\n",
    "    r[\"inflation\"][\"pressure\"]  = 600\n",
    "    r[\"inflation\"][\"OMP_NUM_THREADS\"] = OMP_NUM_THREADS\n",
    "    r[\"inflation\"][\"mpi\"]    = True\n",
    "    r[\"inflation\"][\"mpi_np\"]  = mpi_np\n",
    "\n",
    "    # =================================================\n",
    "    r[\"simulation\"][\"displacement\"] = 0.05 #  mm\n",
    "    r[\"simulation\"][\"type_bc\"] = 1\n",
    "    r[\"simulation\"][\"young\"] = 2960 # MPa\n",
    "    r[\"simulation\"][\"poisson\"] = 0.37\n",
    "    r[\"simulation\"][\"OMP_NUM_THREADS\"] = OMP_NUM_THREADS\n",
    "    r[\"simulation\"][\"mpi\"] = True\n",
    "    r[\"simulation\"][\"mpi_np\"] = mpi_np\n",
    "\n",
    "    r[\"post\"][\"max_mono\"] = 142 # MPa\n",
    "    return r"
   ]
  },
  {
   "cell_type": "code",
   "execution_count": null,
   "metadata": {},
   "outputs": [],
   "source": [
    "r = default_values()"
   ]
  },
  {
   "attachments": {},
   "cell_type": "markdown",
   "metadata": {},
   "source": [
    "# Variables"
   ]
  },
  {
   "cell_type": "code",
   "execution_count": null,
   "metadata": {},
   "outputs": [],
   "source": [
    "vars = dict()\n",
    "\n",
    "\n",
    "vars[\"size_element\"] =  {\"span\"    :   np.linspace(0.8 , 1.6 ,10),\n",
    "              \"path\"  :  [\"gmsh\",\"size_element\"]  }\n"
   ]
  },
  {
   "attachments": {},
   "cell_type": "markdown",
   "metadata": {},
   "source": [
    "# Loop over all the variables"
   ]
  },
  {
   "cell_type": "code",
   "execution_count": null,
   "metadata": {},
   "outputs": [],
   "source": [
    "main_path = [\"output\"]"
   ]
  },
  {
   "cell_type": "code",
   "execution_count": null,
   "metadata": {},
   "outputs": [],
   "source": [
    "from tools.parametrize.default import default as df_parametrize"
   ]
  },
  {
   "cell_type": "code",
   "execution_count": null,
   "metadata": {},
   "outputs": [],
   "source": [
    "params = df_parametrize()\n",
    "params[\"vars\"]    = vars\n",
    "params[\"module\"]  = \"model.RunYB\"\n",
    "params[\"function_module\"] = \"RunYB\"\n",
    "params[\"default\"] = r\n",
    "\n",
    "parametrize(params, main_path)"
   ]
  }
 ],
 "metadata": {
  "kernelspec": {
   "display_name": "TECNORED",
   "language": "python",
   "name": "python3"
  },
  "language_info": {
   "codemirror_mode": {
    "name": "ipython",
    "version": 3
   },
   "file_extension": ".py",
   "mimetype": "text/x-python",
   "name": "python",
   "nbconvert_exporter": "python",
   "pygments_lexer": "ipython3",
   "version": "3.11.9"
  }
 },
 "nbformat": 4,
 "nbformat_minor": 2
}
