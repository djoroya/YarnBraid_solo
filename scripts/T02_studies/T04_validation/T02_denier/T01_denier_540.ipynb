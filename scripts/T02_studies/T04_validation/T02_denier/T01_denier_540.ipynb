{
 "cells": [
  {
   "cell_type": "code",
   "execution_count": 1,
   "metadata": {},
   "outputs": [],
   "source": [
    "from functions.setup_model import setup_model\n",
    "from model.default  import default\n",
    "from tools.basic.path_gen   import path_gen\n",
    "from tools.parametrize.parametrize import parametrize\n",
    "\n",
    "from tools.step.pprint      import pprint\n",
    "import os\n",
    "import numpy as np"
   ]
  },
  {
   "cell_type": "code",
   "execution_count": 2,
   "metadata": {},
   "outputs": [],
   "source": [
    "from tools.basic.loadsavejson import loadjson"
   ]
  },
  {
   "cell_type": "code",
   "execution_count": 3,
   "metadata": {},
   "outputs": [],
   "source": [
    "def default_values():\n",
    "\n",
    "    #params = loadjson(\"params/T001.json\")\n",
    "    params = default()\n",
    "    params_lmp = params[\"lammps\"]\n",
    "    params_lmp[\"Npoints\"] = 250\n",
    "    params_lmp[\"RUN_STEPS_DEFORM\"] = 5000\n",
    "    params_lmp[\"RUN_STEPS_EQ\"]     = 1\n",
    "    params_lmp[\"errate\"]  = 0\n",
    "    params_lmp[\"nhilos\"]  = 4\n",
    "    params_lmp[\"r_hilo\"] = 15\n",
    "    params_lmp[\"h\"] =50\n",
    "    params_lmp[\"dist_factor\"] = 0.8\n",
    "    params_lmp[\"r0_factor\"] = 0.0005\n",
    "    params_lmp[\"yukawa\"][\"A\"] = 1000\n",
    "    params_lmp[\"hilo_central\"] = 0\n",
    "    params_lmp[\"Remesh\"] = False\n",
    "    params_lmp[\"V0_bond\"] = 38000\n",
    "    params_lmp[\"OMP_NUM_THREADS\"] = 4\n",
    "    params_lmp[\"mpi\"] = True\n",
    "\n",
    "    params[\"inflation\"][\"pressure\"] = 1200\n",
    "    params[\"gmsh\"][\"factor\"] = 0.8\n",
    "    params[\"lsdyna\"][\"factor_npoints\"] = 0.5 # 0.5\n",
    "    params[\"lsdyna\"][\"hmax\"] = 7\n",
    "\n",
    "\n",
    "    params[\"inflation\"][\"ncpus\"] = 4\n",
    "    params[\"inflation\"][\"calculix_dynamic\"] = True\n",
    "    params[\"inflation\"][\"OMP_NUM_THREADS\"] = 4\n",
    "    params[\"inflation\"][\"mpi\"] = True\n",
    "    params[\"inflation\"][\"mpi_np\"] = 4\n",
    "    params[\"inflation\"][\"nsteps\"] = 6\n",
    "\n",
    "    params[\"simulation\"][\"OMP_NUM_THREADS\"] = 4\n",
    "    params[\"simulation\"][\"mpi\"] = True\n",
    "    params[\"simulation\"][\"mpi_np\"] = 4\n",
    "\n",
    "    return params"
   ]
  },
  {
   "cell_type": "code",
   "execution_count": 4,
   "metadata": {},
   "outputs": [],
   "source": [
    "params = default_values()\n"
   ]
  },
  {
   "cell_type": "code",
   "execution_count": 5,
   "metadata": {},
   "outputs": [
    {
     "data": {
      "text/plain": [
       "{'elapsed': 0,\n",
       " 'error': 1,\n",
       " 'error_msg': 'No execution',\n",
       " 'verbose': True,\n",
       " 'pressure': 1200,\n",
       " 'OMP_NUM_THREADS': 4,\n",
       " 'attemps': 4,\n",
       " 'surface_behavior': {'type': 'hard', 'dist': 0.1, 'pressure': 1000},\n",
       " 'radius_target': 10,\n",
       " 'rho': 0.00097,\n",
       " 'calculix_dynamic': True,\n",
       " 'mpi': True,\n",
       " 'mpi_np': 4,\n",
       " 'nsteps': 6,\n",
       " 'ncpus': 4}"
      ]
     },
     "execution_count": 5,
     "metadata": {},
     "output_type": "execute_result"
    }
   ],
   "source": [
    "params[\"inflation\"]"
   ]
  },
  {
   "cell_type": "code",
   "execution_count": 6,
   "metadata": {},
   "outputs": [],
   "source": [
    "main_path = os.path.join(\"output\", path_gen())\n",
    "\n",
    "# Creamos la carpeta de salida\n",
    "if not os.path.exists(main_path):\n",
    "    os.makedirs(main_path)"
   ]
  },
  {
   "cell_type": "code",
   "execution_count": 7,
   "metadata": {},
   "outputs": [],
   "source": [
    "vars = dict()\n",
    "theta_span = np.linspace(60, 70, 3)*np.pi/180\n",
    "#theta_span = [theta_span[-1]]\n",
    "vars[\"h\"] =  {\"span\"  :  theta_span,\n",
    "              \"path\"  :  [\"lammps\", \"theta\"]}\n"
   ]
  },
  {
   "cell_type": "code",
   "execution_count": 8,
   "metadata": {},
   "outputs": [
    {
     "data": {
      "text/html": [
       "<h3>Parametrization (0/3)    [<span style='color: green'>2024-Jul-03   |  12:44</span>] - [<span style='color:green'>2024-Jul-03   |  12:45</span>]  </h3><h4>Elapsed time: 0 s</h4><h4>Estimated end: 2024-Jul-03   |  12:45</h4><table border=\"1\" class=\"dataframe\">\n",
       "  <thead>\n",
       "    <tr style=\"text-align: right;\">\n",
       "      <th style=\"border: 1px solid black;\">ID</th>\n",
       "      <th style=\"border: 1px solid black;\">name</th>\n",
       "      <th style=\"border: 1px solid black;\">Status</th>\n",
       "      <th style=\"border: 1px solid black;\">h</th>\n",
       "      <th style=\"border: 1px solid black;\">Loading</th>\n",
       "      <th style=\"border: 1px solid black;\">Date</th>\n",
       "      <th style=\"border: 1px solid black;\">time</th>\n",
       "    </tr>\n",
       "  </thead>\n",
       "  <tbody>\n",
       "    <tr>\n",
       "      <td style=\"border: 1px solid black;\">1</td>\n",
       "      <td style=\"border: 1px solid black;\">Exp-1</td>\n",
       "      <td style=\"border: 1px solid black;\">❌</td>\n",
       "      <td style=\"border: 1px solid black;\">1.05e+00</td>\n",
       "      <td style=\"border: 1px solid black;\"><div style='text-align: left;'><font color=\"green\">(2/4) </font>▉▉▉▉    </div></td>\n",
       "      <td style=\"border: 1px solid black;\">2024-Jul-03   |  12:45</td>\n",
       "      <td style=\"border: 1px solid black;\">100.86</td>\n",
       "    </tr>\n",
       "    <tr>\n",
       "      <td style=\"border: 1px solid black;\">2</td>\n",
       "      <td style=\"border: 1px solid black;\">Exp-2</td>\n",
       "      <td style=\"border: 1px solid black;\">🕔</td>\n",
       "      <td style=\"border: 1px solid black;\">1.13e+00</td>\n",
       "      <td style=\"border: 1px solid black;\"></td>\n",
       "      <td style=\"border: 1px solid black;\"></td>\n",
       "      <td style=\"border: 1px solid black;\">0</td>\n",
       "    </tr>\n",
       "    <tr>\n",
       "      <td style=\"border: 1px solid black;\">3</td>\n",
       "      <td style=\"border: 1px solid black;\">Exp-3</td>\n",
       "      <td style=\"border: 1px solid black;\">🕔</td>\n",
       "      <td style=\"border: 1px solid black;\">1.22e+00</td>\n",
       "      <td style=\"border: 1px solid black;\"></td>\n",
       "      <td style=\"border: 1px solid black;\"></td>\n",
       "      <td style=\"border: 1px solid black;\">0</td>\n",
       "    </tr>\n",
       "  </tbody>\n",
       "</table>"
      ],
      "text/plain": [
       "<IPython.core.display.HTML object>"
      ]
     },
     "metadata": {},
     "output_type": "display_data"
    },
    {
     "name": "stdout",
     "output_type": "stream",
     "text": [
      "\u001b[32mRunning lammps\u001b[0m\n",
      "\u001b[32m====================================\u001b[0m\n",
      "mpiexec -n 4 \"C:\\Users\\djoroya\\AppData\\Local\\LAMMPS 64-bit 2Aug2023-MSMPI\\bin\\lmp.exe\" -in in.lammps > out.lammps\n",
      "Output file: c:\\Users\\djoroya\\Documents\\GitHub\\YarnBraid-solo\\scripts\\T02_studies\\T04_validation\\T02_denier\\output\\2024-07-03__12-44-17__56083\\2024-07-03__12-45-58__73339\\lammps\\out.lammps\n"
     ]
    }
   ],
   "source": [
    "parametrize( main_path = main_path,  # path to save the output\n",
    "             Run       = setup_model,      # function to run\n",
    "             vars      = vars,       # variables to parametrize\n",
    "             default   = default_values)    # default values"
   ]
  }
 ],
 "metadata": {
  "kernelspec": {
   "display_name": "Python 3",
   "language": "python",
   "name": "python3"
  },
  "language_info": {
   "codemirror_mode": {
    "name": "ipython",
    "version": 3
   },
   "file_extension": ".py",
   "mimetype": "text/x-python",
   "name": "python",
   "nbconvert_exporter": "python",
   "pygments_lexer": "ipython3",
   "version": "3.11.9"
  }
 },
 "nbformat": 4,
 "nbformat_minor": 2
}
