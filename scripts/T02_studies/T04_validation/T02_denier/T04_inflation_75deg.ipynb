{
 "cells": [
  {
   "cell_type": "markdown",
   "metadata": {},
   "source": [
    "# Generate Inflation\n",
    "\n",
    "* 1. Lammps\n",
    "* 2. LS-Dyna\n",
    "* 3. Calculix (CCX)"
   ]
  },
  {
   "cell_type": "code",
   "execution_count": 1,
   "metadata": {},
   "outputs": [],
   "source": [
    "from functions.setup_model import setup_model\n",
    "from model.default  import default\n",
    "from tools.basic.path_gen   import path_gen\n",
    "from tools.parametrize.parametrize import parametrize\n",
    "\n",
    "from tools.step.pprint      import pprint\n",
    "import os\n",
    "import numpy as np"
   ]
  },
  {
   "cell_type": "code",
   "execution_count": 2,
   "metadata": {},
   "outputs": [],
   "source": [
    "def default_values():\n",
    "\n",
    "    params = default()\n",
    "\n",
    "\n",
    "    params[\"lammps\"][\"hilo_central\"] = 40\n",
    "    params[\"lammps\"][\"errate\"] = 0\n",
    "\n",
    "    params[\"lammps\"][\"Npoints\"] = 250\n",
    "    params[\"lammps\"][\"RUN_STEPS_DEFORM\"] = 1000\n",
    "    params[\"lammps\"][\"RUN_STEPS_EQ\"]     = 1\n",
    "    params[\"lammps\"][\"errate\"]  = 0\n",
    "    params[\"lammps\"][\"nhilos\"]  = 4 \n",
    "    params[\"lammps\"][\"r_hebra\"] = 0.27/2 # mm\n",
    "    params[\"lammps\"][\"theta\"] = 65*(np.pi/180) # deg\n",
    "    params[\"lammps\"][\"dist_factor\"] = 1.1\n",
    "    params[\"lammps\"][\"r0_factor\"] = 0.0005\n",
    "    params[\"lammps\"][\"yukawa\"][\"A\"] = 6e3\n",
    "\n",
    "    params[\"lammps\"][\"Remesh\"] = False\n",
    "    params[\"lammps\"][\"V0_bond\"] = 2e5\n",
    "    params[\"gmsh\"][\"Algorithm\"] = 2\n",
    "    params[\"gmsh\"][\"factor\"] = 1.2 # ====================>> 0.6\n",
    "\n",
    "    params[\"lsdyna\"][\"factor_npoints\"] = 0.35\n",
    "    params[\"lsdyna\"][\"factor\"] = 0.8\n",
    "    params[\"inflation\"][\"pressure\"] = 800\n",
    "    params[\"inflation\"][\"radius_target\"] = 4/2\n",
    "    params[\"comment\"] = \"Inflado a 800 kPa Long high density mesh\" \n",
    "    params[\"only_lammps\"] = False\n",
    "    return params"
   ]
  },
  {
   "cell_type": "code",
   "execution_count": 3,
   "metadata": {},
   "outputs": [],
   "source": [
    "params = default_values()"
   ]
  },
  {
   "cell_type": "code",
   "execution_count": 4,
   "metadata": {},
   "outputs": [],
   "source": [
    "# params[\"inflation\"][\"surface_behavior\"][\"type\"] = \"exponential\"\n",
    "# params[\"inflation\"][\"surface_behavior\"][\"dist\"] = 0.27*0.05\n",
    "# params[\"inflation\"][\"surface_behavior\"][\"pressure\"] =1e6"
   ]
  },
  {
   "cell_type": "code",
   "execution_count": 5,
   "metadata": {},
   "outputs": [
    {
     "name": "stdout",
     "output_type": "stream",
     "text": [
      "\u001b[32mRunning lammps\u001b[0m\n",
      "\u001b[32m====================================\u001b[0m\n",
      "\u001b[32mRunning lsdyna\u001b[0m\n",
      "\u001b[32m====================================\u001b[0m\n"
     ]
    },
    {
     "data": {
      "application/vnd.jupyter.widget-view+json": {
       "model_id": "c701c02886a34c29a1940dc47364d5d6",
       "version_major": 2,
       "version_minor": 0
      },
      "text/plain": [
       "  0%|          | 0/64 [00:00<?, ?it/s]"
      ]
     },
     "metadata": {},
     "output_type": "display_data"
    }
   ],
   "source": [
    "main_path = os.path.join(\"final/\", path_gen())\n",
    "\n",
    "setup_model(params, main_path)"
   ]
  }
 ],
 "metadata": {
  "kernelspec": {
   "display_name": "Python 3",
   "language": "python",
   "name": "python3"
  },
  "language_info": {
   "codemirror_mode": {
    "name": "ipython",
    "version": 3
   },
   "file_extension": ".py",
   "mimetype": "text/x-python",
   "name": "python",
   "nbconvert_exporter": "python",
   "pygments_lexer": "ipython3",
   "version": "3.12.0"
  }
 },
 "nbformat": 4,
 "nbformat_minor": 2
}
