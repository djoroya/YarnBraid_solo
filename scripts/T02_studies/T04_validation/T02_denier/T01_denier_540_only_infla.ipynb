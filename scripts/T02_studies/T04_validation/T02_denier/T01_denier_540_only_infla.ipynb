{
 "cells": [
  {
   "cell_type": "code",
   "execution_count": 1,
   "metadata": {},
   "outputs": [],
   "source": [
    "from functions.setup_model_infla import setup_model\n",
    "from model.default  import default\n",
    "from tools.basic.path_gen   import path_gen\n",
    "from tools.parametrize.parametrize import parametrize\n",
    "\n",
    "from tools.step.pprint      import pprint\n",
    "import os\n",
    "import numpy as np"
   ]
  },
  {
   "cell_type": "code",
   "execution_count": 2,
   "metadata": {},
   "outputs": [],
   "source": [
    "from tools.basic.loadsavejson import loadjson"
   ]
  },
  {
   "cell_type": "code",
   "execution_count": 3,
   "metadata": {},
   "outputs": [],
   "source": [
    "gmsh_path = \"/home/djoroya/projects/DIMAT/01_TECNORED_BRAID_v2/github/scripts/C02_YarnBraid/T04_validation/T02_denier/output/2024-01-23__12-03-04__28610/2024-01-23__12-03-04__27296/gmsh\""
   ]
  },
  {
   "cell_type": "code",
   "execution_count": 4,
   "metadata": {},
   "outputs": [],
   "source": [
    "def default_values():\n",
    "\n",
    "    params = loadjson(\"params/T001.json\")\n",
    "    params[\"inflation\"][\"gmsh_path\"]  =  gmsh_path\n",
    "    params[\"inflation\"][\"pressure\"] = 0\n",
    "\n",
    "    params[\"lsdyna\"][\"factor_npoints\"] = 0.95 # 0.5\n",
    "    params[\"lsdyna\"][\"hmax\"] = 7\n",
    "    params[\"inflation\"][\"ncpus\"] = 4\n",
    "    params[\"inflation\"][\"calculix_dynamic\"] = True\n",
    "\n",
    "    return params"
   ]
  },
  {
   "cell_type": "code",
   "execution_count": null,
   "metadata": {},
   "outputs": [],
   "source": []
  },
  {
   "cell_type": "code",
   "execution_count": 5,
   "metadata": {},
   "outputs": [],
   "source": [
    "params = default_values()\n"
   ]
  },
  {
   "cell_type": "code",
   "execution_count": null,
   "metadata": {},
   "outputs": [],
   "source": []
  },
  {
   "cell_type": "code",
   "execution_count": 6,
   "metadata": {},
   "outputs": [],
   "source": [
    "main_path = os.path.join(\"output/\", path_gen())\n",
    "\n",
    "# Creamos la carpeta de salida\n",
    "if not os.path.exists(main_path):\n",
    "    os.makedirs(main_path)"
   ]
  },
  {
   "cell_type": "code",
   "execution_count": 7,
   "metadata": {},
   "outputs": [],
   "source": [
    "vars = dict()\n",
    "theta_span = np.linspace(30, 70, 4)*np.pi/180\n",
    "#theta_span = [theta_span[-1]]\n",
    "vars[\"h\"] =  {\"span\"  :  theta_span,\n",
    "              \"path\"  :  [\"lammps\", \"theta\"]}\n"
   ]
  },
  {
   "cell_type": "code",
   "execution_count": 8,
   "metadata": {},
   "outputs": [
    {
     "data": {
      "text/html": [
       "<h3>Parametrization (2/4)    [<span style='color: green'>2024-Jan-23   |  12:19</span>] - [<span style='color:green'>2024-Jan-23   |  12:36</span>]  </h3><h4>Elapsed time: 711.9 s</h4><h4>Estimated end: 2024-Jan-23   |  12:52</h4><table border=\"1\" class=\"dataframe\">\n",
       "  <thead>\n",
       "    <tr style=\"text-align: right;\">\n",
       "      <th style=\"border: 1px solid black;\">ID</th>\n",
       "      <th style=\"border: 1px solid black;\">name</th>\n",
       "      <th style=\"border: 1px solid black;\">Status</th>\n",
       "      <th style=\"border: 1px solid black;\">h</th>\n",
       "      <th style=\"border: 1px solid black;\">Loading</th>\n",
       "      <th style=\"border: 1px solid black;\">Date</th>\n",
       "      <th style=\"border: 1px solid black;\">time</th>\n",
       "    </tr>\n",
       "  </thead>\n",
       "  <tbody>\n",
       "    <tr>\n",
       "      <td style=\"border: 1px solid black;\">1</td>\n",
       "      <td style=\"border: 1px solid black;\">Exp-1</td>\n",
       "      <td style=\"border: 1px solid black;\">✅</td>\n",
       "      <td style=\"border: 1px solid black;\">5.24e-01</td>\n",
       "      <td style=\"border: 1px solid black;\"><div style='text-align: left;'><font color=\"green\">(1/1) </font>▉▉▉▉▉▉▉▉</div></td>\n",
       "      <td style=\"border: 1px solid black;\">2024-Jan-23   |  12:24</td>\n",
       "      <td style=\"border: 1px solid black;\">355.48</td>\n",
       "    </tr>\n",
       "    <tr>\n",
       "      <td style=\"border: 1px solid black;\">2</td>\n",
       "      <td style=\"border: 1px solid black;\">Exp-2</td>\n",
       "      <td style=\"border: 1px solid black;\">✅</td>\n",
       "      <td style=\"border: 1px solid black;\">7.56e-01</td>\n",
       "      <td style=\"border: 1px solid black;\"><div style='text-align: left;'><font color=\"green\">(1/1) </font>▉▉▉▉▉▉▉▉</div></td>\n",
       "      <td style=\"border: 1px solid black;\">2024-Jan-23   |  12:30</td>\n",
       "      <td style=\"border: 1px solid black;\">356.42</td>\n",
       "    </tr>\n",
       "    <tr>\n",
       "      <td style=\"border: 1px solid black;\">3</td>\n",
       "      <td style=\"border: 1px solid black;\">Exp-3</td>\n",
       "      <td style=\"border: 1px solid black;\">✅</td>\n",
       "      <td style=\"border: 1px solid black;\">9.89e-01</td>\n",
       "      <td style=\"border: 1px solid black;\"><div style='text-align: left;'><font color=\"green\">(1/1) </font>▉▉▉▉▉▉▉▉</div></td>\n",
       "      <td style=\"border: 1px solid black;\">2024-Jan-23   |  12:36</td>\n",
       "      <td style=\"border: 1px solid black;\">357.41</td>\n",
       "    </tr>\n",
       "    <tr>\n",
       "      <td style=\"border: 1px solid black;\">4</td>\n",
       "      <td style=\"border: 1px solid black;\">Exp-4</td>\n",
       "      <td style=\"border: 1px solid black;\">🕔</td>\n",
       "      <td style=\"border: 1px solid black;\">1.22e+00</td>\n",
       "      <td style=\"border: 1px solid black;\"></td>\n",
       "      <td style=\"border: 1px solid black;\"></td>\n",
       "      <td style=\"border: 1px solid black;\">0</td>\n",
       "    </tr>\n",
       "  </tbody>\n",
       "</table>"
      ],
      "text/plain": [
       "<IPython.core.display.HTML object>"
      ]
     },
     "metadata": {},
     "output_type": "display_data"
    },
    {
     "name": "stdout",
     "output_type": "stream",
     "text": [
      "\u001b[32mRunning inflation\u001b[0m\n",
      "\u001b[32m====================================\u001b[0m\n",
      "Nsets have been created\n",
      "Running Calculix at:  output/2024-01-23__12-19-03__86900/2024-01-23__12-36-52__18549/inflation\n",
      "Command:\n",
      " wine /home/djoroya/projects/DIMAT/01_TECNORED_BRAID_v2/github/src/dependences/calculix/dynamics/ccx_dynamic.exe init > out.txt\n",
      "Error reading cvf file\n",
      "\n",
      "pid:  3199592 \n",
      "\n"
     ]
    }
   ],
   "source": [
    "parametrize( main_path = main_path,  # path to save the output\n",
    "             Run       = setup_model,      # function to run\n",
    "             vars      = vars,       # variables to parametrize\n",
    "             default   = default_values)    # default values"
   ]
  },
  {
   "cell_type": "code",
   "execution_count": null,
   "metadata": {},
   "outputs": [],
   "source": []
  }
 ],
 "metadata": {
  "kernelspec": {
   "display_name": "Python 3",
   "language": "python",
   "name": "python3"
  },
  "language_info": {
   "codemirror_mode": {
    "name": "ipython",
    "version": 3
   },
   "file_extension": ".py",
   "mimetype": "text/x-python",
   "name": "python",
   "nbconvert_exporter": "python",
   "pygments_lexer": "ipython3",
   "version": "3.12.0"
  }
 },
 "nbformat": 4,
 "nbformat_minor": 2
}
