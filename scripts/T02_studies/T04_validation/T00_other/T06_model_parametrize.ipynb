{
 "cells": [
  {
   "cell_type": "code",
   "execution_count": 1,
   "metadata": {},
   "outputs": [],
   "source": [
    "from tools.basic.path_gen   import path_gen\n",
    "from tools.step.pprint     import pprint\n",
    "\n",
    "from model.default          import *\n",
    "\n",
    "import os\n",
    "from tools.parametrize.parametrize import parametrize\n",
    "\n",
    "from model.simulation.RunSimulation import RunSimulation\n"
   ]
  },
  {
   "cell_type": "code",
   "execution_count": 2,
   "metadata": {},
   "outputs": [],
   "source": [
    "out_simula = os.path.join(\"output\",\"only_sim\",path_gen())\n"
   ]
  },
  {
   "cell_type": "code",
   "execution_count": 3,
   "metadata": {},
   "outputs": [],
   "source": [
    "inflation_path = \"/home/djoroya/projects/DIMAT/01_TECNORED_BRAID_v2/github/scripts/C02_YarnBraid/validation/output/denier/2023-12-15__11-57-05__33057/2023-12-15__12-41-09__63135/inflation\""
   ]
  },
  {
   "cell_type": "code",
   "execution_count": 4,
   "metadata": {},
   "outputs": [],
   "source": [
    "def default_values():\n",
    "\n",
    "    params_simu = simulation_default()\n",
    "    params_simu[\"young\"]         = 2960      # MPa\n",
    "    params_simu[\"poisson\"]       = 0.37 # Pa\n",
    "    params_simu[\"displacement\"]  = 0.00001         # mm\n",
    "    params_simu[\"radius\"]        = 10           # mm\n",
    "    params_simu[\"inflation_path\"] = inflation_path\n",
    "    params_simu[\"type_bc\"]      = 3\n",
    "\n",
    "    params_simu[\"ncpus\"] = 16 # number of cpus\n",
    "    return params_simu\n"
   ]
  },
  {
   "cell_type": "code",
   "execution_count": 5,
   "metadata": {},
   "outputs": [],
   "source": [
    "main_path = os.path.join(\"output/meca/\", path_gen())\n",
    "\n",
    "# Creamos la carpeta de salida\n",
    "if not os.path.exists(main_path):\n",
    "    os.makedirs(main_path)"
   ]
  },
  {
   "cell_type": "code",
   "execution_count": 6,
   "metadata": {},
   "outputs": [],
   "source": [
    "vars = dict()\n",
    "theta_span = [1e-8,1e-7,1e-6,1e-5]\n",
    "#theta_span = [theta_span[-1]]\n",
    "vars[\"disp\"] =  {\"span\"  :  theta_span,\n",
    "                 \"path\"  :  [\"displacement\"]}\n"
   ]
  },
  {
   "cell_type": "code",
   "execution_count": 7,
   "metadata": {},
   "outputs": [
    {
     "data": {
      "text/html": [
       "<h3>Parametrization (0/3)    [<span style='color: green'>2023-Dec-15   |  15:04</span>] - [<span style='color:green'>2023-Dec-15   |  15:05</span>]  </h3><h4>Elapsed time: 0 s</h4><h4>Estimated end: 2023-Dec-15   |  15:05</h4><table border=\"1\" class=\"dataframe\">\n",
       "  <thead>\n",
       "    <tr style=\"text-align: right;\">\n",
       "      <th style=\"border: 1px solid black;\">ID</th>\n",
       "      <th style=\"border: 1px solid black;\">name</th>\n",
       "      <th style=\"border: 1px solid black;\">Status</th>\n",
       "      <th style=\"border: 1px solid black;\">disp</th>\n",
       "      <th style=\"border: 1px solid black;\">Loading</th>\n",
       "      <th style=\"border: 1px solid black;\">Date</th>\n",
       "      <th style=\"border: 1px solid black;\">time</th>\n",
       "    </tr>\n",
       "  </thead>\n",
       "  <tbody>\n",
       "    <tr>\n",
       "      <td style=\"border: 1px solid black;\">1</td>\n",
       "      <td style=\"border: 1px solid black;\">Exp-1</td>\n",
       "      <td style=\"border: 1px solid black;\">🕔</td>\n",
       "      <td style=\"border: 1px solid black;\">1.00e-07</td>\n",
       "      <td style=\"border: 1px solid black;\"><div style='text-align: left;'><font color=\"green\">(2/2) </font>▉▉▉▉▉▉▉▉</div></td>\n",
       "      <td style=\"border: 1px solid black;\">2023-Dec-15   |  15:05</td>\n",
       "      <td style=\"border: 1px solid black;\">0</td>\n",
       "    </tr>\n",
       "    <tr>\n",
       "      <td style=\"border: 1px solid black;\">2</td>\n",
       "      <td style=\"border: 1px solid black;\">Exp-2</td>\n",
       "      <td style=\"border: 1px solid black;\">🕔</td>\n",
       "      <td style=\"border: 1px solid black;\">1.00e-06</td>\n",
       "      <td style=\"border: 1px solid black;\"></td>\n",
       "      <td style=\"border: 1px solid black;\"></td>\n",
       "      <td style=\"border: 1px solid black;\">0</td>\n",
       "    </tr>\n",
       "    <tr>\n",
       "      <td style=\"border: 1px solid black;\">3</td>\n",
       "      <td style=\"border: 1px solid black;\">Exp-3</td>\n",
       "      <td style=\"border: 1px solid black;\">🕔</td>\n",
       "      <td style=\"border: 1px solid black;\">1.00e-05</td>\n",
       "      <td style=\"border: 1px solid black;\"></td>\n",
       "      <td style=\"border: 1px solid black;\"></td>\n",
       "      <td style=\"border: 1px solid black;\">0</td>\n",
       "    </tr>\n",
       "  </tbody>\n",
       "</table>"
      ],
      "text/plain": [
       "<IPython.core.display.HTML object>"
      ]
     },
     "metadata": {},
     "output_type": "display_data"
    },
    {
     "name": "stdout",
     "output_type": "stream",
     "text": [
      "Running Calculix at:  /home/djoroya/projects/DIMAT/01_TECNORED_BRAID_v2/github/scripts/C02_YarnBraid/validation/output/meca/2023-12-15__15-04-51__37422/2023-12-15__15-04-51__61263\n",
      "Command:\n",
      " wine /home/djoroya/projects/DIMAT/01_TECNORED_BRAID_v2/dependences/CalculiX-versions/ccx_static.exe init_new > out.txt\n",
      "Error reading cvf file\n",
      "\n",
      "pid:  1379630 \n",
      "\n"
     ]
    }
   ],
   "source": [
    "parametrize( main_path = main_path,  # path to save the output\n",
    "             Run       = RunSimulation,      # function to run\n",
    "             vars      = vars,       # variables to parametrize\n",
    "             default   = default_values)    # default values"
   ]
  }
 ],
 "metadata": {
  "kernelspec": {
   "display_name": "TECNORED",
   "language": "python",
   "name": "python3"
  },
  "language_info": {
   "codemirror_mode": {
    "name": "ipython",
    "version": 3
   },
   "file_extension": ".py",
   "mimetype": "text/x-python",
   "name": "python",
   "nbconvert_exporter": "python",
   "pygments_lexer": "ipython3",
   "version": "3.12.0"
  }
 },
 "nbformat": 4,
 "nbformat_minor": 2
}
