{
 "cells": [
  {
   "cell_type": "code",
   "execution_count": 1,
   "metadata": {},
   "outputs": [],
   "source": [
    "from functions.setup_model import setup_model\n",
    "from model.default  import default\n",
    "from tools.basic.path_gen   import path_gen\n",
    "from tools.step.pprint      import pprint\n",
    "import os"
   ]
  },
  {
   "cell_type": "code",
   "execution_count": 2,
   "metadata": {},
   "outputs": [],
   "source": [
    "params = default()\n",
    "\n",
    "\n",
    "params[\"lammps_sim\"][\"hilo_central\"] = 0\n",
    "params[\"lammps_sim\"][\"errate\"] = 0\n",
    "params[\"lsdyna_sim\"][\"factor_npoints\"] = 0.5\n",
    "params[\"inflation\"][\"pressure\"] = 800"
   ]
  },
  {
   "cell_type": "code",
   "execution_count": 3,
   "metadata": {},
   "outputs": [],
   "source": [
    "params[\"lammps_sim\"][\"Npoints\"] = 250\n",
    "params[\"lammps_sim\"][\"RUN_STEPS_DEFORM\"] = 5000\n",
    "params[\"lammps_sim\"][\"RUN_STEPS_EQ\"]     = 10\n",
    "params[\"lammps_sim\"][\"errate\"]  = 0\n",
    "params[\"lammps_sim\"][\"nhilos\"]  = 4\n",
    "params[\"lammps_sim\"][\"r_hilo\"] = 15\n",
    "params[\"lammps_sim\"][\"h\"] =80\n",
    "params[\"lammps_sim\"][\"dist_factor\"] = 2.7\n",
    "params[\"lammps_sim\"][\"r0_factor\"] = 0.0005\n",
    "params[\"lammps_sim\"][\"yukawa\"][\"A\"] = 10000\n",
    "params[\"lammps_sim\"][\"yukawa\"][\"FactorDist\"] = 4\n",
    "params[\"lammps_sim\"][\"hilo_central\"] = 0\n",
    "params[\"lammps_sim\"][\"Remesh\"] = True\n",
    "params[\"lammps_sim\"][\"V0_bond\"] = 58000"
   ]
  },
  {
   "cell_type": "code",
   "execution_count": 4,
   "metadata": {},
   "outputs": [
    {
     "data": {
      "text/plain": [
       "{'A': 10000, 'kappa': 1.0, 'cutoff': None, 'FactorDist': 4}"
      ]
     },
     "execution_count": 4,
     "metadata": {},
     "output_type": "execute_result"
    }
   ],
   "source": [
    "params[\"lammps_sim\"][\"yukawa\"]"
   ]
  },
  {
   "cell_type": "code",
   "execution_count": 5,
   "metadata": {},
   "outputs": [
    {
     "name": "stdout",
     "output_type": "stream",
     "text": [
      "\u001b[34msettings_step       \u001b[39m: \n",
      "\t- has_children\n",
      "\t-has_parent\n",
      "\t-verbose\n",
      "\t-...\n",
      "\u001b[34mhas_children        \u001b[39m: True\n",
      "\u001b[34mlammps_sim          \u001b[39m: \n",
      "\t- settings_step\n",
      "\t-Npoints\n",
      "\t-hilo_central\n",
      "\t-theta\n",
      "\t-factor\n",
      "\t-Remesh\n",
      "\t-RUN_STEPS_EQ\n",
      "\t-RUN_STEPS_DEFORM\n",
      "\t-errate\n",
      "\t-nhilos\n",
      "\t-...\n",
      "\u001b[34mlsdyna_sim          \u001b[39m: \n",
      "\t- settings_step\n",
      "\t-radius\n",
      "\t-factor_npoints\n",
      "\t-align\n",
      "\t-factor\n",
      "\t-hmax\n",
      "\t-npoints\n",
      "\t-lmp_path\n",
      "\t-...\n",
      "\u001b[34mgmsh                \u001b[39m: \n",
      "\t- settings_step\n",
      "\t-size_element\n",
      "\t-Algorithm\n",
      "\t-factor\n",
      "\t-lsdyna_path\n",
      "\t-...\n",
      "\u001b[34minflation           \u001b[39m: \n",
      "\t- settings_step\n",
      "\t-pressure\n",
      "\t-OMP_NUM_THREADS\n",
      "\t-attemps\n",
      "\t-surface_behavior\n",
      "\t-radius_target\n",
      "\t-rho\n",
      "\t-calculix_dynamic\n",
      "\t-mpi\n",
      "\t-mpi_np\n",
      "\t-...\n",
      "\u001b[34msimulation          \u001b[39m: \n",
      "\t- settings_step\n",
      "\t-young\n",
      "\t-poisson\n",
      "\t-epsilon\n",
      "\t-OMP_NUM_THREADS\n",
      "\t-type_bc\n",
      "\t-attemps\n",
      "\t-Adjust\n",
      "\t-nfixed\n",
      "\t-nsteps\n",
      "\t-...\n",
      "\u001b[34mpost                \u001b[39m: \n",
      "\t- settings_step\n",
      "\t-tensile_path\n",
      "\t-max_mono\n",
      "\t-...\n",
      "\u001b[34monly_lammps         \u001b[39m: False\n"
     ]
    }
   ],
   "source": [
    "pprint(params)"
   ]
  },
  {
   "cell_type": "code",
   "execution_count": 6,
   "metadata": {},
   "outputs": [
    {
     "ename": "",
     "evalue": "",
     "output_type": "error",
     "traceback": [
      "\u001b[1;31mEl kernel se bloqueó al ejecutar código en la celda actual o en una celda anterior. \n",
      "\u001b[1;31mRevise el código de las celdas para identificar una posible causa del error. \n",
      "\u001b[1;31mHaga clic <a href='https://aka.ms/vscodeJupyterKernelCrash'>aquí</a> para obtener más información. \n",
      "\u001b[1;31mVea Jupyter <a href='command:jupyter.viewOutput'>log</a> para obtener más detalles."
     ]
    }
   ],
   "source": [
    "main_path = os.path.join(\"output/setup/\", path_gen())\n"
   ]
  },
  {
   "cell_type": "code",
   "execution_count": 7,
   "metadata": {},
   "outputs": [
    {
     "name": "stdout",
     "output_type": "stream",
     "text": [
      "\u001b[32mRunning lammps\u001b[0m\n",
      "\u001b[32m====================================\u001b[0m\n",
      "\"C:\\Users\\djoroya\\AppData\\Local\\LAMMPS 64-bit 2Aug2023-MSMPI\\bin\\lmp.exe\" -in in.lammps > out.lammps\n",
      "Output file: c:\\Users\\djoroya\\Documents\\GitHub\\YarnBraid-solo\\simulations\\2024-08-26__13-22-27__32662\\out.lammps\n",
      "\u001b[32mRunning lsdyna\u001b[0m\n",
      "\u001b[32m====================================\u001b[0m\n"
     ]
    },
    {
     "name": "stderr",
     "output_type": "stream",
     "text": [
      "100%|██████████| 64/64 [01:27<00:00,  1.37s/it]\n"
     ]
    },
    {
     "name": "stdout",
     "output_type": "stream",
     "text": [
      "\u001b[32mRunning gmsh\u001b[0m\n",
      "\u001b[32m====================================\u001b[0m\n"
     ]
    },
    {
     "name": "stderr",
     "output_type": "stream",
     "text": [
      "64it [00:55,  1.14it/s]\n"
     ]
    },
    {
     "name": "stdout",
     "output_type": "stream",
     "text": [
      "\u001b[32mRunning inflation\u001b[0m\n",
      "\u001b[32m====================================\u001b[0m\n",
      "Nsets have been created\n",
      "Running Calculix at:  c:\\Users\\djoroya\\Documents\\GitHub\\YarnBraid-solo\\simulations\\2024-08-26__13-25-36__71193\n",
      "Output file:  c:\\Users\\djoroya\\Documents\\GitHub\\YarnBraid-solo\\simulations\\2024-08-26__13-25-36__71193\\out.txt\n",
      "Command:\n",
      " c:\\Users\\djoroya\\Documents\\GitHub\\YarnBraid_30_05_2024\\YarnBraid\\src\\dependences\\PrePoMax\\Solver\\ccx_dynamic.exe init\n",
      "Error reading cvf file\n",
      "\n",
      "pid:  2432 \n",
      "\n",
      "SUMMARY OF C0NVERGENCE INFORMATION\n",
      "  STEP   INC  ATT   ITER     CONT.   RESID.        CORR.      RESID.      CORR.\n",
      "                              EL.    FORCE         DISP       FLUX        TEMP.\n",
      "                              (#)     (%)           (%)        (%)         (%)\n",
      "     1     1     1     1    12011  0.0000E+00  0.1000E+03  0.0000E+00  0.0000E+00\n",
      "     1     1     1     2  1101074  0.0000E+00  0.4919E+02  0.0000E+00  0.0000E+00\n"
     ]
    }
   ],
   "source": [
    "setup_model(params,main_path)"
   ]
  },
  {
   "cell_type": "code",
   "execution_count": null,
   "metadata": {},
   "outputs": [],
   "source": [
    "params[\"inflation\"][\"denier\"]"
   ]
  },
  {
   "cell_type": "code",
   "execution_count": null,
   "metadata": {},
   "outputs": [],
   "source": [
    "params[\"lammps\"][\"radius\"]"
   ]
  },
  {
   "cell_type": "code",
   "execution_count": null,
   "metadata": {},
   "outputs": [],
   "source": []
  }
 ],
 "metadata": {
  "kernelspec": {
   "display_name": "Python 3",
   "language": "python",
   "name": "python3"
  },
  "language_info": {
   "codemirror_mode": {
    "name": "ipython",
    "version": 3
   },
   "file_extension": ".py",
   "mimetype": "text/x-python",
   "name": "python",
   "nbconvert_exporter": "python",
   "pygments_lexer": "ipython3",
   "version": "3.11.9"
  }
 },
 "nbformat": 4,
 "nbformat_minor": 2
}
