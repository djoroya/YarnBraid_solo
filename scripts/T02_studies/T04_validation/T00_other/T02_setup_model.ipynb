{
 "cells": [
  {
   "cell_type": "code",
   "execution_count": 1,
   "metadata": {},
   "outputs": [],
   "source": [
    "from functions.setup_model import setup_model\n",
    "from model.default  import default\n",
    "from tools.basic.path_gen   import path_gen\n",
    "from tools.step.pprint      import pprint\n",
    "import os"
   ]
  },
  {
   "cell_type": "code",
   "execution_count": 2,
   "metadata": {},
   "outputs": [],
   "source": [
    "params = default()\n",
    "\n",
    "\n",
    "params[\"lammps\"][\"hilo_central\"] = 0\n",
    "params[\"lammps\"][\"errate\"] = 0\n",
    "params[\"lsdyna\"][\"factor_npoints\"] = 0.5\n",
    "params[\"inflation\"][\"pressure\"] = 800"
   ]
  },
  {
   "cell_type": "code",
   "execution_count": 3,
   "metadata": {},
   "outputs": [],
   "source": [
    "params[\"lammps\"][\"Npoints\"] = 250\n",
    "params[\"lammps\"][\"RUN_STEPS_DEFORM\"] = 5000\n",
    "params[\"lammps\"][\"RUN_STEPS_EQ\"]     = 10\n",
    "params[\"lammps\"][\"errate\"]  = 0\n",
    "params[\"lammps\"][\"nhilos\"]  = 4\n",
    "params[\"lammps\"][\"r_hilo\"] = 15\n",
    "params[\"lammps\"][\"h\"] =80\n",
    "params[\"lammps\"][\"dist_factor\"] = 2.7\n",
    "params[\"lammps\"][\"r0_factor\"] = 0.0005\n",
    "params[\"lammps\"][\"yukawa\"][\"A\"] = 10000\n",
    "params[\"lammps\"][\"yukawa\"][\"FactorDist\"] = 4\n",
    "\n",
    "params[\"lammps\"][\"hilo_central\"] = 0\n",
    "params[\"lammps\"][\"Remesh\"] = True\n",
    "params[\"lammps\"][\"V0_bond\"] = 58000"
   ]
  },
  {
   "cell_type": "code",
   "execution_count": 4,
   "metadata": {},
   "outputs": [
    {
     "data": {
      "text/plain": [
       "{'A': 10000, 'kappa': 1.0, 'cutoff': None, 'FactorDist': 4}"
      ]
     },
     "execution_count": 4,
     "metadata": {},
     "output_type": "execute_result"
    }
   ],
   "source": [
    "params[\"lammps\"][\"yukawa\"]"
   ]
  },
  {
   "cell_type": "code",
   "execution_count": 5,
   "metadata": {},
   "outputs": [
    {
     "name": "stdout",
     "output_type": "stream",
     "text": [
      "\n",
      "\u001b[32mlammps\u001b[39m:\n",
      "\n",
      "\t\u001b[34melapsed             \u001b[39m: 0 h  -  0 m  -  0 s\n",
      "\t\u001b[31merror               \u001b[31m: 1\n",
      "\t\u001b[31merror_msg           \u001b[31m: No execution\n",
      "\t\u001b[34mverbose             \u001b[39m: True\n",
      "\t\u001b[34mNpoints             \u001b[39m: 250\n",
      "\t\u001b[34mh                   \u001b[39m: 80\n",
      "\t\u001b[34mhilo_central        \u001b[39m: 0\n",
      "\t\u001b[34mr_hilo              \u001b[39m: 15\n",
      "\t\u001b[34mfactor              \u001b[39m: 4\n",
      "\t\u001b[34mRemesh              \u001b[39m: True\n",
      "\t\u001b[34mRUN_STEPS_EQ        \u001b[39m: 10\n",
      "\t\u001b[34mRUN_STEPS_DEFORM    \u001b[39m: 5000\n",
      "\t\u001b[34merrate              \u001b[39m: 0\n",
      "\t\u001b[34mnhilos              \u001b[39m: 4\n",
      "\t\u001b[34mdist_factor         \u001b[39m: 2.7\n",
      "\t\u001b[34mr0_factor           \u001b[39m: 0.0005\n",
      "\t\u001b[34mV0_bond             \u001b[39m: 58000\n",
      "\t\u001b[34myukawa              \u001b[39m: \n",
      "\t- A\n",
      "\t-kappa\n",
      "\t-cutoff\n",
      "\t-FactorDist\n",
      "\t-...\n",
      "\n",
      "\u001b[32mlsdyna\u001b[39m:\n",
      "\n",
      "\t\u001b[34melapsed             \u001b[39m: 0 h  -  0 m  -  0 s\n",
      "\t\u001b[31merror               \u001b[31m: 1\n",
      "\t\u001b[31merror_msg           \u001b[31m: No execution\n",
      "\t\u001b[34mverbose             \u001b[39m: True\n",
      "\t\u001b[34mradius              \u001b[39m: None\n",
      "\t\u001b[34mfactor_npoints      \u001b[39m: 0.5\n",
      "\t\u001b[34malign               \u001b[39m: False\n",
      "\n",
      "\u001b[32mgmsh\u001b[39m:\n",
      "\n",
      "\t\u001b[34melapsed             \u001b[39m: 0 h  -  0 m  -  0 s\n",
      "\t\u001b[31merror               \u001b[31m: 1\n",
      "\t\u001b[31merror_msg           \u001b[31m: No execution\n",
      "\t\u001b[34mverbose             \u001b[39m: True\n",
      "\t\u001b[34msize_element        \u001b[39m: 1.2\n",
      "\t\u001b[34mAlgorithm           \u001b[39m: 1\n",
      "\n",
      "\u001b[32minflation\u001b[39m:\n",
      "\n",
      "\t\u001b[34melapsed             \u001b[39m: 0 h  -  0 m  -  0 s\n",
      "\t\u001b[31merror               \u001b[31m: 1\n",
      "\t\u001b[31merror_msg           \u001b[31m: No execution\n",
      "\t\u001b[34mverbose             \u001b[39m: True\n",
      "\t\u001b[34mpressure            \u001b[39m: 800\n",
      "\t\u001b[34mncpus               \u001b[39m: 16\n",
      "\t\u001b[34mattemps             \u001b[39m: 4\n",
      "\t\u001b[34msurface_behavior    \u001b[39m: \n",
      "\t- type\n",
      "\t-dist\n",
      "\t-pressure\n",
      "\t-...\n",
      "\t\u001b[34mradius_target       \u001b[39m: 10\n",
      "\t\u001b[34mrho                 \u001b[39m: 0.00097\n",
      "\n",
      "\u001b[32msimulation\u001b[39m:\n",
      "\n",
      "\t\u001b[34melapsed             \u001b[39m: 0 h  -  0 m  -  0 s\n",
      "\t\u001b[31merror               \u001b[31m: 1\n",
      "\t\u001b[31merror_msg           \u001b[31m: No execution\n",
      "\t\u001b[34mverbose             \u001b[39m: True\n",
      "\t\u001b[34myoung               \u001b[39m: 2960\n",
      "\t\u001b[34mpoisson             \u001b[39m: 0.37\n",
      "\t\u001b[34mdisplacement        \u001b[39m: 0.01\n",
      "\t\u001b[34mncpus               \u001b[39m: 16\n",
      "\t\u001b[34mtype_bc             \u001b[39m: 3\n",
      "\t\u001b[34mattemps             \u001b[39m: 4\n",
      "\t\u001b[34mAdjust              \u001b[39m: False\n",
      "\t\u001b[34mnfixed              \u001b[39m: 3\n"
     ]
    }
   ],
   "source": [
    "pprint(params)"
   ]
  },
  {
   "cell_type": "code",
   "execution_count": 6,
   "metadata": {},
   "outputs": [],
   "source": [
    "main_path = os.path.join(\"output/setup/\", path_gen())\n"
   ]
  },
  {
   "cell_type": "code",
   "execution_count": 7,
   "metadata": {},
   "outputs": [
    {
     "name": "stdout",
     "output_type": "stream",
     "text": [
      "\u001b[32mRunning lammps\u001b[0m\n",
      "\u001b[32m====================================\u001b[0m\n"
     ]
    },
    {
     "name": "stderr",
     "output_type": "stream",
     "text": [
      "Authorization required, but no authorization protocol specified\n",
      "Authorization required, but no authorization protocol specified\n",
      "Authorization required, but no authorization protocol specified\n",
      "Authorization required, but no authorization protocol specified\n"
     ]
    },
    {
     "name": "stdout",
     "output_type": "stream",
     "text": [
      "\u001b[32mRunning lsdyna\u001b[0m\n",
      "\u001b[32m====================================\u001b[0m\n"
     ]
    },
    {
     "data": {
      "application/vnd.jupyter.widget-view+json": {
       "model_id": "19ecc2e7e03d48c99c4f7f1f930cf0e5",
       "version_major": 2,
       "version_minor": 0
      },
      "text/plain": [
       "  0%|          | 0/64 [00:00<?, ?it/s]"
      ]
     },
     "metadata": {},
     "output_type": "display_data"
    }
   ],
   "source": [
    "setup_model(params,main_path)"
   ]
  },
  {
   "cell_type": "code",
   "execution_count": null,
   "metadata": {},
   "outputs": [
    {
     "data": {
      "text/plain": [
       "1280.9540317023504"
      ]
     },
     "execution_count": 8,
     "metadata": {},
     "output_type": "execute_result"
    }
   ],
   "source": [
    "params[\"inflation\"][\"denier\"]"
   ]
  },
  {
   "cell_type": "code",
   "execution_count": null,
   "metadata": {},
   "outputs": [
    {
     "data": {
      "text/plain": [
       "0.7833353802171837"
      ]
     },
     "execution_count": 9,
     "metadata": {},
     "output_type": "execute_result"
    }
   ],
   "source": [
    "params[\"lammps\"][\"radius\"]"
   ]
  },
  {
   "cell_type": "code",
   "execution_count": null,
   "metadata": {},
   "outputs": [],
   "source": []
  }
 ],
 "metadata": {
  "kernelspec": {
   "display_name": "Python 3",
   "language": "python",
   "name": "python3"
  },
  "language_info": {
   "codemirror_mode": {
    "name": "ipython",
    "version": 3
   },
   "file_extension": ".py",
   "mimetype": "text/x-python",
   "name": "python",
   "nbconvert_exporter": "python",
   "pygments_lexer": "ipython3",
   "version": "3.12.0"
  }
 },
 "nbformat": 4,
 "nbformat_minor": 2
}
