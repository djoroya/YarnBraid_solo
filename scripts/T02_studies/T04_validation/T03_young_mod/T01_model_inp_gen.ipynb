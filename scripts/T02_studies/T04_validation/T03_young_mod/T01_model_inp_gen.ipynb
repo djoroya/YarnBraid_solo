{
 "cells": [
  {
   "cell_type": "code",
   "execution_count": 1,
   "metadata": {},
   "outputs": [],
   "source": [
    "from tools.basic.path_gen   import path_gen\n",
    "from tools.step.pprint     import pprint\n",
    "\n",
    "from model.default          import *\n",
    "\n",
    "import os\n",
    "\n",
    "from model.simulation.RunSimulation import RunSimulation\n"
   ]
  },
  {
   "cell_type": "code",
   "execution_count": 2,
   "metadata": {},
   "outputs": [],
   "source": [
    "out_simula = os.path.join(\"output\",path_gen())\n"
   ]
  },
  {
   "cell_type": "code",
   "execution_count": 3,
   "metadata": {},
   "outputs": [],
   "source": [
    "inflation_path = \"../T02_denier/final/2024-01-02__17-51-02__14471\"\n",
    "inflation_path =\"../T02_denier/final/2024-01-03__08-21-01__39189\" # 0 MPa\n",
    "# inflation_path =\"../T02_denier/final/2024-01-03__16-51-59__31192\"\n",
    "# inflation_path = \"../T02_denier/final/2024-01-04__08-23-01__70168\" \n",
    "# inflation_path = \"../T02_denier/final/2024-01-05__12-03-56__59010\" \n",
    "# short \n",
    "#inflation_path =\"../T02_denier/final/2024-01-09__11-44-19__81959\" # 0 MPa\n",
    "\n",
    "#  medium long\n",
    "inflation_path =\"../T02_denier/final/2024-01-10__07-32-31__99756\" # 200 MPa medium long\n"
   ]
  },
  {
   "cell_type": "code",
   "execution_count": 4,
   "metadata": {},
   "outputs": [],
   "source": [
    "\n",
    "inflation_path = inflation_path + \"/inflation\""
   ]
  },
  {
   "cell_type": "code",
   "execution_count": 5,
   "metadata": {},
   "outputs": [
    {
     "name": "stdout",
     "output_type": "stream",
     "text": [
      "\u001b[34melapsed             \u001b[39m: 0 h  -  0 m  -  0 s\n",
      "\u001b[31merror               \u001b[31m: 1\n",
      "\u001b[31merror_msg           \u001b[31m: No execution\n",
      "\u001b[34mverbose             \u001b[39m: True\n",
      "\u001b[34myoung               \u001b[39m: 1500\n",
      "\u001b[34mpoisson             \u001b[39m: 0.37\n",
      "\u001b[34mepsilon             \u001b[39m: 0.25\n",
      "\u001b[34mncpus               \u001b[39m: 16\n",
      "\u001b[34mtype_bc             \u001b[39m: 2\n",
      "\u001b[34mattemps             \u001b[39m: 4\n",
      "\u001b[34mAdjust              \u001b[39m: False\n",
      "\u001b[34mnfixed              \u001b[39m: 3\n",
      "\u001b[34mnsteps              \u001b[39m: 2\n",
      "\u001b[34mnonlinear           \u001b[39m: True\n",
      "\u001b[34mcylindrical         \u001b[39m: True\n",
      "\u001b[34mnruns               \u001b[39m: 1\n",
      "\u001b[34minflation_path      \u001b[39m: final/2024-01-10__07-32-31__99756/inflation\n",
      "\u001b[34mcoment              \u001b[39m: Presion intermedia, para ver como afecta esto a la curva stress strain, además aumentamos el desplazamiento a 4 mm  con 10 steps\n"
     ]
    }
   ],
   "source": [
    "params_simu = simulation_default()\n",
    "params_simu[\"young\"]         = 1500      # MPa\n",
    "params_simu[\"poisson\"]       = 0.37 # Pa\n",
    "params_simu[\"epsilon\"]       = 0.25\n",
    "params_simu[\"inflation_path\"] = inflation_path\n",
    "params_simu[\"nsteps\"]    = 2\n",
    "params_simu[\"nruns\"]    = 1\n",
    "params_simu[\"nonlinear\"]   = True\n",
    "params_simu[\"Adjust\"] = False\n",
    "params_simu[\"cylindrical\"] = True\n",
    "params_simu[\"type_bc\"]      = 2\n",
    "params_simu[\"coment\"] = \"Presion intermedia, para ver como afecta esto a la curva stress strain, además aumentamos el desplazamiento a 4 mm  con 10 steps\"\n",
    "\n",
    "params_simu[\"ncpus\"] = 16 # number of cpus\n",
    "pprint(params_simu)"
   ]
  },
  {
   "cell_type": "code",
   "execution_count": 6,
   "metadata": {},
   "outputs": [
    {
     "name": "stdout",
     "output_type": "stream",
     "text": [
      "Running Calculix at:  output/2024-01-10__12-29-06__55977\n",
      "Command:\n",
      " wine /home/djoroya/projects/DIMAT/01_TECNORED_BRAID_v2/github/src/dependences/calculix/ccx_static.exe init_new > out.txt\n",
      "Error reading cvf file\n",
      "\n",
      "pid:  3716962 \n",
      "\n"
     ]
    },
    {
     "ename": "KeyboardInterrupt",
     "evalue": "",
     "output_type": "error",
     "traceback": [
      "\u001b[0;31m---------------------------------------------------------------------------\u001b[0m",
      "\u001b[0;31mKeyboardInterrupt\u001b[0m                         Traceback (most recent call last)",
      "Cell \u001b[0;32mIn[6], line 1\u001b[0m\n\u001b[0;32m----> 1\u001b[0m \u001b[43mRunSimulation\u001b[49m\u001b[43m(\u001b[49m\u001b[43mparams_simu\u001b[49m\u001b[43m,\u001b[49m\u001b[43mout_simula\u001b[49m\u001b[43m)\u001b[49m\n",
      "File \u001b[0;32m~/projects/DIMAT/01_TECNORED_BRAID_v2/github/src/tools/step/runstep.py:33\u001b[0m, in \u001b[0;36mrunstep.<locals>.wa\u001b[0;34m(*args, **kwargs)\u001b[0m\n\u001b[1;32m     30\u001b[0m t \u001b[38;5;241m=\u001b[39m time\u001b[38;5;241m.\u001b[39mtime()\n\u001b[1;32m     32\u001b[0m \u001b[38;5;28;01mtry\u001b[39;00m:\n\u001b[0;32m---> 33\u001b[0m     \u001b[43mfunc\u001b[49m\u001b[43m(\u001b[49m\u001b[38;5;241;43m*\u001b[39;49m\u001b[43margs\u001b[49m\u001b[43m,\u001b[49m\u001b[43m \u001b[49m\u001b[38;5;241;43m*\u001b[39;49m\u001b[38;5;241;43m*\u001b[39;49m\u001b[43mkwargs\u001b[49m\u001b[43m)\u001b[49m\n\u001b[1;32m     34\u001b[0m     err \u001b[38;5;241m=\u001b[39m \u001b[38;5;241m0\u001b[39m\n\u001b[1;32m     35\u001b[0m \u001b[38;5;28;01mexcept\u001b[39;00m \u001b[38;5;167;01mException\u001b[39;00m \u001b[38;5;28;01mas\u001b[39;00m e:\n",
      "File \u001b[0;32m~/projects/DIMAT/01_TECNORED_BRAID_v2/github/src/models/YarnBraid/simulation/RunSimulation.py:35\u001b[0m, in \u001b[0;36mRunSimulation\u001b[0;34m(params, output_folder, callback)\u001b[0m\n\u001b[1;32m     32\u001b[0m \u001b[38;5;66;03m# ==============================================================================\u001b[39;00m\n\u001b[1;32m     33\u001b[0m callback() \u001b[38;5;28;01mif\u001b[39;00m callback \u001b[38;5;28;01melse\u001b[39;00m \u001b[38;5;28;01mNone\u001b[39;00m\n\u001b[0;32m---> 35\u001b[0m error,cmd \u001b[38;5;241m=\u001b[39m \u001b[43mrunccx\u001b[49m\u001b[43m(\u001b[49m\u001b[43moutput_folder\u001b[49m\u001b[43m,\u001b[49m\n\u001b[1;32m     36\u001b[0m \u001b[43m                   \u001b[49m\u001b[43mname_inp\u001b[49m\u001b[38;5;241;43m=\u001b[39;49m\u001b[38;5;124;43m\"\u001b[39;49m\u001b[38;5;124;43minit_new\u001b[39;49m\u001b[38;5;124;43m\"\u001b[39;49m\u001b[43m,\u001b[49m\n\u001b[1;32m     37\u001b[0m \u001b[43m                   \u001b[49m\u001b[43matt\u001b[49m\u001b[38;5;241;43m=\u001b[39;49m\u001b[43mparams\u001b[49m\u001b[43m[\u001b[49m\u001b[38;5;124;43m\"\u001b[39;49m\u001b[38;5;124;43mattemps\u001b[39;49m\u001b[38;5;124;43m\"\u001b[39;49m\u001b[43m]\u001b[49m\u001b[43m)\u001b[49m\n\u001b[1;32m     39\u001b[0m \u001b[38;5;28;01mif\u001b[39;00m params[\u001b[38;5;124m\"\u001b[39m\u001b[38;5;124mnruns\u001b[39m\u001b[38;5;124m\"\u001b[39m] \u001b[38;5;241m>\u001b[39m \u001b[38;5;241m1\u001b[39m:\n\u001b[1;32m     40\u001b[0m     \u001b[38;5;66;03m#copy init_new.rout to init_new_1.rin\u001b[39;00m\n\u001b[1;32m     41\u001b[0m     rout \u001b[38;5;241m=\u001b[39m join(output_folder,\u001b[38;5;124m\"\u001b[39m\u001b[38;5;124minit_new.rout\u001b[39m\u001b[38;5;124m\"\u001b[39m)\n",
      "File \u001b[0;32m~/projects/DIMAT/01_TECNORED_BRAID_v2/github/src/tools/calculix/runccx.py:105\u001b[0m, in \u001b[0;36mrunccx\u001b[0;34m(output_folder, name_inp, att, OMP_NUM_THREADS, outtxt)\u001b[0m\n\u001b[1;32m    102\u001b[0m     process\u001b[38;5;241m.\u001b[39mwait()\n\u001b[1;32m    104\u001b[0m \u001b[38;5;28;01mtry\u001b[39;00m:\n\u001b[0;32m--> 105\u001b[0m     \u001b[43mrun\u001b[49m\u001b[43m(\u001b[49m\u001b[43m)\u001b[49m\n\u001b[1;32m    106\u001b[0m     error \u001b[38;5;241m=\u001b[39m \u001b[38;5;241m0\u001b[39m\n\u001b[1;32m    107\u001b[0m \u001b[38;5;28;01mexcept\u001b[39;00m \u001b[38;5;167;01mException\u001b[39;00m \u001b[38;5;28;01mas\u001b[39;00m e:\n",
      "File \u001b[0;32m~/projects/DIMAT/01_TECNORED_BRAID_v2/github/src/tools/viewer/viewer.py:20\u001b[0m, in \u001b[0;36mluncher.<locals>.wrapper\u001b[0;34m()\u001b[0m\n\u001b[1;32m     18\u001b[0m \u001b[38;5;28;01mwhile\u001b[39;00m t\u001b[38;5;241m.\u001b[39mis_alive() \u001b[38;5;129;01mand\u001b[39;00m \u001b[38;5;129;01mnot\u001b[39;00m stopper():\n\u001b[1;32m     19\u001b[0m     elapsed \u001b[38;5;241m+\u001b[39m\u001b[38;5;241m=\u001b[39m \u001b[38;5;241m1\u001b[39m\n\u001b[0;32m---> 20\u001b[0m     \u001b[43mviewer\u001b[49m\u001b[43m(\u001b[49m\u001b[43melapsed\u001b[49m\u001b[43m,\u001b[49m\u001b[43mp\u001b[49m\u001b[43m)\u001b[49m\n\u001b[1;32m     21\u001b[0m \u001b[38;5;28;01mif\u001b[39;00m stopper():\n\u001b[1;32m     22\u001b[0m     \u001b[38;5;66;03m# kill thread\u001b[39;00m\n\u001b[1;32m     23\u001b[0m     \u001b[38;5;28mprint\u001b[39m(\u001b[38;5;124m\"\u001b[39m\u001b[38;5;124mSimulation failed\u001b[39m\u001b[38;5;124m\"\u001b[39m)\n",
      "File \u001b[0;32m~/projects/DIMAT/01_TECNORED_BRAID_v2/github/src/tools/calculix/runccx.py:37\u001b[0m, in \u001b[0;36mrunccx.<locals>.viewer\u001b[0;34m(elapsed, p)\u001b[0m\n\u001b[1;32m     34\u001b[0m     p[\u001b[38;5;124m\"\u001b[39m\u001b[38;5;124mnlines_showed\u001b[39m\u001b[38;5;124m\"\u001b[39m] \u001b[38;5;241m=\u001b[39m p[\u001b[38;5;124m\"\u001b[39m\u001b[38;5;124mnlines_showed\u001b[39m\u001b[38;5;124m\"\u001b[39m] \u001b[38;5;241m+\u001b[39m \u001b[38;5;241m1\u001b[39m\n\u001b[1;32m     36\u001b[0m \u001b[38;5;28;01mif\u001b[39;00m nlines_showed \u001b[38;5;241m==\u001b[39m \u001b[38;5;241m0\u001b[39m:\n\u001b[0;32m---> 37\u001b[0m     \u001b[43mtime\u001b[49m\u001b[38;5;241;43m.\u001b[39;49m\u001b[43msleep\u001b[49m\u001b[43m(\u001b[49m\u001b[38;5;241;43m10\u001b[39;49m\u001b[43m)\u001b[49m\n",
      "\u001b[0;31mKeyboardInterrupt\u001b[0m: "
     ]
    }
   ],
   "source": [
    "RunSimulation(params_simu,out_simula)"
   ]
  }
 ],
 "metadata": {
  "kernelspec": {
   "display_name": "TECNORED",
   "language": "python",
   "name": "python3"
  },
  "language_info": {
   "codemirror_mode": {
    "name": "ipython",
    "version": 3
   },
   "file_extension": ".py",
   "mimetype": "text/x-python",
   "name": "python",
   "nbconvert_exporter": "python",
   "pygments_lexer": "ipython3",
   "version": "3.12.0"
  }
 },
 "nbformat": 4,
 "nbformat_minor": 2
}
