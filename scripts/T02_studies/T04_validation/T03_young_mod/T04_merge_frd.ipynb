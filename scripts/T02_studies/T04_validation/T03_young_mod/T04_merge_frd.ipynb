{
 "cells": [
  {
   "cell_type": "code",
   "execution_count": 10,
   "metadata": {},
   "outputs": [],
   "source": [
    "path = \"/home/djoroya/projects/DIMAT/01_TECNORED_BRAID_v2/github/scripts/C02_YarnBraid/T04_validation/T03_young_mod/output/2024-01-09__09-12-45__37263\"\n",
    "path = \"/home/djoroya/projects/DIMAT/01_TECNORED_BRAID_v2/github/scripts/C02_YarnBraid/T04_validation/T03_young_mod/output/2024-01-11__07-56-31__73545\"\n",
    "path = \"/home/djoroya/projects/DIMAT/01_TECNORED_BRAID_v2/github/scripts/C02_YarnBraid/T04_validation/T03_young_mod/output/2024-01-11__16-31-57__56287\"\n",
    "\n",
    "\n",
    "path = \"/home/djoroya/projects/DIMAT/01_TECNORED_BRAID_v2/github/scripts/C02_YarnBraid/T04_validation/T03_young_mod/output/2024-01-15__19-35-12__59553\"\n"
   ]
  },
  {
   "cell_type": "code",
   "execution_count": 11,
   "metadata": {},
   "outputs": [],
   "source": [
    "import glob,os"
   ]
  },
  {
   "cell_type": "code",
   "execution_count": 12,
   "metadata": {},
   "outputs": [],
   "source": [
    "frds = glob.glob(path + \"/*.frd\")\n",
    "# if full_frd file exists, remove of list\n",
    "if path + \"/full.frd\" in frds:\n",
    "    frds.remove(path + \"/full.frd\")\n",
    "\n",
    "frds.sort()\n",
    "# create full_frd file\n",
    "with open(path + \"/full.frd\", \"wb\") as outfile:\n",
    "    for f in frds:\n",
    "        with open(f, \"rb\") as infile:\n",
    "            outfile.write(infile.read())\n",
    "outfile.close()\n",
    "# replace "
   ]
  },
  {
   "cell_type": "code",
   "execution_count": 13,
   "metadata": {},
   "outputs": [
    {
     "data": {
      "text/plain": [
       "['/home/djoroya/projects/DIMAT/01_TECNORED_BRAID_v2/github/scripts/C02_YarnBraid/T04_validation/T03_young_mod/output/2024-01-15__19-35-12__59553/init_new.frd',\n",
       " '/home/djoroya/projects/DIMAT/01_TECNORED_BRAID_v2/github/scripts/C02_YarnBraid/T04_validation/T03_young_mod/output/2024-01-15__19-35-12__59553/init_new_2.frd',\n",
       " '/home/djoroya/projects/DIMAT/01_TECNORED_BRAID_v2/github/scripts/C02_YarnBraid/T04_validation/T03_young_mod/output/2024-01-15__19-35-12__59553/init_new_3.frd',\n",
       " '/home/djoroya/projects/DIMAT/01_TECNORED_BRAID_v2/github/scripts/C02_YarnBraid/T04_validation/T03_young_mod/output/2024-01-15__19-35-12__59553/init_new_4.frd']"
      ]
     },
     "execution_count": 13,
     "metadata": {},
     "output_type": "execute_result"
    }
   ],
   "source": [
    "frds"
   ]
  },
  {
   "cell_type": "markdown",
   "metadata": {},
   "source": [
    " *WARNING reading *SURFACE BEHAVIOR: hard\n",
    "          behavior is by default reduced to\n",
    "          linear behavior\n",
    " *WARNING reading *SURFACE BEHAVIOR. Card image:\n",
    "          *SURFACEBEHAVIOR,PRESSURE-OVERCLOSURE=HARD\n",
    "\n",
    " *WARNING reading *SURFACE BEHAVIOR: K must\n",
    "          be strictly positive\n",
    "          the following default will be used:   75000.000000000000     \n",
    "          the user is advised to analyze the results\n",
    "          carefully\n",
    "\n",
    " *INFO reading *SURFACE BEHAVIOR: the tension\n",
    "       value at large clearances\n",
    "       (only relevant for node-to-surface contact)\n",
    "       must be strictly positive\n",
    "       the following default will be used:   2.1428571428571429E-002\n",
    "       the user is advised to analyze the results\n",
    "       carefully"
   ]
  },
  {
   "cell_type": "code",
   "execution_count": 14,
   "metadata": {},
   "outputs": [],
   "source": [
    "import numpy as np"
   ]
  },
  {
   "cell_type": "code",
   "execution_count": 15,
   "metadata": {},
   "outputs": [],
   "source": [
    "E = 1500 #MPa\n",
    "K = 75000.000000000000  #MPa\n",
    "sigma_inf =  2.1428571428571429E-002 "
   ]
  },
  {
   "cell_type": "code",
   "execution_count": 16,
   "metadata": {},
   "outputs": [
    {
     "name": "stdout",
     "output_type": "stream",
     "text": [
      "75000\n",
      "75000.0\n"
     ]
    }
   ],
   "source": [
    "K_compute  = 50*E\n",
    "print(K_compute)\n",
    "print(K)"
   ]
  },
  {
   "cell_type": "code",
   "execution_count": 17,
   "metadata": {},
   "outputs": [],
   "source": [
    "epsilon = 0.25\n",
    "sigma_inf_compute = K*epsilon/np.pi"
   ]
  },
  {
   "cell_type": "code",
   "execution_count": 18,
   "metadata": {},
   "outputs": [
    {
     "name": "stdout",
     "output_type": "stream",
     "text": [
      "5968.310365946076\n",
      "0.02142857142857143\n"
     ]
    }
   ],
   "source": [
    "print(sigma_inf_compute)\n",
    "print(sigma_inf)"
   ]
  },
  {
   "cell_type": "code",
   "execution_count": null,
   "metadata": {},
   "outputs": [],
   "source": []
  }
 ],
 "metadata": {
  "kernelspec": {
   "display_name": "TECNORED",
   "language": "python",
   "name": "python3"
  },
  "language_info": {
   "codemirror_mode": {
    "name": "ipython",
    "version": 3
   },
   "file_extension": ".py",
   "mimetype": "text/x-python",
   "name": "python",
   "nbconvert_exporter": "python",
   "pygments_lexer": "ipython3",
   "version": "3.12.0"
  }
 },
 "nbformat": 4,
 "nbformat_minor": 2
}
