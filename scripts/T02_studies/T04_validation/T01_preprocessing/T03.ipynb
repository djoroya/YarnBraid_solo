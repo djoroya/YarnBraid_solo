{
 "cells": [
  {
   "cell_type": "code",
   "execution_count": 1,
   "metadata": {},
   "outputs": [],
   "source": [
    "import numpy as np"
   ]
  },
  {
   "cell_type": "code",
   "execution_count": 3,
   "metadata": {},
   "outputs": [],
   "source": [
    "F_hilo = 3.241 # Kg\n",
    "F_tren = 177.5 # Kg\n",
    "\n",
    "N =16*4\n",
    "r = 0.27/2\n",
    "A_tren = np.pi*r**2*N\n",
    "\n",
    "A_hilo = np.pi*r**2\n",
    "sigma_tren = F_tren/A_tren\n",
    "sigma_hilo = F_hilo/A_hilo"
   ]
  },
  {
   "cell_type": "code",
   "execution_count": 4,
   "metadata": {},
   "outputs": [
    {
     "name": "stdout",
     "output_type": "stream",
     "text": [
      "sigma_tren =  48.439647460239065\n",
      "sigma_hilo =  56.60588977347959\n"
     ]
    }
   ],
   "source": [
    "print(\"sigma_tren = \", l)\n",
    "print(\"sigma_hilo = \", sigma_hilo)"
   ]
  },
  {
   "cell_type": "code",
   "execution_count": 5,
   "metadata": {},
   "outputs": [
    {
     "data": {
      "text/plain": [
       "0.8557351126195619"
      ]
     },
     "execution_count": 5,
     "metadata": {},
     "output_type": "execute_result"
    }
   ],
   "source": [
    "sigma_tren/sigma_hilo"
   ]
  },
  {
   "cell_type": "code",
   "execution_count": null,
   "metadata": {},
   "outputs": [],
   "source": []
  }
 ],
 "metadata": {
  "kernelspec": {
   "display_name": "Python 3",
   "language": "python",
   "name": "python3"
  },
  "language_info": {
   "codemirror_mode": {
    "name": "ipython",
    "version": 3
   },
   "file_extension": ".py",
   "mimetype": "text/x-python",
   "name": "python",
   "nbconvert_exporter": "python",
   "pygments_lexer": "ipython3",
   "version": "3.11.9"
  }
 },
 "nbformat": 4,
 "nbformat_minor": 2
}
