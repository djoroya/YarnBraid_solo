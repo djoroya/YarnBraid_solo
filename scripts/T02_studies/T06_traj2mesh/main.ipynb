{
 "cells": [
  {
   "cell_type": "code",
   "execution_count": 5,
   "metadata": {},
   "outputs": [],
   "source": [
    "from model.traj2mesh.RunTraj2Mesh import RunTraj2Mesh\n",
    "from model.default import *\n",
    "from tools.basic.path_gen   import path_gen\n",
    "from tools.step.pprint      import pprint\n",
    "import os\n"
   ]
  },
  {
   "cell_type": "code",
   "execution_count": 2,
   "metadata": {},
   "outputs": [],
   "source": [
    "lmp_path = \"/home/djoroya/projects/DIMAT/01_TECNORED_BRAID_v2/github/scripts/C02_YarnBraid/validation/T02_denier/output/2023-12-19__14-21-46__75002/2023-12-19__14-21-46__53375/lammps\""
   ]
  },
  {
   "cell_type": "code",
   "execution_count": 3,
   "metadata": {},
   "outputs": [],
   "source": [
    "p = traj2mesh_default()\n",
    "p[\"lsdyna_params\"][\"lmp_path\"] = lmp_path\n",
    "\n",
    "main_path = os.path.join(\"output/\", path_gen())"
   ]
  },
  {
   "cell_type": "code",
   "execution_count": 4,
   "metadata": {},
   "outputs": [
    {
     "name": "stdout",
     "output_type": "stream",
     "text": [
      "\u001b[32mRunning lsdyna\u001b[0m\n",
      "\u001b[32m====================================\u001b[0m\n"
     ]
    },
    {
     "data": {
      "application/vnd.jupyter.widget-view+json": {
       "model_id": "eb04392d8f114bf7bd29c08ae7e37023",
       "version_major": 2,
       "version_minor": 0
      },
      "text/plain": [
       "  0%|          | 0/64 [00:00<?, ?it/s]"
      ]
     },
     "metadata": {},
     "output_type": "display_data"
    },
    {
     "name": "stdout",
     "output_type": "stream",
     "text": [
      "\u001b[32mRunning gmsh\u001b[0m\n",
      "\u001b[32m====================================\u001b[0m\n"
     ]
    },
    {
     "name": "stderr",
     "output_type": "stream",
     "text": [
      "64it [00:40,  1.59it/s]\n"
     ]
    }
   ],
   "source": [
    "RunTraj2Mesh(p, main_path)"
   ]
  },
  {
   "cell_type": "code",
   "execution_count": 6,
   "metadata": {},
   "outputs": [
    {
     "name": "stdout",
     "output_type": "stream",
     "text": [
      "\u001b[34melapsed             \u001b[39m: 0 h  -  2 m  -  17.9 s\n",
      "\u001b[32merror               \u001b[32m: 0\n",
      "\u001b[32merror_msg           \u001b[32m: Correct Execution\n",
      "\u001b[34mverbose             \u001b[39m: True\n",
      "\u001b[34mlsdyna_params       \u001b[39m: \n",
      "\t- elapsed\n",
      "\t-error\n",
      "\t-error_msg\n",
      "\t-verbose\n",
      "\t-radius\n",
      "\t-factor_npoints\n",
      "\t-align\n",
      "\t-lmp_path\n",
      "\t-output_folder\n",
      "\t-init_time\n",
      "\t-...\n",
      "\u001b[34mgmsh_params         \u001b[39m: \n",
      "\t- elapsed\n",
      "\t-error\n",
      "\t-error_msg\n",
      "\t-verbose\n",
      "\t-size_element\n",
      "\t-Algorithm\n",
      "\t-factor\n",
      "\t-lsdyna_path\n",
      "\t-output_folder\n",
      "\t-init_time\n",
      "\t-...\n",
      "\u001b[34moutput_folder       \u001b[39m: output/2023-12-20__09-08-17__14038\n",
      "\u001b[34minit_time           \u001b[39m: 2023-12-20 09:08:17\n",
      "\u001b[34mfinal_time          \u001b[39m: 2023-12-20 09:10:35\n"
     ]
    }
   ],
   "source": [
    "pprint(p)"
   ]
  },
  {
   "cell_type": "code",
   "execution_count": null,
   "metadata": {},
   "outputs": [],
   "source": []
  }
 ],
 "metadata": {
  "kernelspec": {
   "display_name": "TECNORED",
   "language": "python",
   "name": "python3"
  },
  "language_info": {
   "codemirror_mode": {
    "name": "ipython",
    "version": 3
   },
   "file_extension": ".py",
   "mimetype": "text/x-python",
   "name": "python",
   "nbconvert_exporter": "python",
   "pygments_lexer": "ipython3",
   "version": "3.12.0"
  }
 },
 "nbformat": 4,
 "nbformat_minor": 2
}
