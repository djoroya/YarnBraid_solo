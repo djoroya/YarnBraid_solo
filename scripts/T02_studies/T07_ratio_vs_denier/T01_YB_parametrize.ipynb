{
 "cells": [
  {
   "cell_type": "code",
   "execution_count": 1,
   "metadata": {},
   "outputs": [],
   "source": [
    "from tools.step.pprint import pprint\n",
    "from tools.basic.path_gen import path_gen\n",
    "from tools.parametrize.parametrize import parametrize\n",
    "\n",
    "import os\n",
    "import numpy as np\n",
    "\n",
    "from model.default import default,simulation_default\n",
    "\n",
    "from functions.RunRatioDenier import RunRatioDenier"
   ]
  },
  {
   "cell_type": "code",
   "execution_count": 2,
   "metadata": {},
   "outputs": [],
   "source": [
    "# Creamos la carpeta de salida\n",
    "main_path = os.path.join(\"output\",path_gen())\n",
    "if not os.path.exists(main_path):\n",
    "    os.makedirs(main_path)"
   ]
  },
  {
   "cell_type": "code",
   "execution_count": 3,
   "metadata": {},
   "outputs": [],
   "source": [
    "r = default()"
   ]
  },
  {
   "attachments": {},
   "cell_type": "markdown",
   "metadata": {},
   "source": [
    "# Valores Constantes"
   ]
  },
  {
   "cell_type": "code",
   "execution_count": 4,
   "metadata": {},
   "outputs": [],
   "source": [
    "if os.name == 'nt':\n",
    "    path_params = r\"C:\\Users\\Jesus\\Documents\\GitHub\\YarnBraid\\scripts\\C02_YarnBraid\\T04_validation\\T02_denier\\final\\2024-01-19__09-34-12__36142\\init.json\"\n",
    "else:\n",
    "    path_params = \"/home/djoroya/projects/DIMAT/01_TECNORED_BRAID_v2/github/scripts/C02_YarnBraid/T04_validation/T02_denier/final/2024-01-12__13-22-48__70264/init.json\"\n",
    "    \n",
    "from tools.basic.loadsavejson import loadjson \n",
    "\n",
    "params = loadjson(path_params)\n",
    "\n",
    "params[\"gmsh\"][\"factor\"] = 1.2"
   ]
  },
  {
   "cell_type": "code",
   "execution_count": 5,
   "metadata": {},
   "outputs": [],
   "source": [
    "params_simu = simulation_default()\n",
    "params_simu[\"young\"]         = 1500      # MPa\n",
    "params_simu[\"poisson\"]       = 0.37 # Pa\n",
    "params_simu[\"epsilon\"]       = 0.25\n",
    "params_simu[\"nsteps\"]    = 3\n",
    "params_simu[\"nruns\"]    = 3\n",
    "params_simu[\"nonlinear\"]   = False\n",
    "params_simu[\"Adjust\"] = False\n",
    "params_simu[\"cylindrical\"] = True\n",
    "params_simu[\"type_bc\"]      = 2\n",
    "params_simu[\"surface_interaction\"][\"type\"]  = \"linear\"\n",
    "params_simu[\"surface_interaction\"][\"factor_E\"] = 50\n",
    "params_simu[\"calculix_dynamic\"] = True\n",
    "params[\"simulation\"] = params_simu"
   ]
  },
  {
   "cell_type": "code",
   "execution_count": 6,
   "metadata": {},
   "outputs": [],
   "source": [
    "\n",
    "params[\"lsdyna\"][\"factor_npoints\"] = 0.9\n",
    "params[\"lsdyna\"][\"hmax\"] = 5\n",
    "params[\"inflation\"][\"ncpus\"] = 2\n",
    "params[\"simulation\"][\"ncpus\"] = 2"
   ]
  },
  {
   "cell_type": "code",
   "execution_count": 7,
   "metadata": {},
   "outputs": [
    {
     "data": {
      "text/plain": [
       "{'lammps': {'elapsed': 0,\n",
       "  'error': 1,\n",
       "  'error_msg': 'No execution',\n",
       "  'verbose': True,\n",
       "  'Npoints': 250,\n",
       "  'hilo_central': 40,\n",
       "  'theta': 1.1344640137963142,\n",
       "  'factor': 4,\n",
       "  'Remesh': False,\n",
       "  'RUN_STEPS_EQ': 1,\n",
       "  'RUN_STEPS_DEFORM': 1000,\n",
       "  'errate': 0,\n",
       "  'nhilos': 4,\n",
       "  'dist_factor': 1.1,\n",
       "  'r0_factor': 0.0005,\n",
       "  'V0_bond': 200000.0,\n",
       "  'r_hebra': 0.135,\n",
       "  'external_hilos': False,\n",
       "  'recompute_dist': False,\n",
       "  'recompute_factor': 1,\n",
       "  'yukawa': {'A': 6000.0, 'kappa': 1.0, 'cutoff': None}},\n",
       " 'lsdyna': {'elapsed': 0,\n",
       "  'error': 1,\n",
       "  'error_msg': 'No execution',\n",
       "  'verbose': True,\n",
       "  'radius': None,\n",
       "  'factor_npoints': 0.9,\n",
       "  'align': False,\n",
       "  'factor': 0.8,\n",
       "  'hmax': 5},\n",
       " 'gmsh': {'elapsed': 0,\n",
       "  'error': 1,\n",
       "  'error_msg': 'No execution',\n",
       "  'verbose': True,\n",
       "  'size_element': None,\n",
       "  'Algorithm': 2,\n",
       "  'factor': 1.2},\n",
       " 'inflation': {'elapsed': 0,\n",
       "  'error': 1,\n",
       "  'error_msg': 'No execution',\n",
       "  'verbose': True,\n",
       "  'pressure': 800,\n",
       "  'ncpus': 2,\n",
       "  'attemps': 4,\n",
       "  'surface_behavior': {'type': 'hard', 'dist': 0.1, 'pressure': 1000},\n",
       "  'radius_target': 2.0,\n",
       "  'rho': 0.00097},\n",
       " 'simulation': {'elapsed': 0,\n",
       "  'error': 1,\n",
       "  'error_msg': 'No execution',\n",
       "  'verbose': True,\n",
       "  'young': 1500,\n",
       "  'poisson': 0.37,\n",
       "  'epsilon': 0.25,\n",
       "  'ncpus': 2,\n",
       "  'type_bc': 2,\n",
       "  'attemps': 4,\n",
       "  'Adjust': False,\n",
       "  'nfixed': 3,\n",
       "  'nsteps': 3,\n",
       "  'nonlinear': False,\n",
       "  'cylindrical': True,\n",
       "  'nruns': 3,\n",
       "  'surface_interaction': {'type': 'linear', 'factor_E': 50},\n",
       "  'max_mono': None,\n",
       "  'calculix_dynamic': True},\n",
       " 'comment': 'Inflado a 800 kPa Long high density mesh',\n",
       " 'only_lammps': False}"
      ]
     },
     "execution_count": 7,
     "metadata": {},
     "output_type": "execute_result"
    }
   ],
   "source": [
    "params"
   ]
  },
  {
   "cell_type": "code",
   "execution_count": 8,
   "metadata": {},
   "outputs": [],
   "source": [
    "def default_values():\n",
    "    return params"
   ]
  },
  {
   "attachments": {},
   "cell_type": "markdown",
   "metadata": {},
   "source": [
    "# Variables"
   ]
  },
  {
   "cell_type": "code",
   "execution_count": 9,
   "metadata": {},
   "outputs": [],
   "source": [
    "vars = dict()\n",
    "\n",
    "vars[\"theta\"] =  {\"span\"  :   np.linspace(60, 80, 5)*np.pi/180,\n",
    "              \"path\"  :  [\"lammps\", \"theta\"]}\n"
   ]
  },
  {
   "cell_type": "code",
   "execution_count": null,
   "metadata": {},
   "outputs": [],
   "source": []
  },
  {
   "attachments": {},
   "cell_type": "markdown",
   "metadata": {},
   "source": [
    "# Loop over all the variables"
   ]
  },
  {
   "cell_type": "code",
   "execution_count": 10,
   "metadata": {},
   "outputs": [
    {
     "name": "stdout",
     "output_type": "stream",
     "text": [
      "output\\2024-01-23__08-26-50__63982\n"
     ]
    }
   ],
   "source": [
    "print(main_path)"
   ]
  },
  {
   "cell_type": "code",
   "execution_count": 11,
   "metadata": {},
   "outputs": [
    {
     "data": {
      "text/html": [
       "<h3>Parametrization (4/5)    [<span style='color: green'>2024-Jan-23   |  08:26</span>] - [<span style='color:green'>2024-Jan-23   |  17:33</span>]  </h3><h4>Elapsed time: 25241.35 s</h4><h4>Estimated end: 2024-Jan-24   |  00:34</h4><table border=\"1\" class=\"dataframe\">\n",
       "  <thead>\n",
       "    <tr style=\"text-align: right;\">\n",
       "      <th style=\"border: 1px solid black;\">ID</th>\n",
       "      <th style=\"border: 1px solid black;\">name</th>\n",
       "      <th style=\"border: 1px solid black;\">Status</th>\n",
       "      <th style=\"border: 1px solid black;\">theta</th>\n",
       "      <th style=\"border: 1px solid black;\">Loading</th>\n",
       "      <th style=\"border: 1px solid black;\">Date</th>\n",
       "      <th style=\"border: 1px solid black;\">time</th>\n",
       "    </tr>\n",
       "  </thead>\n",
       "  <tbody>\n",
       "    <tr>\n",
       "      <td style=\"border: 1px solid black;\">1</td>\n",
       "      <td style=\"border: 1px solid black;\">Exp-1</td>\n",
       "      <td style=\"border: 1px solid black;\">✅</td>\n",
       "      <td style=\"border: 1px solid black;\">1.05e+00</td>\n",
       "      <td style=\"border: 1px solid black;\"><div style='text-align: left;'><font color=\"green\">(4/4) </font>▉▉▉▉▉▉▉▉</div></td>\n",
       "      <td style=\"border: 1px solid black;\">2024-Jan-23   |  10:14</td>\n",
       "      <td style=\"border: 1px solid black;\">6455.85</td>\n",
       "    </tr>\n",
       "    <tr>\n",
       "      <td style=\"border: 1px solid black;\">2</td>\n",
       "      <td style=\"border: 1px solid black;\">Exp-2</td>\n",
       "      <td style=\"border: 1px solid black;\">✅</td>\n",
       "      <td style=\"border: 1px solid black;\">1.13e+00</td>\n",
       "      <td style=\"border: 1px solid black;\"><div style='text-align: left;'><font color=\"green\">(4/4) </font>▉▉▉▉▉▉▉▉</div></td>\n",
       "      <td style=\"border: 1px solid black;\">2024-Jan-23   |  11:57</td>\n",
       "      <td style=\"border: 1px solid black;\">6179.00</td>\n",
       "    </tr>\n",
       "    <tr>\n",
       "      <td style=\"border: 1px solid black;\">3</td>\n",
       "      <td style=\"border: 1px solid black;\">Exp-3</td>\n",
       "      <td style=\"border: 1px solid black;\">✅</td>\n",
       "      <td style=\"border: 1px solid black;\">1.22e+00</td>\n",
       "      <td style=\"border: 1px solid black;\"><div style='text-align: left;'><font color=\"green\">(4/4) </font>▉▉▉▉▉▉▉▉</div></td>\n",
       "      <td style=\"border: 1px solid black;\">2024-Jan-23   |  13:47</td>\n",
       "      <td style=\"border: 1px solid black;\">6633.00</td>\n",
       "    </tr>\n",
       "    <tr>\n",
       "      <td style=\"border: 1px solid black;\">4</td>\n",
       "      <td style=\"border: 1px solid black;\">Exp-4</td>\n",
       "      <td style=\"border: 1px solid black;\">✅</td>\n",
       "      <td style=\"border: 1px solid black;\">1.31e+00</td>\n",
       "      <td style=\"border: 1px solid black;\"><div style='text-align: left;'><font color=\"green\">(4/4) </font>▉▉▉▉▉▉▉▉</div></td>\n",
       "      <td style=\"border: 1px solid black;\">2024-Jan-23   |  15:27</td>\n",
       "      <td style=\"border: 1px solid black;\">5973.50</td>\n",
       "    </tr>\n",
       "    <tr>\n",
       "      <td style=\"border: 1px solid black;\">5</td>\n",
       "      <td style=\"border: 1px solid black;\">Exp-5</td>\n",
       "      <td style=\"border: 1px solid black;\">✅</td>\n",
       "      <td style=\"border: 1px solid black;\">1.40e+00</td>\n",
       "      <td style=\"border: 1px solid black;\"><div style='text-align: left;'><font color=\"green\">(4/4) </font>▉▉▉▉▉▉▉▉</div></td>\n",
       "      <td style=\"border: 1px solid black;\">2024-Jan-23   |  17:33</td>\n",
       "      <td style=\"border: 1px solid black;\">7586.68</td>\n",
       "    </tr>\n",
       "  </tbody>\n",
       "</table>"
      ],
      "text/plain": [
       "<IPython.core.display.HTML object>"
      ]
     },
     "metadata": {},
     "output_type": "display_data"
    }
   ],
   "source": [
    "parametrize( main_path = main_path,  # path to save the output\n",
    "             Run       = RunRatioDenier,      # function to run\n",
    "             vars      = vars,       # variables to parametrize\n",
    "             default   = default_values)    # default values"
   ]
  }
 ],
 "metadata": {
  "kernelspec": {
   "display_name": "TECNORED",
   "language": "python",
   "name": "python3"
  },
  "language_info": {
   "codemirror_mode": {
    "name": "ipython",
    "version": 3
   },
   "file_extension": ".py",
   "mimetype": "text/x-python",
   "name": "python",
   "nbconvert_exporter": "python",
   "pygments_lexer": "ipython3",
   "version": "3.12.0"
  }
 },
 "nbformat": 4,
 "nbformat_minor": 2
}
