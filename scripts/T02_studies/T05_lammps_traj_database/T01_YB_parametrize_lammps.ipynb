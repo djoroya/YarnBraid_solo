{
 "cells": [
  {
   "cell_type": "code",
   "execution_count": 1,
   "metadata": {},
   "outputs": [],
   "source": [
    "from tools.step.pprint import pprint\n",
    "from tools.basic.path_gen import path_gen\n",
    "from tools.parametrize.parametrize import parametrize\n",
    "\n",
    "import os\n",
    "import numpy as np\n",
    "\n",
    "from models.direct.lammpshard.RunLammps         import RunLammps\n",
    "from model.default import lmp_default"
   ]
  },
  {
   "cell_type": "code",
   "execution_count": 2,
   "metadata": {},
   "outputs": [],
   "source": [
    "# Creamos la carpeta de salida\n",
    "main_path = os.path.join(\"output/\",path_gen())\n",
    "if not os.path.exists(main_path):\n",
    "    os.makedirs(main_path)"
   ]
  },
  {
   "attachments": {},
   "cell_type": "markdown",
   "metadata": {},
   "source": [
    "# Valores Constantes"
   ]
  },
  {
   "cell_type": "code",
   "execution_count": 3,
   "metadata": {},
   "outputs": [],
   "source": [
    "def default_values():\n",
    "    r = lmp_default() # Valores por defecto\n",
    "\n",
    "    r[\"hilo_central\"]     = 40\n",
    "    r[\"errate\"]           = 0\n",
    "    r[\"Npoints\"]          = 200\n",
    "    r[\"RUN_STEPS_DEFORM\"] = 1000\n",
    "    r[\"RUN_STEPS_EQ\"]     = 1\n",
    "    r[\"errate\"]           = 0\n",
    "    r[\"nhilos\"]           = 4 \n",
    "    r[\"r_hebra\"]          = 0.27/2 # mm\n",
    "    r[\"dist_factor\"]      = 1.1\n",
    "    r[\"r0_factor\"]        = 0.0005\n",
    "    r[\"yukawa\"][\"A\"]      = 5e3\n",
    "    r[\"recompute_dist\"]   = True\n",
    "    r[\"Remesh\"]           = False\n",
    "    r[\"V0_bond\"]          = 2e5\n",
    "    return r"
   ]
  },
  {
   "attachments": {},
   "cell_type": "markdown",
   "metadata": {},
   "source": [
    "# Variables"
   ]
  },
  {
   "cell_type": "code",
   "execution_count": 4,
   "metadata": {},
   "outputs": [],
   "source": [
    "vars = dict()\n",
    "theta_span = np.linspace(30, 60, 10)*np.pi/180\n",
    "vars[\"h\"] =  {\"span\"  :  theta_span,\n",
    "              \"path\"  :  [\"theta\"]}\n"
   ]
  },
  {
   "attachments": {},
   "cell_type": "markdown",
   "metadata": {},
   "source": [
    "# Loop over all the variables"
   ]
  },
  {
   "cell_type": "code",
   "execution_count": 5,
   "metadata": {},
   "outputs": [
    {
     "name": "stdout",
     "output_type": "stream",
     "text": [
      "output/2024-01-09__10-39-03__86160\n"
     ]
    }
   ],
   "source": [
    "print(main_path)"
   ]
  },
  {
   "cell_type": "code",
   "execution_count": 6,
   "metadata": {},
   "outputs": [
    {
     "data": {
      "text/html": [
       "<h3>Parametrization (9/10)    [<span style='color: green'>2024-Jan-09   |  10:39</span>] - [<span style='color:green'>2024-Jan-09   |  10:45</span>]  </h3><h4>Elapsed time: 365.49 s</h4><h4>Estimated end: 2024-Jan-09   |  10:51</h4><table border=\"1\" class=\"dataframe\">\n",
       "  <thead>\n",
       "    <tr style=\"text-align: right;\">\n",
       "      <th style=\"border: 1px solid black;\">ID</th>\n",
       "      <th style=\"border: 1px solid black;\">name</th>\n",
       "      <th style=\"border: 1px solid black;\">Status</th>\n",
       "      <th style=\"border: 1px solid black;\">h</th>\n",
       "      <th style=\"border: 1px solid black;\">Loading</th>\n",
       "      <th style=\"border: 1px solid black;\">Date</th>\n",
       "      <th style=\"border: 1px solid black;\">time</th>\n",
       "    </tr>\n",
       "  </thead>\n",
       "  <tbody>\n",
       "    <tr>\n",
       "      <td style=\"border: 1px solid black;\">1</td>\n",
       "      <td style=\"border: 1px solid black;\">Exp-1</td>\n",
       "      <td style=\"border: 1px solid black;\">✅</td>\n",
       "      <td style=\"border: 1px solid black;\">5.24e-01</td>\n",
       "      <td style=\"border: 1px solid black;\"><div style='text-align: left;'><font color=\"green\">(2/2) </font>▉▉▉▉▉▉▉▉</div></td>\n",
       "      <td style=\"border: 1px solid black;\">2024-Jan-09   |  10:39</td>\n",
       "      <td style=\"border: 1px solid black;\">33.35</td>\n",
       "    </tr>\n",
       "    <tr>\n",
       "      <td style=\"border: 1px solid black;\">2</td>\n",
       "      <td style=\"border: 1px solid black;\">Exp-2</td>\n",
       "      <td style=\"border: 1px solid black;\">✅</td>\n",
       "      <td style=\"border: 1px solid black;\">5.82e-01</td>\n",
       "      <td style=\"border: 1px solid black;\"><div style='text-align: left;'><font color=\"green\">(2/2) </font>▉▉▉▉▉▉▉▉</div></td>\n",
       "      <td style=\"border: 1px solid black;\">2024-Jan-09   |  10:40</td>\n",
       "      <td style=\"border: 1px solid black;\">36.57</td>\n",
       "    </tr>\n",
       "    <tr>\n",
       "      <td style=\"border: 1px solid black;\">3</td>\n",
       "      <td style=\"border: 1px solid black;\">Exp-3</td>\n",
       "      <td style=\"border: 1px solid black;\">✅</td>\n",
       "      <td style=\"border: 1px solid black;\">6.40e-01</td>\n",
       "      <td style=\"border: 1px solid black;\"><div style='text-align: left;'><font color=\"green\">(2/2) </font>▉▉▉▉▉▉▉▉</div></td>\n",
       "      <td style=\"border: 1px solid black;\">2024-Jan-09   |  10:40</td>\n",
       "      <td style=\"border: 1px solid black;\">36.20</td>\n",
       "    </tr>\n",
       "    <tr>\n",
       "      <td style=\"border: 1px solid black;\">4</td>\n",
       "      <td style=\"border: 1px solid black;\">Exp-4</td>\n",
       "      <td style=\"border: 1px solid black;\">✅</td>\n",
       "      <td style=\"border: 1px solid black;\">6.98e-01</td>\n",
       "      <td style=\"border: 1px solid black;\"><div style='text-align: left;'><font color=\"green\">(2/2) </font>▉▉▉▉▉▉▉▉</div></td>\n",
       "      <td style=\"border: 1px solid black;\">2024-Jan-09   |  10:41</td>\n",
       "      <td style=\"border: 1px solid black;\">41.92</td>\n",
       "    </tr>\n",
       "    <tr>\n",
       "      <td style=\"border: 1px solid black;\">5</td>\n",
       "      <td style=\"border: 1px solid black;\">Exp-5</td>\n",
       "      <td style=\"border: 1px solid black;\">✅</td>\n",
       "      <td style=\"border: 1px solid black;\">7.56e-01</td>\n",
       "      <td style=\"border: 1px solid black;\"><div style='text-align: left;'><font color=\"green\">(2/2) </font>▉▉▉▉▉▉▉▉</div></td>\n",
       "      <td style=\"border: 1px solid black;\">2024-Jan-09   |  10:42</td>\n",
       "      <td style=\"border: 1px solid black;\">45.82</td>\n",
       "    </tr>\n",
       "    <tr>\n",
       "      <td style=\"border: 1px solid black;\">6</td>\n",
       "      <td style=\"border: 1px solid black;\">Exp-6</td>\n",
       "      <td style=\"border: 1px solid black;\">✅</td>\n",
       "      <td style=\"border: 1px solid black;\">8.14e-01</td>\n",
       "      <td style=\"border: 1px solid black;\"><div style='text-align: left;'><font color=\"green\">(2/2) </font>▉▉▉▉▉▉▉▉</div></td>\n",
       "      <td style=\"border: 1px solid black;\">2024-Jan-09   |  10:43</td>\n",
       "      <td style=\"border: 1px solid black;\">45.24</td>\n",
       "    </tr>\n",
       "    <tr>\n",
       "      <td style=\"border: 1px solid black;\">7</td>\n",
       "      <td style=\"border: 1px solid black;\">Exp-7</td>\n",
       "      <td style=\"border: 1px solid black;\">✅</td>\n",
       "      <td style=\"border: 1px solid black;\">8.73e-01</td>\n",
       "      <td style=\"border: 1px solid black;\"><div style='text-align: left;'><font color=\"green\">(2/2) </font>▉▉▉▉▉▉▉▉</div></td>\n",
       "      <td style=\"border: 1px solid black;\">2024-Jan-09   |  10:43</td>\n",
       "      <td style=\"border: 1px solid black;\">39.37</td>\n",
       "    </tr>\n",
       "    <tr>\n",
       "      <td style=\"border: 1px solid black;\">8</td>\n",
       "      <td style=\"border: 1px solid black;\">Exp-8</td>\n",
       "      <td style=\"border: 1px solid black;\">✅</td>\n",
       "      <td style=\"border: 1px solid black;\">9.31e-01</td>\n",
       "      <td style=\"border: 1px solid black;\"><div style='text-align: left;'><font color=\"green\">(2/2) </font>▉▉▉▉▉▉▉▉</div></td>\n",
       "      <td style=\"border: 1px solid black;\">2024-Jan-09   |  10:44</td>\n",
       "      <td style=\"border: 1px solid black;\">40.80</td>\n",
       "    </tr>\n",
       "    <tr>\n",
       "      <td style=\"border: 1px solid black;\">9</td>\n",
       "      <td style=\"border: 1px solid black;\">Exp-9</td>\n",
       "      <td style=\"border: 1px solid black;\">✅</td>\n",
       "      <td style=\"border: 1px solid black;\">9.89e-01</td>\n",
       "      <td style=\"border: 1px solid black;\"><div style='text-align: left;'><font color=\"green\">(2/2) </font>▉▉▉▉▉▉▉▉</div></td>\n",
       "      <td style=\"border: 1px solid black;\">2024-Jan-09   |  10:45</td>\n",
       "      <td style=\"border: 1px solid black;\">46.22</td>\n",
       "    </tr>\n",
       "    <tr>\n",
       "      <td style=\"border: 1px solid black;\">10</td>\n",
       "      <td style=\"border: 1px solid black;\">Exp-10</td>\n",
       "      <td style=\"border: 1px solid black;\">✅</td>\n",
       "      <td style=\"border: 1px solid black;\">1.05e+00</td>\n",
       "      <td style=\"border: 1px solid black;\"><div style='text-align: left;'><font color=\"green\">(2/2) </font>▉▉▉▉▉▉▉▉</div></td>\n",
       "      <td style=\"border: 1px solid black;\">2024-Jan-09   |  10:45</td>\n",
       "      <td style=\"border: 1px solid black;\">39.90</td>\n",
       "    </tr>\n",
       "  </tbody>\n",
       "</table>"
      ],
      "text/plain": [
       "<IPython.core.display.HTML object>"
      ]
     },
     "metadata": {},
     "output_type": "display_data"
    }
   ],
   "source": [
    "parametrize( main_path = main_path,  # path to save the output\n",
    "             Run       = RunLammps,      # function to run\n",
    "             vars      = vars,       # variables to parametrize\n",
    "             default   = default_values)    # default values"
   ]
  }
 ],
 "metadata": {
  "kernelspec": {
   "display_name": "TECNORED",
   "language": "python",
   "name": "python3"
  },
  "language_info": {
   "codemirror_mode": {
    "name": "ipython",
    "version": 3
   },
   "file_extension": ".py",
   "mimetype": "text/x-python",
   "name": "python",
   "nbconvert_exporter": "python",
   "pygments_lexer": "ipython3",
   "version": "3.12.0"
  }
 },
 "nbformat": 4,
 "nbformat_minor": 2
}
