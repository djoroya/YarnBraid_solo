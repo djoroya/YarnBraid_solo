{
 "cells": [
  {
   "cell_type": "code",
   "execution_count": 22,
   "metadata": {},
   "outputs": [],
   "source": [
    "from tools.parametrize.explore import explore\n",
    "import os,shutil"
   ]
  },
  {
   "cell_type": "code",
   "execution_count": 4,
   "metadata": {},
   "outputs": [],
   "source": [
    "df,paths = explore(\"output\")"
   ]
  },
  {
   "cell_type": "code",
   "execution_count": 7,
   "metadata": {},
   "outputs": [
    {
     "data": {
      "text/plain": [
       "Index(['paths', 'main_path', 'main_path_abs', 'finished', 'study', 'ncases',\n",
       "       'exe_cases', 'date', 'paths_folder'],\n",
       "      dtype='object')"
      ]
     },
     "execution_count": 7,
     "metadata": {},
     "output_type": "execute_result"
    }
   ],
   "source": [
    "df.keys()"
   ]
  },
  {
   "cell_type": "code",
   "execution_count": 12,
   "metadata": {},
   "outputs": [
    {
     "data": {
      "text/html": [
       "<div>\n",
       "<style scoped>\n",
       "    .dataframe tbody tr th:only-of-type {\n",
       "        vertical-align: middle;\n",
       "    }\n",
       "\n",
       "    .dataframe tbody tr th {\n",
       "        vertical-align: top;\n",
       "    }\n",
       "\n",
       "    .dataframe thead th {\n",
       "        text-align: right;\n",
       "    }\n",
       "</style>\n",
       "<table border=\"1\" class=\"dataframe\">\n",
       "  <thead>\n",
       "    <tr style=\"text-align: right;\">\n",
       "      <th></th>\n",
       "      <th>main_path</th>\n",
       "      <th>finished</th>\n",
       "      <th>study</th>\n",
       "      <th>ncases</th>\n",
       "    </tr>\n",
       "  </thead>\n",
       "  <tbody>\n",
       "    <tr>\n",
       "      <th>0</th>\n",
       "      <td>output/2024-01-09__09-28-14__51364</td>\n",
       "      <td>False</td>\n",
       "      <td>[h]</td>\n",
       "      <td>10</td>\n",
       "    </tr>\n",
       "    <tr>\n",
       "      <th>1</th>\n",
       "      <td>output/2024-01-09__09-29-35__81875</td>\n",
       "      <td>False</td>\n",
       "      <td>[h]</td>\n",
       "      <td>10</td>\n",
       "    </tr>\n",
       "    <tr>\n",
       "      <th>2</th>\n",
       "      <td>output/2024-01-09__09-30-20__53004</td>\n",
       "      <td>False</td>\n",
       "      <td>[h]</td>\n",
       "      <td>10</td>\n",
       "    </tr>\n",
       "    <tr>\n",
       "      <th>3</th>\n",
       "      <td>output/2024-01-09__09-30-46__50520</td>\n",
       "      <td>False</td>\n",
       "      <td>[h]</td>\n",
       "      <td>10</td>\n",
       "    </tr>\n",
       "    <tr>\n",
       "      <th>4</th>\n",
       "      <td>output/2024-01-09__09-30-56__85907</td>\n",
       "      <td>True</td>\n",
       "      <td>[h]</td>\n",
       "      <td>10</td>\n",
       "    </tr>\n",
       "    <tr>\n",
       "      <th>5</th>\n",
       "      <td>output/2024-01-09__09-40-31__33065</td>\n",
       "      <td>True</td>\n",
       "      <td>[h]</td>\n",
       "      <td>40</td>\n",
       "    </tr>\n",
       "    <tr>\n",
       "      <th>6</th>\n",
       "      <td>output/2024-01-09__10-39-03__86160</td>\n",
       "      <td>True</td>\n",
       "      <td>[h]</td>\n",
       "      <td>10</td>\n",
       "    </tr>\n",
       "  </tbody>\n",
       "</table>\n",
       "</div>"
      ],
      "text/plain": [
       "                            main_path  finished study  ncases\n",
       "0  output/2024-01-09__09-28-14__51364     False   [h]      10\n",
       "1  output/2024-01-09__09-29-35__81875     False   [h]      10\n",
       "2  output/2024-01-09__09-30-20__53004     False   [h]      10\n",
       "3  output/2024-01-09__09-30-46__50520     False   [h]      10\n",
       "4  output/2024-01-09__09-30-56__85907      True   [h]      10\n",
       "5  output/2024-01-09__09-40-31__33065      True   [h]      40\n",
       "6  output/2024-01-09__10-39-03__86160      True   [h]      10"
      ]
     },
     "execution_count": 12,
     "metadata": {},
     "output_type": "execute_result"
    }
   ],
   "source": [
    "df[[\"main_path\",\"finished\",\"study\",\"ncases\"]]"
   ]
  },
  {
   "cell_type": "code",
   "execution_count": 13,
   "metadata": {},
   "outputs": [],
   "source": [
    "import glob"
   ]
  },
  {
   "cell_type": "code",
   "execution_count": 16,
   "metadata": {},
   "outputs": [
    {
     "data": {
      "text/plain": [
       "'output/2024-01-09__10-39-03__86160'"
      ]
     },
     "execution_count": 16,
     "metadata": {},
     "output_type": "execute_result"
    }
   ],
   "source": [
    "df[\"main_path\"].values[-1]"
   ]
  },
  {
   "cell_type": "code",
   "execution_count": 24,
   "metadata": {},
   "outputs": [],
   "source": [
    "files_1 = glob.glob(df[\"main_path\"].values[-2]+\"/*/data_last.lammps\")\n",
    "files_2 = glob.glob(df[\"main_path\"].values[-1]+\"/*/data_last.lammps\")\n",
    "\n",
    "files_1.sort()\n",
    "files_2.sort()\n",
    "files = files_2 + files_1"
   ]
  },
  {
   "cell_type": "code",
   "execution_count": 25,
   "metadata": {},
   "outputs": [
    {
     "name": "stdout",
     "output_type": "stream",
     "text": [
      "output/2024-01-09__10-39-03__86160/2024-01-09__10-39-04__95950/data_last.lammps\n",
      "output/2024-01-09__10-39-03__86160/2024-01-09__10-39-37__72694/data_last.lammps\n",
      "output/2024-01-09__10-39-03__86160/2024-01-09__10-40-14__36372/data_last.lammps\n",
      "output/2024-01-09__10-39-03__86160/2024-01-09__10-40-50__44056/data_last.lammps\n",
      "output/2024-01-09__10-39-03__86160/2024-01-09__10-41-32__59931/data_last.lammps\n",
      "output/2024-01-09__10-39-03__86160/2024-01-09__10-42-17__13704/data_last.lammps\n",
      "output/2024-01-09__10-39-03__86160/2024-01-09__10-43-03__27367/data_last.lammps\n",
      "output/2024-01-09__10-39-03__86160/2024-01-09__10-43-42__44361/data_last.lammps\n",
      "output/2024-01-09__10-39-03__86160/2024-01-09__10-44-23__51070/data_last.lammps\n",
      "output/2024-01-09__10-39-03__86160/2024-01-09__10-45-09__16459/data_last.lammps\n",
      "output/2024-01-09__09-40-31__33065/2024-01-09__09-40-31__89230/data_last.lammps\n",
      "output/2024-01-09__09-40-31__33065/2024-01-09__09-41-05__66166/data_last.lammps\n",
      "output/2024-01-09__09-40-31__33065/2024-01-09__09-41-45__81425/data_last.lammps\n",
      "output/2024-01-09__09-40-31__33065/2024-01-09__09-42-18__88623/data_last.lammps\n",
      "output/2024-01-09__09-40-31__33065/2024-01-09__09-42-57__68524/data_last.lammps\n",
      "output/2024-01-09__09-40-31__33065/2024-01-09__09-43-30__87096/data_last.lammps\n",
      "output/2024-01-09__09-40-31__33065/2024-01-09__09-44-04__37420/data_last.lammps\n",
      "output/2024-01-09__09-40-31__33065/2024-01-09__09-44-36__50978/data_last.lammps\n",
      "output/2024-01-09__09-40-31__33065/2024-01-09__09-45-12__36825/data_last.lammps\n",
      "output/2024-01-09__09-40-31__33065/2024-01-09__09-45-44__27957/data_last.lammps\n",
      "output/2024-01-09__09-40-31__33065/2024-01-09__09-46-19__52116/data_last.lammps\n",
      "output/2024-01-09__09-40-31__33065/2024-01-09__09-46-51__97914/data_last.lammps\n",
      "output/2024-01-09__09-40-31__33065/2024-01-09__09-47-24__84521/data_last.lammps\n",
      "output/2024-01-09__09-40-31__33065/2024-01-09__09-47-54__28262/data_last.lammps\n",
      "output/2024-01-09__09-40-31__33065/2024-01-09__09-48-26__96452/data_last.lammps\n",
      "output/2024-01-09__09-40-31__33065/2024-01-09__09-48-55__99979/data_last.lammps\n",
      "output/2024-01-09__09-40-31__33065/2024-01-09__09-49-30__76205/data_last.lammps\n",
      "output/2024-01-09__09-40-31__33065/2024-01-09__09-51-03__83076/data_last.lammps\n",
      "output/2024-01-09__09-40-31__33065/2024-01-09__09-52-27__20020/data_last.lammps\n",
      "output/2024-01-09__09-40-31__33065/2024-01-09__09-53-51__44339/data_last.lammps\n",
      "output/2024-01-09__09-40-31__33065/2024-01-09__09-55-07__71123/data_last.lammps\n",
      "output/2024-01-09__09-40-31__33065/2024-01-09__09-55-49__65758/data_last.lammps\n",
      "output/2024-01-09__09-40-31__33065/2024-01-09__09-56-31__32053/data_last.lammps\n",
      "output/2024-01-09__09-40-31__33065/2024-01-09__09-57-12__65490/data_last.lammps\n",
      "output/2024-01-09__09-40-31__33065/2024-01-09__09-57-51__43564/data_last.lammps\n",
      "output/2024-01-09__09-40-31__33065/2024-01-09__09-58-29__65769/data_last.lammps\n",
      "output/2024-01-09__09-40-31__33065/2024-01-09__09-59-17__13764/data_last.lammps\n",
      "output/2024-01-09__09-40-31__33065/2024-01-09__10-00-33__28059/data_last.lammps\n",
      "output/2024-01-09__09-40-31__33065/2024-01-09__10-01-49__67789/data_last.lammps\n",
      "output/2024-01-09__09-40-31__33065/2024-01-09__10-03-21__26774/data_last.lammps\n",
      "output/2024-01-09__09-40-31__33065/2024-01-09__10-04-52__98680/data_last.lammps\n",
      "output/2024-01-09__09-40-31__33065/2024-01-09__10-06-26__45380/data_last.lammps\n",
      "output/2024-01-09__09-40-31__33065/2024-01-09__10-07-57__87935/data_last.lammps\n",
      "output/2024-01-09__09-40-31__33065/2024-01-09__10-09-25__96441/data_last.lammps\n",
      "output/2024-01-09__09-40-31__33065/2024-01-09__10-10-46__72021/data_last.lammps\n",
      "output/2024-01-09__09-40-31__33065/2024-01-09__10-12-28__65027/data_last.lammps\n",
      "output/2024-01-09__09-40-31__33065/2024-01-09__10-13-42__13650/data_last.lammps\n",
      "output/2024-01-09__09-40-31__33065/2024-01-09__10-14-54__72145/data_last.lammps\n",
      "output/2024-01-09__09-40-31__33065/2024-01-09__10-16-03__48751/data_last.lammps\n",
      "output/2024-01-09__09-40-31__33065/2024-01-09__10-17-27__45183/data_last.lammps\n"
     ]
    }
   ],
   "source": [
    "final_path = \"final\"\n",
    "if not os.path.exists(final_path):\n",
    "    os.makedirs(final_path)\n",
    "    \n",
    "for i,file in enumerate(files):\n",
    "    # fix width\n",
    "    i = \"{:04d}\".format(i)\n",
    "    shutil.copyfile(file,final_path+\"/theta_\"+i+\".lammps\")\n",
    "    print(file)"
   ]
  },
  {
   "cell_type": "code",
   "execution_count": null,
   "metadata": {},
   "outputs": [],
   "source": []
  }
 ],
 "metadata": {
  "kernelspec": {
   "display_name": "TECNORED",
   "language": "python",
   "name": "python3"
  },
  "language_info": {
   "codemirror_mode": {
    "name": "ipython",
    "version": 3
   },
   "file_extension": ".py",
   "mimetype": "text/x-python",
   "name": "python",
   "nbconvert_exporter": "python",
   "pygments_lexer": "ipython3",
   "version": "3.12.0"
  }
 },
 "nbformat": 4,
 "nbformat_minor": 2
}
